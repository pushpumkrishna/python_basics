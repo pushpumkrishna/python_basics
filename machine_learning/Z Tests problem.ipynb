{
 "cells": [
  {
   "cell_type": "code",
   "execution_count": 6,
   "metadata": {},
   "outputs": [
    {
     "data": {
      "text/html": [
       "<div>\n",
       "<style scoped>\n",
       "    .dataframe tbody tr th:only-of-type {\n",
       "        vertical-align: middle;\n",
       "    }\n",
       "\n",
       "    .dataframe tbody tr th {\n",
       "        vertical-align: top;\n",
       "    }\n",
       "\n",
       "    .dataframe thead th {\n",
       "        text-align: right;\n",
       "    }\n",
       "</style>\n",
       "<table border=\"1\" class=\"dataframe\">\n",
       "  <thead>\n",
       "    <tr style=\"text-align: right;\">\n",
       "      <th></th>\n",
       "      <th>CustomerID</th>\n",
       "      <th>Gender</th>\n",
       "      <th>Age</th>\n",
       "      <th>Annual Income (k$)</th>\n",
       "      <th>Spending Score (1-100)</th>\n",
       "    </tr>\n",
       "  </thead>\n",
       "  <tbody>\n",
       "    <tr>\n",
       "      <th>0</th>\n",
       "      <td>1</td>\n",
       "      <td>Male</td>\n",
       "      <td>19</td>\n",
       "      <td>15</td>\n",
       "      <td>39</td>\n",
       "    </tr>\n",
       "    <tr>\n",
       "      <th>1</th>\n",
       "      <td>2</td>\n",
       "      <td>Male</td>\n",
       "      <td>21</td>\n",
       "      <td>15</td>\n",
       "      <td>81</td>\n",
       "    </tr>\n",
       "    <tr>\n",
       "      <th>2</th>\n",
       "      <td>3</td>\n",
       "      <td>Female</td>\n",
       "      <td>20</td>\n",
       "      <td>16</td>\n",
       "      <td>6</td>\n",
       "    </tr>\n",
       "    <tr>\n",
       "      <th>3</th>\n",
       "      <td>4</td>\n",
       "      <td>Female</td>\n",
       "      <td>23</td>\n",
       "      <td>16</td>\n",
       "      <td>77</td>\n",
       "    </tr>\n",
       "    <tr>\n",
       "      <th>4</th>\n",
       "      <td>5</td>\n",
       "      <td>Female</td>\n",
       "      <td>31</td>\n",
       "      <td>17</td>\n",
       "      <td>40</td>\n",
       "    </tr>\n",
       "    <tr>\n",
       "      <th>...</th>\n",
       "      <td>...</td>\n",
       "      <td>...</td>\n",
       "      <td>...</td>\n",
       "      <td>...</td>\n",
       "      <td>...</td>\n",
       "    </tr>\n",
       "    <tr>\n",
       "      <th>195</th>\n",
       "      <td>196</td>\n",
       "      <td>Female</td>\n",
       "      <td>35</td>\n",
       "      <td>120</td>\n",
       "      <td>79</td>\n",
       "    </tr>\n",
       "    <tr>\n",
       "      <th>196</th>\n",
       "      <td>197</td>\n",
       "      <td>Female</td>\n",
       "      <td>45</td>\n",
       "      <td>126</td>\n",
       "      <td>28</td>\n",
       "    </tr>\n",
       "    <tr>\n",
       "      <th>197</th>\n",
       "      <td>198</td>\n",
       "      <td>Male</td>\n",
       "      <td>32</td>\n",
       "      <td>126</td>\n",
       "      <td>74</td>\n",
       "    </tr>\n",
       "    <tr>\n",
       "      <th>198</th>\n",
       "      <td>199</td>\n",
       "      <td>Male</td>\n",
       "      <td>32</td>\n",
       "      <td>137</td>\n",
       "      <td>18</td>\n",
       "    </tr>\n",
       "    <tr>\n",
       "      <th>199</th>\n",
       "      <td>200</td>\n",
       "      <td>Male</td>\n",
       "      <td>30</td>\n",
       "      <td>137</td>\n",
       "      <td>83</td>\n",
       "    </tr>\n",
       "  </tbody>\n",
       "</table>\n",
       "<p>200 rows × 5 columns</p>\n",
       "</div>"
      ],
      "text/plain": [
       "     CustomerID  Gender  Age  Annual Income (k$)  Spending Score (1-100)\n",
       "0             1    Male   19                  15                      39\n",
       "1             2    Male   21                  15                      81\n",
       "2             3  Female   20                  16                       6\n",
       "3             4  Female   23                  16                      77\n",
       "4             5  Female   31                  17                      40\n",
       "..          ...     ...  ...                 ...                     ...\n",
       "195         196  Female   35                 120                      79\n",
       "196         197  Female   45                 126                      28\n",
       "197         198    Male   32                 126                      74\n",
       "198         199    Male   32                 137                      18\n",
       "199         200    Male   30                 137                      83\n",
       "\n",
       "[200 rows x 5 columns]"
      ]
     },
     "execution_count": 6,
     "metadata": {},
     "output_type": "execute_result"
    }
   ],
   "source": [
    "import pandas as pd\n",
    "\n",
    "data = pd.read_csv(\"E:/Data Science/CSV dataset/Small Datasets/Mall_Customers.csv\")\n",
    "data"
   ]
  },
  {
   "cell_type": "code",
   "execution_count": 9,
   "metadata": {},
   "outputs": [
    {
     "data": {
      "text/plain": [
       "Text(0, 0.5, 'Data')"
      ]
     },
     "execution_count": 9,
     "metadata": {},
     "output_type": "execute_result"
    },
    {
     "data": {
      "image/png": "[encoded data removed]",
      "text/plain": [
       "<Figure size 432x288 with 1 Axes>"
      ]
     },
     "metadata": {
      "needs_background": "light"
     },
     "output_type": "display_data"
    }
   ],
   "source": [
    "import seaborn as sns\n",
    "import matplotlib.pyplot as plt\n",
    "sns.boxplot(data['Annual Income (k$)'])\n",
    "plt.ylabel('Data')"
   ]
  },
  {
   "cell_type": "code",
   "execution_count": 26,
   "metadata": {},
   "outputs": [
    {
     "name": "stdout",
     "output_type": "stream",
     "text": [
      "The t-statistic is 1.6738 and the p-value is 0.1327.\n"
     ]
    }
   ],
   "source": [
    "# Performaing T test\n",
    "\n",
    "import math\n",
    "from scipy import stats\n",
    "\n",
    "mean_val = data['Annual Income (k$)'].mean()        # Population Mean\n",
    "mean_val\n",
    "\n",
    "sample = [155,164,16,195,814,16,197,19,200]\n",
    "\n",
    "one_sample = stats.ttest_1samp(sample, mean_val)\n",
    "print(\"The t-statistic is %.4f and the p-value is %.4f.\" % one_sample)"
   ]
  },
  {
   "cell_type": "code",
   "execution_count": 39,
   "metadata": {},
   "outputs": [
    {
     "data": {
      "text/plain": [
       "0       15\n",
       "1       15\n",
       "2       16\n",
       "3       16\n",
       "4       17\n",
       "      ... \n",
       "195    120\n",
       "196    126\n",
       "197    126\n",
       "198    137\n",
       "199    137\n",
       "Name: Annual Income (k$), Length: 200, dtype: int64"
      ]
     },
     "execution_count": 39,
     "metadata": {},
     "output_type": "execute_result"
    }
   ],
   "source": [
    "population = data['Annual Income (k$)']\n",
    "population"
   ]
  },
  {
   "cell_type": "code",
   "execution_count": 31,
   "metadata": {},
   "outputs": [
    {
     "data": {
      "text/plain": [
       "0    15\n",
       "1    15\n",
       "2    16\n",
       "3    16\n",
       "4    17\n",
       "5    17\n",
       "6    18\n",
       "7    18\n",
       "8    19\n",
       "9    19\n",
       "Name: Annual Income (k$), dtype: int64"
      ]
     },
     "execution_count": 31,
     "metadata": {},
     "output_type": "execute_result"
    }
   ],
   "source": [
    "data_sample = data['Annual Income (k$)'].head(10)   ## Taking a sample from dataset for evaluation\n",
    "data_sample"
   ]
  },
  {
   "cell_type": "code",
   "execution_count": 40,
   "metadata": {},
   "outputs": [
    {
     "name": "stdout",
     "output_type": "stream",
     "text": [
      "Population Variance is 686.3864000000005 \n",
      "Population mean is 60.56\n"
     ]
    }
   ],
   "source": [
    "import numpy as np\n",
    "\n",
    "pop_var = np.var(population)  # Calculating Population variance\n",
    "\n",
    "pop_mean = population.mean()\n",
    "print(\"Population Variance is {} \\nPopulation mean is {}\".format(pop_var,pop_mean))"
   ]
  },
  {
   "cell_type": "code",
   "execution_count": null,
   "metadata": {},
   "outputs": [],
   "source": [
    "import numpy as np"
   ]
  },
  {
   "cell_type": "code",
   "execution_count": 41,
   "metadata": {},
   "outputs": [
    {
     "name": "stdout",
     "output_type": "stream",
     "text": [
      "Z test value is :: (-0.200686981672327, 0.42047166987233975)\n"
     ]
    }
   ],
   "source": [
    "# Performing Z test\n",
    "\n",
    "import math\n",
    "\n",
    "def z_test(pop_mean, pop_var, sample):\n",
    "    z_score = (sample.mean() - pop_mean)/ (pop_var/ math.sqrt(len(sample)))\n",
    "    return z_score, stats.norm.cdf(z_score)\n",
    "\n",
    "print(\"Z test value is ::\", z_test(pop_mean, pop_var, data_sample) )"
   ]
  },
  {
   "cell_type": "code",
   "execution_count": null,
   "metadata": {},
   "outputs": [],
   "source": []
  },
  {
   "cell_type": "markdown",
   "metadata": {},
   "source": [
    "PROBLEM 2\n",
    "\n",
    "Sample Size = 30\n",
    "Sample Mean = 505 ml\n",
    "population Standard Deviation 10 ml\n",
    "Alpha = 0.03\n",
    "Population Mean = 500"
   ]
  },
  {
   "cell_type": "code",
   "execution_count": 49,
   "metadata": {},
   "outputs": [
    {
     "name": "stdout",
     "output_type": "stream",
     "text": [
      "Z test value is :: 2.7386127875258306\n",
      "0.9969150503397279\n"
     ]
    }
   ],
   "source": [
    "# Performing Z test\n",
    "\n",
    "population_mean = 500\n",
    "sample_mean = 505\n",
    "sample_size = 30\n",
    "population_var = 10\n",
    "\n",
    "import math\n",
    "\n",
    "z_score = (sample_mean - population_mean)/ (population_var/ math.sqrt(sample_size))\n",
    "x = stats.norm.cdf(z_score)\n",
    "\n",
    "print(\"Z test value is ::\", z_score)\n",
    "print(x)\n"
   ]
  },
  {
   "cell_type": "code",
   "execution_count": 54,
   "metadata": {},
   "outputs": [
    {
     "name": "stdout",
     "output_type": "stream",
     "text": [
      "Value of test statistics is: -1024.5977259393073\n",
      "Value of p=value is 4.091429867677881e-24\n"
     ]
    }
   ],
   "source": [
    "# Calculating P value and test statistics\n",
    "\n",
    "from scipy import stats\n",
    "\n",
    "sample = np.random.rand(10,100)\n",
    "x, y = stats.ttest_1samp(data_sample, population_mean)         #Taking data sample as real sample is not avaiable for this particular problem from Rajesh Video\n",
    "print(f\"Value of test statistics is: {x}\\nValue of p=value is {y}\")"
   ]
  },
  {
   "cell_type": "markdown",
   "metadata": {},
   "source": [
    "\n"
   ]
  },
  {
   "cell_type": "markdown",
   "metadata": {},
   "source": [
    "Computing Proportions Z test"
   ]
  },
  {
   "cell_type": "code",
   "execution_count": 60,
   "metadata": {},
   "outputs": [
    {
     "name": "stdout",
     "output_type": "stream",
     "text": [
      "z value for given sample is: 1.286806739751111\n"
     ]
    }
   ],
   "source": [
    "from statsmodels.stats.proportion import proportions_ztest\n",
    "\n",
    "count = 67  # people caught in drunk driving\n",
    "sample_size = 120\n",
    "\n",
    "#opulation_proportion\n",
    "p = 0.5                  # 50% caught in drink and drive\n",
    "\n",
    "x, y = proportions_ztest(count, sample_size, p)\n",
    "print(f\"z value for given sample is: {x}\")"
   ]
  },
  {
   "cell_type": "code",
   "execution_count": 63,
   "metadata": {},
   "outputs": [
    {
     "name": "stdout",
     "output_type": "stream",
     "text": [
      "CDF: [1. 1. 1. 1. 1. 1. 1. 1. 1. 1.]\n",
      "PDF: [5.53070955e-50 5.53070955e-50 1.02616307e-56 1.02616307e-56\n",
      " 7.00418213e-64 7.00418213e-64 1.75874954e-71 1.75874954e-71\n",
      " 1.62463604e-79 1.62463604e-79] \n"
     ]
    }
   ],
   "source": [
    "# Calculating  Cumulative Distribution Function\n",
    "\n",
    "import scipy.stats\n",
    "\n",
    "x = stats.norm.cdf(data_sample)\n",
    "\n",
    "# Calculating Probability Density Function\n",
    "\n",
    "y = stats.norm.pdf(data_sample)\n",
    "\n",
    "print(\"CDF: {}\\nPDF: {} \".format(x,y))"
   ]
  },
  {
   "cell_type": "code",
   "execution_count": 64,
   "metadata": {},
   "outputs": [
    {
     "data": {
      "text/plain": [
       "array([[0.78454407, 0.76547264, 0.6899957 , 0.61692594, 0.8262581 ,\n",
       "        0.65450139, 0.8398272 , 0.5226445 , 0.82264404, 0.67993654]])"
      ]
     },
     "execution_count": 64,
     "metadata": {},
     "output_type": "execute_result"
    }
   ],
   "source": [
    "import scipy.stats\n",
    "import numpy as np\n",
    "stats.norm.cdf(np.random.rand(1,10))\n"
   ]
  },
  {
   "cell_type": "code",
   "execution_count": 67,
   "metadata": {},
   "outputs": [
    {
     "data": {
      "text/plain": [
       "0.0001"
      ]
     },
     "execution_count": 67,
     "metadata": {},
     "output_type": "execute_result"
    }
   ],
   "source": [
    "round(stats.norm.pdf(np.random.randint(1,10)), 4)"
   ]
  },
  {
   "cell_type": "code",
   "execution_count": 76,
   "metadata": {},
   "outputs": [
    {
     "name": "stdout",
     "output_type": "stream",
     "text": [
      "0.27292999450730004\n"
     ]
    }
   ],
   "source": [
    "# Calculating Beta value to guess Type 1 and Type 2 error.\n",
    "\n",
    "def type_2(mu1, mu2, sigma, n, alfa):\n",
    "    z = stats.norm.ppf(alfa)\n",
    "    xbar = (mu1) + (z*sigma/np.sqrt(n))\n",
    "    z2 = (xbar - mu2)/(sigma/np.sqrt(n))\n",
    "    if (mu1 > mu2):\n",
    "        beta = 1 - stats.norm.cdf(z2)\n",
    "    else:\n",
    "        beta = stats.norm.cdf(z2)\n",
    "    \n",
    "    print(beta)\n",
    "\n",
    "type_2(8.3, 7.4, 3.1, 60, 0.05)\n"
   ]
  },
  {
   "cell_type": "code",
   "execution_count": 77,
   "metadata": {},
   "outputs": [
    {
     "data": {
      "text/plain": [
       "0.005867741715332553"
      ]
     },
     "execution_count": 77,
     "metadata": {},
     "output_type": "execute_result"
    }
   ],
   "source": [
    "import scipy.stats\n",
    "\n",
    "p_val = 1 - stats.norm.cdf(2.52)\n",
    "p_val"
   ]
  },
  {
   "cell_type": "code",
   "execution_count": null,
   "metadata": {},
   "outputs": [],
   "source": []
  },
  {
   "cell_type": "code",
   "execution_count": null,
   "metadata": {},
   "outputs": [],
   "source": []
  },
  {
   "cell_type": "code",
   "execution_count": null,
   "metadata": {},
   "outputs": [],
   "source": []
  }
 ],
 "metadata": {
  "kernelspec": {
   "display_name": "Python 3",
   "language": "python",
   "name": "python3"
  },
  "language_info": {
   "codemirror_mode": {
    "name": "ipython",
    "version": 3
   },
   "file_extension": ".py",
   "mimetype": "text/x-python",
   "name": "python",
   "nbconvert_exporter": "python",
   "pygments_lexer": "ipython3",
   "version": "3.7.6"
  }
 },
 "nbformat": 4,
 "nbformat_minor": 4
}
