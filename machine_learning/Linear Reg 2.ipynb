{
 "cells": [
  {
   "cell_type": "code",
   "execution_count": 1,
   "metadata": {},
   "outputs": [
    {
     "data": {
      "text/html": [
       "<div>\n",
       "<style scoped>\n",
       "    .dataframe tbody tr th:only-of-type {\n",
       "        vertical-align: middle;\n",
       "    }\n",
       "\n",
       "    .dataframe tbody tr th {\n",
       "        vertical-align: top;\n",
       "    }\n",
       "\n",
       "    .dataframe thead th {\n",
       "        text-align: right;\n",
       "    }\n",
       "</style>\n",
       "<table border=\"1\" class=\"dataframe\">\n",
       "  <thead>\n",
       "    <tr style=\"text-align: right;\">\n",
       "      <th></th>\n",
       "      <th>PG_CGA</th>\n",
       "      <th>Year</th>\n",
       "      <th>GMAT score</th>\n",
       "      <th>UG CGPA</th>\n",
       "      <th>Number of friends</th>\n",
       "      <th>Number of classes present</th>\n",
       "      <th>Number of hours studied</th>\n",
       "      <th>Register Number</th>\n",
       "    </tr>\n",
       "  </thead>\n",
       "  <tbody>\n",
       "    <tr>\n",
       "      <th>0</th>\n",
       "      <td>7.6950</td>\n",
       "      <td>1952</td>\n",
       "      <td>605</td>\n",
       "      <td>8.535304</td>\n",
       "      <td>155</td>\n",
       "      <td>32</td>\n",
       "      <td>4.903273</td>\n",
       "      <td>12808ABC</td>\n",
       "    </tr>\n",
       "    <tr>\n",
       "      <th>1</th>\n",
       "      <td>8.2393</td>\n",
       "      <td>1953</td>\n",
       "      <td>691</td>\n",
       "      <td>8.752756</td>\n",
       "      <td>82</td>\n",
       "      <td>30</td>\n",
       "      <td>4.513093</td>\n",
       "      <td>13288ABC</td>\n",
       "    </tr>\n",
       "    <tr>\n",
       "      <th>2</th>\n",
       "      <td>7.7858</td>\n",
       "      <td>1955</td>\n",
       "      <td>507</td>\n",
       "      <td>8.651894</td>\n",
       "      <td>134</td>\n",
       "      <td>29</td>\n",
       "      <td>5.114469</td>\n",
       "      <td>3438ABC</td>\n",
       "    </tr>\n",
       "    <tr>\n",
       "      <th>3</th>\n",
       "      <td>6.9845</td>\n",
       "      <td>1957</td>\n",
       "      <td>423</td>\n",
       "      <td>8.148109</td>\n",
       "      <td>107</td>\n",
       "      <td>26</td>\n",
       "      <td>5.153673</td>\n",
       "      <td>3167ABC</td>\n",
       "    </tr>\n",
       "    <tr>\n",
       "      <th>4</th>\n",
       "      <td>6.8772</td>\n",
       "      <td>1958</td>\n",
       "      <td>584</td>\n",
       "      <td>8.519016</td>\n",
       "      <td>192</td>\n",
       "      <td>25</td>\n",
       "      <td>4.583450</td>\n",
       "      <td>2966ABC</td>\n",
       "    </tr>\n",
       "    <tr>\n",
       "      <th>...</th>\n",
       "      <td>...</td>\n",
       "      <td>...</td>\n",
       "      <td>...</td>\n",
       "      <td>...</td>\n",
       "      <td>...</td>\n",
       "      <td>...</td>\n",
       "      <td>...</td>\n",
       "      <td>...</td>\n",
       "    </tr>\n",
       "    <tr>\n",
       "      <th>145</th>\n",
       "      <td>6.0941</td>\n",
       "      <td>1974</td>\n",
       "      <td>576</td>\n",
       "      <td>7.831375</td>\n",
       "      <td>187</td>\n",
       "      <td>10</td>\n",
       "      <td>6.127504</td>\n",
       "      <td>14526ABC</td>\n",
       "    </tr>\n",
       "    <tr>\n",
       "      <th>146</th>\n",
       "      <td>7.0920</td>\n",
       "      <td>1975</td>\n",
       "      <td>574</td>\n",
       "      <td>8.611548</td>\n",
       "      <td>168</td>\n",
       "      <td>7</td>\n",
       "      <td>5.589528</td>\n",
       "      <td>2176ABC</td>\n",
       "    </tr>\n",
       "    <tr>\n",
       "      <th>147</th>\n",
       "      <td>7.0211</td>\n",
       "      <td>1976</td>\n",
       "      <td>422</td>\n",
       "      <td>8.633162</td>\n",
       "      <td>242</td>\n",
       "      <td>6</td>\n",
       "      <td>6.296413</td>\n",
       "      <td>1290ABC</td>\n",
       "    </tr>\n",
       "    <tr>\n",
       "      <th>148</th>\n",
       "      <td>6.0587</td>\n",
       "      <td>1977</td>\n",
       "      <td>824</td>\n",
       "      <td>7.757483</td>\n",
       "      <td>85</td>\n",
       "      <td>6</td>\n",
       "      <td>5.905570</td>\n",
       "      <td>14556ABC</td>\n",
       "    </tr>\n",
       "    <tr>\n",
       "      <th>149</th>\n",
       "      <td>7.1860</td>\n",
       "      <td>1978</td>\n",
       "      <td>768</td>\n",
       "      <td>7.720111</td>\n",
       "      <td>46</td>\n",
       "      <td>6</td>\n",
       "      <td>6.556109</td>\n",
       "      <td>2748ABC</td>\n",
       "    </tr>\n",
       "  </tbody>\n",
       "</table>\n",
       "<p>150 rows × 8 columns</p>\n",
       "</div>"
      ],
      "text/plain": [
       "     PG_CGA  Year  GMAT score   UG CGPA  Number of friends  \\\n",
       "0    7.6950  1952         605  8.535304                155   \n",
       "1    8.2393  1953         691  8.752756                 82   \n",
       "2    7.7858  1955         507  8.651894                134   \n",
       "3    6.9845  1957         423  8.148109                107   \n",
       "4    6.8772  1958         584  8.519016                192   \n",
       "..      ...   ...         ...       ...                ...   \n",
       "145  6.0941  1974         576  7.831375                187   \n",
       "146  7.0920  1975         574  8.611548                168   \n",
       "147  7.0211  1976         422  8.633162                242   \n",
       "148  6.0587  1977         824  7.757483                 85   \n",
       "149  7.1860  1978         768  7.720111                 46   \n",
       "\n",
       "     Number of classes present  Number of hours studied Register Number  \n",
       "0                           32                 4.903273        12808ABC  \n",
       "1                           30                 4.513093        13288ABC  \n",
       "2                           29                 5.114469         3438ABC  \n",
       "3                           26                 5.153673         3167ABC  \n",
       "4                           25                 4.583450         2966ABC  \n",
       "..                         ...                      ...             ...  \n",
       "145                         10                 6.127504        14526ABC  \n",
       "146                          7                 5.589528         2176ABC  \n",
       "147                          6                 6.296413         1290ABC  \n",
       "148                          6                 5.905570        14556ABC  \n",
       "149                          6                 6.556109         2748ABC  \n",
       "\n",
       "[150 rows x 8 columns]"
      ]
     },
     "execution_count": 1,
     "metadata": {},
     "output_type": "execute_result"
    }
   ],
   "source": [
    "import pandas as pd\n",
    "import numpy as np\n",
    "\n",
    "import matplotlib.pyplot as plt\n",
    "import seaborn as sns\n",
    "\n",
    "import matplotlib as mpl\n",
    "import statsmodels.formula.api as sm\n",
    "from sklearn.linear_model import LinearRegression\n",
    "from scipy import stats\n",
    "\n",
    "data = pd.read_csv(\"C:/Users/pushp/Downloads/iDM/General/Student_v2.csv\")\n",
    "\n",
    "data"
   ]
  },
  {
   "cell_type": "code",
   "execution_count": 3,
   "metadata": {},
   "outputs": [
    {
     "data": {
      "image/png": "[encoded data removed]",
      "text/plain": [
       "<Figure size 432x288 with 1 Axes>"
      ]
     },
     "metadata": {
      "needs_background": "light"
     },
     "output_type": "display_data"
    }
   ],
   "source": [
    "data.plot('GMAT score', 'Number of friends')\n",
    "plt.ylabel('car sold')\n",
    "plt.title('Students GMAT score vs Number of Students')\n",
    "plt.show()"
   ]
  },
  {
   "cell_type": "code",
   "execution_count": 6,
   "metadata": {},
   "outputs": [
    {
     "name": "stdout",
     "output_type": "stream",
     "text": [
      "                            OLS Regression Results                            \n",
      "==============================================================================\n",
      "Dep. Variable:      Number of friends   R-squared:                       0.078\n",
      "Model:                            OLS   Adj. R-squared:                  0.072\n",
      "Method:                 Least Squares   F-statistic:                     12.55\n",
      "Date:                Fri, 24 Apr 2020   Prob (F-statistic):           0.000530\n",
      "Time:                        14:36:30   Log-Likelihood:                -850.87\n",
      "No. Observations:                 150   AIC:                             1706.\n",
      "Df Residuals:                     148   BIC:                             1712.\n",
      "Df Model:                           1                                         \n",
      "Covariance Type:            nonrobust                                         \n",
      "==============================================================================\n",
      "                 coef    std err          t      P>|t|      [0.025      0.975]\n",
      "------------------------------------------------------------------------------\n",
      "const        244.4366     27.775      8.800      0.000     189.549     299.324\n",
      "GMAT score    -0.1583      0.045     -3.543      0.001      -0.247      -0.070\n",
      "==============================================================================\n",
      "Omnibus:                       15.617   Durbin-Watson:                   2.121\n",
      "Prob(Omnibus):                  0.000   Jarque-Bera (JB):               18.337\n",
      "Skew:                           0.851   Prob(JB):                     0.000104\n",
      "Kurtosis:                       2.812   Cond. No.                     2.99e+03\n",
      "==============================================================================\n",
      "\n",
      "Warnings:\n",
      "[1] Standard Errors assume that the covariance matrix of the errors is correctly specified.\n",
      "[2] The condition number is large, 2.99e+03. This might indicate that there are\n",
      "strong multicollinearity or other numerical problems.\n"
     ]
    }
   ],
   "source": [
    "t = data['GMAT score']\n",
    "c = data['Number of friends']\n",
    "\n",
    "import statsmodels.api as s\n",
    "t = s.add_constant(t)\n",
    "model1 = s.OLS(c,t)\n",
    "result = model1.fit()\n",
    "print(result.summary())\n"
   ]
  },
  {
   "cell_type": "code",
   "execution_count": 10,
   "metadata": {},
   "outputs": [
    {
     "data": {
      "text/plain": [
       "((120, 1), (30, 1), (120, 1), (30, 1))"
      ]
     },
     "execution_count": 10,
     "metadata": {},
     "output_type": "execute_result"
    }
   ],
   "source": [
    "from sklearn.model_selection import train_test_split\n",
    "\n",
    "x = data[\"GMAT score\"].values.reshape(-1,1)\n",
    "y = data['Number of friends'].values.reshape(-1,1)\n",
    "\n",
    "x_train, x_test, y_train, y_test = train_test_split(x, y, test_size = 0.2, random_state = 88)\n",
    "\n",
    "x_train.shape, x_test.shape, y_train.shape, y_test.shape"
   ]
  },
  {
   "cell_type": "code",
   "execution_count": 20,
   "metadata": {},
   "outputs": [
    {
     "data": {
      "text/plain": [
       "LinearRegression(copy_X=True, fit_intercept=True, n_jobs=None, normalize=False)"
      ]
     },
     "execution_count": 20,
     "metadata": {},
     "output_type": "execute_result"
    }
   ],
   "source": [
    "from sklearn.linear_model import LinearRegression\n",
    "from sklearn.metrics import mean_squared_error\n",
    "reg = LinearRegression()\n",
    "\n",
    "reg.fit(x_train, y_train)\n"
   ]
  },
  {
   "cell_type": "code",
   "execution_count": 12,
   "metadata": {},
   "outputs": [
    {
     "data": {
      "text/plain": [
       "array([237.1005967])"
      ]
     },
     "execution_count": 12,
     "metadata": {},
     "output_type": "execute_result"
    }
   ],
   "source": [
    "reg.intercept_"
   ]
  },
  {
   "cell_type": "code",
   "execution_count": 13,
   "metadata": {},
   "outputs": [
    {
     "data": {
      "text/plain": [
       "array([[-0.14870957]])"
      ]
     },
     "execution_count": 13,
     "metadata": {},
     "output_type": "execute_result"
    }
   ],
   "source": [
    "reg.coef_"
   ]
  },
  {
   "cell_type": "code",
   "execution_count": 15,
   "metadata": {},
   "outputs": [
    {
     "data": {
      "text/plain": [
       "array([[145.9416291 ],\n",
       "       [151.59259283],\n",
       "       [146.09033867],\n",
       "       [164.23290645],\n",
       "       [162.29968201],\n",
       "       [151.29517369],\n",
       "       [113.37423284],\n",
       "       [154.56678427],\n",
       "       [145.9416291 ],\n",
       "       [151.59259283],\n",
       "       [150.84904497],\n",
       "       [164.82774473],\n",
       "       [176.57580092],\n",
       "       [144.00840466],\n",
       "       [151.44388326],\n",
       "       [114.86132856],\n",
       "       [123.04035502],\n",
       "       [146.23904824],\n",
       "       [147.42872482],\n",
       "       [155.01291299],\n",
       "       [180.59095936],\n",
       "       [114.26649027],\n",
       "       [150.40291626],\n",
       "       [144.30582381],\n",
       "       [146.53646739],\n",
       "       [151.14646412],\n",
       "       [174.79128605],\n",
       "       [147.42872482],\n",
       "       [174.34515734],\n",
       "       [130.77325276]])"
      ]
     },
     "execution_count": 15,
     "metadata": {},
     "output_type": "execute_result"
    }
   ],
   "source": [
    "y_predict = reg.predict(x_test)\n",
    "y_predict"
   ]
  },
  {
   "cell_type": "code",
   "execution_count": 21,
   "metadata": {},
   "outputs": [
    {
     "data": {
      "text/plain": [
       "4164.796076864396"
      ]
     },
     "execution_count": 21,
     "metadata": {},
     "output_type": "execute_result"
    }
   ],
   "source": [
    "mean_squared_error(y_test, y_predict)\n"
   ]
  },
  {
   "cell_type": "code",
   "execution_count": 17,
   "metadata": {},
   "outputs": [
    {
     "data": {
      "text/plain": [
       "0.09309014591161491"
      ]
     },
     "execution_count": 17,
     "metadata": {},
     "output_type": "execute_result"
    }
   ],
   "source": [
    "reg.score(x_test, y_test)"
   ]
  },
  {
   "cell_type": "code",
   "execution_count": 18,
   "metadata": {},
   "outputs": [
    {
     "data": {
      "text/plain": [
       "0.07036853173250135"
      ]
     },
     "execution_count": 18,
     "metadata": {},
     "output_type": "execute_result"
    }
   ],
   "source": [
    "reg.score(x_train, y_train)"
   ]
  },
  {
   "cell_type": "code",
   "execution_count": 1,
   "metadata": {},
   "outputs": [
    {
     "ename": "NameError",
     "evalue": "name 'result' is not defined",
     "output_type": "error",
     "traceback": [
      "\u001b[1;31m---------------------------------------------------------------------------\u001b[0m",
      "\u001b[1;31mNameError\u001b[0m                                 Traceback (most recent call last)",
      "\u001b[1;32m<ipython-input-1-6fdf556f117a>\u001b[0m in \u001b[0;36m<module>\u001b[1;34m\u001b[0m\n\u001b[0;32m      1\u001b[0m \u001b[1;32mfrom\u001b[0m \u001b[0mstatsmodels\u001b[0m\u001b[1;33m.\u001b[0m\u001b[0mstats\u001b[0m\u001b[1;33m.\u001b[0m\u001b[0moutliers_influence\u001b[0m \u001b[1;32mimport\u001b[0m \u001b[0msummary_table\u001b[0m\u001b[1;33m\u001b[0m\u001b[1;33m\u001b[0m\u001b[0m\n\u001b[0;32m      2\u001b[0m \u001b[1;33m\u001b[0m\u001b[0m\n\u001b[1;32m----> 3\u001b[1;33m \u001b[0mst\u001b[0m\u001b[1;33m,\u001b[0m \u001b[0mdata\u001b[0m\u001b[1;33m,\u001b[0m \u001b[0mss2\u001b[0m \u001b[1;33m=\u001b[0m \u001b[0msummary_table\u001b[0m\u001b[1;33m(\u001b[0m\u001b[0mresult\u001b[0m\u001b[1;33m,\u001b[0m \u001b[0malpha\u001b[0m \u001b[1;33m=\u001b[0m \u001b[1;36m0.05\u001b[0m\u001b[1;33m)\u001b[0m\u001b[1;33m\u001b[0m\u001b[1;33m\u001b[0m\u001b[0m\n\u001b[0m\u001b[0;32m      4\u001b[0m \u001b[0mfittedvalues\u001b[0m \u001b[1;33m=\u001b[0m \u001b[0mdata\u001b[0m\u001b[1;33m[\u001b[0m\u001b[1;33m:\u001b[0m\u001b[1;33m,\u001b[0m\u001b[1;36m2\u001b[0m\u001b[1;33m]\u001b[0m\u001b[1;33m\u001b[0m\u001b[1;33m\u001b[0m\u001b[0m\n\u001b[0;32m      5\u001b[0m \u001b[0mpredict_mean_se\u001b[0m \u001b[1;33m=\u001b[0m \u001b[0mdata\u001b[0m\u001b[1;33m[\u001b[0m\u001b[1;33m:\u001b[0m\u001b[1;33m,\u001b[0m\u001b[1;36m3\u001b[0m\u001b[1;33m]\u001b[0m\u001b[1;33m\u001b[0m\u001b[1;33m\u001b[0m\u001b[0m\n",
      "\u001b[1;31mNameError\u001b[0m: name 'result' is not defined"
     ]
    }
   ],
   "source": [
    "from statsmodels.stats.outliers_influence import summary_table\n",
    "\n",
    "st, data, ss2 = summary_table(result, alpha = 0.05)\n",
    "fittedvalues = data[:,2]\n",
    "predict_mean_se = data[:,3]\n",
    "predict_mean_ci_low, predict_mean_ci_upp = data[:,4:6].T\n",
    "predict_ci_low, predict_ci_upp = data[:, 6:8].T"
   ]
  },
  {
   "cell_type": "code",
   "execution_count": null,
   "metadata": {},
   "outputs": [],
   "source": []
  }
 ],
 "metadata": {
  "kernelspec": {
   "display_name": "Python 3",
   "language": "python",
   "name": "python3"
  },
  "language_info": {
   "codemirror_mode": {
    "name": "ipython",
    "version": 3
   },
   "file_extension": ".py",
   "mimetype": "text/x-python",
   "name": "python",
   "nbconvert_exporter": "python",
   "pygments_lexer": "ipython3",
   "version": "3.7.6"
  }
 },
 "nbformat": 4,
 "nbformat_minor": 4
}
