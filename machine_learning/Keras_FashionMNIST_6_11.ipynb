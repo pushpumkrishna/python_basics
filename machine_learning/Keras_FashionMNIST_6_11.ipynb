{
  "nbformat": 4,
  "nbformat_minor": 0,
  "metadata": {
    "colab": {
      "name": "Keras FashionMNIST 6/11.ipynb",
      "provenance": [],
      "collapsed_sections": []
    },
    "kernelspec": {
      "name": "python3",
      "display_name": "Python 3"
    },
    "accelerator": "GPU",
    "widgets": {
      "application/vnd.jupyter.widget-state+json": {
        "9b6bd718f06a45968e102a64d45ce1da": {
          "model_module": "@jupyter-widgets/controls",
          "model_name": "HBoxModel",
          "state": {
            "_view_name": "HBoxView",
            "_dom_classes": [],
            "_model_name": "HBoxModel",
            "_view_module": "@jupyter-widgets/controls",
            "_model_module_version": "1.5.0",
            "_view_count": null,
            "_view_module_version": "1.5.0",
            "box_style": "",
            "layout": "IPY_MODEL_9fa4c6024995475fa1f0be8d7e51a8be",
            "_model_module": "@jupyter-widgets/controls",
            "children": [
              "IPY_MODEL_a445bd1cc0d344928e7dac8c16b24f10",
              "IPY_MODEL_f186c3d19c1c428083f97caf70141ef3"
            ]
          }
        },
        "9fa4c6024995475fa1f0be8d7e51a8be": {
          "model_module": "@jupyter-widgets/base",
          "model_name": "LayoutModel",
          "state": {
            "_view_name": "LayoutView",
            "grid_template_rows": null,
            "right": null,
            "justify_content": null,
            "_view_module": "@jupyter-widgets/base",
            "overflow": null,
            "_model_module_version": "1.2.0",
            "_view_count": null,
            "flex_flow": null,
            "width": null,
            "min_width": null,
            "border": null,
            "align_items": null,
            "bottom": null,
            "_model_module": "@jupyter-widgets/base",
            "top": null,
            "grid_column": null,
            "overflow_y": null,
            "overflow_x": null,
            "grid_auto_flow": null,
            "grid_area": null,
            "grid_template_columns": null,
            "flex": null,
            "_model_name": "LayoutModel",
            "justify_items": null,
            "grid_row": null,
            "max_height": null,
            "align_content": null,
            "visibility": null,
            "align_self": null,
            "height": null,
            "min_height": null,
            "padding": null,
            "grid_auto_rows": null,
            "grid_gap": null,
            "max_width": null,
            "order": null,
            "_view_module_version": "1.2.0",
            "grid_template_areas": null,
            "object_position": null,
            "object_fit": null,
            "grid_auto_columns": null,
            "margin": null,
            "display": null,
            "left": null
          }
        },
        "a445bd1cc0d344928e7dac8c16b24f10": {
          "model_module": "@jupyter-widgets/controls",
          "model_name": "FloatProgressModel",
          "state": {
            "_view_name": "ProgressView",
            "style": "IPY_MODEL_ddd27df1092c4510b77d7f9162850751",
            "_dom_classes": [],
            "description": "",
            "_model_name": "FloatProgressModel",
            "bar_style": "success",
            "max": 1,
            "_view_module": "@jupyter-widgets/controls",
            "_model_module_version": "1.5.0",
            "value": 1,
            "_view_count": null,
            "_view_module_version": "1.5.0",
            "orientation": "horizontal",
            "min": 0,
            "description_tooltip": null,
            "_model_module": "@jupyter-widgets/controls",
            "layout": "IPY_MODEL_3c93404a2d1a42c987ae9956b0610586"
          }
        },
        "f186c3d19c1c428083f97caf70141ef3": {
          "model_module": "@jupyter-widgets/controls",
          "model_name": "HTMLModel",
          "state": {
            "_view_name": "HTMLView",
            "style": "IPY_MODEL_ebcead5ddc2148aab7309ecf46f0427b",
            "_dom_classes": [],
            "description": "",
            "_model_name": "HTMLModel",
            "placeholder": "​",
            "_view_module": "@jupyter-widgets/controls",
            "_model_module_version": "1.5.0",
            "value": " 26427392/? [00:09&lt;00:00, 2761126.80it/s]",
            "_view_count": null,
            "_view_module_version": "1.5.0",
            "description_tooltip": null,
            "_model_module": "@jupyter-widgets/controls",
            "layout": "IPY_MODEL_d457fb13b5e84ccfb02339c8027e6332"
          }
        },
        "ddd27df1092c4510b77d7f9162850751": {
          "model_module": "@jupyter-widgets/controls",
          "model_name": "ProgressStyleModel",
          "state": {
            "_view_name": "StyleView",
            "_model_name": "ProgressStyleModel",
            "description_width": "initial",
            "_view_module": "@jupyter-widgets/base",
            "_model_module_version": "1.5.0",
            "_view_count": null,
            "_view_module_version": "1.2.0",
            "bar_color": null,
            "_model_module": "@jupyter-widgets/controls"
          }
        },
        "3c93404a2d1a42c987ae9956b0610586": {
          "model_module": "@jupyter-widgets/base",
          "model_name": "LayoutModel",
          "state": {
            "_view_name": "LayoutView",
            "grid_template_rows": null,
            "right": null,
            "justify_content": null,
            "_view_module": "@jupyter-widgets/base",
            "overflow": null,
            "_model_module_version": "1.2.0",
            "_view_count": null,
            "flex_flow": null,
            "width": null,
            "min_width": null,
            "border": null,
            "align_items": null,
            "bottom": null,
            "_model_module": "@jupyter-widgets/base",
            "top": null,
            "grid_column": null,
            "overflow_y": null,
            "overflow_x": null,
            "grid_auto_flow": null,
            "grid_area": null,
            "grid_template_columns": null,
            "flex": null,
            "_model_name": "LayoutModel",
            "justify_items": null,
            "grid_row": null,
            "max_height": null,
            "align_content": null,
            "visibility": null,
            "align_self": null,
            "height": null,
            "min_height": null,
            "padding": null,
            "grid_auto_rows": null,
            "grid_gap": null,
            "max_width": null,
            "order": null,
            "_view_module_version": "1.2.0",
            "grid_template_areas": null,
            "object_position": null,
            "object_fit": null,
            "grid_auto_columns": null,
            "margin": null,
            "display": null,
            "left": null
          }
        },
        "ebcead5ddc2148aab7309ecf46f0427b": {
          "model_module": "@jupyter-widgets/controls",
          "model_name": "DescriptionStyleModel",
          "state": {
            "_view_name": "StyleView",
            "_model_name": "DescriptionStyleModel",
            "description_width": "",
            "_view_module": "@jupyter-widgets/base",
            "_model_module_version": "1.5.0",
            "_view_count": null,
            "_view_module_version": "1.2.0",
            "_model_module": "@jupyter-widgets/controls"
          }
        },
        "d457fb13b5e84ccfb02339c8027e6332": {
          "model_module": "@jupyter-widgets/base",
          "model_name": "LayoutModel",
          "state": {
            "_view_name": "LayoutView",
            "grid_template_rows": null,
            "right": null,
            "justify_content": null,
            "_view_module": "@jupyter-widgets/base",
            "overflow": null,
            "_model_module_version": "1.2.0",
            "_view_count": null,
            "flex_flow": null,
            "width": null,
            "min_width": null,
            "border": null,
            "align_items": null,
            "bottom": null,
            "_model_module": "@jupyter-widgets/base",
            "top": null,
            "grid_column": null,
            "overflow_y": null,
            "overflow_x": null,
            "grid_auto_flow": null,
            "grid_area": null,
            "grid_template_columns": null,
            "flex": null,
            "_model_name": "LayoutModel",
            "justify_items": null,
            "grid_row": null,
            "max_height": null,
            "align_content": null,
            "visibility": null,
            "align_self": null,
            "height": null,
            "min_height": null,
            "padding": null,
            "grid_auto_rows": null,
            "grid_gap": null,
            "max_width": null,
            "order": null,
            "_view_module_version": "1.2.0",
            "grid_template_areas": null,
            "object_position": null,
            "object_fit": null,
            "grid_auto_columns": null,
            "margin": null,
            "display": null,
            "left": null
          }
        },
        "bba884d1def741a0a76cabc472670d2a": {
          "model_module": "@jupyter-widgets/controls",
          "model_name": "HBoxModel",
          "state": {
            "_view_name": "HBoxView",
            "_dom_classes": [],
            "_model_name": "HBoxModel",
            "_view_module": "@jupyter-widgets/controls",
            "_model_module_version": "1.5.0",
            "_view_count": null,
            "_view_module_version": "1.5.0",
            "box_style": "",
            "layout": "IPY_MODEL_c2328143f9de48aaaefc3f584b66b615",
            "_model_module": "@jupyter-widgets/controls",
            "children": [
              "IPY_MODEL_10a442afe08f441b94835ab2eaa21646",
              "IPY_MODEL_1e6285d3a22641bc99587af38c569f5b"
            ]
          }
        },
        "c2328143f9de48aaaefc3f584b66b615": {
          "model_module": "@jupyter-widgets/base",
          "model_name": "LayoutModel",
          "state": {
            "_view_name": "LayoutView",
            "grid_template_rows": null,
            "right": null,
            "justify_content": null,
            "_view_module": "@jupyter-widgets/base",
            "overflow": null,
            "_model_module_version": "1.2.0",
            "_view_count": null,
            "flex_flow": null,
            "width": null,
            "min_width": null,
            "border": null,
            "align_items": null,
            "bottom": null,
            "_model_module": "@jupyter-widgets/base",
            "top": null,
            "grid_column": null,
            "overflow_y": null,
            "overflow_x": null,
            "grid_auto_flow": null,
            "grid_area": null,
            "grid_template_columns": null,
            "flex": null,
            "_model_name": "LayoutModel",
            "justify_items": null,
            "grid_row": null,
            "max_height": null,
            "align_content": null,
            "visibility": null,
            "align_self": null,
            "height": null,
            "min_height": null,
            "padding": null,
            "grid_auto_rows": null,
            "grid_gap": null,
            "max_width": null,
            "order": null,
            "_view_module_version": "1.2.0",
            "grid_template_areas": null,
            "object_position": null,
            "object_fit": null,
            "grid_auto_columns": null,
            "margin": null,
            "display": null,
            "left": null
          }
        },
        "10a442afe08f441b94835ab2eaa21646": {
          "model_module": "@jupyter-widgets/controls",
          "model_name": "FloatProgressModel",
          "state": {
            "_view_name": "ProgressView",
            "style": "IPY_MODEL_e30023704fba4c25a0b5d65641fca2b9",
            "_dom_classes": [],
            "description": "",
            "_model_name": "FloatProgressModel",
            "bar_style": "success",
            "max": 1,
            "_view_module": "@jupyter-widgets/controls",
            "_model_module_version": "1.5.0",
            "value": 1,
            "_view_count": null,
            "_view_module_version": "1.5.0",
            "orientation": "horizontal",
            "min": 0,
            "description_tooltip": null,
            "_model_module": "@jupyter-widgets/controls",
            "layout": "IPY_MODEL_3904cae8d00a438b98339d35af72ff3f"
          }
        },
        "1e6285d3a22641bc99587af38c569f5b": {
          "model_module": "@jupyter-widgets/controls",
          "model_name": "HTMLModel",
          "state": {
            "_view_name": "HTMLView",
            "style": "IPY_MODEL_b814bf9ab3d443fa87f5c0b3ab17e418",
            "_dom_classes": [],
            "description": "",
            "_model_name": "HTMLModel",
            "placeholder": "​",
            "_view_module": "@jupyter-widgets/controls",
            "_model_module_version": "1.5.0",
            "value": " 32768/? [00:00&lt;00:00, 99480.12it/s]",
            "_view_count": null,
            "_view_module_version": "1.5.0",
            "description_tooltip": null,
            "_model_module": "@jupyter-widgets/controls",
            "layout": "IPY_MODEL_73736d84b1a94f6a82fcc5c68a15ea30"
          }
        },
        "e30023704fba4c25a0b5d65641fca2b9": {
          "model_module": "@jupyter-widgets/controls",
          "model_name": "ProgressStyleModel",
          "state": {
            "_view_name": "StyleView",
            "_model_name": "ProgressStyleModel",
            "description_width": "initial",
            "_view_module": "@jupyter-widgets/base",
            "_model_module_version": "1.5.0",
            "_view_count": null,
            "_view_module_version": "1.2.0",
            "bar_color": null,
            "_model_module": "@jupyter-widgets/controls"
          }
        },
        "3904cae8d00a438b98339d35af72ff3f": {
          "model_module": "@jupyter-widgets/base",
          "model_name": "LayoutModel",
          "state": {
            "_view_name": "LayoutView",
            "grid_template_rows": null,
            "right": null,
            "justify_content": null,
            "_view_module": "@jupyter-widgets/base",
            "overflow": null,
            "_model_module_version": "1.2.0",
            "_view_count": null,
            "flex_flow": null,
            "width": null,
            "min_width": null,
            "border": null,
            "align_items": null,
            "bottom": null,
            "_model_module": "@jupyter-widgets/base",
            "top": null,
            "grid_column": null,
            "overflow_y": null,
            "overflow_x": null,
            "grid_auto_flow": null,
            "grid_area": null,
            "grid_template_columns": null,
            "flex": null,
            "_model_name": "LayoutModel",
            "justify_items": null,
            "grid_row": null,
            "max_height": null,
            "align_content": null,
            "visibility": null,
            "align_self": null,
            "height": null,
            "min_height": null,
            "padding": null,
            "grid_auto_rows": null,
            "grid_gap": null,
            "max_width": null,
            "order": null,
            "_view_module_version": "1.2.0",
            "grid_template_areas": null,
            "object_position": null,
            "object_fit": null,
            "grid_auto_columns": null,
            "margin": null,
            "display": null,
            "left": null
          }
        },
        "b814bf9ab3d443fa87f5c0b3ab17e418": {
          "model_module": "@jupyter-widgets/controls",
          "model_name": "DescriptionStyleModel",
          "state": {
            "_view_name": "StyleView",
            "_model_name": "DescriptionStyleModel",
            "description_width": "",
            "_view_module": "@jupyter-widgets/base",
            "_model_module_version": "1.5.0",
            "_view_count": null,
            "_view_module_version": "1.2.0",
            "_model_module": "@jupyter-widgets/controls"
          }
        },
        "73736d84b1a94f6a82fcc5c68a15ea30": {
          "model_module": "@jupyter-widgets/base",
          "model_name": "LayoutModel",
          "state": {
            "_view_name": "LayoutView",
            "grid_template_rows": null,
            "right": null,
            "justify_content": null,
            "_view_module": "@jupyter-widgets/base",
            "overflow": null,
            "_model_module_version": "1.2.0",
            "_view_count": null,
            "flex_flow": null,
            "width": null,
            "min_width": null,
            "border": null,
            "align_items": null,
            "bottom": null,
            "_model_module": "@jupyter-widgets/base",
            "top": null,
            "grid_column": null,
            "overflow_y": null,
            "overflow_x": null,
            "grid_auto_flow": null,
            "grid_area": null,
            "grid_template_columns": null,
            "flex": null,
            "_model_name": "LayoutModel",
            "justify_items": null,
            "grid_row": null,
            "max_height": null,
            "align_content": null,
            "visibility": null,
            "align_self": null,
            "height": null,
            "min_height": null,
            "padding": null,
            "grid_auto_rows": null,
            "grid_gap": null,
            "max_width": null,
            "order": null,
            "_view_module_version": "1.2.0",
            "grid_template_areas": null,
            "object_position": null,
            "object_fit": null,
            "grid_auto_columns": null,
            "margin": null,
            "display": null,
            "left": null
          }
        },
        "8a1a0e0903cd46ceac1356def3a69687": {
          "model_module": "@jupyter-widgets/controls",
          "model_name": "HBoxModel",
          "state": {
            "_view_name": "HBoxView",
            "_dom_classes": [],
            "_model_name": "HBoxModel",
            "_view_module": "@jupyter-widgets/controls",
            "_model_module_version": "1.5.0",
            "_view_count": null,
            "_view_module_version": "1.5.0",
            "box_style": "",
            "layout": "IPY_MODEL_c47c6c78b6d74bf4949df4fe37d47da3",
            "_model_module": "@jupyter-widgets/controls",
            "children": [
              "IPY_MODEL_6971e33b10ef4114b81cee954c0aff8a",
              "IPY_MODEL_8b1032ac492f41f1b010d9a39b2ad75b"
            ]
          }
        },
        "c47c6c78b6d74bf4949df4fe37d47da3": {
          "model_module": "@jupyter-widgets/base",
          "model_name": "LayoutModel",
          "state": {
            "_view_name": "LayoutView",
            "grid_template_rows": null,
            "right": null,
            "justify_content": null,
            "_view_module": "@jupyter-widgets/base",
            "overflow": null,
            "_model_module_version": "1.2.0",
            "_view_count": null,
            "flex_flow": null,
            "width": null,
            "min_width": null,
            "border": null,
            "align_items": null,
            "bottom": null,
            "_model_module": "@jupyter-widgets/base",
            "top": null,
            "grid_column": null,
            "overflow_y": null,
            "overflow_x": null,
            "grid_auto_flow": null,
            "grid_area": null,
            "grid_template_columns": null,
            "flex": null,
            "_model_name": "LayoutModel",
            "justify_items": null,
            "grid_row": null,
            "max_height": null,
            "align_content": null,
            "visibility": null,
            "align_self": null,
            "height": null,
            "min_height": null,
            "padding": null,
            "grid_auto_rows": null,
            "grid_gap": null,
            "max_width": null,
            "order": null,
            "_view_module_version": "1.2.0",
            "grid_template_areas": null,
            "object_position": null,
            "object_fit": null,
            "grid_auto_columns": null,
            "margin": null,
            "display": null,
            "left": null
          }
        },
        "6971e33b10ef4114b81cee954c0aff8a": {
          "model_module": "@jupyter-widgets/controls",
          "model_name": "FloatProgressModel",
          "state": {
            "_view_name": "ProgressView",
            "style": "IPY_MODEL_ff1779e74d664fe4bdffbd9195c0cb18",
            "_dom_classes": [],
            "description": "",
            "_model_name": "FloatProgressModel",
            "bar_style": "success",
            "max": 1,
            "_view_module": "@jupyter-widgets/controls",
            "_model_module_version": "1.5.0",
            "value": 1,
            "_view_count": null,
            "_view_module_version": "1.5.0",
            "orientation": "horizontal",
            "min": 0,
            "description_tooltip": null,
            "_model_module": "@jupyter-widgets/controls",
            "layout": "IPY_MODEL_d6a1e8ebc79b4d0295744df4b2dbd42c"
          }
        },
        "8b1032ac492f41f1b010d9a39b2ad75b": {
          "model_module": "@jupyter-widgets/controls",
          "model_name": "HTMLModel",
          "state": {
            "_view_name": "HTMLView",
            "style": "IPY_MODEL_394bc5d5867d40e0bc66c15b4ab42195",
            "_dom_classes": [],
            "description": "",
            "_model_name": "HTMLModel",
            "placeholder": "​",
            "_view_module": "@jupyter-widgets/controls",
            "_model_module_version": "1.5.0",
            "value": " 4423680/? [00:07&lt;00:00, 620144.24it/s]",
            "_view_count": null,
            "_view_module_version": "1.5.0",
            "description_tooltip": null,
            "_model_module": "@jupyter-widgets/controls",
            "layout": "IPY_MODEL_6e1f037e215540c3b350c8aa1ab210e2"
          }
        },
        "ff1779e74d664fe4bdffbd9195c0cb18": {
          "model_module": "@jupyter-widgets/controls",
          "model_name": "ProgressStyleModel",
          "state": {
            "_view_name": "StyleView",
            "_model_name": "ProgressStyleModel",
            "description_width": "initial",
            "_view_module": "@jupyter-widgets/base",
            "_model_module_version": "1.5.0",
            "_view_count": null,
            "_view_module_version": "1.2.0",
            "bar_color": null,
            "_model_module": "@jupyter-widgets/controls"
          }
        },
        "d6a1e8ebc79b4d0295744df4b2dbd42c": {
          "model_module": "@jupyter-widgets/base",
          "model_name": "LayoutModel",
          "state": {
            "_view_name": "LayoutView",
            "grid_template_rows": null,
            "right": null,
            "justify_content": null,
            "_view_module": "@jupyter-widgets/base",
            "overflow": null,
            "_model_module_version": "1.2.0",
            "_view_count": null,
            "flex_flow": null,
            "width": null,
            "min_width": null,
            "border": null,
            "align_items": null,
            "bottom": null,
            "_model_module": "@jupyter-widgets/base",
            "top": null,
            "grid_column": null,
            "overflow_y": null,
            "overflow_x": null,
            "grid_auto_flow": null,
            "grid_area": null,
            "grid_template_columns": null,
            "flex": null,
            "_model_name": "LayoutModel",
            "justify_items": null,
            "grid_row": null,
            "max_height": null,
            "align_content": null,
            "visibility": null,
            "align_self": null,
            "height": null,
            "min_height": null,
            "padding": null,
            "grid_auto_rows": null,
            "grid_gap": null,
            "max_width": null,
            "order": null,
            "_view_module_version": "1.2.0",
            "grid_template_areas": null,
            "object_position": null,
            "object_fit": null,
            "grid_auto_columns": null,
            "margin": null,
            "display": null,
            "left": null
          }
        },
        "394bc5d5867d40e0bc66c15b4ab42195": {
          "model_module": "@jupyter-widgets/controls",
          "model_name": "DescriptionStyleModel",
          "state": {
            "_view_name": "StyleView",
            "_model_name": "DescriptionStyleModel",
            "description_width": "",
            "_view_module": "@jupyter-widgets/base",
            "_model_module_version": "1.5.0",
            "_view_count": null,
            "_view_module_version": "1.2.0",
            "_model_module": "@jupyter-widgets/controls"
          }
        },
        "6e1f037e215540c3b350c8aa1ab210e2": {
          "model_module": "@jupyter-widgets/base",
          "model_name": "LayoutModel",
          "state": {
            "_view_name": "LayoutView",
            "grid_template_rows": null,
            "right": null,
            "justify_content": null,
            "_view_module": "@jupyter-widgets/base",
            "overflow": null,
            "_model_module_version": "1.2.0",
            "_view_count": null,
            "flex_flow": null,
            "width": null,
            "min_width": null,
            "border": null,
            "align_items": null,
            "bottom": null,
            "_model_module": "@jupyter-widgets/base",
            "top": null,
            "grid_column": null,
            "overflow_y": null,
            "overflow_x": null,
            "grid_auto_flow": null,
            "grid_area": null,
            "grid_template_columns": null,
            "flex": null,
            "_model_name": "LayoutModel",
            "justify_items": null,
            "grid_row": null,
            "max_height": null,
            "align_content": null,
            "visibility": null,
            "align_self": null,
            "height": null,
            "min_height": null,
            "padding": null,
            "grid_auto_rows": null,
            "grid_gap": null,
            "max_width": null,
            "order": null,
            "_view_module_version": "1.2.0",
            "grid_template_areas": null,
            "object_position": null,
            "object_fit": null,
            "grid_auto_columns": null,
            "margin": null,
            "display": null,
            "left": null
          }
        },
        "9f79792ca79947d5aeb58b918ae22c55": {
          "model_module": "@jupyter-widgets/controls",
          "model_name": "HBoxModel",
          "state": {
            "_view_name": "HBoxView",
            "_dom_classes": [],
            "_model_name": "HBoxModel",
            "_view_module": "@jupyter-widgets/controls",
            "_model_module_version": "1.5.0",
            "_view_count": null,
            "_view_module_version": "1.5.0",
            "box_style": "",
            "layout": "IPY_MODEL_bfff54227ee54ac5b5ea8ddd7cb5e03c",
            "_model_module": "@jupyter-widgets/controls",
            "children": [
              "IPY_MODEL_8dddb91881b24826b3d1eea9d0b9aedb",
              "IPY_MODEL_93604e6d5aed40648cca60add13b455c"
            ]
          }
        },
        "bfff54227ee54ac5b5ea8ddd7cb5e03c": {
          "model_module": "@jupyter-widgets/base",
          "model_name": "LayoutModel",
          "state": {
            "_view_name": "LayoutView",
            "grid_template_rows": null,
            "right": null,
            "justify_content": null,
            "_view_module": "@jupyter-widgets/base",
            "overflow": null,
            "_model_module_version": "1.2.0",
            "_view_count": null,
            "flex_flow": null,
            "width": null,
            "min_width": null,
            "border": null,
            "align_items": null,
            "bottom": null,
            "_model_module": "@jupyter-widgets/base",
            "top": null,
            "grid_column": null,
            "overflow_y": null,
            "overflow_x": null,
            "grid_auto_flow": null,
            "grid_area": null,
            "grid_template_columns": null,
            "flex": null,
            "_model_name": "LayoutModel",
            "justify_items": null,
            "grid_row": null,
            "max_height": null,
            "align_content": null,
            "visibility": null,
            "align_self": null,
            "height": null,
            "min_height": null,
            "padding": null,
            "grid_auto_rows": null,
            "grid_gap": null,
            "max_width": null,
            "order": null,
            "_view_module_version": "1.2.0",
            "grid_template_areas": null,
            "object_position": null,
            "object_fit": null,
            "grid_auto_columns": null,
            "margin": null,
            "display": null,
            "left": null
          }
        },
        "8dddb91881b24826b3d1eea9d0b9aedb": {
          "model_module": "@jupyter-widgets/controls",
          "model_name": "FloatProgressModel",
          "state": {
            "_view_name": "ProgressView",
            "style": "IPY_MODEL_c5b5a25cdf61474fa95d965aa51be931",
            "_dom_classes": [],
            "description": "",
            "_model_name": "FloatProgressModel",
            "bar_style": "success",
            "max": 1,
            "_view_module": "@jupyter-widgets/controls",
            "_model_module_version": "1.5.0",
            "value": 1,
            "_view_count": null,
            "_view_module_version": "1.5.0",
            "orientation": "horizontal",
            "min": 0,
            "description_tooltip": null,
            "_model_module": "@jupyter-widgets/controls",
            "layout": "IPY_MODEL_efcebebd9ca34c8b8877da592043b775"
          }
        },
        "93604e6d5aed40648cca60add13b455c": {
          "model_module": "@jupyter-widgets/controls",
          "model_name": "HTMLModel",
          "state": {
            "_view_name": "HTMLView",
            "style": "IPY_MODEL_131494801b1e4644b5007f54f4611335",
            "_dom_classes": [],
            "description": "",
            "_model_name": "HTMLModel",
            "placeholder": "​",
            "_view_module": "@jupyter-widgets/controls",
            "_model_module_version": "1.5.0",
            "value": " 8192/? [00:00&lt;00:00, 15655.47it/s]",
            "_view_count": null,
            "_view_module_version": "1.5.0",
            "description_tooltip": null,
            "_model_module": "@jupyter-widgets/controls",
            "layout": "IPY_MODEL_297a5253b0bb45ff8582dbf4e174a0fb"
          }
        },
        "c5b5a25cdf61474fa95d965aa51be931": {
          "model_module": "@jupyter-widgets/controls",
          "model_name": "ProgressStyleModel",
          "state": {
            "_view_name": "StyleView",
            "_model_name": "ProgressStyleModel",
            "description_width": "initial",
            "_view_module": "@jupyter-widgets/base",
            "_model_module_version": "1.5.0",
            "_view_count": null,
            "_view_module_version": "1.2.0",
            "bar_color": null,
            "_model_module": "@jupyter-widgets/controls"
          }
        },
        "efcebebd9ca34c8b8877da592043b775": {
          "model_module": "@jupyter-widgets/base",
          "model_name": "LayoutModel",
          "state": {
            "_view_name": "LayoutView",
            "grid_template_rows": null,
            "right": null,
            "justify_content": null,
            "_view_module": "@jupyter-widgets/base",
            "overflow": null,
            "_model_module_version": "1.2.0",
            "_view_count": null,
            "flex_flow": null,
            "width": null,
            "min_width": null,
            "border": null,
            "align_items": null,
            "bottom": null,
            "_model_module": "@jupyter-widgets/base",
            "top": null,
            "grid_column": null,
            "overflow_y": null,
            "overflow_x": null,
            "grid_auto_flow": null,
            "grid_area": null,
            "grid_template_columns": null,
            "flex": null,
            "_model_name": "LayoutModel",
            "justify_items": null,
            "grid_row": null,
            "max_height": null,
            "align_content": null,
            "visibility": null,
            "align_self": null,
            "height": null,
            "min_height": null,
            "padding": null,
            "grid_auto_rows": null,
            "grid_gap": null,
            "max_width": null,
            "order": null,
            "_view_module_version": "1.2.0",
            "grid_template_areas": null,
            "object_position": null,
            "object_fit": null,
            "grid_auto_columns": null,
            "margin": null,
            "display": null,
            "left": null
          }
        },
        "131494801b1e4644b5007f54f4611335": {
          "model_module": "@jupyter-widgets/controls",
          "model_name": "DescriptionStyleModel",
          "state": {
            "_view_name": "StyleView",
            "_model_name": "DescriptionStyleModel",
            "description_width": "",
            "_view_module": "@jupyter-widgets/base",
            "_model_module_version": "1.5.0",
            "_view_count": null,
            "_view_module_version": "1.2.0",
            "_model_module": "@jupyter-widgets/controls"
          }
        },
        "297a5253b0bb45ff8582dbf4e174a0fb": {
          "model_module": "@jupyter-widgets/base",
          "model_name": "LayoutModel",
          "state": {
            "_view_name": "LayoutView",
            "grid_template_rows": null,
            "right": null,
            "justify_content": null,
            "_view_module": "@jupyter-widgets/base",
            "overflow": null,
            "_model_module_version": "1.2.0",
            "_view_count": null,
            "flex_flow": null,
            "width": null,
            "min_width": null,
            "border": null,
            "align_items": null,
            "bottom": null,
            "_model_module": "@jupyter-widgets/base",
            "top": null,
            "grid_column": null,
            "overflow_y": null,
            "overflow_x": null,
            "grid_auto_flow": null,
            "grid_area": null,
            "grid_template_columns": null,
            "flex": null,
            "_model_name": "LayoutModel",
            "justify_items": null,
            "grid_row": null,
            "max_height": null,
            "align_content": null,
            "visibility": null,
            "align_self": null,
            "height": null,
            "min_height": null,
            "padding": null,
            "grid_auto_rows": null,
            "grid_gap": null,
            "max_width": null,
            "order": null,
            "_view_module_version": "1.2.0",
            "grid_template_areas": null,
            "object_position": null,
            "object_fit": null,
            "grid_auto_columns": null,
            "margin": null,
            "display": null,
            "left": null
          }
        }
      }
    }
  },
  "cells": [
    {
      "cell_type": "code",
      "metadata": {
        "id": "MyCcXHLZzjIE",
        "outputId": "c019602e-7e0c-4d0b-f459-be74c204f497",
        "colab": {
          "base_uri": "https://localhost:8080/"
        }
      },
      "source": [
        "#importing the libraries\n",
        "\n",
        "import tensorflow as tf\n",
        "import torch as torch\n",
        "import numpy as np\n",
        "import torchvision\n",
        "from tensorflow import keras\n",
        "from torchvision import datasets, transforms\n",
        "\n",
        "print('Libraries imported successfully..')"
      ],
      "execution_count": null,
      "outputs": [
        {
          "output_type": "stream",
          "text": [
            "Libraries imported successfully..\n"
          ],
          "name": "stdout"
        }
      ]
    },
    {
      "cell_type": "markdown",
      "metadata": {
        "id": "DkA1SQxT-ac-"
      },
      "source": [
        "### Downloading the Training and Testing data :"
      ]
    },
    {
      "cell_type": "code",
      "metadata": {
        "id": "9a-PTCR0zl8D",
        "outputId": "80c68ab2-617c-4d16-c458-9a1e645e08e0",
        "colab": {
          "base_uri": "https://localhost:8080/",
          "height": 383,
          "referenced_widgets": [
            "9b6bd718f06a45968e102a64d45ce1da",
            "9fa4c6024995475fa1f0be8d7e51a8be",
            "a445bd1cc0d344928e7dac8c16b24f10",
            "f186c3d19c1c428083f97caf70141ef3",
            "ddd27df1092c4510b77d7f9162850751",
            "3c93404a2d1a42c987ae9956b0610586",
            "ebcead5ddc2148aab7309ecf46f0427b",
            "d457fb13b5e84ccfb02339c8027e6332",
            "bba884d1def741a0a76cabc472670d2a",
            "c2328143f9de48aaaefc3f584b66b615",
            "10a442afe08f441b94835ab2eaa21646",
            "1e6285d3a22641bc99587af38c569f5b",
            "e30023704fba4c25a0b5d65641fca2b9",
            "3904cae8d00a438b98339d35af72ff3f",
            "b814bf9ab3d443fa87f5c0b3ab17e418",
            "73736d84b1a94f6a82fcc5c68a15ea30",
            "8a1a0e0903cd46ceac1356def3a69687",
            "c47c6c78b6d74bf4949df4fe37d47da3",
            "6971e33b10ef4114b81cee954c0aff8a",
            "8b1032ac492f41f1b010d9a39b2ad75b",
            "ff1779e74d664fe4bdffbd9195c0cb18",
            "d6a1e8ebc79b4d0295744df4b2dbd42c",
            "394bc5d5867d40e0bc66c15b4ab42195",
            "6e1f037e215540c3b350c8aa1ab210e2",
            "9f79792ca79947d5aeb58b918ae22c55",
            "bfff54227ee54ac5b5ea8ddd7cb5e03c",
            "8dddb91881b24826b3d1eea9d0b9aedb",
            "93604e6d5aed40648cca60add13b455c",
            "c5b5a25cdf61474fa95d965aa51be931",
            "efcebebd9ca34c8b8877da592043b775",
            "131494801b1e4644b5007f54f4611335",
            "297a5253b0bb45ff8582dbf4e174a0fb"
          ]
        }
      },
      "source": [
        "\n",
        "train = datasets.FashionMNIST('', download = True, train = True, transform = transforms.Compose(transforms.ToTensor()))\n",
        "test = datasets.FashionMNIST('', download = True, train =False, transform = transforms.Compose([transforms.ToTensor()]))"
      ],
      "execution_count": null,
      "outputs": [
        {
          "output_type": "stream",
          "text": [
            "Downloading http://fashion-mnist.s3-website.eu-central-1.amazonaws.com/train-images-idx3-ubyte.gz to FashionMNIST/raw/train-images-idx3-ubyte.gz\n"
          ],
          "name": "stdout"
        },
        {
          "output_type": "display_data",
          "data": {
            "application/vnd.jupyter.widget-view+json": {
              "model_id": "9b6bd718f06a45968e102a64d45ce1da",
              "version_minor": 0,
              "version_major": 2
            },
            "text/plain": [
              "HBox(children=(FloatProgress(value=1.0, bar_style='info', max=1.0), HTML(value='')))"
            ]
          },
          "metadata": {
            "tags": []
          }
        },
        {
          "output_type": "stream",
          "text": [
            "Extracting FashionMNIST/raw/train-images-idx3-ubyte.gz to FashionMNIST/raw\n",
            "Downloading http://fashion-mnist.s3-website.eu-central-1.amazonaws.com/train-labels-idx1-ubyte.gz to FashionMNIST/raw/train-labels-idx1-ubyte.gz\n"
          ],
          "name": "stdout"
        },
        {
          "output_type": "display_data",
          "data": {
            "application/vnd.jupyter.widget-view+json": {
              "model_id": "bba884d1def741a0a76cabc472670d2a",
              "version_minor": 0,
              "version_major": 2
            },
            "text/plain": [
              "HBox(children=(FloatProgress(value=1.0, bar_style='info', max=1.0), HTML(value='')))"
            ]
          },
          "metadata": {
            "tags": []
          }
        },
        {
          "output_type": "stream",
          "text": [
            "Extracting FashionMNIST/raw/train-labels-idx1-ubyte.gz to FashionMNIST/raw\n",
            "Downloading http://fashion-mnist.s3-website.eu-central-1.amazonaws.com/t10k-images-idx3-ubyte.gz to FashionMNIST/raw/t10k-images-idx3-ubyte.gz\n",
            "\n"
          ],
          "name": "stdout"
        },
        {
          "output_type": "display_data",
          "data": {
            "application/vnd.jupyter.widget-view+json": {
              "model_id": "8a1a0e0903cd46ceac1356def3a69687",
              "version_minor": 0,
              "version_major": 2
            },
            "text/plain": [
              "HBox(children=(FloatProgress(value=1.0, bar_style='info', max=1.0), HTML(value='')))"
            ]
          },
          "metadata": {
            "tags": []
          }
        },
        {
          "output_type": "stream",
          "text": [
            "Extracting FashionMNIST/raw/t10k-images-idx3-ubyte.gz to FashionMNIST/raw\n",
            "Downloading http://fashion-mnist.s3-website.eu-central-1.amazonaws.com/t10k-labels-idx1-ubyte.gz to FashionMNIST/raw/t10k-labels-idx1-ubyte.gz\n"
          ],
          "name": "stdout"
        },
        {
          "output_type": "display_data",
          "data": {
            "application/vnd.jupyter.widget-view+json": {
              "model_id": "9f79792ca79947d5aeb58b918ae22c55",
              "version_minor": 0,
              "version_major": 2
            },
            "text/plain": [
              "HBox(children=(FloatProgress(value=1.0, bar_style='info', max=1.0), HTML(value='')))"
            ]
          },
          "metadata": {
            "tags": []
          }
        },
        {
          "output_type": "stream",
          "text": [
            "Extracting FashionMNIST/raw/t10k-labels-idx1-ubyte.gz to FashionMNIST/raw\n",
            "Processing...\n",
            "Done!\n"
          ],
          "name": "stdout"
        },
        {
          "output_type": "stream",
          "text": [
            "/usr/local/lib/python3.6/dist-packages/torchvision/datasets/mnist.py:480: UserWarning: The given NumPy array is not writeable, and PyTorch does not support non-writeable tensors. This means you can write to the underlying (supposedly non-writeable) NumPy array using the tensor. You may want to copy the array to protect its data or make it writeable before converting it to a tensor. This type of warning will be suppressed for the rest of this program. (Triggered internally at  /pytorch/torch/csrc/utils/tensor_numpy.cpp:141.)\n",
            "  return torch.from_numpy(parsed.astype(m[2], copy=False)).view(*s)\n"
          ],
          "name": "stderr"
        }
      ]
    },
    {
      "cell_type": "code",
      "metadata": {
        "id": "aF0Fk88rzl_R",
        "outputId": "12f5549f-c971-4490-e1a2-c30fd1a18d04",
        "colab": {
          "base_uri": "https://localhost:8080/"
        }
      },
      "source": [
        "print('Total classes in features are : ', train.classes)"
      ],
      "execution_count": null,
      "outputs": [
        {
          "output_type": "stream",
          "text": [
            "Total classes in features are :  ['T-shirt/top', 'Trouser', 'Pullover', 'Dress', 'Coat', 'Sandal', 'Shirt', 'Sneaker', 'Bag', 'Ankle boot']\n"
          ],
          "name": "stdout"
        }
      ]
    },
    {
      "cell_type": "code",
      "metadata": {
        "id": "ww8nL6CIzmCW",
        "outputId": "112c5e57-2b85-470a-ab77-131e2bab720e",
        "colab": {
          "base_uri": "https://localhost:8080/"
        }
      },
      "source": [
        "print('Targets are : ', train.targets)"
      ],
      "execution_count": null,
      "outputs": [
        {
          "output_type": "stream",
          "text": [
            "Targets are :  tensor([9, 0, 0,  ..., 3, 0, 5])\n"
          ],
          "name": "stdout"
        }
      ]
    },
    {
      "cell_type": "code",
      "metadata": {
        "id": "oMou6quGzmFU",
        "outputId": "b1afa2e4-82d6-4455-e3e4-88c260b060bb",
        "colab": {
          "base_uri": "https://localhost:8080/"
        }
      },
      "source": [
        "print('Data : \\n', train.data)"
      ],
      "execution_count": null,
      "outputs": [
        {
          "output_type": "stream",
          "text": [
            "Data : \n",
            " tensor([[[0, 0, 0,  ..., 0, 0, 0],\n",
            "         [0, 0, 0,  ..., 0, 0, 0],\n",
            "         [0, 0, 0,  ..., 0, 0, 0],\n",
            "         ...,\n",
            "         [0, 0, 0,  ..., 0, 0, 0],\n",
            "         [0, 0, 0,  ..., 0, 0, 0],\n",
            "         [0, 0, 0,  ..., 0, 0, 0]],\n",
            "\n",
            "        [[0, 0, 0,  ..., 0, 0, 0],\n",
            "         [0, 0, 0,  ..., 0, 0, 0],\n",
            "         [0, 0, 0,  ..., 0, 0, 0],\n",
            "         ...,\n",
            "         [0, 0, 0,  ..., 0, 0, 0],\n",
            "         [0, 0, 0,  ..., 0, 0, 0],\n",
            "         [0, 0, 0,  ..., 0, 0, 0]],\n",
            "\n",
            "        [[0, 0, 0,  ..., 0, 0, 0],\n",
            "         [0, 0, 0,  ..., 0, 0, 0],\n",
            "         [0, 0, 0,  ..., 0, 0, 0],\n",
            "         ...,\n",
            "         [0, 0, 0,  ..., 0, 0, 0],\n",
            "         [0, 0, 0,  ..., 0, 0, 0],\n",
            "         [0, 0, 0,  ..., 0, 0, 0]],\n",
            "\n",
            "        ...,\n",
            "\n",
            "        [[0, 0, 0,  ..., 0, 0, 0],\n",
            "         [0, 0, 0,  ..., 0, 0, 0],\n",
            "         [0, 0, 0,  ..., 0, 0, 0],\n",
            "         ...,\n",
            "         [0, 0, 0,  ..., 0, 0, 0],\n",
            "         [0, 0, 0,  ..., 0, 0, 0],\n",
            "         [0, 0, 0,  ..., 0, 0, 0]],\n",
            "\n",
            "        [[0, 0, 0,  ..., 0, 0, 0],\n",
            "         [0, 0, 0,  ..., 0, 0, 0],\n",
            "         [0, 0, 0,  ..., 0, 0, 0],\n",
            "         ...,\n",
            "         [0, 0, 0,  ..., 0, 0, 0],\n",
            "         [0, 0, 0,  ..., 0, 0, 0],\n",
            "         [0, 0, 0,  ..., 0, 0, 0]],\n",
            "\n",
            "        [[0, 0, 0,  ..., 0, 0, 0],\n",
            "         [0, 0, 0,  ..., 0, 0, 0],\n",
            "         [0, 0, 0,  ..., 0, 0, 0],\n",
            "         ...,\n",
            "         [0, 0, 0,  ..., 0, 0, 0],\n",
            "         [0, 0, 0,  ..., 0, 0, 0],\n",
            "         [0, 0, 0,  ..., 0, 0, 0]]], dtype=torch.uint8)\n"
          ],
          "name": "stdout"
        }
      ]
    },
    {
      "cell_type": "code",
      "metadata": {
        "id": "-PWBnElWzmIk",
        "outputId": "b3724d93-4ef3-432c-f3dd-6897223872fc",
        "colab": {
          "base_uri": "https://localhost:8080/"
        }
      },
      "source": [
        "train.data.shape"
      ],
      "execution_count": null,
      "outputs": [
        {
          "output_type": "execute_result",
          "data": {
            "text/plain": [
              "torch.Size([60000, 28, 28])"
            ]
          },
          "metadata": {
            "tags": []
          },
          "execution_count": 6
        }
      ]
    },
    {
      "cell_type": "code",
      "metadata": {
        "id": "7FJ_SYLBzmLw",
        "outputId": "be3a1164-9f5b-4ffb-e982-bfacf44604d1",
        "colab": {
          "base_uri": "https://localhost:8080/"
        }
      },
      "source": [
        "train.targets.shape"
      ],
      "execution_count": null,
      "outputs": [
        {
          "output_type": "execute_result",
          "data": {
            "text/plain": [
              "torch.Size([60000])"
            ]
          },
          "metadata": {
            "tags": []
          },
          "execution_count": 7
        }
      ]
    },
    {
      "cell_type": "code",
      "metadata": {
        "id": "nNWiGv3KzmOo",
        "outputId": "aa0b1da1-4afc-4caf-ebf6-808de3d0c28b",
        "colab": {
          "base_uri": "https://localhost:8080/"
        }
      },
      "source": [
        "train_images = train.data\n",
        "train_labels = train.targets\n",
        "\n",
        "test_images = test.data\n",
        "test_labels = test.targets\n",
        "\n",
        "print('Training data Input Shape : ', train_images.shape)\n",
        "print('Training Data Output Shape: ', train_labels.shape)\n",
        "print('\\n')\n",
        "print('Test Data Input Shape : ', test_images.shape)\n",
        "print('Test Data Output Shape: ', test_labels.shape)"
      ],
      "execution_count": null,
      "outputs": [
        {
          "output_type": "stream",
          "text": [
            "Training data Input Shape :  torch.Size([60000, 28, 28])\n",
            "Training Data Output Shape:  torch.Size([60000])\n",
            "\n",
            "\n",
            "Test Data Input Shape :  torch.Size([10000, 28, 28])\n",
            "Test Data Output Shape:  torch.Size([10000])\n"
          ],
          "name": "stdout"
        }
      ]
    },
    {
      "cell_type": "markdown",
      "metadata": {
        "id": "r0DydasPDYFy"
      },
      "source": [
        "### Resizing the Images :"
      ]
    },
    {
      "cell_type": "code",
      "metadata": {
        "id": "83bkw_EOzmW8",
        "outputId": "c6de49d7-fdbe-4f57-d228-294da30ee5aa",
        "colab": {
          "base_uri": "https://localhost:8080/"
        }
      },
      "source": [
        "train_images = np.expand_dims(train_images, axis = 3)\n",
        "test_images = np.expand_dims(test_images, axis = 3)\n",
        "\n",
        "print('Training Images new shape: ', train_images.shape)\n",
        "print('Test images new shape: ', test_images.shape)"
      ],
      "execution_count": null,
      "outputs": [
        {
          "output_type": "stream",
          "text": [
            "Training Images new shape:  (60000, 28, 28, 1)\n",
            "Test images new shape:  (10000, 28, 28, 1)\n"
          ],
          "name": "stdout"
        }
      ]
    },
    {
      "cell_type": "markdown",
      "metadata": {
        "id": "dAzWvMPHEbGa"
      },
      "source": [
        "Dimensions of the training and testing are sorted and compatible to be fed into the model.\n",
        "\n",
        "## Building the Model::\n",
        "\n",
        "Every Keras model is either built using the Sequential class, which represents a linear stack of layers, or the functional Model class, which is more customizeable. \n",
        "We’ll be using the simpler Sequential model, since our CNN will be a linear stack of layers.\n"
      ]
    },
    {
      "cell_type": "code",
      "metadata": {
        "id": "WtbPpHDbzmZ6",
        "outputId": "a3df656d-4de6-4c8b-b931-a3de3e44f4e1",
        "colab": {
          "base_uri": "https://localhost:8080/"
        }
      },
      "source": [
        "from tensorflow import keras\n",
        "\n",
        "#defining the model\n",
        "\n",
        "model = keras.Sequential()  #Creating a sequential module that will process line by line"
      ],
      "execution_count": null,
      "outputs": [
        {
          "output_type": "stream",
          "text": [
            "\n"
          ],
          "name": "stdout"
        }
      ]
    },
    {
      "cell_type": "markdown",
      "metadata": {
        "id": "QZyAQPvNGQie"
      },
      "source": [
        "The Sequential constructor takes an array of Keras Layers. We’ll use 3 types of layers for our CNN: \n",
        "\n",
        "\n",
        "1.   Convolutional,\n",
        "2.   Max Pooling,\n",
        "3.   Softmax.\n",
        "\n"
      ]
    },
    {
      "cell_type": "markdown",
      "metadata": {
        "id": "zy6SDtCMVo01"
      },
      "source": [
        "## Compiling the Model ::\n",
        "\n",
        "Before I can begin training, to configure the training process, there are 3 key factors during the compilation step:\n",
        "\n",
        "- The Optimizer: The Adam gradient-based optimizer. \n",
        "\n",
        "- The loss function. Since we’re using a Softmax output layer, we’ll use the Cross-Entropy loss. \n",
        "\n",
        "- A list of metrics. Since this is a classification problem, I’ll just have Keras report on the accuracy metric."
      ]
    },
    {
      "cell_type": "markdown",
      "metadata": {
        "id": "Wn-bSjYkWtAa"
      },
      "source": [
        "## Training the Model::\n",
        "\n",
        "Training a model in Keras consists only of calling fit() and specifying some parameters. There are a lot of possible parameters:\n",
        "\n",
        "- **The training data (images and labels)**: commonly known as X and Y, respectively.\n",
        "\n",
        "- **The number of epochs**: iterations over the entire dataset to train for.\n",
        "\n",
        "- **The validation data (or test data)**: which is used during training to periodically measure the network’s performance against data it hasn’t seen before."
      ]
    },
    {
      "cell_type": "markdown",
      "metadata": {
        "id": "BUiz5UY6Z-Zu"
      },
      "source": [
        "Keras expects the training targets to be 10-dimensional vectors, since there are 10 nodes in our Softmax output layer so using to_categorial function to encode the target labels"
      ]
    },
    {
      "cell_type": "markdown",
      "metadata": {
        "id": "EzWu7FHDaoNz"
      },
      "source": [
        "### Splittig the data into Training and Validation Data:"
      ]
    },
    {
      "cell_type": "code",
      "metadata": {
        "id": "kP1nLfG1WPXd",
        "outputId": "da41dadb-f15e-4fba-d75d-92e298aa0971",
        "colab": {
          "base_uri": "https://localhost:8080/"
        }
      },
      "source": [
        "from sklearn.model_selection import train_test_split\n",
        "from keras.utils import np_utils\n",
        "\n",
        "x_train, y_train, x_valid, y_valid = train_test_split(train_images, train_labels, random_state = 101, test_size = 0.25)\n"
      ],
      "execution_count": null,
      "outputs": [
        {
          "output_type": "stream",
          "text": [
            "\n",
            "\n"
          ],
          "name": "stdout"
        }
      ]
    },
    {
      "cell_type": "markdown",
      "metadata": {
        "id": "PQqOPOc9tWr1"
      },
      "source": [
        "### Changing the shape of our training and validation data"
      ]
    },
    {
      "cell_type": "code",
      "metadata": {
        "id": "IzkmfkCUWPi1",
        "outputId": "0060ef68-2887-470c-ca9c-b87b7e8fd18b",
        "colab": {
          "base_uri": "https://localhost:8080/"
        }
      },
      "source": [
        "x_train = x_train.reshape(x_train.shape[0], 28, 28, 1)\n",
        "y_train = y_train.reshape(y_train.shape[0], 28, 28, 1)\n",
        "\n",
        "#changing type of input features to float\n",
        "\n",
        "train_images = train_images.astype('float32')\n",
        "test_images = test_images.astype('float32')\n",
        "\n",
        "# COnverting 1-D array into 10-D classes\n",
        "\n",
        "x_valid = np_utils.to_categorical(x_valid, num_classes = 10)\n",
        "y_valid = np_utils.to_categorical(y_valid, num_classes = 10)\n",
        "\n",
        "print('Training input data shape: ', x_train.shape)\n",
        "print('Training output data shape: ', x_valid.shape)\n",
        "print('Validation input data shape: ', y_train.shape)\n",
        "print('Validation output data shape: ', y_valid.shape)"
      ],
      "execution_count": null,
      "outputs": [
        {
          "output_type": "stream",
          "text": [
            "Training input data shape:  (45000, 28, 28, 1)\n",
            "Training output data shape:  (45000, 10)\n",
            "Validation input data shape:  (15000, 28, 28, 1)\n",
            "Validation output data shape:  (15000, 10)\n"
          ],
          "name": "stdout"
        }
      ]
    },
    {
      "cell_type": "code",
      "metadata": {
        "id": "nxMuS8KzGOis"
      },
      "source": [
        "# Defining sizes of filters and Pooling \n",
        "\n",
        "num_filters = 16\n",
        "filter_size = (3,3)\n",
        "pool_layer = (2,2)\n",
        "\n",
        "#defining the layers \n",
        "\n",
        "model = keras.Sequential([# First Convolution layer with 8 filters\n",
        "                    tf.keras.layers.Conv2D(filters = num_filters,\n",
        "                                           kernel_size = filter_size,\n",
        "                                           strides = (1,1),\n",
        "                                           padding = 'valid',\n",
        "                                           activation = 'relu',                                           \n",
        "                                           input_shape = (28,28, 1)),\n",
        "                    \n",
        "                    #max Pooling to reduce the size of the image\n",
        "                    tf.keras.layers.MaxPooling2D(pool_size = pool_layer, strides = (2,2)),\n",
        "                    #Dropout layer to drop 25% of the random weights\n",
        "                    tf.keras.layers.Dropout(rate = 0.25),\n",
        "\n",
        "\n",
        "\n",
        "                    #Second Convolution layer with 16 filters\n",
        "                    tf.keras.layers.Conv2D(filters = 32, kernel_size = filter_size,\n",
        "                                           strides = (1,1),\n",
        "                                           padding = 'valid',\n",
        "                                           activation = 'relu'),                    \n",
        "                    #max Pooling to reduce the size of the image\n",
        "                    tf.keras.layers.MaxPooling2D(pool_size = pool_layer, strides = pool_layer),\n",
        "                    #Dropout layer to drop 25% of the random weights\n",
        "                    tf.keras.layers.Dropout(rate = 0.25),\n",
        "\n",
        "\n",
        "\n",
        "                    #Third Convolution layer with 32 filters\n",
        "                    tf.keras.layers.Conv2D(filters= 64, kernel_size = filter_size,\n",
        "                                           strides = (1,1),\n",
        "                                           padding = 'valid',\n",
        "                                           activation = 'relu'),                    \n",
        "                    #max Pooling to reduce the size of the image\n",
        "                    tf.keras.layers.MaxPooling2D(pool_size = pool_layer, strides = pool_layer),\n",
        "                    tf.keras.layers.Dropout(rate = 0.30),\n",
        "\n",
        "                    \n",
        "                    #feeding flattened as  input to fully connected layers \n",
        "                    tf.keras.layers.Flatten(),\n",
        "\n",
        "\n",
        "                    #Hidden layer one has 256 nodes\n",
        "                    tf.keras.layers.Dense(units = 512, activation = 'relu'),\n",
        "                    #Dropout layer to drop 25% of the random weights\n",
        "                    tf.keras.layers.Dropout(0.25),\n",
        "\n",
        "\n",
        "\n",
        "                    #hidden layer 2 has 128 nodes\n",
        "                    tf.keras.layers.Dense(units = 256, activation = 'relu'),\n",
        "                     #Dropout layer to drop 25% of the random weights\n",
        "                    tf.keras.layers.Dropout(rate = 0.30),\n",
        "\n",
        "\n",
        "\n",
        "                    #The output Softmax layer has 10 nodes, one for each class.\n",
        "                    tf.keras.layers.Dense(units = 10, activation = 'softmax')            \n",
        "])\n"
      ],
      "execution_count": null,
      "outputs": []
    },
    {
      "cell_type": "code",
      "metadata": {
        "id": "338ede5Vzlco"
      },
      "source": [
        "# Compliling the model\n",
        "\n",
        "model.compile(optimizer = 'adam',\n",
        "              loss = 'categorical_crossentropy',\n",
        "              metrics = ['accuracy'])"
      ],
      "execution_count": null,
      "outputs": []
    },
    {
      "cell_type": "code",
      "metadata": {
        "id": "qPo2PguwWPRk",
        "outputId": "1a44aa93-04ba-4e5a-c65d-f7472a25ccad",
        "colab": {
          "base_uri": "https://localhost:8080/"
        }
      },
      "source": [
        "model.summary()"
      ],
      "execution_count": null,
      "outputs": [
        {
          "output_type": "stream",
          "text": [
            "Model: \"sequential_2\"\n",
            "_________________________________________________________________\n",
            "Layer (type)                 Output Shape              Param #   \n",
            "=================================================================\n",
            "conv2d_3 (Conv2D)            (None, 26, 26, 16)        160       \n",
            "_________________________________________________________________\n",
            "max_pooling2d_3 (MaxPooling2 (None, 13, 13, 16)        0         \n",
            "_________________________________________________________________\n",
            "dropout_5 (Dropout)          (None, 13, 13, 16)        0         \n",
            "_________________________________________________________________\n",
            "conv2d_4 (Conv2D)            (None, 11, 11, 32)        4640      \n",
            "_________________________________________________________________\n",
            "max_pooling2d_4 (MaxPooling2 (None, 5, 5, 32)          0         \n",
            "_________________________________________________________________\n",
            "dropout_6 (Dropout)          (None, 5, 5, 32)          0         \n",
            "_________________________________________________________________\n",
            "conv2d_5 (Conv2D)            (None, 3, 3, 64)          18496     \n",
            "_________________________________________________________________\n",
            "max_pooling2d_5 (MaxPooling2 (None, 1, 1, 64)          0         \n",
            "_________________________________________________________________\n",
            "dropout_7 (Dropout)          (None, 1, 1, 64)          0         \n",
            "_________________________________________________________________\n",
            "flatten_1 (Flatten)          (None, 64)                0         \n",
            "_________________________________________________________________\n",
            "dense_3 (Dense)              (None, 512)               33280     \n",
            "_________________________________________________________________\n",
            "dropout_8 (Dropout)          (None, 512)               0         \n",
            "_________________________________________________________________\n",
            "dense_4 (Dense)              (None, 256)               131328    \n",
            "_________________________________________________________________\n",
            "dropout_9 (Dropout)          (None, 256)               0         \n",
            "_________________________________________________________________\n",
            "dense_5 (Dense)              (None, 10)                2570      \n",
            "=================================================================\n",
            "Total params: 190,474\n",
            "Trainable params: 190,474\n",
            "Non-trainable params: 0\n",
            "_________________________________________________________________\n"
          ],
          "name": "stdout"
        }
      ]
    },
    {
      "cell_type": "markdown",
      "metadata": {
        "id": "xv13HxRftm9d"
      },
      "source": [
        "### Fitting data into the Model::"
      ]
    },
    {
      "cell_type": "code",
      "metadata": {
        "id": "P69bfqhJWPl-",
        "outputId": "a21ef7a8-f09a-4d69-a6a6-c1ff93e6596b",
        "colab": {
          "base_uri": "https://localhost:8080/"
        }
      },
      "source": [
        "#Defining parameters for our model\n",
        "\n",
        "epochs = 100\n",
        "batch_size = 64\n",
        "\n",
        "model.fit(x = x_train,\n",
        "          y = x_valid,\n",
        "          epochs = epochs,\n",
        "          verbose = 1,\n",
        "          validation_data = (y_train, y_valid),\n",
        "          batch_size = batch_size\n",
        "          )"
      ],
      "execution_count": null,
      "outputs": [
        {
          "output_type": "stream",
          "text": [
            "Epoch 1/100\n",
            "704/704 [==============================] - 3s 5ms/step - loss: 1.2532 - accuracy: 0.5712 - val_loss: 0.6537 - val_accuracy: 0.7571\n",
            "Epoch 2/100\n",
            "704/704 [==============================] - 3s 4ms/step - loss: 0.7274 - accuracy: 0.7328 - val_loss: 0.5670 - val_accuracy: 0.7980\n",
            "Epoch 3/100\n",
            "704/704 [==============================] - 3s 4ms/step - loss: 0.6417 - accuracy: 0.7666 - val_loss: 0.5211 - val_accuracy: 0.8105\n",
            "Epoch 4/100\n",
            "704/704 [==============================] - 3s 4ms/step - loss: 0.5979 - accuracy: 0.7837 - val_loss: 0.4986 - val_accuracy: 0.8136\n",
            "Epoch 5/100\n",
            "704/704 [==============================] - 3s 4ms/step - loss: 0.5646 - accuracy: 0.7947 - val_loss: 0.4736 - val_accuracy: 0.8215\n",
            "Epoch 6/100\n",
            "704/704 [==============================] - 3s 4ms/step - loss: 0.5444 - accuracy: 0.8022 - val_loss: 0.4551 - val_accuracy: 0.8394\n",
            "Epoch 7/100\n",
            "704/704 [==============================] - 3s 4ms/step - loss: 0.5297 - accuracy: 0.8078 - val_loss: 0.4395 - val_accuracy: 0.8490\n",
            "Epoch 8/100\n",
            "704/704 [==============================] - 3s 4ms/step - loss: 0.5144 - accuracy: 0.8128 - val_loss: 0.4261 - val_accuracy: 0.8433\n",
            "Epoch 9/100\n",
            "704/704 [==============================] - 3s 4ms/step - loss: 0.5042 - accuracy: 0.8170 - val_loss: 0.4502 - val_accuracy: 0.8240\n",
            "Epoch 10/100\n",
            "704/704 [==============================] - 3s 4ms/step - loss: 0.4951 - accuracy: 0.8198 - val_loss: 0.4074 - val_accuracy: 0.8488\n",
            "Epoch 11/100\n",
            "704/704 [==============================] - 3s 4ms/step - loss: 0.4910 - accuracy: 0.8232 - val_loss: 0.4145 - val_accuracy: 0.8482\n",
            "Epoch 12/100\n",
            "704/704 [==============================] - 3s 4ms/step - loss: 0.4815 - accuracy: 0.8244 - val_loss: 0.4059 - val_accuracy: 0.8541\n",
            "Epoch 13/100\n",
            "704/704 [==============================] - 3s 4ms/step - loss: 0.4768 - accuracy: 0.8244 - val_loss: 0.4032 - val_accuracy: 0.8518\n",
            "Epoch 14/100\n",
            "704/704 [==============================] - 3s 4ms/step - loss: 0.4736 - accuracy: 0.8265 - val_loss: 0.3969 - val_accuracy: 0.8585\n",
            "Epoch 15/100\n",
            "704/704 [==============================] - 3s 4ms/step - loss: 0.4698 - accuracy: 0.8292 - val_loss: 0.3922 - val_accuracy: 0.8547\n",
            "Epoch 16/100\n",
            "704/704 [==============================] - 3s 4ms/step - loss: 0.4699 - accuracy: 0.8285 - val_loss: 0.3899 - val_accuracy: 0.8537\n",
            "Epoch 17/100\n",
            "704/704 [==============================] - 3s 4ms/step - loss: 0.4599 - accuracy: 0.8321 - val_loss: 0.4091 - val_accuracy: 0.8463\n",
            "Epoch 18/100\n",
            "704/704 [==============================] - 3s 4ms/step - loss: 0.4580 - accuracy: 0.8309 - val_loss: 0.3910 - val_accuracy: 0.8570\n",
            "Epoch 19/100\n",
            "704/704 [==============================] - 3s 4ms/step - loss: 0.4585 - accuracy: 0.8344 - val_loss: 0.3848 - val_accuracy: 0.8576\n",
            "Epoch 20/100\n",
            "704/704 [==============================] - 3s 4ms/step - loss: 0.4538 - accuracy: 0.8334 - val_loss: 0.3900 - val_accuracy: 0.8583\n",
            "Epoch 21/100\n",
            "704/704 [==============================] - 3s 4ms/step - loss: 0.4558 - accuracy: 0.8339 - val_loss: 0.3740 - val_accuracy: 0.8601\n",
            "Epoch 22/100\n",
            "704/704 [==============================] - 3s 4ms/step - loss: 0.4484 - accuracy: 0.8364 - val_loss: 0.3691 - val_accuracy: 0.8656\n",
            "Epoch 23/100\n",
            "704/704 [==============================] - 3s 4ms/step - loss: 0.4552 - accuracy: 0.8333 - val_loss: 0.3884 - val_accuracy: 0.8567\n",
            "Epoch 24/100\n",
            "704/704 [==============================] - 3s 4ms/step - loss: 0.4522 - accuracy: 0.8349 - val_loss: 0.3966 - val_accuracy: 0.8549\n",
            "Epoch 25/100\n",
            "704/704 [==============================] - 3s 4ms/step - loss: 0.4459 - accuracy: 0.8363 - val_loss: 0.3674 - val_accuracy: 0.8693\n",
            "Epoch 26/100\n",
            "704/704 [==============================] - 3s 4ms/step - loss: 0.4443 - accuracy: 0.8381 - val_loss: 0.3582 - val_accuracy: 0.8687\n",
            "Epoch 27/100\n",
            "704/704 [==============================] - 3s 4ms/step - loss: 0.4481 - accuracy: 0.8363 - val_loss: 0.3613 - val_accuracy: 0.8675\n",
            "Epoch 28/100\n",
            "704/704 [==============================] - 3s 4ms/step - loss: 0.4443 - accuracy: 0.8379 - val_loss: 0.3636 - val_accuracy: 0.8691\n",
            "Epoch 29/100\n",
            "704/704 [==============================] - 3s 5ms/step - loss: 0.4431 - accuracy: 0.8388 - val_loss: 0.3805 - val_accuracy: 0.8606\n",
            "Epoch 30/100\n",
            "704/704 [==============================] - 3s 4ms/step - loss: 0.4480 - accuracy: 0.8382 - val_loss: 0.3723 - val_accuracy: 0.8630\n",
            "Epoch 31/100\n",
            "704/704 [==============================] - 3s 4ms/step - loss: 0.4437 - accuracy: 0.8376 - val_loss: 0.3792 - val_accuracy: 0.8645\n",
            "Epoch 32/100\n",
            "704/704 [==============================] - 3s 4ms/step - loss: 0.4479 - accuracy: 0.8362 - val_loss: 0.3765 - val_accuracy: 0.8643\n",
            "Epoch 33/100\n",
            "704/704 [==============================] - 3s 4ms/step - loss: 0.4383 - accuracy: 0.8397 - val_loss: 0.3634 - val_accuracy: 0.8669\n",
            "Epoch 34/100\n",
            "704/704 [==============================] - 3s 4ms/step - loss: 0.4383 - accuracy: 0.8395 - val_loss: 0.3655 - val_accuracy: 0.8635\n",
            "Epoch 35/100\n",
            "704/704 [==============================] - 3s 4ms/step - loss: 0.4412 - accuracy: 0.8390 - val_loss: 0.3839 - val_accuracy: 0.8589\n",
            "Epoch 36/100\n",
            "704/704 [==============================] - 3s 4ms/step - loss: 0.4387 - accuracy: 0.8406 - val_loss: 0.3787 - val_accuracy: 0.8620\n",
            "Epoch 37/100\n",
            "704/704 [==============================] - 3s 4ms/step - loss: 0.4405 - accuracy: 0.8405 - val_loss: 0.3635 - val_accuracy: 0.8661\n",
            "Epoch 38/100\n",
            "704/704 [==============================] - 3s 4ms/step - loss: 0.4394 - accuracy: 0.8403 - val_loss: 0.3751 - val_accuracy: 0.8684\n",
            "Epoch 39/100\n",
            "704/704 [==============================] - 3s 4ms/step - loss: 0.4398 - accuracy: 0.8398 - val_loss: 0.3681 - val_accuracy: 0.8656\n",
            "Epoch 40/100\n",
            "704/704 [==============================] - 3s 4ms/step - loss: 0.4413 - accuracy: 0.8378 - val_loss: 0.3707 - val_accuracy: 0.8688\n",
            "Epoch 41/100\n",
            "704/704 [==============================] - 3s 4ms/step - loss: 0.4366 - accuracy: 0.8405 - val_loss: 0.3678 - val_accuracy: 0.8677\n",
            "Epoch 42/100\n",
            "704/704 [==============================] - 3s 4ms/step - loss: 0.4394 - accuracy: 0.8398 - val_loss: 0.3646 - val_accuracy: 0.8703\n",
            "Epoch 43/100\n",
            "704/704 [==============================] - 3s 4ms/step - loss: 0.4364 - accuracy: 0.8417 - val_loss: 0.3696 - val_accuracy: 0.8673\n",
            "Epoch 44/100\n",
            "704/704 [==============================] - 3s 4ms/step - loss: 0.4377 - accuracy: 0.8406 - val_loss: 0.3738 - val_accuracy: 0.8685\n",
            "Epoch 45/100\n",
            "704/704 [==============================] - 3s 4ms/step - loss: 0.4384 - accuracy: 0.8399 - val_loss: 0.3667 - val_accuracy: 0.8694\n",
            "Epoch 46/100\n",
            "704/704 [==============================] - 3s 4ms/step - loss: 0.4349 - accuracy: 0.8422 - val_loss: 0.3675 - val_accuracy: 0.8675\n",
            "Epoch 47/100\n",
            "704/704 [==============================] - 3s 4ms/step - loss: 0.4333 - accuracy: 0.8409 - val_loss: 0.3623 - val_accuracy: 0.8695\n",
            "Epoch 48/100\n",
            "704/704 [==============================] - 3s 4ms/step - loss: 0.4357 - accuracy: 0.8425 - val_loss: 0.3660 - val_accuracy: 0.8651\n",
            "Epoch 49/100\n",
            "704/704 [==============================] - 3s 4ms/step - loss: 0.4347 - accuracy: 0.8426 - val_loss: 0.3691 - val_accuracy: 0.8675\n",
            "Epoch 50/100\n",
            "704/704 [==============================] - 3s 4ms/step - loss: 0.4386 - accuracy: 0.8430 - val_loss: 0.3770 - val_accuracy: 0.8667\n",
            "Epoch 51/100\n",
            "704/704 [==============================] - 3s 4ms/step - loss: 0.4320 - accuracy: 0.8444 - val_loss: 0.3749 - val_accuracy: 0.8656\n",
            "Epoch 52/100\n",
            "704/704 [==============================] - 3s 4ms/step - loss: 0.4344 - accuracy: 0.8431 - val_loss: 0.3605 - val_accuracy: 0.8672\n",
            "Epoch 53/100\n",
            "704/704 [==============================] - 4s 5ms/step - loss: 0.4389 - accuracy: 0.8405 - val_loss: 0.3619 - val_accuracy: 0.8674\n",
            "Epoch 54/100\n",
            "704/704 [==============================] - 3s 5ms/step - loss: 0.4392 - accuracy: 0.8433 - val_loss: 0.3702 - val_accuracy: 0.8647\n",
            "Epoch 55/100\n",
            "704/704 [==============================] - 3s 5ms/step - loss: 0.4417 - accuracy: 0.8390 - val_loss: 0.3613 - val_accuracy: 0.8708\n",
            "Epoch 56/100\n",
            "704/704 [==============================] - 3s 4ms/step - loss: 0.4305 - accuracy: 0.8430 - val_loss: 0.3608 - val_accuracy: 0.8677\n",
            "Epoch 57/100\n",
            "704/704 [==============================] - 3s 4ms/step - loss: 0.4368 - accuracy: 0.8407 - val_loss: 0.3717 - val_accuracy: 0.8650\n",
            "Epoch 58/100\n",
            "704/704 [==============================] - 3s 4ms/step - loss: 0.4294 - accuracy: 0.8426 - val_loss: 0.3605 - val_accuracy: 0.8683\n",
            "Epoch 59/100\n",
            "704/704 [==============================] - 3s 5ms/step - loss: 0.4359 - accuracy: 0.8420 - val_loss: 0.3659 - val_accuracy: 0.8660\n",
            "Epoch 60/100\n",
            "704/704 [==============================] - 3s 4ms/step - loss: 0.4328 - accuracy: 0.8423 - val_loss: 0.3664 - val_accuracy: 0.8662\n",
            "Epoch 61/100\n",
            "704/704 [==============================] - 3s 4ms/step - loss: 0.4369 - accuracy: 0.8428 - val_loss: 0.3752 - val_accuracy: 0.8655\n",
            "Epoch 62/100\n",
            "704/704 [==============================] - 3s 4ms/step - loss: 0.4347 - accuracy: 0.8412 - val_loss: 0.3521 - val_accuracy: 0.8714\n",
            "Epoch 63/100\n",
            "704/704 [==============================] - 3s 4ms/step - loss: 0.4321 - accuracy: 0.8430 - val_loss: 0.3669 - val_accuracy: 0.8691\n",
            "Epoch 64/100\n",
            "704/704 [==============================] - 3s 4ms/step - loss: 0.4323 - accuracy: 0.8441 - val_loss: 0.3492 - val_accuracy: 0.8720\n",
            "Epoch 65/100\n",
            "704/704 [==============================] - 3s 4ms/step - loss: 0.4264 - accuracy: 0.8436 - val_loss: 0.3601 - val_accuracy: 0.8709\n",
            "Epoch 66/100\n",
            "704/704 [==============================] - 3s 4ms/step - loss: 0.4312 - accuracy: 0.8438 - val_loss: 0.3512 - val_accuracy: 0.8691\n",
            "Epoch 67/100\n",
            "704/704 [==============================] - 3s 4ms/step - loss: 0.4300 - accuracy: 0.8426 - val_loss: 0.3599 - val_accuracy: 0.8671\n",
            "Epoch 68/100\n",
            "704/704 [==============================] - 3s 4ms/step - loss: 0.4354 - accuracy: 0.8421 - val_loss: 0.3494 - val_accuracy: 0.8721\n",
            "Epoch 69/100\n",
            "704/704 [==============================] - 3s 4ms/step - loss: 0.4317 - accuracy: 0.8415 - val_loss: 0.3673 - val_accuracy: 0.8653\n",
            "Epoch 70/100\n",
            "704/704 [==============================] - 3s 4ms/step - loss: 0.4329 - accuracy: 0.8418 - val_loss: 0.3684 - val_accuracy: 0.8687\n",
            "Epoch 71/100\n",
            "704/704 [==============================] - 3s 4ms/step - loss: 0.4280 - accuracy: 0.8448 - val_loss: 0.3704 - val_accuracy: 0.8641\n",
            "Epoch 72/100\n",
            "704/704 [==============================] - 3s 4ms/step - loss: 0.4324 - accuracy: 0.8448 - val_loss: 0.3698 - val_accuracy: 0.8647\n",
            "Epoch 73/100\n",
            "704/704 [==============================] - 3s 4ms/step - loss: 0.4254 - accuracy: 0.8438 - val_loss: 0.3544 - val_accuracy: 0.8753\n",
            "Epoch 74/100\n",
            "704/704 [==============================] - 3s 4ms/step - loss: 0.4299 - accuracy: 0.8432 - val_loss: 0.3890 - val_accuracy: 0.8606\n",
            "Epoch 75/100\n",
            "704/704 [==============================] - 3s 4ms/step - loss: 0.4343 - accuracy: 0.8415 - val_loss: 0.3764 - val_accuracy: 0.8517\n",
            "Epoch 76/100\n",
            "704/704 [==============================] - 3s 4ms/step - loss: 0.4327 - accuracy: 0.8424 - val_loss: 0.3606 - val_accuracy: 0.8697\n",
            "Epoch 77/100\n",
            "704/704 [==============================] - 3s 4ms/step - loss: 0.4275 - accuracy: 0.8449 - val_loss: 0.3492 - val_accuracy: 0.8692\n",
            "Epoch 78/100\n",
            "704/704 [==============================] - 3s 4ms/step - loss: 0.4297 - accuracy: 0.8454 - val_loss: 0.3513 - val_accuracy: 0.8722\n",
            "Epoch 79/100\n",
            "704/704 [==============================] - 3s 4ms/step - loss: 0.4272 - accuracy: 0.8444 - val_loss: 0.3565 - val_accuracy: 0.8725\n",
            "Epoch 80/100\n",
            "704/704 [==============================] - 3s 4ms/step - loss: 0.4243 - accuracy: 0.8458 - val_loss: 0.3496 - val_accuracy: 0.8724\n",
            "Epoch 81/100\n",
            "704/704 [==============================] - 3s 4ms/step - loss: 0.4238 - accuracy: 0.8428 - val_loss: 0.3580 - val_accuracy: 0.8683\n",
            "Epoch 82/100\n",
            "704/704 [==============================] - 3s 4ms/step - loss: 0.4379 - accuracy: 0.8406 - val_loss: 0.3630 - val_accuracy: 0.8659\n",
            "Epoch 83/100\n",
            "704/704 [==============================] - 3s 5ms/step - loss: 0.4275 - accuracy: 0.8444 - val_loss: 0.3635 - val_accuracy: 0.8687\n",
            "Epoch 84/100\n",
            "704/704 [==============================] - 3s 4ms/step - loss: 0.4271 - accuracy: 0.8448 - val_loss: 0.3564 - val_accuracy: 0.8672\n",
            "Epoch 85/100\n",
            "704/704 [==============================] - 3s 5ms/step - loss: 0.4299 - accuracy: 0.8457 - val_loss: 0.3660 - val_accuracy: 0.8679\n",
            "Epoch 86/100\n",
            "704/704 [==============================] - 3s 4ms/step - loss: 0.4323 - accuracy: 0.8425 - val_loss: 0.3658 - val_accuracy: 0.8679\n",
            "Epoch 87/100\n",
            "704/704 [==============================] - 3s 4ms/step - loss: 0.4271 - accuracy: 0.8452 - val_loss: 0.3458 - val_accuracy: 0.8749\n",
            "Epoch 88/100\n",
            "704/704 [==============================] - 3s 4ms/step - loss: 0.4247 - accuracy: 0.8457 - val_loss: 0.3566 - val_accuracy: 0.8726\n",
            "Epoch 89/100\n",
            "704/704 [==============================] - 3s 4ms/step - loss: 0.4300 - accuracy: 0.8425 - val_loss: 0.3635 - val_accuracy: 0.8704\n",
            "Epoch 90/100\n",
            "704/704 [==============================] - 3s 4ms/step - loss: 0.4334 - accuracy: 0.8432 - val_loss: 0.3524 - val_accuracy: 0.8681\n",
            "Epoch 91/100\n",
            "704/704 [==============================] - 3s 4ms/step - loss: 0.4295 - accuracy: 0.8444 - val_loss: 0.3797 - val_accuracy: 0.8635\n",
            "Epoch 92/100\n",
            "704/704 [==============================] - 3s 4ms/step - loss: 0.4277 - accuracy: 0.8459 - val_loss: 0.3581 - val_accuracy: 0.8667\n",
            "Epoch 93/100\n",
            "704/704 [==============================] - 3s 5ms/step - loss: 0.4322 - accuracy: 0.8451 - val_loss: 0.3516 - val_accuracy: 0.8726\n",
            "Epoch 94/100\n",
            "704/704 [==============================] - 3s 4ms/step - loss: 0.4218 - accuracy: 0.8477 - val_loss: 0.3545 - val_accuracy: 0.8686\n",
            "Epoch 95/100\n",
            "704/704 [==============================] - 3s 4ms/step - loss: 0.4325 - accuracy: 0.8442 - val_loss: 0.3521 - val_accuracy: 0.8727\n",
            "Epoch 96/100\n",
            "704/704 [==============================] - 3s 4ms/step - loss: 0.4323 - accuracy: 0.8437 - val_loss: 0.3646 - val_accuracy: 0.8650\n",
            "Epoch 97/100\n",
            "704/704 [==============================] - 3s 4ms/step - loss: 0.4294 - accuracy: 0.8450 - val_loss: 0.3729 - val_accuracy: 0.8677\n",
            "Epoch 98/100\n",
            "704/704 [==============================] - 3s 4ms/step - loss: 0.4312 - accuracy: 0.8442 - val_loss: 0.3750 - val_accuracy: 0.8599\n",
            "Epoch 99/100\n",
            "704/704 [==============================] - 3s 4ms/step - loss: 0.4307 - accuracy: 0.8447 - val_loss: 0.3620 - val_accuracy: 0.8676\n",
            "Epoch 100/100\n",
            "704/704 [==============================] - 3s 4ms/step - loss: 0.4280 - accuracy: 0.8451 - val_loss: 0.3623 - val_accuracy: 0.8672\n"
          ],
          "name": "stdout"
        },
        {
          "output_type": "execute_result",
          "data": {
            "text/plain": [
              "<tensorflow.python.keras.callbacks.History at 0x7fd85c5a5e80>"
            ]
          },
          "metadata": {
            "tags": []
          },
          "execution_count": 20
        }
      ]
    },
    {
      "cell_type": "code",
      "metadata": {
        "id": "UCsGNtv6Yjil",
        "outputId": "3407996b-411d-4f4c-f193-569eaa4d710b",
        "colab": {
          "base_uri": "https://localhost:8080/"
        }
      },
      "source": [
        "# evaluate the model\n",
        "scores = model.evaluate(y_train, y_valid, verbose=0)\n",
        "print(\"%s: %.2f%%\" % (model.metrics_names[1], scores[1]*100))"
      ],
      "execution_count": null,
      "outputs": [
        {
          "output_type": "stream",
          "text": [
            "accuracy: 86.72%\n"
          ],
          "name": "stdout"
        }
      ]
    },
    {
      "cell_type": "code",
      "metadata": {
        "id": "muaiCU09ZgMY",
        "outputId": "1d8b3ad3-052f-4168-e3eb-b1ac054bcb89",
        "colab": {
          "base_uri": "https://localhost:8080/"
        }
      },
      "source": [
        "model.save(\"my_model\")"
      ],
      "execution_count": null,
      "outputs": [
        {
          "output_type": "stream",
          "text": [
            "WARNING:tensorflow:From /usr/local/lib/python3.6/dist-packages/tensorflow/python/training/tracking/tracking.py:111: Model.state_updates (from tensorflow.python.keras.engine.training) is deprecated and will be removed in a future version.\n",
            "Instructions for updating:\n",
            "This property should not be used in TensorFlow 2.0, as updates are applied automatically.\n",
            "WARNING:tensorflow:From /usr/local/lib/python3.6/dist-packages/tensorflow/python/training/tracking/tracking.py:111: Layer.updates (from tensorflow.python.keras.engine.base_layer) is deprecated and will be removed in a future version.\n",
            "Instructions for updating:\n",
            "This property should not be used in TensorFlow 2.0, as updates are applied automatically.\n",
            "INFO:tensorflow:Assets written to: my_model/assets\n"
          ],
          "name": "stdout"
        }
      ]
    },
    {
      "cell_type": "code",
      "metadata": {
        "id": "AXEGiBKhWPrZ"
      },
      "source": [
        "model.save_weights('cnn.h5')"
      ],
      "execution_count": null,
      "outputs": []
    },
    {
      "cell_type": "markdown",
      "metadata": {
        "id": "qK2xWdao0uvV"
      },
      "source": [
        "Using the trained model to make predictions: Passing an array of inputs to predict() and it returns an array of outputs. The output of our network is 10 probabilities (because of softmax), so I’ll use np.argmax() to turn those into actual digits."
      ]
    },
    {
      "cell_type": "code",
      "metadata": {
        "id": "Ke4m2sgGWPpB"
      },
      "source": [
        "predictions = model.predict(test_images[155:166])\n",
        "\n",
        "# Print our model's predictions.\n",
        "print('Model Predictions: \\t', np.argmax(predictions, axis=1)) \n",
        "\n",
        "# Check our predictions against the ground truths.\n",
        "print('Original Labels: ', test_labels[155:166]) "
      ],
      "execution_count": null,
      "outputs": []
    },
    {
      "cell_type": "code",
      "metadata": {
        "id": "-OCdKbeUzlaD",
        "outputId": "632c6ceb-0b52-441e-f90e-f193b1e3c725",
        "colab": {
          "base_uri": "https://localhost:8080/"
        }
      },
      "source": [
        "ls my_model"
      ],
      "execution_count": null,
      "outputs": [
        {
          "output_type": "stream",
          "text": [
            "\u001b[0m\u001b[01;34massets\u001b[0m/  saved_model.pb  \u001b[01;34mvariables\u001b[0m/\n"
          ],
          "name": "stdout"
        }
      ]
    }
  ]
}