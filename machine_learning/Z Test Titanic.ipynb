{
 "cells": [
  {
   "cell_type": "code",
   "execution_count": 1,
   "metadata": {},
   "outputs": [
    {
     "data": {
      "text/html": [
       "<div>\n",
       "<style scoped>\n",
       "    .dataframe tbody tr th:only-of-type {\n",
       "        vertical-align: middle;\n",
       "    }\n",
       "\n",
       "    .dataframe tbody tr th {\n",
       "        vertical-align: top;\n",
       "    }\n",
       "\n",
       "    .dataframe thead th {\n",
       "        text-align: right;\n",
       "    }\n",
       "</style>\n",
       "<table border=\"1\" class=\"dataframe\">\n",
       "  <thead>\n",
       "    <tr style=\"text-align: right;\">\n",
       "      <th></th>\n",
       "      <th>Name</th>\n",
       "      <th>PClass</th>\n",
       "      <th>Age</th>\n",
       "      <th>Sex</th>\n",
       "      <th>Survived</th>\n",
       "    </tr>\n",
       "  </thead>\n",
       "  <tbody>\n",
       "    <tr>\n",
       "      <th>0</th>\n",
       "      <td>Allen, Miss Elisabeth Walton</td>\n",
       "      <td>1st</td>\n",
       "      <td>29.00</td>\n",
       "      <td>female</td>\n",
       "      <td>1</td>\n",
       "    </tr>\n",
       "    <tr>\n",
       "      <th>1</th>\n",
       "      <td>Allison, Miss Helen Loraine</td>\n",
       "      <td>1st</td>\n",
       "      <td>2.00</td>\n",
       "      <td>female</td>\n",
       "      <td>0</td>\n",
       "    </tr>\n",
       "    <tr>\n",
       "      <th>2</th>\n",
       "      <td>Allison, Mr Hudson Joshua Creighton</td>\n",
       "      <td>1st</td>\n",
       "      <td>30.00</td>\n",
       "      <td>male</td>\n",
       "      <td>0</td>\n",
       "    </tr>\n",
       "    <tr>\n",
       "      <th>3</th>\n",
       "      <td>Allison, Mrs Hudson JC (Bessie Waldo Daniels)</td>\n",
       "      <td>1st</td>\n",
       "      <td>25.00</td>\n",
       "      <td>female</td>\n",
       "      <td>0</td>\n",
       "    </tr>\n",
       "    <tr>\n",
       "      <th>4</th>\n",
       "      <td>Allison, Master Hudson Trevor</td>\n",
       "      <td>1st</td>\n",
       "      <td>0.92</td>\n",
       "      <td>male</td>\n",
       "      <td>1</td>\n",
       "    </tr>\n",
       "    <tr>\n",
       "      <th>...</th>\n",
       "      <td>...</td>\n",
       "      <td>...</td>\n",
       "      <td>...</td>\n",
       "      <td>...</td>\n",
       "      <td>...</td>\n",
       "    </tr>\n",
       "    <tr>\n",
       "      <th>1308</th>\n",
       "      <td>Zakarian, Mr Artun</td>\n",
       "      <td>3rd</td>\n",
       "      <td>27.00</td>\n",
       "      <td>male</td>\n",
       "      <td>0</td>\n",
       "    </tr>\n",
       "    <tr>\n",
       "      <th>1309</th>\n",
       "      <td>Zakarian, Mr Maprieder</td>\n",
       "      <td>3rd</td>\n",
       "      <td>26.00</td>\n",
       "      <td>male</td>\n",
       "      <td>0</td>\n",
       "    </tr>\n",
       "    <tr>\n",
       "      <th>1310</th>\n",
       "      <td>Zenni, Mr Philip</td>\n",
       "      <td>3rd</td>\n",
       "      <td>22.00</td>\n",
       "      <td>male</td>\n",
       "      <td>0</td>\n",
       "    </tr>\n",
       "    <tr>\n",
       "      <th>1311</th>\n",
       "      <td>Lievens, Mr Rene</td>\n",
       "      <td>3rd</td>\n",
       "      <td>24.00</td>\n",
       "      <td>male</td>\n",
       "      <td>0</td>\n",
       "    </tr>\n",
       "    <tr>\n",
       "      <th>1312</th>\n",
       "      <td>Zimmerman, Leo</td>\n",
       "      <td>3rd</td>\n",
       "      <td>29.00</td>\n",
       "      <td>male</td>\n",
       "      <td>0</td>\n",
       "    </tr>\n",
       "  </tbody>\n",
       "</table>\n",
       "<p>1313 rows × 5 columns</p>\n",
       "</div>"
      ],
      "text/plain": [
       "                                               Name PClass    Age     Sex  \\\n",
       "0                      Allen, Miss Elisabeth Walton    1st  29.00  female   \n",
       "1                       Allison, Miss Helen Loraine    1st   2.00  female   \n",
       "2               Allison, Mr Hudson Joshua Creighton    1st  30.00    male   \n",
       "3     Allison, Mrs Hudson JC (Bessie Waldo Daniels)    1st  25.00  female   \n",
       "4                     Allison, Master Hudson Trevor    1st   0.92    male   \n",
       "...                                             ...    ...    ...     ...   \n",
       "1308                             Zakarian, Mr Artun    3rd  27.00    male   \n",
       "1309                         Zakarian, Mr Maprieder    3rd  26.00    male   \n",
       "1310                               Zenni, Mr Philip    3rd  22.00    male   \n",
       "1311                               Lievens, Mr Rene    3rd  24.00    male   \n",
       "1312                                 Zimmerman, Leo    3rd  29.00    male   \n",
       "\n",
       "      Survived  \n",
       "0            1  \n",
       "1            0  \n",
       "2            0  \n",
       "3            0  \n",
       "4            1  \n",
       "...        ...  \n",
       "1308         0  \n",
       "1309         0  \n",
       "1310         0  \n",
       "1311         0  \n",
       "1312         0  \n",
       "\n",
       "[1313 rows x 5 columns]"
      ]
     },
     "execution_count": 1,
     "metadata": {},
     "output_type": "execute_result"
    }
   ],
   "source": [
    "import pandas as pd\n",
    "\n",
    "data = pd.read_csv(\"E:/Data Science/CSV dataset/Titanic.csv\")\n",
    "data"
   ]
  },
  {
   "cell_type": "markdown",
   "metadata": {},
   "source": [
    "b. Reading rows for one column\n",
    "\n",
    "Sometimes, we may only want to fetch certain rows at once for a certain column. We use the slicing operator for this."
   ]
  },
  {
   "cell_type": "code",
   "execution_count": 2,
   "metadata": {},
   "outputs": [
    {
     "name": "stdout",
     "output_type": "stream",
     "text": [
      "0                     Allen, Miss Elisabeth Walton\n",
      "1                      Allison, Miss Helen Loraine\n",
      "2              Allison, Mr Hudson Joshua Creighton\n",
      "3    Allison, Mrs Hudson JC (Bessie Waldo Daniels)\n",
      "Name: Name, dtype: object\n"
     ]
    }
   ],
   "source": [
    "print(data[0:4]['Name'])   #Printing top 4 rows in Name column"
   ]
  },
  {
   "cell_type": "code",
   "execution_count": null,
   "metadata": {},
   "outputs": [],
   "source": []
  },
  {
   "cell_type": "markdown",
   "metadata": {},
   "source": [
    "c. Reading certain columns\n",
    "\n",
    "Now we can also fetch only certain columns. For this, we use the .loc() method for multi-axis indexing."
   ]
  },
  {
   "cell_type": "code",
   "execution_count": 6,
   "metadata": {},
   "outputs": [
    {
     "name": "stdout",
     "output_type": "stream",
     "text": [
      "                                               Name    Age\n",
      "0                      Allen, Miss Elisabeth Walton  29.00\n",
      "1                       Allison, Miss Helen Loraine   2.00\n",
      "2               Allison, Mr Hudson Joshua Creighton  30.00\n",
      "3     Allison, Mrs Hudson JC (Bessie Waldo Daniels)  25.00\n",
      "4                     Allison, Master Hudson Trevor   0.92\n",
      "...                                             ...    ...\n",
      "1308                             Zakarian, Mr Artun  27.00\n",
      "1309                         Zakarian, Mr Maprieder  26.00\n",
      "1310                               Zenni, Mr Philip  22.00\n",
      "1311                               Lievens, Mr Rene  24.00\n",
      "1312                                 Zimmerman, Leo  29.00\n",
      "\n",
      "[1313 rows x 2 columns]\n"
     ]
    }
   ],
   "source": [
    "print(data.loc[:, ['Name', 'Age']])\n"
   ]
  },
  {
   "cell_type": "code",
   "execution_count": 8,
   "metadata": {},
   "outputs": [
    {
     "name": "stdout",
     "output_type": "stream",
     "text": [
      "                                                Name    Age\n",
      "0                       Allen, Miss Elisabeth Walton  29.00\n",
      "1                        Allison, Miss Helen Loraine   2.00\n",
      "2                Allison, Mr Hudson Joshua Creighton  30.00\n",
      "3      Allison, Mrs Hudson JC (Bessie Waldo Daniels)  25.00\n",
      "4                      Allison, Master Hudson Trevor   0.92\n",
      "5                                 Anderson, Mr Harry  47.00\n",
      "6                   Andrews, Miss Kornelia Theodosia  63.00\n",
      "7                             Andrews, Mr Thomas, jr  39.00\n",
      "8       Appleton, Mrs Edward Dale (Charlotte Lamson)  58.00\n",
      "9                             Artagaveytia, Mr Ramon  71.00\n",
      "10                         Astor, Colonel John Jacob  47.00\n",
      "11  Astor, Mrs John Jacob (Madeleine Talmadge Force)  19.00\n",
      "12                      Aubert, Mrs Leontine Pauline    NaN\n",
      "13                          Barkworth, Mr Algernon H    NaN\n",
      "14                                Baumann, Mr John D    NaN\n",
      "15    Baxter, Mrs James (Helene DeLaudeniere Chaput)  50.00\n"
     ]
    }
   ],
   "source": [
    "print(data.loc[:15, ['Name', 'Age']])"
   ]
  },
  {
   "cell_type": "code",
   "execution_count": null,
   "metadata": {},
   "outputs": [],
   "source": []
  },
  {
   "cell_type": "markdown",
   "metadata": {},
   "source": [
    "d. Reading certain rows and certain columns\n",
    "\n",
    "Using the .loc() method, we can also fetch certain rows and certain columns:"
   ]
  },
  {
   "cell_type": "code",
   "execution_count": 10,
   "metadata": {},
   "outputs": [
    {
     "name": "stdout",
     "output_type": "stream",
     "text": [
      "                                            Name   Age\n",
      "1                    Allison, Miss Helen Loraine   2.0\n",
      "2            Allison, Mr Hudson Joshua Creighton  30.0\n",
      "3  Allison, Mrs Hudson JC (Bessie Waldo Daniels)  25.0\n"
     ]
    }
   ],
   "source": [
    "print(data.loc[1:3,['Name','Age']])       #particular Row and column"
   ]
  },
  {
   "cell_type": "markdown",
   "metadata": {},
   "source": [
    "Dropping Missing Values\n",
    "\n",
    "As you can see, we have no aisle number for the frozen department in our csv file."
   ]
  },
  {
   "cell_type": "code",
   "execution_count": 13,
   "metadata": {},
   "outputs": [
    {
     "data": {
      "text/plain": [
       "Name        False\n",
       "PClass       True\n",
       "Age          True\n",
       "Sex         False\n",
       "Survived    False\n",
       "dtype: bool"
      ]
     },
     "execution_count": 13,
     "metadata": {},
     "output_type": "execute_result"
    }
   ],
   "source": [
    "import pandas as pd\n",
    "pd.isnull(data).any()"
   ]
  },
  {
   "cell_type": "code",
   "execution_count": null,
   "metadata": {},
   "outputs": [],
   "source": []
  },
  {
   "cell_type": "code",
   "execution_count": 2,
   "metadata": {},
   "outputs": [
    {
     "data": {
      "text/html": [
       "<div>\n",
       "<style scoped>\n",
       "    .dataframe tbody tr th:only-of-type {\n",
       "        vertical-align: middle;\n",
       "    }\n",
       "\n",
       "    .dataframe tbody tr th {\n",
       "        vertical-align: top;\n",
       "    }\n",
       "\n",
       "    .dataframe thead th {\n",
       "        text-align: right;\n",
       "    }\n",
       "</style>\n",
       "<table border=\"1\" class=\"dataframe\">\n",
       "  <thead>\n",
       "    <tr style=\"text-align: right;\">\n",
       "      <th></th>\n",
       "      <th>PG_CGA</th>\n",
       "      <th>Year</th>\n",
       "      <th>GMAT score</th>\n",
       "      <th>UG CGPA</th>\n",
       "      <th>Number of friends</th>\n",
       "      <th>Number of classes present</th>\n",
       "      <th>Number of hours studied</th>\n",
       "      <th>Register Number</th>\n",
       "    </tr>\n",
       "  </thead>\n",
       "  <tbody>\n",
       "    <tr>\n",
       "      <th>0</th>\n",
       "      <td>7.6950</td>\n",
       "      <td>1952</td>\n",
       "      <td>605</td>\n",
       "      <td>8.535304</td>\n",
       "      <td>155</td>\n",
       "      <td>32</td>\n",
       "      <td>4.903273</td>\n",
       "      <td>12808ABC</td>\n",
       "    </tr>\n",
       "    <tr>\n",
       "      <th>1</th>\n",
       "      <td>8.2393</td>\n",
       "      <td>1953</td>\n",
       "      <td>691</td>\n",
       "      <td>8.752756</td>\n",
       "      <td>82</td>\n",
       "      <td>30</td>\n",
       "      <td>4.513093</td>\n",
       "      <td>13288ABC</td>\n",
       "    </tr>\n",
       "    <tr>\n",
       "      <th>2</th>\n",
       "      <td>7.7858</td>\n",
       "      <td>1955</td>\n",
       "      <td>507</td>\n",
       "      <td>8.651894</td>\n",
       "      <td>134</td>\n",
       "      <td>29</td>\n",
       "      <td>5.114469</td>\n",
       "      <td>3438ABC</td>\n",
       "    </tr>\n",
       "    <tr>\n",
       "      <th>3</th>\n",
       "      <td>6.9845</td>\n",
       "      <td>1957</td>\n",
       "      <td>423</td>\n",
       "      <td>8.148109</td>\n",
       "      <td>107</td>\n",
       "      <td>26</td>\n",
       "      <td>5.153673</td>\n",
       "      <td>3167ABC</td>\n",
       "    </tr>\n",
       "    <tr>\n",
       "      <th>4</th>\n",
       "      <td>6.8772</td>\n",
       "      <td>1958</td>\n",
       "      <td>584</td>\n",
       "      <td>8.519016</td>\n",
       "      <td>192</td>\n",
       "      <td>25</td>\n",
       "      <td>4.583450</td>\n",
       "      <td>2966ABC</td>\n",
       "    </tr>\n",
       "    <tr>\n",
       "      <th>...</th>\n",
       "      <td>...</td>\n",
       "      <td>...</td>\n",
       "      <td>...</td>\n",
       "      <td>...</td>\n",
       "      <td>...</td>\n",
       "      <td>...</td>\n",
       "      <td>...</td>\n",
       "      <td>...</td>\n",
       "    </tr>\n",
       "    <tr>\n",
       "      <th>145</th>\n",
       "      <td>6.0941</td>\n",
       "      <td>1974</td>\n",
       "      <td>576</td>\n",
       "      <td>7.831375</td>\n",
       "      <td>187</td>\n",
       "      <td>10</td>\n",
       "      <td>6.127504</td>\n",
       "      <td>14526ABC</td>\n",
       "    </tr>\n",
       "    <tr>\n",
       "      <th>146</th>\n",
       "      <td>7.0920</td>\n",
       "      <td>1975</td>\n",
       "      <td>574</td>\n",
       "      <td>8.611548</td>\n",
       "      <td>168</td>\n",
       "      <td>7</td>\n",
       "      <td>5.589528</td>\n",
       "      <td>2176ABC</td>\n",
       "    </tr>\n",
       "    <tr>\n",
       "      <th>147</th>\n",
       "      <td>7.0211</td>\n",
       "      <td>1976</td>\n",
       "      <td>422</td>\n",
       "      <td>8.633162</td>\n",
       "      <td>242</td>\n",
       "      <td>6</td>\n",
       "      <td>6.296413</td>\n",
       "      <td>1290ABC</td>\n",
       "    </tr>\n",
       "    <tr>\n",
       "      <th>148</th>\n",
       "      <td>6.0587</td>\n",
       "      <td>1977</td>\n",
       "      <td>824</td>\n",
       "      <td>7.757483</td>\n",
       "      <td>85</td>\n",
       "      <td>6</td>\n",
       "      <td>5.905570</td>\n",
       "      <td>14556ABC</td>\n",
       "    </tr>\n",
       "    <tr>\n",
       "      <th>149</th>\n",
       "      <td>7.1860</td>\n",
       "      <td>1978</td>\n",
       "      <td>768</td>\n",
       "      <td>7.720111</td>\n",
       "      <td>46</td>\n",
       "      <td>6</td>\n",
       "      <td>6.556109</td>\n",
       "      <td>2748ABC</td>\n",
       "    </tr>\n",
       "  </tbody>\n",
       "</table>\n",
       "<p>150 rows × 8 columns</p>\n",
       "</div>"
      ],
      "text/plain": [
       "     PG_CGA  Year  GMAT score   UG CGPA  Number of friends  \\\n",
       "0    7.6950  1952         605  8.535304                155   \n",
       "1    8.2393  1953         691  8.752756                 82   \n",
       "2    7.7858  1955         507  8.651894                134   \n",
       "3    6.9845  1957         423  8.148109                107   \n",
       "4    6.8772  1958         584  8.519016                192   \n",
       "..      ...   ...         ...       ...                ...   \n",
       "145  6.0941  1974         576  7.831375                187   \n",
       "146  7.0920  1975         574  8.611548                168   \n",
       "147  7.0211  1976         422  8.633162                242   \n",
       "148  6.0587  1977         824  7.757483                 85   \n",
       "149  7.1860  1978         768  7.720111                 46   \n",
       "\n",
       "     Number of classes present  Number of hours studied Register Number  \n",
       "0                           32                 4.903273        12808ABC  \n",
       "1                           30                 4.513093        13288ABC  \n",
       "2                           29                 5.114469         3438ABC  \n",
       "3                           26                 5.153673         3167ABC  \n",
       "4                           25                 4.583450         2966ABC  \n",
       "..                         ...                      ...             ...  \n",
       "145                         10                 6.127504        14526ABC  \n",
       "146                          7                 5.589528         2176ABC  \n",
       "147                          6                 6.296413         1290ABC  \n",
       "148                          6                 5.905570        14556ABC  \n",
       "149                          6                 6.556109         2748ABC  \n",
       "\n",
       "[150 rows x 8 columns]"
      ]
     },
     "execution_count": 2,
     "metadata": {},
     "output_type": "execute_result"
    }
   ],
   "source": [
    "import pandas as pd\n",
    "\n",
    "data = pd.read_csv(\"E:/Data Science/CSV dataset/Student_v2.csv\")\n",
    "data"
   ]
  },
  {
   "cell_type": "code",
   "execution_count": 25,
   "metadata": {},
   "outputs": [],
   "source": [
    "import numpy as np\n",
    "import matplotlib.pyplot as plt\n",
    "import seaborn as sns\n",
    "import scipy.stats as stats\n",
    "import math"
   ]
  },
  {
   "cell_type": "code",
   "execution_count": 27,
   "metadata": {},
   "outputs": [
    {
     "data": {
      "text/html": [
       "<div>\n",
       "<style scoped>\n",
       "    .dataframe tbody tr th:only-of-type {\n",
       "        vertical-align: middle;\n",
       "    }\n",
       "\n",
       "    .dataframe tbody tr th {\n",
       "        vertical-align: top;\n",
       "    }\n",
       "\n",
       "    .dataframe thead th {\n",
       "        text-align: right;\n",
       "    }\n",
       "</style>\n",
       "<table border=\"1\" class=\"dataframe\">\n",
       "  <thead>\n",
       "    <tr style=\"text-align: right;\">\n",
       "      <th></th>\n",
       "      <th>PG_CGA</th>\n",
       "      <th>Year</th>\n",
       "      <th>GMAT score</th>\n",
       "      <th>UG CGPA</th>\n",
       "      <th>Number of friends</th>\n",
       "      <th>Number of classes present</th>\n",
       "      <th>Number of hours studied</th>\n",
       "    </tr>\n",
       "  </thead>\n",
       "  <tbody>\n",
       "    <tr>\n",
       "      <th>count</th>\n",
       "      <td>150.000000</td>\n",
       "      <td>150.000000</td>\n",
       "      <td>150.000000</td>\n",
       "      <td>150.000000</td>\n",
       "      <td>150.000000</td>\n",
       "      <td>150.000000</td>\n",
       "      <td>150.000000</td>\n",
       "    </tr>\n",
       "    <tr>\n",
       "      <th>mean</th>\n",
       "      <td>7.077224</td>\n",
       "      <td>1965.800000</td>\n",
       "      <td>608.133333</td>\n",
       "      <td>8.284005</td>\n",
       "      <td>148.186667</td>\n",
       "      <td>17.240000</td>\n",
       "      <td>5.491061</td>\n",
       "    </tr>\n",
       "    <tr>\n",
       "      <th>std</th>\n",
       "      <td>0.679552</td>\n",
       "      <td>7.561826</td>\n",
       "      <td>129.886459</td>\n",
       "      <td>0.450615</td>\n",
       "      <td>73.520703</td>\n",
       "      <td>7.640127</td>\n",
       "      <td>0.482024</td>\n",
       "    </tr>\n",
       "    <tr>\n",
       "      <th>min</th>\n",
       "      <td>6.043500</td>\n",
       "      <td>1952.000000</td>\n",
       "      <td>377.000000</td>\n",
       "      <td>7.017811</td>\n",
       "      <td>33.000000</td>\n",
       "      <td>4.000000</td>\n",
       "      <td>4.344806</td>\n",
       "    </tr>\n",
       "    <tr>\n",
       "      <th>25%</th>\n",
       "      <td>6.518700</td>\n",
       "      <td>1960.000000</td>\n",
       "      <td>538.250000</td>\n",
       "      <td>7.956388</td>\n",
       "      <td>89.500000</td>\n",
       "      <td>10.250000</td>\n",
       "      <td>5.203779</td>\n",
       "    </tr>\n",
       "    <tr>\n",
       "      <th>50%</th>\n",
       "      <td>7.021100</td>\n",
       "      <td>1966.000000</td>\n",
       "      <td>602.500000</td>\n",
       "      <td>8.297489</td>\n",
       "      <td>129.500000</td>\n",
       "      <td>16.500000</td>\n",
       "      <td>5.493907</td>\n",
       "    </tr>\n",
       "    <tr>\n",
       "      <th>75%</th>\n",
       "      <td>7.531975</td>\n",
       "      <td>1972.000000</td>\n",
       "      <td>700.750000</td>\n",
       "      <td>8.612294</td>\n",
       "      <td>187.000000</td>\n",
       "      <td>23.000000</td>\n",
       "      <td>5.870920</td>\n",
       "    </tr>\n",
       "    <tr>\n",
       "      <th>max</th>\n",
       "      <td>8.693700</td>\n",
       "      <td>1978.000000</td>\n",
       "      <td>833.000000</td>\n",
       "      <td>9.151705</td>\n",
       "      <td>295.000000</td>\n",
       "      <td>32.000000</td>\n",
       "      <td>6.556109</td>\n",
       "    </tr>\n",
       "  </tbody>\n",
       "</table>\n",
       "</div>"
      ],
      "text/plain": [
       "           PG_CGA         Year  GMAT score     UG CGPA  Number of friends  \\\n",
       "count  150.000000   150.000000  150.000000  150.000000         150.000000   \n",
       "mean     7.077224  1965.800000  608.133333    8.284005         148.186667   \n",
       "std      0.679552     7.561826  129.886459    0.450615          73.520703   \n",
       "min      6.043500  1952.000000  377.000000    7.017811          33.000000   \n",
       "25%      6.518700  1960.000000  538.250000    7.956388          89.500000   \n",
       "50%      7.021100  1966.000000  602.500000    8.297489         129.500000   \n",
       "75%      7.531975  1972.000000  700.750000    8.612294         187.000000   \n",
       "max      8.693700  1978.000000  833.000000    9.151705         295.000000   \n",
       "\n",
       "       Number of classes present  Number of hours studied  \n",
       "count                 150.000000               150.000000  \n",
       "mean                   17.240000                 5.491061  \n",
       "std                     7.640127                 0.482024  \n",
       "min                     4.000000                 4.344806  \n",
       "25%                    10.250000                 5.203779  \n",
       "50%                    16.500000                 5.493907  \n",
       "75%                    23.000000                 5.870920  \n",
       "max                    32.000000                 6.556109  "
      ]
     },
     "execution_count": 27,
     "metadata": {},
     "output_type": "execute_result"
    }
   ],
   "source": [
    "data.describe()"
   ]
  },
  {
   "cell_type": "code",
   "execution_count": 28,
   "metadata": {},
   "outputs": [
    {
     "name": "stdout",
     "output_type": "stream",
     "text": [
      "Year\n",
      "1952    6\n",
      "1953    6\n",
      "1955    6\n",
      "1957    6\n",
      "1958    6\n",
      "1959    6\n",
      "1960    6\n",
      "1961    6\n",
      "1962    6\n",
      "1963    6\n",
      "1964    6\n",
      "1965    6\n",
      "1966    6\n",
      "1967    6\n",
      "1968    6\n",
      "1969    6\n",
      "1970    6\n",
      "1971    6\n",
      "1972    6\n",
      "1973    6\n",
      "1974    6\n",
      "1975    6\n",
      "1976    6\n",
      "1977    6\n",
      "1978    6\n",
      "dtype: int64\n"
     ]
    }
   ],
   "source": [
    "count_class = data.groupby('Year').size()    ## to count similar entries in particular column\n",
    "print(count_class)"
   ]
  },
  {
   "cell_type": "code",
   "execution_count": 30,
   "metadata": {},
   "outputs": [
    {
     "name": "stdout",
     "output_type": "stream",
     "text": [
      "                             PG_CGA      Year  GMAT score   UG CGPA  \\\n",
      "PG_CGA                     1.000000 -0.428453    0.149223  0.442718   \n",
      "Year                      -0.428453  1.000000    0.017090 -0.174904   \n",
      "GMAT score                 0.149223  0.017090    1.000000 -0.328864   \n",
      "UG CGPA                    0.442718 -0.174904   -0.328864  1.000000   \n",
      "Number of friends         -0.553956  0.022377   -0.279612 -0.036063   \n",
      "Number of classes present  0.430445 -0.994839   -0.023920  0.171602   \n",
      "Number of hours studied   -0.304735  0.815542    0.033556 -0.133189   \n",
      "\n",
      "                           Number of friends  Number of classes present  \\\n",
      "PG_CGA                             -0.553956                   0.430445   \n",
      "Year                                0.022377                  -0.994839   \n",
      "GMAT score                         -0.279612                  -0.023920   \n",
      "UG CGPA                            -0.036063                   0.171602   \n",
      "Number of friends                   1.000000                  -0.022208   \n",
      "Number of classes present          -0.022208                   1.000000   \n",
      "Number of hours studied            -0.019722                  -0.813474   \n",
      "\n",
      "                           Number of hours studied  \n",
      "PG_CGA                                   -0.304735  \n",
      "Year                                      0.815542  \n",
      "GMAT score                                0.033556  \n",
      "UG CGPA                                  -0.133189  \n",
      "Number of friends                        -0.019722  \n",
      "Number of classes present                -0.813474  \n",
      "Number of hours studied                   1.000000  \n"
     ]
    }
   ],
   "source": [
    "correlations = data.corr(method = 'pearson')\n",
    "print(correlations)"
   ]
  },
  {
   "cell_type": "code",
   "execution_count": 31,
   "metadata": {},
   "outputs": [
    {
     "name": "stdout",
     "output_type": "stream",
     "text": [
      "PG_CGA                       0.356808\n",
      "Year                        -0.128443\n",
      "GMAT score                   0.092092\n",
      "UG CGPA                     -0.212111\n",
      "Number of friends            0.504174\n",
      "Number of classes present    0.129034\n",
      "Number of hours studied     -0.157804\n",
      "dtype: float64\n"
     ]
    }
   ],
   "source": [
    "print(data.skew())  ## to check skewness of the data"
   ]
  },
  {
   "cell_type": "markdown",
   "metadata": {},
   "source": [
    "Plotting the data in various graphs "
   ]
  },
  {
   "cell_type": "code",
   "execution_count": 38,
   "metadata": {},
   "outputs": [
    {
     "data": {
      "image/png": "[encoded data removed]",
      "text/plain": [
       "<Figure size 432x288 with 1 Axes>"
      ]
     },
     "metadata": {
      "needs_background": "light"
     },
     "output_type": "display_data"
    }
   ],
   "source": [
    "from matplotlib import pyplot\n",
    "\n",
    "\n",
    "data.plot('PG_CGA', 'Year')\n",
    "plt.ylabel(\"GMAT Score\")\n",
    "plt.title(\"Graph\")\n",
    "plt.show()"
   ]
  },
  {
   "cell_type": "markdown",
   "metadata": {},
   "source": [
    "One Sample t-test"
   ]
  },
  {
   "cell_type": "code",
   "execution_count": 19,
   "metadata": {},
   "outputs": [
    {
     "name": "stdout",
     "output_type": "stream",
     "text": [
      "\n",
      "Mean:\n",
      " PG_CGA                          7.077224\n",
      "Year                         1965.800000\n",
      "GMAT score                    608.133333\n",
      "UG CGPA                         8.284005\n",
      "Number of friends             148.186667\n",
      "Number of classes present      17.240000\n",
      "Number of hours studied         5.491061\n",
      "dtype: float64\n",
      "\n",
      " P-Value is::  0.2112446952027342\n",
      "\n",
      "We are accepting the null hypothesis\n"
     ]
    }
   ],
   "source": [
    "import numpy as np\n",
    "from scipy.stats import ttest_1samp\n",
    "\n",
    "data_mean = np.mean(data)\n",
    "print('\\nMean:\\n', data_mean)\n",
    "\n",
    "tset, pval = ttest_1samp(data_mean, 10)\n",
    "print(\"\\n P-Value is:: \", pval)\n",
    "\n",
    "if pval < 0.05:\n",
    "    print(\"\\nWe are not accepting the null hypothesis\")\n",
    "elif pval > 0.05:\n",
    "    print(\"\\nWe are accepting the null hypothesis\")\n",
    "    "
   ]
  },
  {
   "cell_type": "markdown",
   "metadata": {},
   "source": [
    "Two sampled T-test "
   ]
  },
  {
   "cell_type": "code",
   "execution_count": 35,
   "metadata": {},
   "outputs": [
    {
     "name": "stdout",
     "output_type": "stream",
     "text": [
      "\n",
      "CGPA mean is: 8.284004619353338\n",
      "\n",
      "GMAT mean is: 608.1333333333333\n",
      "\n",
      "CGPA Standard deviaton is: 0.45061517091966274\n",
      "\n",
      "GMAT Standard deviaton is: 129.886458763115\n",
      "\n",
      "P Value is::  nan\n"
     ]
    }
   ],
   "source": [
    "from scipy.stats import ttest_ind\n",
    "\n",
    "cgpa_mean = data['UG CGPA'].mean()\n",
    "gmat_mean = data['GMAT score'].mean()\n",
    "print(\"\\nCGPA mean is:\", cgpa_mean)\n",
    "print(\"\\nGMAT mean is:\", gmat_mean)\n",
    "\n",
    "cgpa_std = data['UG CGPA'].std()\n",
    "gmat_std = data['GMAT score'].std()\n",
    "\n",
    "print(\"\\nCGPA Standard deviaton is:\", cgpa_std)\n",
    "print(\"\\nGMAT Standard deviaton is:\", gmat_std)\n",
    "\n",
    "df = \n",
    "ttest, pval = ttest_ind(gmat_std, cgpa_std)\n",
    "print(\"\\nP Value is:: \", pval)"
   ]
  },
  {
   "cell_type": "code",
   "execution_count": null,
   "metadata": {},
   "outputs": [],
   "source": []
  },
  {
   "cell_type": "markdown",
   "metadata": {},
   "source": [
    "When you can run a Z Test.\n",
    "\n",
    "Several different types of tests are used in statistics (i.e. f test, chi square test, t test). You would use a Z test if:\n",
    "\n",
    "Your sample size is greater than 30. Otherwise, use a t test.\n",
    "Data points should be independent from each other. In other words, one data point isn’t related or doesn’t affect another data point.\n",
    "Your data should be normally distributed. However, for large sample sizes (over 30) this doesn’t always matter.\n",
    "Your data should be randomly selected from a population, where each item has an equal chance of being selected.\n",
    "Sample sizes should be equal if at all possible."
   ]
  },
  {
   "cell_type": "code",
   "execution_count": 40,
   "metadata": {},
   "outputs": [
    {
     "name": "stdout",
     "output_type": "stream",
     "text": [
      "0.0\n"
     ]
    }
   ],
   "source": [
    "import pandas as pd\n",
    "from scipy import stats\n",
    "from statsmodels.stats import weightstats as stests\n",
    "\n",
    "ztest, pval = stests.ztest(data['UG CGPA'], x2 = None, value = 10)\n",
    "print(float(pval))"
   ]
  },
  {
   "cell_type": "markdown",
   "metadata": {},
   "source": [
    "ANOVA (F-TEST) :- The t-test works well when dealing with two groups, but sometimes we want to compare more than two groups at the same time. For example, if we wanted to test whether voter age differs based on some categorical variable like race, we have to compare the means of each level or group the variable. We could carry out a separate t-test for each pair of groups, but when you conduct many tests you increase the chances of false positives. The analysis of variance or ANOVA is a statistical inference test that lets you compare multiple groups at the same time."
   ]
  },
  {
   "cell_type": "code",
   "execution_count": null,
   "metadata": {},
   "outputs": [],
   "source": [
    "data = pd.read_csv(\"E:/Data Science/CSV dataset/Student_v2.csv\")\n",
    "data_anova = data.anova[['Year', 'GMAT score']]\n",
    "group = data.unique(data_anova.group.values)"
   ]
  }
 ],
 "metadata": {
  "kernelspec": {
   "display_name": "Python 3",
   "language": "python",
   "name": "python3"
  },
  "language_info": {
   "codemirror_mode": {
    "name": "ipython",
    "version": 3
   },
   "file_extension": ".py",
   "mimetype": "text/x-python",
   "name": "python",
   "nbconvert_exporter": "python",
   "pygments_lexer": "ipython3",
   "version": "3.7.6"
  }
 },
 "nbformat": 4,
 "nbformat_minor": 4
}
