{
 "cells": [
  {
   "cell_type": "code",
   "execution_count": 64,
   "metadata": {},
   "outputs": [],
   "source": [
    "text = 'The forward airbase near the India-China border is abuzz with activity. \\\n",
    "Russian-origin Su-30MKIs and the MiG-29s and other aircraft are seen constantly flying in \\\n",
    "and out as the Indian Air Force brings in journalists to demonstrate their preparedness.'"
   ]
  },
  {
   "cell_type": "code",
   "execution_count": 69,
   "metadata": {},
   "outputs": [
    {
     "name": "stdout",
     "output_type": "stream",
     "text": [
      "['The', 'forward', 'airbase', 'near', 'the', 'India-China', 'border', 'is', 'abuzz', 'with', 'activity', '.', 'Russian-origin', 'Su-30MKIs', 'and', 'the', 'MiG-29s', 'and', 'other', 'aircraft', 'are', 'seen', 'constantly', 'flying', 'in', 'and', 'out', 'as', 'the', 'Indian', 'Air', 'Force', 'brings', 'in', 'journalists', 'to', 'demonstrate', 'their', 'preparedness', '.'] \n",
      "\n",
      "********************************************************************************\n",
      "The forward airbase near the India-China border is abuzz with activity . Russian-origin Su-30MKIs and the MiG-29s and other aircraft are seen constantly flying in and out as the Indian Air Force brings in journalists to demonstrate their preparedness .\n"
     ]
    }
   ],
   "source": [
    "from nltk.tokenize import word_tokenize\n",
    "\n",
    "token = word_tokenize(text)\n",
    "print(token,'\\n')                # separate tokens\n",
    "print('*' * 80)\n",
    "print(' '.join(token))           # Joined tokens"
   ]
  },
  {
   "cell_type": "code",
   "execution_count": 3,
   "metadata": {},
   "outputs": [
    {
     "name": "stdout",
     "output_type": "stream",
     "text": [
      "['i', 'me', 'my', 'myself', 'we', 'our', 'ours', 'ourselves', 'you', \"you're\", \"you've\", \"you'll\", \"you'd\", 'your', 'yours', 'yourself', 'yourselves', 'he', 'him', 'his', 'himself', 'she', \"she's\", 'her', 'hers', 'herself', 'it', \"it's\", 'its', 'itself', 'they', 'them', 'their', 'theirs', 'themselves', 'what', 'which', 'who', 'whom', 'this', 'that', \"that'll\", 'these', 'those', 'am', 'is', 'are', 'was', 'were', 'be', 'been', 'being', 'have', 'has', 'had', 'having', 'do', 'does', 'did', 'doing', 'a', 'an', 'the', 'and', 'but', 'if', 'or', 'because', 'as', 'until', 'while', 'of', 'at', 'by', 'for', 'with', 'about', 'against', 'between', 'into', 'through', 'during', 'before', 'after', 'above', 'below', 'to', 'from', 'up', 'down', 'in', 'out', 'on', 'off', 'over', 'under', 'again', 'further', 'then', 'once', 'here', 'there', 'when', 'where', 'why', 'how', 'all', 'any', 'both', 'each', 'few', 'more', 'most', 'other', 'some', 'such', 'no', 'nor', 'not', 'only', 'own', 'same', 'so', 'than', 'too', 'very', 's', 't', 'can', 'will', 'just', 'don', \"don't\", 'should', \"should've\", 'now', 'd', 'll', 'm', 'o', 're', 've', 'y', 'ain', 'aren', \"aren't\", 'couldn', \"couldn't\", 'didn', \"didn't\", 'doesn', \"doesn't\", 'hadn', \"hadn't\", 'hasn', \"hasn't\", 'haven', \"haven't\", 'isn', \"isn't\", 'ma', 'mightn', \"mightn't\", 'mustn', \"mustn't\", 'needn', \"needn't\", 'shan', \"shan't\", 'shouldn', \"shouldn't\", 'wasn', \"wasn't\", 'weren', \"weren't\", 'won', \"won't\", 'wouldn', \"wouldn't\"]\n"
     ]
    }
   ],
   "source": [
    "import nltk\n",
    "stopwords = nltk.corpus.stopwords.words('english')\n",
    "print(stopwords)"
   ]
  },
  {
   "cell_type": "code",
   "execution_count": 4,
   "metadata": {},
   "outputs": [
    {
     "name": "stdout",
     "output_type": "stream",
     "text": [
      "['The', 'forward', 'airbase', 'near', 'India-China', 'border', 'abuzz', 'activity', '.', 'Russian-origin', 'Su-30MKIs', 'MiG-29s', 'aircraft', 'seen', 'constantly', 'flying', 'Indian', 'Air', 'Force', 'brings', 'journalists', 'demonstrate', 'preparedness', '.']\n"
     ]
    }
   ],
   "source": [
    "# Removing the stopwords\n",
    "\n",
    "newtoken = []\n",
    "for word in token:\n",
    "    if word not in stopwords:\n",
    "        newtoken.append(word)\n",
    "print(newtoken)"
   ]
  },
  {
   "cell_type": "code",
   "execution_count": 5,
   "metadata": {},
   "outputs": [
    {
     "name": "stdout",
     "output_type": "stream",
     "text": [
      "24\n"
     ]
    }
   ],
   "source": [
    "print(len(newtoken))"
   ]
  },
  {
   "cell_type": "code",
   "execution_count": 73,
   "metadata": {},
   "outputs": [
    {
     "name": "stdout",
     "output_type": "stream",
     "text": [
      "Output after Lemmatization:: \n",
      "\n",
      " The forward airbase near the India-China border is abuzz with activity . Russian-origin Su-30MKIs and the MiG-29s and other aircraft are seen constantly flying in and out a the Indian Air Force brings in journalist to demonstrate their preparedness .\n"
     ]
    }
   ],
   "source": [
    "from nltk.stem import WordNetLemmatizer\n",
    "\n",
    "lem = WordNetLemmatizer()\n",
    "tokens = [lem.lemmatize(word) for word in token]\n",
    "print('Output after Lemmatization:: \\n\\n', ' '.join(tokens))"
   ]
  },
  {
   "cell_type": "code",
   "execution_count": 74,
   "metadata": {},
   "outputs": [
    {
     "name": "stdout",
     "output_type": "stream",
     "text": [
      "Output after Porter Lemmatization:: \n",
      "\n",
      " the forward airbas near the india-china border is abuzz with activ . russian-origin su-30mki and the mig-29 and other aircraft are seen constantli fli in and out as the indian air forc bring in journalist to demonstr their prepared .\n"
     ]
    }
   ],
   "source": [
    "from nltk.stem import PorterStemmer\n",
    "from nltk.tokenize import word_tokenize\n",
    "\n",
    "ps = PorterStemmer()\n",
    "tokens = [ps.stem(word) for word in token]\n",
    "print('Output after Porter Lemmatization:: \\n\\n', ' '.join(tokens))"
   ]
  },
  {
   "cell_type": "code",
   "execution_count": 79,
   "metadata": {},
   "outputs": [
    {
     "name": "stdout",
     "output_type": "stream",
     "text": [
      "Output after Part-of-Speech tagging of individual token:: \n",
      "\n",
      " [[('the', 'DT')], [('forward', 'RB')], [('airbas', 'NN')], [('near', 'IN')], [('the', 'DT')], [('india-china', 'NN')], [('border', 'NN')], [('is', 'VBZ')], [('abuzz', 'NN')], [('with', 'IN')], [('activ', 'NN')], [('.', '.')], [('russian-origin', 'NN')], [('su-30mki', 'NN')], [('and', 'CC')], [('the', 'DT')], [('mig-29', 'NN')], [('and', 'CC')], [('other', 'JJ')], [('aircraft', 'NN')], [('are', 'VBP')], [('seen', 'VBN')], [('constantli', 'NN')], [('fli', 'NN')], [('in', 'IN')], [('and', 'CC')], [('out', 'IN')], [('as', 'IN')], [('the', 'DT')], [('indian', 'JJ')], [('air', 'NN')], [('forc', 'NN')], [('bring', 'NN')], [('in', 'IN')], [('journalist', 'NN')], [('to', 'TO')], [('demonstr', 'NN')], [('their', 'PRP$')], [('prepared', 'JJ')], [('.', '.')]]\n"
     ]
    }
   ],
   "source": [
    "tags = [nltk.pos_tag([word]) for word in tokens]\n",
    "print('Output after Part-of-Speech tagging of individual token:: \\n\\n', tags)"
   ]
  },
  {
   "cell_type": "code",
   "execution_count": 9,
   "metadata": {},
   "outputs": [
    {
     "data": {
      "text/plain": [
       "[('beautiful', 'NN')]"
      ]
     },
     "execution_count": 9,
     "metadata": {},
     "output_type": "execute_result"
    }
   ],
   "source": [
    "nltk.pos_tag([\"beautiful\"])"
   ]
  },
  {
   "cell_type": "code",
   "execution_count": 10,
   "metadata": {},
   "outputs": [
    {
     "data": {
      "text/plain": [
       "Sentiment(polarity=0.5, subjectivity=0.6)"
      ]
     },
     "execution_count": 10,
     "metadata": {},
     "output_type": "execute_result"
    }
   ],
   "source": [
    "# To get the sentiment of the tokens/sentence\n",
    "\n",
    "from textblob import TextBlob\n",
    "TextBlob(\"I love pizza\").sentiment"
   ]
  },
  {
   "cell_type": "code",
   "execution_count": 11,
   "metadata": {},
   "outputs": [
    {
     "data": {
      "text/plain": [
       "Sentiment(polarity=1.0, subjectivity=1.0)"
      ]
     },
     "execution_count": 11,
     "metadata": {},
     "output_type": "execute_result"
    }
   ],
   "source": [
    "TextBlob(\"The weather is excellent\").sentiment"
   ]
  },
  {
   "cell_type": "code",
   "execution_count": 12,
   "metadata": {},
   "outputs": [],
   "source": [
    "from textblob import TextBlob"
   ]
  },
  {
   "cell_type": "code",
   "execution_count": 13,
   "metadata": {},
   "outputs": [
    {
     "name": "stdout",
     "output_type": "stream",
     "text": [
      "Qui savait que la traduction pouvait être amusante\n",
      "谁知道翻译会很有趣\n",
      "कौन जानता था कि अनुवाद मज़ेदार हो सकता है\n"
     ]
    }
   ],
   "source": [
    "languages = ['fr','zh-CN','hi']\n",
    "for language in languages:\n",
    "    print(TextBlob(\"Who knew translation could be fun\").translate(to=language))"
   ]
  },
  {
   "cell_type": "code",
   "execution_count": 14,
   "metadata": {},
   "outputs": [],
   "source": [
    "text = 'The forward airbase near the India-China border is abuzz with activity. \\\n",
    "Russian-origin Su-30MKIs and the MiG-29s and other aircraft are seen constantly flying in \\\n",
    "and out as the Indian Air Force brings in journalists to demonstrate their preparedness.'"
   ]
  },
  {
   "cell_type": "code",
   "execution_count": 15,
   "metadata": {},
   "outputs": [
    {
     "data": {
      "text/plain": [
       "TextBlob(\"भारत-चीन सीमा के पास आगे एयरबेस गतिविधि के साथ घिनौना है। रूसी मूल के एसयू -30 एमकेआई और मिग -29 और अन्य विमान भारतीय वायु सेना के पत्रकारों को अपनी तैयारियों को प्रदर्शित करने के लिए लगातार अंदर और बाहर उड़ते हुए दिखाई देते हैं।\")"
      ]
     },
     "execution_count": 15,
     "metadata": {},
     "output_type": "execute_result"
    }
   ],
   "source": [
    "\n",
    "TextBlob(text).translate(to = 'hi')"
   ]
  },
  {
   "cell_type": "code",
   "execution_count": 16,
   "metadata": {},
   "outputs": [
    {
     "data": {
      "text/plain": [
       "[('The', 'DT'),\n",
       " ('global', 'JJ'),\n",
       " ('economy', 'NN'),\n",
       " ('is', 'VBZ'),\n",
       " ('expected', 'VBN'),\n",
       " ('to', 'TO'),\n",
       " ('grow', 'VB'),\n",
       " ('this', 'DT'),\n",
       " ('year', 'NN')]"
      ]
     },
     "execution_count": 16,
     "metadata": {},
     "output_type": "execute_result"
    }
   ],
   "source": [
    "TextBlob(\"The global economy is expected to grow this year\").tags"
   ]
  },
  {
   "cell_type": "code",
   "execution_count": 17,
   "metadata": {},
   "outputs": [
    {
     "data": {
      "text/plain": [
       "<generator object <genexpr> at 0x0000021E16C2A948>"
      ]
     },
     "execution_count": 17,
     "metadata": {},
     "output_type": "execute_result"
    }
   ],
   "source": [
    "(TextBlob(word).tags for word in token)"
   ]
  },
  {
   "cell_type": "code",
   "execution_count": 18,
   "metadata": {},
   "outputs": [
    {
     "data": {
      "text/plain": [
       "{'neg': 0.0, 'neu': 0.556, 'pos': 0.444, 'compound': 0.4927}"
      ]
     },
     "execution_count": 18,
     "metadata": {},
     "output_type": "execute_result"
    }
   ],
   "source": [
    "from vaderSentiment.vaderSentiment import SentimentIntensityAnalyzer\n",
    "analyser = SentimentIntensityAnalyzer()\n",
    "\n",
    "analyser.polarity_scores(\"This book is very good\")"
   ]
  },
  {
   "cell_type": "code",
   "execution_count": 19,
   "metadata": {
    "collapsed": true,
    "jupyter": {
     "outputs_hidden": true
    }
   },
   "outputs": [
    {
     "name": "stdout",
     "output_type": "stream",
     "text": [
      "{'neg': 0.0, 'neu': 1.0, 'pos': 0.0, 'compound': 0.0}\n",
      "{'neg': 0.0, 'neu': 1.0, 'pos': 0.0, 'compound': 0.0}\n",
      "{'neg': 0.0, 'neu': 1.0, 'pos': 0.0, 'compound': 0.0}\n",
      "{'neg': 0.0, 'neu': 1.0, 'pos': 0.0, 'compound': 0.0}\n",
      "{'neg': 0.0, 'neu': 1.0, 'pos': 0.0, 'compound': 0.0}\n",
      "{'neg': 0.0, 'neu': 1.0, 'pos': 0.0, 'compound': 0.0}\n",
      "{'neg': 0.0, 'neu': 1.0, 'pos': 0.0, 'compound': 0.0}\n",
      "{'neg': 0.0, 'neu': 1.0, 'pos': 0.0, 'compound': 0.0}\n",
      "{'neg': 0.0, 'neu': 1.0, 'pos': 0.0, 'compound': 0.0}\n",
      "{'neg': 0.0, 'neu': 1.0, 'pos': 0.0, 'compound': 0.0}\n",
      "{'neg': 0.0, 'neu': 1.0, 'pos': 0.0, 'compound': 0.0}\n",
      "{'neg': 0.0, 'neu': 1.0, 'pos': 0.0, 'compound': 0.0}\n",
      "{'neg': 0.0, 'neu': 1.0, 'pos': 0.0, 'compound': 0.0}\n",
      "{'neg': 0.0, 'neu': 1.0, 'pos': 0.0, 'compound': 0.0}\n",
      "{'neg': 0.0, 'neu': 1.0, 'pos': 0.0, 'compound': 0.0}\n",
      "{'neg': 0.0, 'neu': 1.0, 'pos': 0.0, 'compound': 0.0}\n",
      "{'neg': 0.0, 'neu': 1.0, 'pos': 0.0, 'compound': 0.0}\n",
      "{'neg': 0.0, 'neu': 1.0, 'pos': 0.0, 'compound': 0.0}\n",
      "{'neg': 0.0, 'neu': 1.0, 'pos': 0.0, 'compound': 0.0}\n",
      "{'neg': 0.0, 'neu': 1.0, 'pos': 0.0, 'compound': 0.0}\n",
      "{'neg': 0.0, 'neu': 1.0, 'pos': 0.0, 'compound': 0.0}\n",
      "{'neg': 0.0, 'neu': 1.0, 'pos': 0.0, 'compound': 0.0}\n",
      "{'neg': 0.0, 'neu': 1.0, 'pos': 0.0, 'compound': 0.0}\n",
      "{'neg': 0.0, 'neu': 1.0, 'pos': 0.0, 'compound': 0.0}\n",
      "{'neg': 0.0, 'neu': 1.0, 'pos': 0.0, 'compound': 0.0}\n",
      "{'neg': 0.0, 'neu': 1.0, 'pos': 0.0, 'compound': 0.0}\n",
      "{'neg': 0.0, 'neu': 1.0, 'pos': 0.0, 'compound': 0.0}\n",
      "{'neg': 0.0, 'neu': 1.0, 'pos': 0.0, 'compound': 0.0}\n",
      "{'neg': 0.0, 'neu': 1.0, 'pos': 0.0, 'compound': 0.0}\n",
      "{'neg': 0.0, 'neu': 1.0, 'pos': 0.0, 'compound': 0.0}\n",
      "{'neg': 0.0, 'neu': 1.0, 'pos': 0.0, 'compound': 0.0}\n",
      "{'neg': 0.0, 'neu': 1.0, 'pos': 0.0, 'compound': 0.0}\n",
      "{'neg': 0.0, 'neu': 1.0, 'pos': 0.0, 'compound': 0.0}\n",
      "{'neg': 0.0, 'neu': 1.0, 'pos': 0.0, 'compound': 0.0}\n",
      "{'neg': 0.0, 'neu': 1.0, 'pos': 0.0, 'compound': 0.0}\n",
      "{'neg': 0.0, 'neu': 1.0, 'pos': 0.0, 'compound': 0.0}\n",
      "{'neg': 0.0, 'neu': 1.0, 'pos': 0.0, 'compound': 0.0}\n",
      "{'neg': 0.0, 'neu': 1.0, 'pos': 0.0, 'compound': 0.0}\n",
      "{'neg': 0.0, 'neu': 1.0, 'pos': 0.0, 'compound': 0.0}\n",
      "{'neg': 0.0, 'neu': 1.0, 'pos': 0.0, 'compound': 0.0}\n"
     ]
    }
   ],
   "source": [
    "for word in token:\n",
    "    print(analyser.polarity_scores(word))"
   ]
  },
  {
   "cell_type": "code",
   "execution_count": 20,
   "metadata": {},
   "outputs": [
    {
     "data": {
      "text/plain": [
       "{'neg': 0.0, 'neu': 0.855, 'pos': 0.145, 'compound': 0.1779}"
      ]
     },
     "execution_count": 20,
     "metadata": {},
     "output_type": "execute_result"
    }
   ],
   "source": [
    "analyser.polarity_scores(\"India coronavirus numbers explained: Four states growing faster than national average\")"
   ]
  },
  {
   "cell_type": "code",
   "execution_count": 21,
   "metadata": {},
   "outputs": [],
   "source": [
    "import requests\n",
    "from bs4 import BeautifulSoup\n",
    "import pandas as pd"
   ]
  },
  {
   "cell_type": "code",
   "execution_count": 22,
   "metadata": {
    "collapsed": true,
    "jupyter": {
     "outputs_hidden": true
    }
   },
   "outputs": [
    {
     "data": {
      "text/plain": [
       "'<!DOCTYPE html>\\n<html lang=\"en\">\\n\\n<head>\\n\\n    \\n    <script async src=\"https://www.googletagmanager.com/gtag/js?id=UA-66582-32\"></script>\\n    <script>\\n    window.dataLayer = window.dataLayer || [];\\n    function gtag(){dataLayer.push(arguments);}\\n    gtag(\\'js\\', new Date());\\n\\n    gtag(\\'config\\', \\'UA-66582-32\\');\\n    </script>\\n\\n    <meta charset=\"utf-8\">\\n<meta name=\"viewport\" content=\"width=device-width, initial-scale=1, shrink-to-fit=no\">\\n\\n<meta property=\"og:title\" content=\"Chris Albon\" />\\n<meta property=\"og:description\" content=\"\" />\\n<meta property=\"og:type\" content=\"website\" />\\n<meta property=\"og:url\" content=\"https://chrisalbon.com/\" />\\n\\n\\n\\n<meta property=\"og:updated_time\" content=\"2020-07-03T00:00:00&#43;00:00\"/>\\n\\n\\n\\n\\n\\n\\n\\n\\n\\n\\n<meta name=\"twitter:card\" content=\"summary\"/>\\n<meta name=\"twitter:title\" content=\"Chris Albon\"/>\\n<meta name=\"twitter:description\" content=\"\"/>\\n<meta name=\"generator\" content=\"Hugo 0.40.1\" />\\n\\n    \\n    \\n    \\n\\n    <title>Chris Albon</title>\\n\\n    \\n    <link rel=\"stylesheet\" href=\"https://maxcdn.bootstrapcdn.com/bootstrap/4.0.0-beta.2/css/bootstrap.min.css\" integrity=\"sha384-PsH8R72JQ3SOdhVi3uxftmaW6Vc51MKb0q5P2rRUpPvrszuE4W1povHYgTpBfshb\"\\n        crossorigin=\"anonymous\">\\n\\n    \\n    <link href=\"https://chrisalbon.com/css/custom.css\" rel=\"stylesheet\"> \\n    <link href=\"https://chrisalbon.com/css/syntax.css\" rel=\"stylesheet\">\\n    <link href=\"https://fonts.googleapis.com/css?family=Muli:400,500,700\" rel=\"stylesheet\">\\n\\n    \\n    <link href=\"https://chrisalbon.com/index.xml\" rel=\"alternate\" type=\"application/rss+xml\" title=\"Chris Albon All Notes And Articles\" /> \\n    \\n    <link href=\"https://chrisalbon.com//articles/index.xml\" rel=\"alternate\" type=\"application/rss+xml\" title=\"Chris Albon Articles\" />\\n\\n    <script type=\"text/javascript\" async\\n  src=\"https://cdnjs.cloudflare.com/ajax/libs/mathjax/2.7.2/MathJax.js?config=TeX-MML-AM_CHTML\">\\n</script>\\n<script type=\"text/x-mathjax-config\">\\nMathJax.Hub.Config({\\n  tex2jax: {\\n    inlineMath: [[\\'$\\',\\'$\\'], [\\'\\\\\\\\(\\',\\'\\\\\\\\)\\']],\\n    displayMath: [[\\'$$\\',\\'$$\\'], [\\'\\\\[\\',\\'\\\\]\\']],\\n    processEscapes: true,\\n    processEnvironments: true,\\n    skipTags: [\\'script\\', \\'noscript\\', \\'style\\', \\'textarea\\', \\'pre\\',\\'code\\'],\\n    TeX: { equationNumbers: { autoNumber: \"AMS\" },\\n         extensions: [\"AMSmath.js\", \"AMSsymbols.js\"] }\\n  }\\n});\\n</script>\\n\\n</head>\\n\\n<body>\\n\\n    <nav class=\"navbar navbar-expand-sm fixed-top\">\\n        <div class=\"container\">\\n            <a class=\"navbar-brand\" href=\"https://chrisalbon.com/\">Chris Albon</a>\\n            <button class=\"navbar-toggler\" type=\"button\" data-toggle=\"collapse\" data-target=\"#navbarSupportedContent\" aria-controls=\"navbarSupportedContent\"\\n                aria-expanded=\"false\" aria-label=\"Toggle navigation\">\\n                <span class=\"navbar-toggler-icon\"></span>\\n            </button>\\n\\n            <div class=\"collapse navbar-collapse\" id=\"navbarSupportedContent\">\\n                    <ul class=\"nav navbar-nav mr-auto\"></ul>\\n                <ul class=\"navbar-nav\">\\n\\n                    <li class=\"nav-item dropdown\">\\n                        <a class=\"nav-link dropdown-toggle\" href=\"#\" id=\"navbarDropdown\" role=\"button\" data-toggle=\"dropdown\" aria-haspopup=\"true\"\\n                            aria-expanded=\"false\">\\n                            Technical Notes\\n                        </a>\\n                        <div class=\"dropdown-menu dropdown-menu-right\" aria-labelledby=\"navbarDropdown\">\\n                            <a class=\"dropdown-item\" href=\"https://chrisalbon.com/#machine_learning\">Machine Learning</a>\\n                            <a class=\"dropdown-item\" href=\"https://chrisalbon.com/#deep_learning\">Deep Learning</a>\\n                            <a class=\"dropdown-item\" href=\"https://chrisalbon.com/#machine_learning_engineering\">ML Engineering</a>\\n                            <a class=\"dropdown-item\" href=\"https://chrisalbon.com/#python\">Python</a>\\n                            <a class=\"dropdown-item\" href=\"https://chrisalbon.com/#statistics\">Statistics</a>\\n                            <a class=\"dropdown-item\" href=\"https://chrisalbon.com/#scala\">Scala</a>\\n                            <a class=\"dropdown-item\" href=\"https://chrisalbon.com/#snowflake\">Snowflake</a>\\n                            <a class=\"dropdown-item\" href=\"https://chrisalbon.com/#postgresql\">PostgreSQL</a>\\n                            <a class=\"dropdown-item\" href=\"https://chrisalbon.com/#linux\">Command Line</a>\\n                            <a class=\"dropdown-item\" href=\"https://chrisalbon.com/#regex\">Regular Expressions</a>\\n                            <a class=\"dropdown-item\" href=\"https://chrisalbon.com/#mathematics\">Mathematics</a>\\n                            <a class=\"dropdown-item\" href=\"https://chrisalbon.com/#aws\">AWS</a>\\n                            <a class=\"dropdown-item\" href=\"https://chrisalbon.com/#git_and_github\">Git &amp; GitHub</a>\\n                            <a class=\"dropdown-item\" href=\"https://chrisalbon.com/#computer_science\">Computer Science</a>\\n                        </div>\\n                    </li>\\n                    \\n\\n                    <li class=\"nav-item\">\\n                        <a class=\"nav-link\" href=\"https://chrisalbon.com/#articles\">Articles</a>\\n                    </li>\\n                    <li class=\"nav-item dropdown\">\\n                        <a class=\"nav-link dropdown-toggle\" href=\"#\" id=\"navbarDropdown\" role=\"button\" data-toggle=\"dropdown\" aria-haspopup=\"true\"\\n                            aria-expanded=\"false\">\\n                            About\\n                        </a>\\n                        <div class=\"dropdown-menu dropdown-menu-right\" aria-labelledby=\"navbarDropdown\">\\n                            <a class=\"dropdown-item\" href=\"https://chrisalbon.com/about/chris_albon/\">About Chris</a>\\n                            <a class=\"dropdown-item\" href=\"https://github.com/chrisalbon\">GitHub</a>\\n                            <a class=\"dropdown-item\" href=\"https://twitter.com/chrisalbon\">Twitter</a>\\n                            <a class=\"dropdown-item\" href=\"https://www.amazon.com/Machine-Learning-Python-Cookbook-Preprocessing/dp/1491989386\">ML Book</a>\\n                            <a class=\"dropdown-item\" href=\"https://machinelearningflashcards.com/\">ML Flashcards</a>\\n                            \\n                        </div>\\n                    </li>\\n                </ul>\\n            </div>\\n        </div>\\n    </nav>\\n\\n\\n    \\n    <div class=\"container\">\\n        <div class=\"row\">\\n            <div class=\"col-sm-12\">\\n\\n                \\n<main>\\n    <div class=\"homepage\">\\n        <div class=\"row\">\\n            <div class=\"col-sm-12\">\\n                <h1>\\n                    <span class=\"minor_line\">Notes On Using</span>\\n                    <br>\\n                    <span class=\"major_line\">Data Science &amp; Machine Learning</span>\\n                    <br>\\n                    <span class=\"minor_line\">To Fight For Something That Matters</span>\\n                </h1>\\n            </div>\\n        </div>\\n        <div class=\"row\">\\n            <div class=\"col-sm-12 blurb\">\\n                <p>\\n                    <a href=\"about/chris_albon/\">I am the Director of Machine Learning</a> at the <a href=\"https://wikimediafoundation.org/\">Wikimedia Foundation</a>. I have spent a decade applying statistical learning, artificial intelligence, and software engineering to political, social, and humanitarian\\n                    efforts.</p>\\n                <p>Learning machine learning? Check out my\\n                    <a href=\"https://machinelearningflashcards.com\">Machine Learning Flashcards</a> or my book,\\n                    <a href=\"https://amzn.to/2HwnWty\">Machine Learning With Python Cookbook</a>.</p>\\n            </div>\\n        </div>\\n\\n\\n\\n\\n        <div class=\"row\" id=\"machine_learning\">\\n            <div class=\"col-sm-12\">\\n                <h3 class=\"category_header\">Machine Learning</h3>\\n            </div>\\n        </div>\\n\\n        <div class=\"row\">\\n                <div class=\"col-sm-12\">\\n                    <div class=\"card\">\\n                        <h4 class=\"card-header\">Basics</h4>\\n                        <div class=\"card-body\">\\n                            <ul>\\n                                \\n                                <li>\\n                                    <a href=\"https://chrisalbon.com/machine_learning/basics/loading_features_from_dictionaries/\">Loading Features From Dictionaries</a>\\n                                </li>\\n                                \\n                                <li>\\n                                    <a href=\"https://chrisalbon.com/machine_learning/basics/loading_scikit-learns_boston_housing_dataset/\">Loading scikit-learn&#39;s Boston Housing Dataset</a>\\n                                </li>\\n                                \\n                                <li>\\n                                    <a href=\"https://chrisalbon.com/machine_learning/basics/loading_scikit-learns_digits-dataset/\">Loading scikit-learn&#39;s Digits Dataset</a>\\n                                </li>\\n                                \\n                                <li>\\n                                    <a href=\"https://chrisalbon.com/machine_learning/basics/loading_scikit-learns_iris_dataset/\">Loading scikit-learn&#39;s Iris Dataset</a>\\n                                </li>\\n                                \\n                                <li>\\n                                    <a href=\"https://chrisalbon.com/machine_learning/basics/make_simulated_data_for_classification/\">Make Simulated Data For Classification</a>\\n                                </li>\\n                                \\n                                <li>\\n                                    <a href=\"https://chrisalbon.com/machine_learning/basics/make_simulated_data_for_clustering/\">Make Simulated Data For Clustering</a>\\n                                </li>\\n                                \\n                                <li>\\n                                    <a href=\"https://chrisalbon.com/machine_learning/basics/make_simulated_data_for_regression/\">Make Simulated Data For Regression</a>\\n                                </li>\\n                                \\n                                <li>\\n                                    <a href=\"https://chrisalbon.com/machine_learning/basics/perceptron_in_scikit-learn/\">Perceptron In Scikit</a>\\n                                </li>\\n                                \\n                                <li>\\n                                    <a href=\"https://chrisalbon.com/machine_learning/basics/saving_machine_learning_models/\">Saving Machine Learning Models</a>\\n                                </li>\\n                                \\n                            </ul>\\n                        </div>\\n                    </div>\\n                </div>\\n            </div>\\n\\n        <div class=\"row\">\\n            <div class=\"col-sm-12\">\\n                <div class=\"card\">\\n                    <h4 class=\"card-header\">Vectors, Matrices, And Arrays</h4>\\n                    <div class=\"card-body\">\\n                        <ul>\\n                            \\n                            <li>\\n                                <a href=\"https://chrisalbon.com/machine_learning/vectors_matrices_and_arrays/transpose_a_vector_or_matrix/\">Transpose A Vector Or Matrix</a>\\n                            </li>\\n                            \\n                            <li>\\n                                <a href=\"https://chrisalbon.com/machine_learning/vectors_matrices_and_arrays/selecting_elements_in_an_array/\">Selecting Elements In An Array</a>\\n                            </li>\\n                            \\n                            <li>\\n                                <a href=\"https://chrisalbon.com/machine_learning/vectors_matrices_and_arrays/reshape_an_array/\">Reshape An Array</a>\\n                            </li>\\n                            \\n                            <li>\\n                                <a href=\"https://chrisalbon.com/machine_learning/vectors_matrices_and_arrays/invert_a_matrix/\">Invert A Matrix</a>\\n                            </li>\\n                            \\n                            <li>\\n                                <a href=\"https://chrisalbon.com/machine_learning/vectors_matrices_and_arrays/getting_the_diagonal_of_a_matrix/\">Getting The Diagonal Of A Matrix</a>\\n                            </li>\\n                            \\n                            <li>\\n                                <a href=\"https://chrisalbon.com/machine_learning/vectors_matrices_and_arrays/flatten_a_matrix/\">Flatten A Matrix</a>\\n                            </li>\\n                            \\n                            <li>\\n                                <a href=\"https://chrisalbon.com/machine_learning/vectors_matrices_and_arrays/find_the_rank_of_a_matrix/\">Find The Rank Of A Matrix</a>\\n                            </li>\\n                            \\n                            <li>\\n                                <a href=\"https://chrisalbon.com/machine_learning/vectors_matrices_and_arrays/find_maximum_and_minimum/\">Find The Maximum And Minimum</a>\\n                            </li>\\n                            \\n                            <li>\\n                                <a href=\"https://chrisalbon.com/machine_learning/vectors_matrices_and_arrays/describe_a_matrix/\">Describe An Array</a>\\n                            </li>\\n                            \\n                            <li>\\n                                <a href=\"https://chrisalbon.com/machine_learning/vectors_matrices_and_arrays/create_a_vector/\">Create A Vector</a>\\n                            </li>\\n                            \\n                            <li>\\n                                <a href=\"https://chrisalbon.com/machine_learning/vectors_matrices_and_arrays/create_a_sparse_matrix/\">Create A Sparse Matrix</a>\\n                            </li>\\n                            \\n                            <li>\\n                                <a href=\"https://chrisalbon.com/machine_learning/vectors_matrices_and_arrays/create_a_matrix/\">Create A Matrix</a>\\n                            </li>\\n                            \\n                            <li>\\n                                <a href=\"https://chrisalbon.com/machine_learning/vectors_matrices_and_arrays/converting_a_dictionary_into_a_matrix/\">Converting A Dictionary Into A Matrix</a>\\n                            </li>\\n                            \\n                            <li>\\n                                <a href=\"https://chrisalbon.com/machine_learning/vectors_matrices_and_arrays/calculate_the_trace_of_a_matrix/\">Calculate The Trace Of A Matrix</a>\\n                            </li>\\n                            \\n                            <li>\\n                                <a href=\"https://chrisalbon.com/machine_learning/vectors_matrices_and_arrays/calculate_the_determinant_of_a_matrix/\">Calculate The Determinant Of A Matrix</a>\\n                            </li>\\n                            \\n                            <li>\\n                                <a href=\"https://chrisalbon.com/machine_learning/vectors_matrices_and_arrays/calculate_average_variance_and_standard_deviation/\">Calculate The Average, Variance, And Standard Deviation</a>\\n                            </li>\\n                            \\n                            <li>\\n                                <a href=\"https://chrisalbon.com/machine_learning/vectors_matrices_and_arrays/calculate_dot_product_of_two_vectors/\">Calculate Dot Product Of Two Vectors</a>\\n                            </li>\\n                            \\n                            <li>\\n                                <a href=\"https://chrisalbon.com/machine_learning/vectors_matrices_and_arrays/apply_operations_to_elements/\">Apply Operations To Elements</a>\\n                            </li>\\n                            \\n                            <li>\\n                                <a href=\"https://chrisalbon.com/machine_learning/vectors_matrices_and_arrays/adding_and_subtracting_matrices/\">Adding And Subtracting Matrices</a>\\n                            </li>\\n                            \\n                        </ul>\\n                    </div>\\n                </div>\\n            </div>\\n        </div>\\n\\n        <div class=\"row\">\\n            <div class=\"col-sm-12\">\\n                <div class=\"card\">\\n                    <h4 class=\"card-header\">Preprocessing Structured Data</h4>\\n                    <div class=\"card-body\">\\n                        <ul>\\n                            \\n                            <li>\\n                                <a href=\"https://chrisalbon.com/machine_learning/preprocessing_structured_data/convert_pandas_categorical_column_into_integers_for_scikit-learn/\">Convert Pandas Categorical Data For Scikit-Learn</a>\\n                            </li>\\n                            \\n                            <li>\\n                                <a href=\"https://chrisalbon.com/machine_learning/preprocessing_structured_data/delete_observations_with_missing_values/\">Delete Observations With Missing Values</a>\\n                            </li>\\n                            \\n                            <li>\\n                                <a href=\"https://chrisalbon.com/machine_learning/preprocessing_structured_data/deleting_missing_values/\">Deleting Missing Values</a>\\n                            </li>\\n                            \\n                            <li>\\n                                <a href=\"https://chrisalbon.com/machine_learning/preprocessing_structured_data/detecting_outliers/\">Detecting Outliers</a>\\n                            </li>\\n                            \\n                            <li>\\n                                <a href=\"https://chrisalbon.com/machine_learning/preprocessing_structured_data/discretize_features/\">Discretize Features</a>\\n                            </li>\\n                            \\n                            <li>\\n                                <a href=\"https://chrisalbon.com/machine_learning/preprocessing_structured_data/encoding_ordinal_categorical_features/\">Encoding Ordinal Categorical Features</a>\\n                            </li>\\n                            \\n                            <li>\\n                                <a href=\"https://chrisalbon.com/machine_learning/preprocessing_structured_data/handling_imbalanced_classes_with_downsampling/\">Handling Imbalanced Classes With Downsampling</a>\\n                            </li>\\n                            \\n                            <li>\\n                                <a href=\"https://chrisalbon.com/machine_learning/preprocessing_structured_data/handling_imbalanced_classes_with_upsampling/\">Handling Imbalanced Classes With Upsampling</a>\\n                            </li>\\n                            \\n                            <li>\\n                                <a href=\"https://chrisalbon.com/machine_learning/preprocessing_structured_data/handling_outliers/\">Handling Outliers</a>\\n                            </li>\\n                            \\n                            <li>\\n                                <a href=\"https://chrisalbon.com/machine_learning/preprocessing_structured_data/impute_missing_values_with_means/\">Impute Missing Values With Means</a>\\n                            </li>\\n                            \\n                            <li>\\n                                <a href=\"https://chrisalbon.com/machine_learning/preprocessing_structured_data/imputing_missing_class_labels/\">Imputing Missing Class Labels</a>\\n                            </li>\\n                            \\n                            <li>\\n                                <a href=\"https://chrisalbon.com/machine_learning/preprocessing_structured_data/imputing_missing_class_labels_using_k-nearest_neighbors/\">Imputing Missing Class Labels Using k-Nearest Neighbors</a>\\n                            </li>\\n                            \\n                            <li>\\n                                <a href=\"https://chrisalbon.com/machine_learning/preprocessing_structured_data/normalizing_observations/\">Normalizing Observations</a>\\n                            </li>\\n                            \\n                            <li>\\n                                <a href=\"https://chrisalbon.com/machine_learning/preprocessing_structured_data/one-hot_encode_features_with_multiple_labels/\">One-Hot Encode Features With Multiple Labels</a>\\n                            </li>\\n                            \\n                            <li>\\n                                <a href=\"https://chrisalbon.com/machine_learning/preprocessing_structured_data/one-hot_encode_nominal_categorical_features/\">One-Hot Encode Nominal Categorical Features</a>\\n                            </li>\\n                            \\n                            <li>\\n                                <a href=\"https://chrisalbon.com/machine_learning/preprocessing_structured_data/preprocessing_categorical_features/\">Preprocessing Categorical Features</a>\\n                            </li>\\n                            \\n                            <li>\\n                                <a href=\"https://chrisalbon.com/machine_learning/preprocessing_structured_data/preprocessing_iris_data/\">Preprocessing Iris Data</a>\\n                            </li>\\n                            \\n                            <li>\\n                                <a href=\"https://chrisalbon.com/machine_learning/preprocessing_structured_data/rescale_a_feature/\">Rescale A Feature</a>\\n                            </li>\\n                            \\n                            <li>\\n                                <a href=\"https://chrisalbon.com/machine_learning/preprocessing_structured_data/standardize_a_feature/\">Standardize A Feature</a>\\n                            </li>\\n                            \\n                        </ul>\\n                    </div>\\n                </div>\\n            </div>\\n        </div>\\n\\n        <div class=\"row\">\\n            <div class=\"col-sm-12\">\\n                <div class=\"card\">\\n                    <h4 class=\"card-header\">Preprocessing Images</h4>\\n                    <div class=\"card-body\">\\n                        <ul>\\n                            \\n                            <li>\\n                                <a href=\"https://chrisalbon.com/machine_learning/preprocessing_images/binarize_image/\">Binarize Images</a>\\n                            </li>\\n                            \\n                            <li>\\n                                <a href=\"https://chrisalbon.com/machine_learning/preprocessing_images/blurring_images/\">Blurring Images</a>\\n                            </li>\\n                            \\n                            <li>\\n                                <a href=\"https://chrisalbon.com/machine_learning/preprocessing_images/cropping_images/\">Cropping Images</a>\\n                            </li>\\n                            \\n                            <li>\\n                                <a href=\"https://chrisalbon.com/machine_learning/preprocessing_images/detect_edges/\">Detect Edges</a>\\n                            </li>\\n                            \\n                            <li>\\n                                <a href=\"https://chrisalbon.com/machine_learning/preprocessing_images/enhance_contrast_of_color_image/\">Enhance Contrast Of Color Image</a>\\n                            </li>\\n                            \\n                            <li>\\n                                <a href=\"https://chrisalbon.com/machine_learning/preprocessing_images/enhance_contrast_of_greyscale_image/\">Enhance Contrast Of Greyscale Image</a>\\n                            </li>\\n                            \\n                            <li>\\n                                <a href=\"https://chrisalbon.com/machine_learning/preprocessing_images/harris_corner_detector/\">Harris Corner Detector</a>\\n                            </li>\\n                            \\n                            <li>\\n                                <a href=\"https://chrisalbon.com/machine_learning/preprocessing_images/installing_opencv/\">Installing OpenCV</a>\\n                            </li>\\n                            \\n                            <li>\\n                                <a href=\"https://chrisalbon.com/machine_learning/preprocessing_images/isolate_colors/\">Isolate Colors</a>\\n                            </li>\\n                            \\n                            <li>\\n                                <a href=\"https://chrisalbon.com/machine_learning/preprocessing_images/load_images/\">Load Images</a>\\n                            </li>\\n                            \\n                            <li>\\n                                <a href=\"https://chrisalbon.com/machine_learning/preprocessing_images/remove_backgrounds/\">Remove Backgrounds</a>\\n                            </li>\\n                            \\n                            <li>\\n                                <a href=\"https://chrisalbon.com/machine_learning/preprocessing_images/save_images/\">Save Images</a>\\n                            </li>\\n                            \\n                            <li>\\n                                <a href=\"https://chrisalbon.com/machine_learning/preprocessing_images/sharpen_images/\">Sharpen Images</a>\\n                            </li>\\n                            \\n                            <li>\\n                                <a href=\"https://chrisalbon.com/machine_learning/preprocessing_images/ski-tomasi_corner_detector/\">Shi-Tomasi Corner Detector</a>\\n                            </li>\\n                            \\n                            <li>\\n                                <a href=\"https://chrisalbon.com/machine_learning/preprocessing_images/using_mean_color_as_a_feature/\">Using Mean Color As A Feature</a>\\n                            </li>\\n                            \\n                        </ul>\\n                    </div>\\n                </div>\\n            </div>\\n        </div>\\n\\n        <div class=\"row\">\\n            <div class=\"col-sm-12\">\\n                <div class=\"card\">\\n                    <h4 class=\"card-header\">Preprocessing Text</h4>\\n                    <div class=\"card-body\">\\n                        <ul>\\n                            \\n                            <li>\\n                                <a href=\"https://chrisalbon.com/machine_learning/preprocessing_text/bag_of_words/\">Bag Of Words</a>\\n                            </li>\\n                            \\n                            <li>\\n                                <a href=\"https://chrisalbon.com/machine_learning/preprocessing_text/parse_html/\">Parse HTML</a>\\n                            </li>\\n                            \\n                            <li>\\n                                <a href=\"https://chrisalbon.com/machine_learning/preprocessing_text/remove_punctuation/\">Remove Punctuation</a>\\n                            </li>\\n                            \\n                            <li>\\n                                <a href=\"https://chrisalbon.com/machine_learning/preprocessing_text/remove_stop_words/\">Remove Stop Words</a>\\n                            </li>\\n                            \\n                            <li>\\n                                <a href=\"https://chrisalbon.com/machine_learning/preprocessing_text/replace_characters/\">Replace Characters</a>\\n                            </li>\\n                            \\n                            <li>\\n                                <a href=\"https://chrisalbon.com/machine_learning/preprocessing_text/stemming_words/\">Stemming Words</a>\\n                            </li>\\n                            \\n                            <li>\\n                                <a href=\"https://chrisalbon.com/machine_learning/preprocessing_text/strip_whitespace/\">Strip Whitespace</a>\\n                            </li>\\n                            \\n                            <li>\\n                                <a href=\"https://chrisalbon.com/machine_learning/preprocessing_text/tag_parts_of_speech/\">Tag Parts Of Speech</a>\\n                            </li>\\n                            \\n                            <li>\\n                                <a href=\"https://chrisalbon.com/machine_learning/preprocessing_text/tf-idf/\">Term Frequency Inverse Document Frequency</a>\\n                            </li>\\n                            \\n                            <li>\\n                                <a href=\"https://chrisalbon.com/machine_learning/preprocessing_text/tokenize_text/\">Tokenize Text</a>\\n                            </li>\\n                            \\n                        </ul>\\n                    </div>\\n                </div>\\n            </div>\\n        </div>\\n\\n        <div class=\"row\">\\n            <div class=\"col-sm-12\">\\n                <div class=\"card\">\\n                    <h4 class=\"card-header\">Preprocessing Dates And Times</h4>\\n                    <div class=\"card-body\">\\n                        <ul>\\n                            \\n                            <li>\\n                                <a href=\"https://chrisalbon.com/machine_learning/preprocessing_dates_and_times/break_up_dates_and_times_into_multiple_features/\">Break Up Dates And Times Into Multiple Features</a>\\n                            </li>\\n                            \\n                            <li>\\n                                <a href=\"https://chrisalbon.com/machine_learning/preprocessing_dates_and_times/calculate_difference_between_dates_and_times/\">Calculate Difference Between Dates And Times</a>\\n                            </li>\\n                            \\n                            <li>\\n                                <a href=\"https://chrisalbon.com/machine_learning/preprocessing_dates_and_times/convert_strings_to_dates/\">Convert Strings To Dates</a>\\n                            </li>\\n                            \\n                            <li>\\n                                <a href=\"https://chrisalbon.com/machine_learning/preprocessing_dates_and_times/convert_pandas_column_timezone/\">Convert pandas Columns Time Zone</a>\\n                            </li>\\n                            \\n                            <li>\\n                                <a href=\"https://chrisalbon.com/machine_learning/preprocessing_dates_and_times/encode_days_of_the_week/\">Encode Days Of The Week</a>\\n                            </li>\\n                            \\n                            <li>\\n                                <a href=\"https://chrisalbon.com/machine_learning/preprocessing_dates_and_times/handling_missing_values_in_time_series/\">Handling Missing Values In Time Series</a>\\n                            </li>\\n                            \\n                            <li>\\n                                <a href=\"https://chrisalbon.com/machine_learning/preprocessing_dates_and_times/handling_time_zones/\">Handling Time Zones</a>\\n                            </li>\\n                            \\n                            <li>\\n                                <a href=\"https://chrisalbon.com/machine_learning/preprocessing_dates_and_times/lag_a_time_feature/\">Lag A Time Feature</a>\\n                            </li>\\n                            \\n                            <li>\\n                                <a href=\"https://chrisalbon.com/machine_learning/preprocessing_dates_and_times/rolling_time_windows/\">Rolling Time Window</a>\\n                            </li>\\n                            \\n                            <li>\\n                                <a href=\"https://chrisalbon.com/machine_learning/preprocessing_dates_and_times/select_date_and_time_ranges/\">Select Date And Time Ranges</a>\\n                            </li>\\n                            \\n                        </ul>\\n                    </div>\\n                </div>\\n            </div>\\n        </div>\\n\\n        <div class=\"row\">\\n            <div class=\"col-sm-12\">\\n                <div class=\"card\">\\n                    <h4 class=\"card-header\">Feature Engineering</h4>\\n                    <div class=\"card-body\">\\n                        <ul>\\n                            \\n                            <li>\\n                                <a href=\"https://chrisalbon.com/machine_learning/feature_engineering/dimensionality_reduction_on_sparse_feature_matrix/\">Dimensionality Reduction On Sparse Feature Matrix</a>\\n                            </li>\\n                            \\n                            <li>\\n                                <a href=\"https://chrisalbon.com/machine_learning/feature_engineering/dimensionality_reduction_with_kernel_pca/\">Dimensionality Reduction With Kernel PCA</a>\\n                            </li>\\n                            \\n                            <li>\\n                                <a href=\"https://chrisalbon.com/machine_learning/feature_engineering/dimensionality_reduction_with_pca/\">Dimensionality Reduction With PCA</a>\\n                            </li>\\n                            \\n                            <li>\\n                                <a href=\"https://chrisalbon.com/machine_learning/feature_engineering/feature_extraction_with_pca/\">Feature Extraction With PCA</a>\\n                            </li>\\n                            \\n                            <li>\\n                                <a href=\"https://chrisalbon.com/machine_learning/feature_engineering/group_observations_using_clustering/\">Group Observations Using K-Means Clustering</a>\\n                            </li>\\n                            \\n                            <li>\\n                                <a href=\"https://chrisalbon.com/machine_learning/feature_engineering/select_best_number_of_components_in_lda/\">Selecting The Best Number Of Components For LDA</a>\\n                            </li>\\n                            \\n                            <li>\\n                                <a href=\"https://chrisalbon.com/machine_learning/feature_engineering/select_best_number_of_components_in_tsvd/\">Selecting The Best Number Of Components For TSVD</a>\\n                            </li>\\n                            \\n                            <li>\\n                                <a href=\"https://chrisalbon.com/machine_learning/feature_engineering/lda_for_dimensionality_reduction/\">Using Linear Discriminant Analysis For Dimensionality Reduction</a>\\n                            </li>\\n                            \\n                        </ul>\\n                    </div>\\n                </div>\\n            </div>\\n        </div>\\n\\n        <div class=\"row\">\\n            <div class=\"col-sm-12\">\\n                <div class=\"card\">\\n                    <h4 class=\"card-header\">Feature Selection</h4>\\n                    <div class=\"card-body\">\\n                        <ul>\\n                            \\n                            <li>\\n                                <a href=\"https://chrisalbon.com/machine_learning/feature_selection/anova_f-value_for_feature_selection/\">ANOVA F-value For Feature Selection</a>\\n                            </li>\\n                            \\n                            <li>\\n                                <a href=\"https://chrisalbon.com/machine_learning/feature_selection/chi-squared_for_feature_selection/\">Chi-Squared For Feature Selection</a>\\n                            </li>\\n                            \\n                            <li>\\n                                <a href=\"https://chrisalbon.com/machine_learning/feature_selection/drop_highly_correlated_features/\">Drop Highly Correlated Features</a>\\n                            </li>\\n                            \\n                            <li>\\n                                <a href=\"https://chrisalbon.com/machine_learning/feature_selection/recursive_feature_elimination/\">Recursive Feature Elimination</a>\\n                            </li>\\n                            \\n                            <li>\\n                                <a href=\"https://chrisalbon.com/machine_learning/feature_selection/variance_thresholding_binary_features/\">Variance Thresholding Binary Features</a>\\n                            </li>\\n                            \\n                            <li>\\n                                <a href=\"https://chrisalbon.com/machine_learning/feature_selection/variance_thresholding_for_feature_selection/\">Variance Thresholding For Feature Selection</a>\\n                            </li>\\n                            \\n                        </ul>\\n                    </div>\\n                </div>\\n            </div>\\n        </div>\\n\\n        <div class=\"row\">\\n            <div class=\"col-sm-12\">\\n                <div class=\"card\">\\n                    <h4 class=\"card-header\">Model Evaluation</h4>\\n                    <div class=\"card-body\">\\n                        <ul>\\n                            \\n                            <li>\\n                                <a href=\"https://chrisalbon.com/machine_learning/model_evaluation/accuracy/\">Accuracy</a>\\n                            </li>\\n                            \\n                            <li>\\n                                <a href=\"https://chrisalbon.com/machine_learning/model_evaluation/create_baseline_classification_model/\">Create Baseline Classification Model</a>\\n                            </li>\\n                            \\n                            <li>\\n                                <a href=\"https://chrisalbon.com/machine_learning/model_evaluation/create_baseline_regression_model/\">Create Baseline Regression Model</a>\\n                            </li>\\n                            \\n                            <li>\\n                                <a href=\"https://chrisalbon.com/machine_learning/model_evaluation/cross_validation_pipeline/\">Cross Validation Pipeline</a>\\n                            </li>\\n                            \\n                            <li>\\n                                <a href=\"https://chrisalbon.com/machine_learning/model_evaluation/cross_validation_parameter_tuning_grid_search/\">Cross Validation With Parameter Tuning Using Grid Search</a>\\n                            </li>\\n                            \\n                            <li>\\n                                <a href=\"https://chrisalbon.com/machine_learning/model_evaluation/cross-validaton/\">Cross-Validation</a>\\n                            </li>\\n                            \\n                            <li>\\n                                <a href=\"https://chrisalbon.com/machine_learning/model_evaluation/custom_performance_metric/\">Custom Performance Metric</a>\\n                            </li>\\n                            \\n                            <li>\\n                                <a href=\"https://chrisalbon.com/machine_learning/model_evaluation/f1_score/\">F1 Score</a>\\n                            </li>\\n                            \\n                            <li>\\n                                <a href=\"https://chrisalbon.com/machine_learning/model_evaluation/generate_text_reports_on_performance/\">Generate Text Reports On Performance</a>\\n                            </li>\\n                            \\n                            <li>\\n                                <a href=\"https://chrisalbon.com/machine_learning/model_evaluation/nested_cross_validation/\">Nested Cross Validation</a>\\n                            </li>\\n                            \\n                            <li>\\n                                <a href=\"https://chrisalbon.com/machine_learning/model_evaluation/plot_the_learning_curve/\">Plot The Learning Curve</a>\\n                            </li>\\n                            \\n                            <li>\\n                                <a href=\"https://chrisalbon.com/machine_learning/model_evaluation/plot_the_receiving_operating_characteristic_curve/\">Plot The Receiving Operating Characteristic Curve</a>\\n                            </li>\\n                            \\n                            <li>\\n                                <a href=\"https://chrisalbon.com/machine_learning/model_evaluation/plot_the_validation_curve/\">Plot The Validation Curve</a>\\n                            </li>\\n                            \\n                            <li>\\n                                <a href=\"https://chrisalbon.com/machine_learning/model_evaluation/precision/\">Precision</a>\\n                            </li>\\n                            \\n                            <li>\\n                                <a href=\"https://chrisalbon.com/machine_learning/model_evaluation/recall/\">Recall</a>\\n                            </li>\\n                            \\n                            <li>\\n                                <a href=\"https://chrisalbon.com/machine_learning/model_evaluation/split_data_into_training_and_test_sets/\">Split Data Into Training And Test Sets</a>\\n                            </li>\\n                            \\n                        </ul>\\n                    </div>\\n                </div>\\n            </div>\\n        </div>\\n\\n        <div class=\"row\">\\n            <div class=\"col-sm-12\">\\n                <div class=\"card\">\\n                    <h4 class=\"card-header\">Model Selection</h4>\\n                    <div class=\"card-body\">\\n                        <ul>\\n                            \\n                            <li>\\n                                <a href=\"https://chrisalbon.com/machine_learning/model_selection/find_best_preprocessing_steps_during_model_selection/\">Find Best Preprocessing Steps During Model Selection</a>\\n                            </li>\\n                            \\n                            <li>\\n                                <a href=\"https://chrisalbon.com/machine_learning/model_selection/hyperparameter_tuning_using_grid_search/\">Hyperparameter Tuning Using Grid Search</a>\\n                            </li>\\n                            \\n                            <li>\\n                                <a href=\"https://chrisalbon.com/machine_learning/model_selection/hyperparameter_tuning_using_random_search/\">Hyperparameter Tuning Using Random Search</a>\\n                            </li>\\n                            \\n                            <li>\\n                                <a href=\"https://chrisalbon.com/machine_learning/model_selection/model_selection_using_grid_search/\">Model Selection Using Grid Search</a>\\n                            </li>\\n                            \\n                            <li>\\n                                <a href=\"https://chrisalbon.com/machine_learning/model_selection/pipelines_with_parameter_optimization/\">Pipelines With Parameter Optimization</a>\\n                            </li>\\n                            \\n                        </ul>\\n                    </div>\\n                </div>\\n            </div>\\n        </div>\\n\\n        <div class=\"row\">\\n            <div class=\"col-sm-12\">\\n                <div class=\"card\">\\n                    <h4 class=\"card-header\">Linear Regression</h4>\\n                    <div class=\"card-body\">\\n                        <ul>\\n                            \\n                            <li>\\n                                <a href=\"https://chrisalbon.com/machine_learning/linear_regression/adding_interaction_terms/\">Adding Interaction Terms</a>\\n                            </li>\\n                            \\n                            <li>\\n                                <a href=\"https://chrisalbon.com/machine_learning/linear_regression/create_interaction_features/\">Create Interaction Features</a>\\n                            </li>\\n                            \\n                            <li>\\n                                <a href=\"https://chrisalbon.com/machine_learning/linear_regression/effect_of_alpha_on_lasso_regression/\">Effect Of Alpha On Lasso Regression</a>\\n                            </li>\\n                            \\n                            <li>\\n                                <a href=\"https://chrisalbon.com/machine_learning/linear_regression/lasso_regression/\">Lasso Regression</a>\\n                            </li>\\n                            \\n                            <li>\\n                                <a href=\"https://chrisalbon.com/machine_learning/linear_regression/linear_regression_scikitlearn/\">Linear Regression</a>\\n                            </li>\\n                            \\n                            <li>\\n                                <a href=\"https://chrisalbon.com/machine_learning/linear_regression/linear_regression_using_scikit-learn/\">Linear Regression Using Scikit-Learn</a>\\n                            </li>\\n                            \\n                            <li>\\n                                <a href=\"https://chrisalbon.com/machine_learning/linear_regression/ridge_regression/\">Ridge Regression</a>\\n                            </li>\\n                            \\n                            <li>\\n                                <a href=\"https://chrisalbon.com/machine_learning/linear_regression/selecting_best_alpha_value_in_ridge_regression/\">Selecting The Best Alpha Value In Ridge Regression</a>\\n                            </li>\\n                            \\n                        </ul>\\n                    </div>\\n                </div>\\n            </div>\\n        </div>\\n\\n        <div class=\"row\">\\n            <div class=\"col-sm-12\">\\n                <div class=\"card\">\\n                    <h4 class=\"card-header\">Logistic Regression</h4>\\n                    <div class=\"card-body\">\\n                        <ul>\\n                            \\n                            <li>\\n                                <a href=\"https://chrisalbon.com/machine_learning/logistic_regression/fast_c_hyperparameter_tuning/\">Fast C Hyperparameter Tuning</a>\\n                            </li>\\n                            \\n                            <li>\\n                                <a href=\"https://chrisalbon.com/machine_learning/logistic_regression/handling_imbalanced_classes_in_logistic_regression/\">Handling Imbalanced Classes In Logistic Regression</a>\\n                            </li>\\n                            \\n                            <li>\\n                                <a href=\"https://chrisalbon.com/machine_learning/logistic_regression/logistic_regression/\">Logistic Regression</a>\\n                            </li>\\n                            \\n                            <li>\\n                                <a href=\"https://chrisalbon.com/machine_learning/logistic_regression/logistic_regression_on_very_large_data/\">Logistic Regression On Very Large Data</a>\\n                            </li>\\n                            \\n                            <li>\\n                                <a href=\"https://chrisalbon.com/machine_learning/logistic_regression/logistic_regression_with_l1_regularization/\">Logistic Regression With L1 Regularization</a>\\n                            </li>\\n                            \\n                            <li>\\n                                <a href=\"https://chrisalbon.com/machine_learning/logistic_regression/one-vs-rest_logistic_regression/\">One Vs. Rest Logistic Regression</a>\\n                            </li>\\n                            \\n                        </ul>\\n                    </div>\\n                </div>\\n            </div>\\n        </div>\\n\\n        <div class=\"row\">\\n            <div class=\"col-sm-12\">\\n                <div class=\"card\">\\n                    <h4 class=\"card-header\">Trees And Forests</h4>\\n                    <div class=\"card-body\">\\n                        <ul>\\n                            \\n                            <li>\\n                                <a href=\"https://chrisalbon.com/machine_learning/trees_and_forests/adaboost_classifier/\">Adaboost Classifier</a>\\n                            </li>\\n                            \\n                            <li>\\n                                <a href=\"https://chrisalbon.com/machine_learning/trees_and_forests/decision_tree_classifier/\">Decision Tree Classifier</a>\\n                            </li>\\n                            \\n                            <li>\\n                                <a href=\"https://chrisalbon.com/machine_learning/trees_and_forests/decision_tree_regression/\">Decision Tree Regression</a>\\n                            </li>\\n                            \\n                            <li>\\n                                <a href=\"https://chrisalbon.com/machine_learning/trees_and_forests/feature_importance/\">Feature Importance</a>\\n                            </li>\\n                            \\n                            <li>\\n                                <a href=\"https://chrisalbon.com/machine_learning/trees_and_forests/feature_selection_using_random_forest/\">Feature Selection Using Random Forest</a>\\n                            </li>\\n                            \\n                            <li>\\n                                <a href=\"https://chrisalbon.com/machine_learning/trees_and_forests/handle_imbalanced_classes_in_random_forests/\">Handle Imbalanced Classes In Random Forest</a>\\n                            </li>\\n                            \\n                            <li>\\n                                <a href=\"https://chrisalbon.com/machine_learning/trees_and_forests/random_forest_classifier/\">Random Forest Classifier</a>\\n                            </li>\\n                            \\n                            <li>\\n                                <a href=\"https://chrisalbon.com/machine_learning/trees_and_forests/random_forest_classifier_example/\">Random Forest Classifier Example</a>\\n                            </li>\\n                            \\n                            <li>\\n                                <a href=\"https://chrisalbon.com/machine_learning/trees_and_forests/random_forest_regressor/\">Random Forest Regression</a>\\n                            </li>\\n                            \\n                            <li>\\n                                <a href=\"https://chrisalbon.com/machine_learning/trees_and_forests/select_important_features_in_random_forest/\">Select Important Features In Random Forest</a>\\n                            </li>\\n                            \\n                            <li>\\n                                <a href=\"https://chrisalbon.com/machine_learning/trees_and_forests/titanic_competition_with_random_forest/\">Titanic Competition With Random Forest</a>\\n                            </li>\\n                            \\n                            <li>\\n                                <a href=\"https://chrisalbon.com/machine_learning/trees_and_forests/visualize_a_decision_tree/\">Visualize A Decision Tree</a>\\n                            </li>\\n                            \\n                        </ul>\\n                    </div>\\n                </div>\\n            </div>\\n        </div>\\n\\n        <div class=\"row\">\\n            <div class=\"col-sm-12\">\\n                <div class=\"card\">\\n                    <h4 class=\"card-header\">Nearest Neighbors</h4>\\n                    <div class=\"card-body\">\\n                        <ul>\\n                            \\n                            <li>\\n                                <a href=\"https://chrisalbon.com/machine_learning/nearest_neighbors/identifying_best_value_of_k/\">Identifying Best Value Of k</a>\\n                            </li>\\n                            \\n                            <li>\\n                                <a href=\"https://chrisalbon.com/machine_learning/nearest_neighbors/k-nearest_neighbors_classifer/\">K-Nearest Neighbors Classification</a>\\n                            </li>\\n                            \\n                            <li>\\n                                <a href=\"https://chrisalbon.com/machine_learning/nearest_neighbors/radius_based_nearest_neighbor_classifier/\">Radius-Based Nearest Neighbor Classifier</a>\\n                            </li>\\n                            \\n                        </ul>\\n                    </div>\\n                </div>\\n            </div>\\n        </div>\\n\\n        <div class=\"row\">\\n            <div class=\"col-sm-12\">\\n                <div class=\"card\">\\n                    <h4 class=\"card-header\">Support Vector Machines</h4>\\n                    <div class=\"card-body\">\\n                        <ul>\\n                            \\n                            <li>\\n                                <a href=\"https://chrisalbon.com/machine_learning/support_vector_machines/calibrate_predicted_probabilities_in_svc/\">Calibrate Predicted Probabilities In SVC</a>\\n                            </li>\\n                            \\n                            <li>\\n                                <a href=\"https://chrisalbon.com/machine_learning/support_vector_machines/find_nearest_neighbors/\">Find Nearest Neighbors</a>\\n                            </li>\\n                            \\n                            <li>\\n                                <a href=\"https://chrisalbon.com/machine_learning/support_vector_machines/find_support_vectors/\">Find Support Vectors</a>\\n                            </li>\\n                            \\n                            <li>\\n                                <a href=\"https://chrisalbon.com/machine_learning/support_vector_machines/imbalanced_classes_in_svm/\">Imbalanced Classes In SVM</a>\\n                            </li>\\n                            \\n                            <li>\\n                                <a href=\"https://chrisalbon.com/machine_learning/support_vector_machines/plot_support_vector_classifier_hyperplane/\">Plot The Support Vector Classifiers Hyperplane</a>\\n                            </li>\\n                            \\n                            <li>\\n                                <a href=\"https://chrisalbon.com/machine_learning/support_vector_machines/svc_parameters_using_rbf_kernel/\">SVC Parameters When Using RBF Kernel</a>\\n                            </li>\\n                            \\n                            <li>\\n                                <a href=\"https://chrisalbon.com/machine_learning/support_vector_machines/support_vector_classifier/\">Support Vector Classifier</a>\\n                            </li>\\n                            \\n                        </ul>\\n                    </div>\\n                </div>\\n            </div>\\n        </div>\\n\\n        <div class=\"row\">\\n            <div class=\"col-sm-12\">\\n                <div class=\"card\">\\n                    <h4 class=\"card-header\">Naive Bayes</h4>\\n                    <div class=\"card-body\">\\n                        <ul>\\n                            \\n                            <li>\\n                                <a href=\"https://chrisalbon.com/machine_learning/naive_bayes/bernoulli_naive_bayes_classifier/\">Bernoulli Naive Bayes Classifier</a>\\n                            </li>\\n                            \\n                            <li>\\n                                <a href=\"https://chrisalbon.com/machine_learning/naive_bayes/calibrate_predicted_probabilities/\">Calibrate Predicted Probabilities</a>\\n                            </li>\\n                            \\n                            <li>\\n                                <a href=\"https://chrisalbon.com/machine_learning/naive_bayes/gaussian_naive_bayes_classifier/\">Gaussian Naive Bayes Classifier</a>\\n                            </li>\\n                            \\n                            <li>\\n                                <a href=\"https://chrisalbon.com/machine_learning/naive_bayes/multinomial_logistic_regression/\">Multinomial Logistic Regression</a>\\n                            </li>\\n                            \\n                            <li>\\n                                <a href=\"https://chrisalbon.com/machine_learning/naive_bayes/multinomial_naive_bayes_classifier/\">Multinomial Naive Bayes Classifier</a>\\n                            </li>\\n                            \\n                            <li>\\n                                <a href=\"https://chrisalbon.com/machine_learning/naive_bayes/naive_bayes_classifier_from_scratch/\">Naive Bayes Classifier From Scratch</a>\\n                            </li>\\n                            \\n                        </ul>\\n                    </div>\\n                </div>\\n            </div>\\n        </div>\\n\\n        <div class=\"row\">\\n            <div class=\"col-sm-12\">\\n                <div class=\"card\">\\n                    <h4 class=\"card-header\">Clustering</h4>\\n                    <div class=\"card-body\">\\n                        <ul>\\n                            \\n                            <li>\\n                                <a href=\"https://chrisalbon.com/machine_learning/clustering/agglomerative_clustering/\">Agglomerative Clustering</a>\\n                            </li>\\n                            \\n                            <li>\\n                                <a href=\"https://chrisalbon.com/machine_learning/clustering/dbscan_clustering/\">DBSCAN Clustering</a>\\n                            </li>\\n                            \\n                            <li>\\n                                <a href=\"https://chrisalbon.com/machine_learning/clustering/evaluating_clustering/\">Evaluating Clustering</a>\\n                            </li>\\n                            \\n                            <li>\\n                                <a href=\"https://chrisalbon.com/machine_learning/clustering/meanshift_clustering/\">Meanshift Clustering</a>\\n                            </li>\\n                            \\n                            <li>\\n                                <a href=\"https://chrisalbon.com/machine_learning/clustering/minibatch_k-means_clustering/\">Mini-Batch k-Means Clustering</a>\\n                            </li>\\n                            \\n                            <li>\\n                                <a href=\"https://chrisalbon.com/machine_learning/clustering/k-means_clustering/\">k-Means Clustering</a>\\n                            </li>\\n                            \\n                        </ul>\\n                    </div>\\n                </div>\\n            </div>\\n        </div>\\n\\n        <div class=\"row\" id=\"deep_learning\">\\n            <div class=\"col-sm-12\">\\n                <h3 class=\"category_header\">Deep Learning</h3>\\n            </div>\\n        </div>\\n\\n        <div class=\"row\">\\n            <div class=\"col-sm-12\">\\n                <div class=\"card\">\\n                    <h4 class=\"card-header\">Setup</h4>\\n                    <div class=\"card-body\">\\n                        <ul>\\n                            \\n                            <li>\\n                                <a href=\"https://chrisalbon.com/deep_learning/setup/prevent_nvidia_drivers_from_upgrading/\">Prevent Ubuntu 18.06 And Nvidia Drivers From Updating</a>\\n                            </li>\\n                            \\n                        </ul>\\n                    </div>\\n                </div>\\n            </div>\\n        </div>\\n\\n        <div class=\"row\">\\n            <div class=\"col-sm-12\">\\n                <div class=\"card\">\\n                    <h4 class=\"card-header\">Keras</h4>\\n                    <div class=\"card-body\">\\n                        <ul>\\n                            \\n                            <li>\\n                                <a href=\"https://chrisalbon.com/deep_learning/keras/adding_dropout/\">Adding Dropout</a>\\n                            </li>\\n                            \\n                            <li>\\n                                <a href=\"https://chrisalbon.com/deep_learning/keras/convolutional_neural_network/\">Convolutional Neural Network</a>\\n                            </li>\\n                            \\n                            <li>\\n                                <a href=\"https://chrisalbon.com/deep_learning/keras/feedforward_neural_network_for_binary_classification/\">Feedforward Neural Network For Binary Classification</a>\\n                            </li>\\n                            \\n                            <li>\\n                                <a href=\"https://chrisalbon.com/deep_learning/keras/feedforward_neural_network_for_multiclass_classification/\">Feedforward Neural Network For Multiclass Classification</a>\\n                            </li>\\n                            \\n                            <li>\\n                                <a href=\"https://chrisalbon.com/deep_learning/keras/feedforward_neural_network_for_regression/\">Feedforward Neural Networks For Regression</a>\\n                            </li>\\n                            \\n                            <li>\\n                                <a href=\"https://chrisalbon.com/deep_learning/keras/lstm_recurrent_neural_network/\">LSTM Recurrent Neural Network</a>\\n                            </li>\\n                            \\n                            <li>\\n                                <a href=\"https://chrisalbon.com/deep_learning/keras/neural_network_early_stopping/\">Neural Network Early Stopping</a>\\n                            </li>\\n                            \\n                            <li>\\n                                <a href=\"https://chrisalbon.com/deep_learning/keras/neural_network_weight_regularization/\">Neural Network Weight Regularization</a>\\n                            </li>\\n                            \\n                            <li>\\n                                <a href=\"https://chrisalbon.com/deep_learning/keras/preprocessing_data_for_neural_networks/\">Preprocessing Data For Neural Networks</a>\\n                            </li>\\n                            \\n                            <li>\\n                                <a href=\"https://chrisalbon.com/deep_learning/keras/save_model_training_progress/\">Save Model Training Progress</a>\\n                            </li>\\n                            \\n                            <li>\\n                                <a href=\"https://chrisalbon.com/deep_learning/keras/tuning_neural_network_hyperparameters/\">Tuning Neural Network Hyperparameters</a>\\n                            </li>\\n                            \\n                            <li>\\n                                <a href=\"https://chrisalbon.com/deep_learning/keras/visualize_loss_history/\">Visualize Loss History</a>\\n                            </li>\\n                            \\n                            <li>\\n                                <a href=\"https://chrisalbon.com/deep_learning/keras/visualize_neural_network_architecture/\">Visualize Neural Network Architecutre</a>\\n                            </li>\\n                            \\n                            <li>\\n                                <a href=\"https://chrisalbon.com/deep_learning/keras/visualize_performance_history/\">Visualize Performance History</a>\\n                            </li>\\n                            \\n                            <li>\\n                                <a href=\"https://chrisalbon.com/deep_learning/keras/k-fold_cross-validating_neural_networks/\">k-Fold Cross-Validating Neural Networks</a>\\n                            </li>\\n                            \\n                        </ul>\\n                    </div>\\n                </div>\\n            </div>\\n        </div>\\n\\n        <div class=\"row\">\\n            <div class=\"col-sm-12\">\\n                <div class=\"card\">\\n                    <h4 class=\"card-header\">PyTorch</h4>\\n                    <div class=\"card-body\">\\n                        <ul>\\n                            \\n                            <li>\\n                                <a href=\"https://chrisalbon.com/deep_learning/pytorch/basics/check_if_pytorch_is_using_gpu/\">Check If PyTorch Is Using The GPU</a>\\n                            </li>\\n                            \\n                        </ul>\\n                    </div>\\n                </div>\\n            </div>\\n        </div>\\n\\n        <div class=\"row\" id=\"python\">\\n            <div class=\"col-sm-12\">\\n                <h3 class=\"category_header\">Python</h3>\\n            </div>\\n        </div>\\n\\n\\n        <div class=\"row\">\\n            <div class=\"col-sm-12\">\\n                <div class=\"card\">\\n                    <h4 class=\"card-header\">Basics</h4>\\n                    <div class=\"card-body\">\\n                        <ul>\\n                            \\n                            <li>\\n                                <a href=\"https://chrisalbon.com/python/basics/add_padding_around_string/\">Add Padding Around String</a>\\n                            </li>\\n                            \\n                            <li>\\n                                <a href=\"https://chrisalbon.com/python/basics/all_combinations_of_a_list_of_objects/\">All Combinations For A List Of Objects</a>\\n                            </li>\\n                            \\n                            <li>\\n                                <a href=\"https://chrisalbon.com/python/basics/apply_operations_over_items_in_lists/\">Apply Operations Over Items In A List</a>\\n                            </li>\\n                            \\n                            <li>\\n                                <a href=\"https://chrisalbon.com/python/basics/applying_functions_to_list_items/\">Applying Functions To List Items</a>\\n                            </li>\\n                            \\n                            <li>\\n                                <a href=\"https://chrisalbon.com/python/basics/arithmetic_basics/\">Arithmetic Basics</a>\\n                            </li>\\n                            \\n                            <li>\\n                                <a href=\"https://chrisalbon.com/python/basics/assignment_operators/\">Assignment Operators</a>\\n                            </li>\\n                            \\n                            <li>\\n                                <a href=\"https://chrisalbon.com/python/basics/numpy_array_basic_operations/\">Basic Operations With NumPy Array</a>\\n                            </li>\\n                            \\n                            <li>\\n                                <a href=\"https://chrisalbon.com/python/basics/breaking_up_string_variables/\">Breaking Up String Variables</a>\\n                            </li>\\n                            \\n                            <li>\\n                                <a href=\"https://chrisalbon.com/python/basics/brute_force_d20_simulator/\">Brute Force D20 Roll Simulator</a>\\n                            </li>\\n                            \\n                            <li>\\n                                <a href=\"https://chrisalbon.com/python/basics/cartesian_product/\">Cartesian Product</a>\\n                            </li>\\n                            \\n                            <li>\\n                                <a href=\"https://chrisalbon.com/python/basics/chain_together_lists/\">Chain Together Lists</a>\\n                            </li>\\n                            \\n                            <li>\\n                                <a href=\"https://chrisalbon.com/python/basics/cleaning_text/\">Cleaning Text</a>\\n                            </li>\\n                            \\n                            <li>\\n                                <a href=\"https://chrisalbon.com/python/basics/compare_two_dictionaries/\">Compare Two Dictionaries</a>\\n                            </li>\\n                            \\n                            <li>\\n                                <a href=\"https://chrisalbon.com/python/basics/concurrent_processing/\">Concurrent Processing</a>\\n                            </li>\\n                            \\n                            <li>\\n                                <a href=\"https://chrisalbon.com/python/basics/continue_and_break_loops/\">Continue And Break Loops</a>\\n                            </li>\\n                            \\n                            <li>\\n                                <a href=\"https://chrisalbon.com/python/basics/convert_html_symbols_to_strings/\">Convert HTML Characters To Strings</a>\\n                            </li>\\n                            \\n                            <li>\\n                                <a href=\"https://chrisalbon.com/python/basics/strings_to_datetime/\">Converting Strings To Datetime</a>\\n                            </li>\\n                            \\n                            <li>\\n                                <a href=\"https://chrisalbon.com/python/basics/create_a_new_file_and_the_write_to_it/\">Create A New File Then Write To It</a>\\n                            </li>\\n                            \\n                            <li>\\n                                <a href=\"https://chrisalbon.com/python/basics/create_a_temporary_file/\">Create A Temporary File</a>\\n                            </li>\\n                            \\n                            <li>\\n                                <a href=\"https://chrisalbon.com/python/basics/data_structure_basics/\">Data Structure Basics</a>\\n                            </li>\\n                            \\n                            <li>\\n                                <a href=\"https://chrisalbon.com/python/basics/date_and_time_basics/\">Date And Time Basics</a>\\n                            </li>\\n                            \\n                            <li>\\n                                <a href=\"https://chrisalbon.com/python/basics/dictionary_basics/\">Dictionary Basics</a>\\n                            </li>\\n                            \\n                            <li>\\n                                <a href=\"https://chrisalbon.com/python/basics/display_json/\">Display JSON</a>\\n                            </li>\\n                            \\n                            <li>\\n                                <a href=\"https://chrisalbon.com/python/basics/display_scientific_notation_as_floats/\">Display Scientific Notation As Floats</a>\\n                            </li>\\n                            \\n                            <li>\\n                                <a href=\"https://chrisalbon.com/python/basics/exiting_a_loop/\">Exiting A Loop</a>\\n                            </li>\\n                            \\n                            <li>\\n                                <a href=\"https://chrisalbon.com/python/basics/find_the_max_value_in_a_dictionary/\">Find The Max Value In A Dictionary</a>\\n                            </li>\\n                            \\n                            <li>\\n                                <a href=\"https://chrisalbon.com/python/basics/flatten_list_of_lists/\">Flatten Lists Of Lists</a>\\n                            </li>\\n                            \\n                            <li>\\n                                <a href=\"https://chrisalbon.com/python/basics/for_loops/\">For Loop</a>\\n                            </li>\\n                            \\n                            <li>\\n                                <a href=\"https://chrisalbon.com/python/basics/formatting_numbers/\">Formatting Numbers</a>\\n                            </li>\\n                            \\n                            <li>\\n                                <a href=\"https://chrisalbon.com/python/basics/function_annotation_examples/\">Function Annotation Examples</a>\\n                            </li>\\n                            \\n                            <li>\\n                                <a href=\"https://chrisalbon.com/python/basics/function_basics/\">Function Basics</a>\\n                            </li>\\n                            \\n                            <li>\\n                                <a href=\"https://chrisalbon.com/python/basics/functions_vs_generators/\">Functions Vs. Generators</a>\\n                            </li>\\n                            \\n                            <li>\\n                                <a href=\"https://chrisalbon.com/python/basics/generating_random_numbers_with_numpy/\">Generating Random Numbers With NumPy</a>\\n                            </li>\\n                            \\n                            <li>\\n                                <a href=\"https://chrisalbon.com/python/basics/generator_expressions/\">Generator Expressions</a>\\n                            </li>\\n                            \\n                            <li>\\n                                <a href=\"https://chrisalbon.com/python/basics/hard_wrapping_text/\">Hard Wrapping Text</a>\\n                            </li>\\n                            \\n                            <li>\\n                                <a href=\"https://chrisalbon.com/python/basics/how_to_use_default_dicts/\">How To Use Default Dicts</a>\\n                            </li>\\n                            \\n                            <li>\\n                                <a href=\"https://chrisalbon.com/python/basics/ifelse_on_any_or_all_elements/\">If Else On Any Or All Elements</a>\\n                            </li>\\n                            \\n                            <li>\\n                                <a href=\"https://chrisalbon.com/python/basics/indexing_and_slicing_numpy_arrays/\">Indexing And Slicing NumPy Arrays</a>\\n                            </li>\\n                            \\n                            <li>\\n                                <a href=\"https://chrisalbon.com/python/basics/numpy_indexing_and_slicing/\">Indexing And Slicing NumPy Arrays</a>\\n                            </li>\\n                            \\n                            <li>\\n                                <a href=\"https://chrisalbon.com/python/basics/iterate_ifelse_over_list/\">Iterate An Ifelse Over A List</a>\\n                            </li>\\n                            \\n                            <li>\\n                                <a href=\"https://chrisalbon.com/python/basics/iterate_over_multiple_lists_simultaneously/\">Iterate Over Multiple Lists Simultaneously</a>\\n                            </li>\\n                            \\n                            <li>\\n                                <a href=\"https://chrisalbon.com/python/basics/iterating_over_dictionary_keys/\">Iterating Over Dictionary Keys</a>\\n                            </li>\\n                            \\n                            <li>\\n                                <a href=\"https://chrisalbon.com/python/basics/lambda_functions/\">Lambda Functions</a>\\n                            </li>\\n                            \\n                            <li>\\n                                <a href=\"https://chrisalbon.com/python/basics/list_all_files_of_particular_type_in_directory/\">List All Files Of Certain Type In A Directory</a>\\n                            </li>\\n                            \\n                            <li>\\n                                <a href=\"https://chrisalbon.com/python/basics/logical_operations/\">Logical Operations</a>\\n                            </li>\\n                            \\n                            <li>\\n                                <a href=\"https://chrisalbon.com/python/basics/looping_over_two_lists/\">Looping Over Two Lists</a>\\n                            </li>\\n                            \\n                            <li>\\n                                <a href=\"https://chrisalbon.com/python/basics/math_operations/\">Mathematical Operations</a>\\n                            </li>\\n                            \\n                            <li>\\n                                <a href=\"https://chrisalbon.com/python/basics/mocking_functions/\">Mocking Functions</a>\\n                            </li>\\n                            \\n                            <li>\\n                                <a href=\"https://chrisalbon.com/python/basics/nested_for_loops_using_list_comprehension/\">Nested For Loops Using List Comprehension</a>\\n                            </li>\\n                            \\n                            <li>\\n                                <a href=\"https://chrisalbon.com/python/basics/nesting_lists/\">Nesting Lists</a>\\n                            </li>\\n                            \\n                            <li>\\n                                <a href=\"https://chrisalbon.com/python/basics/numpy_array_basics/\">Numpy Array Basics</a>\\n                            </li>\\n                            \\n                            <li>\\n                                <a href=\"https://chrisalbon.com/python/basics/parallel_processing/\">Parallel Processing</a>\\n                            </li>\\n                            \\n                            <li>\\n                                <a href=\"https://chrisalbon.com/python/basics/partial_function_applications/\">Partial Function Applications</a>\\n                            </li>\\n                            \\n                            <li>\\n                                <a href=\"https://chrisalbon.com/python/basics/priority_queues/\">Priority Queues</a>\\n                            </li>\\n                            \\n                            <li>\\n                                <a href=\"https://chrisalbon.com/python/basics/queues_and_stacks/\">Queues And Stacks</a>\\n                            </li>\\n                            \\n                            <li>\\n                                <a href=\"https://chrisalbon.com/python/basics/recursive_functions/\">Recursive Functions</a>\\n                            </li>\\n                            \\n                            <li>\\n                                <a href=\"https://chrisalbon.com/python/basics/schedule_run_in_the_future/\">Scheduling Jobs In The Future</a>\\n                            </li>\\n                            \\n                            <li>\\n                                <a href=\"https://chrisalbon.com/python/basics/select_random_element_from_list/\">Select Random Element From A List</a>\\n                            </li>\\n                            \\n                            <li>\\n                                <a href=\"https://chrisalbon.com/python/basics/filter_items_in_list_with_filter/\">Selecting Items In A List With Filters</a>\\n                            </li>\\n                            \\n                            <li>\\n                                <a href=\"https://chrisalbon.com/python/basics/set_the_color_of_a_matplotlib/\">Set The Color Of A Matplotlib Plot</a>\\n                            </li>\\n                            \\n                            <li>\\n                                <a href=\"https://chrisalbon.com/python/basics/sort_a_list_by_last_name/\">Sort A List Of Names By Last Name</a>\\n                            </li>\\n                            \\n                            <li>\\n                                <a href=\"https://chrisalbon.com/python/basics/sort_a_list_of_strings_by_length/\">Sort A List Of Strings By Length</a>\\n                            </li>\\n                            \\n                            <li>\\n                                <a href=\"https://chrisalbon.com/python/basics/store_api_credentials_for_open_source_projects/\">Store API Credentials For Open Source Projects</a>\\n                            </li>\\n                            \\n                            <li>\\n                                <a href=\"https://chrisalbon.com/python/basics/string_formatting/\">String Formatting</a>\\n                            </li>\\n                            \\n                            <li>\\n                                <a href=\"https://chrisalbon.com/python/basics/string_indexing/\">String Indexing</a>\\n                            </li>\\n                            \\n                            <li>\\n                                <a href=\"https://chrisalbon.com/python/basics/string_operations/\">String Operations</a>\\n                            </li>\\n                            \\n                            <li>\\n                                <a href=\"https://chrisalbon.com/python/basics/swapping_variable_values/\">Swapping Variable Values</a>\\n                            </li>\\n                            \\n                            <li>\\n                                <a href=\"https://chrisalbon.com/python/basics/try_except_finally/\">Try, Except, and Finally</a>\\n                            </li>\\n                            \\n                            <li>\\n                                <a href=\"https://chrisalbon.com/python/basics/unpacking_a_tuple/\">Unpacking A Tuple</a>\\n                            </li>\\n                            \\n                            <li>\\n                                <a href=\"https://chrisalbon.com/python/basics/unpacking_function_arguments/\">Unpacking Function Arguments</a>\\n                            </li>\\n                            \\n                            <li>\\n                                <a href=\"https://chrisalbon.com/python/basics/use_command_line_arguments_in_a_function/\">Use Command Line Arguments In A Function</a>\\n                            </li>\\n                            \\n                            <li>\\n                                <a href=\"https://chrisalbon.com/python/basics/using_named_tuples_to_store_data/\">Using Named Tuples To Store Data</a>\\n                            </li>\\n                            \\n                            <li>\\n                                <a href=\"https://chrisalbon.com/python/basics/any_all_max_min_sum/\">any(), all(), max(), min(), sum()</a>\\n                            </li>\\n                            \\n                            <li>\\n                                <a href=\"https://chrisalbon.com/python/basics/if_and_if_else_statements/\">if and if else</a>\\n                            </li>\\n                            \\n                            <li>\\n                                <a href=\"https://chrisalbon.com/python/basics/repr_vs_str/\">repr vs. str</a>\\n                            </li>\\n                            \\n                            <li>\\n                                <a href=\"https://chrisalbon.com/python/basics/while_statements/\">while Statement</a>\\n                            </li>\\n                            \\n                        </ul>\\n                    </div>\\n                </div>\\n            </div>\\n        </div>\\n\\n        <div class=\"row\">\\n            <div class=\"col-sm-12\">\\n                <div class=\"card\">\\n                    <h4 class=\"card-header\">Data Wrangling</h4>\\n                    <div class=\"card-body\">\\n                        <ul>\\n                            \\n                            <li>\\n                                <a href=\"https://chrisalbon.com/python/data_wrangling/pandas_apply_function_by_group/\">Apply Functions By Group In Pandas</a>\\n                            </li>\\n                            \\n                            <li>\\n                                <a href=\"https://chrisalbon.com/python/data_wrangling/pandas_apply_operations_to_groups/\">Apply Operations To Groups In Pandas</a>\\n                            </li>\\n                            \\n                            <li>\\n                                <a href=\"https://chrisalbon.com/python/data_wrangling/pandas_apply_operations_to_dataframes/\">Applying Operations Over pandas Dataframes</a>\\n                            </li>\\n                            \\n                            <li>\\n                                <a href=\"https://chrisalbon.com/python/data_wrangling/pandas_assign_new_column_dataframe/\">Assign A New Column To A Pandas DataFrame</a>\\n                            </li>\\n                            \\n                            <li>\\n                                <a href=\"https://chrisalbon.com/python/data_wrangling/break_list_into_chunks_of_equal_size/\">Break A List Into N-Sized Chunks</a>\\n                            </li>\\n                            \\n                            <li>\\n                                <a href=\"https://chrisalbon.com/python/data_wrangling/pandas_regex_to_create_columns/\">Breaking Up A String Into Columns Using Regex In pandas</a>\\n                            </li>\\n                            \\n                            <li>\\n                                <a href=\"https://chrisalbon.com/python/data_wrangling/columns_shared_by_two_data_frames/\">Columns Shared By Two Data Frames</a>\\n                            </li>\\n                            \\n                            <li>\\n                                <a href=\"https://chrisalbon.com/python/data_wrangling/construct_a_dictionary_from_multiple_lists/\">Construct A Dictionary From Multiple Lists</a>\\n                            </li>\\n                            \\n                            <li>\\n                                <a href=\"https://chrisalbon.com/python/data_wrangling/csv_to_python_code/\">Convert A CSV Into Python Code To Recreate It</a>\\n                            </li>\\n                            \\n                            <li>\\n                                <a href=\"https://chrisalbon.com/python/data_wrangling/pandas_convert_categorical_to_dummies/\">Convert A Categorical Variable Into Dummy Variables</a>\\n                            </li>\\n                            \\n                            <li>\\n                                <a href=\"https://chrisalbon.com/python/data_wrangling/pandas_convert_numeric_categorical_to_numeric_with_patsy/\">Convert A Categorical Variable Into Dummy Variables</a>\\n                            </li>\\n                            \\n                            <li>\\n                                <a href=\"https://chrisalbon.com/python/data_wrangling/convert_categorical_to_numeric/\">Convert A String Categorical Variable To A Numeric Variable</a>\\n                            </li>\\n                            \\n                            <li>\\n                                <a href=\"https://chrisalbon.com/python/data_wrangling/pandas_convert_to_datetime/\">Convert A Variable To A Time Variable In pandas</a>\\n                            </li>\\n                            \\n                            <li>\\n                                <a href=\"https://chrisalbon.com/python/data_wrangling/pandas_dataframe_count_values/\">Count Values In Pandas Dataframe</a>\\n                            </li>\\n                            \\n                            <li>\\n                                <a href=\"https://chrisalbon.com/python/data_wrangling/pandas_create_pipeline/\">Create A Pipeline In Pandas</a>\\n                            </li>\\n                            \\n                            <li>\\n                                <a href=\"https://chrisalbon.com/python/data_wrangling/pandas_create_column_with_loop/\">Create A pandas Column With A For Loop</a>\\n                            </li>\\n                            \\n                            <li>\\n                                <a href=\"https://chrisalbon.com/python/data_wrangling/creating_counts_of_items/\">Create Counts Of Items</a>\\n                            </li>\\n                            \\n                            <li>\\n                                <a href=\"https://chrisalbon.com/python/data_wrangling/pandas_create_column_using_conditional/\">Create a Column Based on a Conditional in pandas</a>\\n                            </li>\\n                            \\n                            <li>\\n                                <a href=\"https://chrisalbon.com/python/data_wrangling/create_list_from_dictionary_keys_and_values/\">Creating Lists From Dictionary Keys And Values</a>\\n                            </li>\\n                            \\n                            <li>\\n                                <a href=\"https://chrisalbon.com/python/data_wrangling/pandas_crosstabs/\">Crosstabs In pandas</a>\\n                            </li>\\n                            \\n                            <li>\\n                                <a href=\"https://chrisalbon.com/python/data_wrangling/pandas_delete_duplicates/\">Delete Duplicates In pandas</a>\\n                            </li>\\n                            \\n                            <li>\\n                                <a href=\"https://chrisalbon.com/python/data_wrangling/pandas_dataframe_descriptive_stats/\">Descriptive Statistics For pandas Dataframe</a>\\n                            </li>\\n                            \\n                            <li>\\n                                <a href=\"https://chrisalbon.com/python/data_wrangling/pandas_dropping_column_and_rows/\">Dropping Rows And Columns In pandas Dataframe</a>\\n                            </li>\\n                            \\n                            <li>\\n                                <a href=\"https://chrisalbon.com/python/data_wrangling/enumerate_a_list/\">Enumerate A List</a>\\n                            </li>\\n                            \\n                            <li>\\n                                <a href=\"https://chrisalbon.com/python/data_wrangling/pandas_expand_cells_containing_lists/\">Expand Cells Containing Lists Into Their Own Variables In Pandas</a>\\n                            </li>\\n                            \\n                            <li>\\n                                <a href=\"https://chrisalbon.com/python/data_wrangling/filter_dataframes/\">Filter pandas Dataframes</a>\\n                            </li>\\n                            \\n                            <li>\\n                                <a href=\"https://chrisalbon.com/python/data_wrangling/pandas_find_largest_value_in_column/\">Find Largest Value In A Dataframe Column</a>\\n                            </li>\\n                            \\n                            <li>\\n                                <a href=\"https://chrisalbon.com/python/data_wrangling/pandas_find_unique_values/\">Find Unique Values In Pandas Dataframes</a>\\n                            </li>\\n                            \\n                            <li>\\n                                <a href=\"https://chrisalbon.com/python/data_wrangling/geocoding_and_reverse_geocoding/\">Geocoding And Reverse Geocoding</a>\\n                            </li>\\n                            \\n                            <li>\\n                                <a href=\"https://chrisalbon.com/python/data_wrangling/geolocate_a_city_and_country/\">Geolocate A City And Country</a>\\n                            </li>\\n                            \\n                            <li>\\n                                <a href=\"https://chrisalbon.com/python/data_wrangling/geolocate_a_city_or_country/\">Geolocate A City Or Country</a>\\n                            </li>\\n                            \\n                            <li>\\n                                <a href=\"https://chrisalbon.com/python/data_wrangling/pandas_group_by_time/\">Group A Time Series With pandas</a>\\n                            </li>\\n                            \\n                            <li>\\n                                <a href=\"https://chrisalbon.com/python/data_wrangling/pandas_group_data_by_time/\">Group Data By Time</a>\\n                            </li>\\n                            \\n                            <li>\\n                                <a href=\"https://chrisalbon.com/python/data_wrangling/group_pandas_data_by_hour_of_the_day/\">Group Pandas Data By Hour Of The Day</a>\\n                            </li>\\n                            \\n                            <li>\\n                                <a href=\"https://chrisalbon.com/python/data_wrangling/pandas_group_rows_by/\">Grouping Rows In pandas</a>\\n                            </li>\\n                            \\n                            <li>\\n                                <a href=\"https://chrisalbon.com/python/data_wrangling/pandas_hierarchical_data/\">Hierarchical Data In pandas</a>\\n                            </li>\\n                            \\n                            <li>\\n                                <a href=\"https://chrisalbon.com/python/data_wrangling/pandas_join_merge_dataframe/\">Join And Merge Pandas Dataframe</a>\\n                            </li>\\n                            \\n                            <li>\\n                                <a href=\"https://chrisalbon.com/python/data_wrangling/pandas_list_unique_values_in_column/\">List Unique Values In A pandas Column</a>\\n                            </li>\\n                            \\n                            <li>\\n                                <a href=\"https://chrisalbon.com/python/data_wrangling/load_json_file_into_pandas/\">Load A JSON File Into Pandas</a>\\n                            </li>\\n                            \\n                            <li>\\n                                <a href=\"https://chrisalbon.com/python/data_wrangling/load_excel_file_into_pandas/\">Load An Excel File Into Pandas</a>\\n                            </li>\\n                            \\n                            <li>\\n                                <a href=\"https://chrisalbon.com/python/data_wrangling/pandas_dataframe_load_xls/\">Load Excel Spreadsheet As pandas Dataframe</a>\\n                            </li>\\n                            \\n                            <li>\\n                                <a href=\"https://chrisalbon.com/python/data_wrangling/pandas_dataframe_importing_csv/\">Loading A CSV Into pandas</a>\\n                            </li>\\n                            \\n                            <li>\\n                                <a href=\"https://chrisalbon.com/python/data_wrangling/pandas_long_to_wide/\">Long To Wide Format</a>\\n                            </li>\\n                            \\n                            <li>\\n                                <a href=\"https://chrisalbon.com/python/data_wrangling/pandas_lowercase_column_names/\">Lower Case Column Names In Pandas Dataframe</a>\\n                            </li>\\n                            \\n                            <li>\\n                                <a href=\"https://chrisalbon.com/python/data_wrangling/pandas_make_new_columns_using_functions/\">Make New Columns Using Functions</a>\\n                            </li>\\n                            \\n                            <li>\\n                                <a href=\"https://chrisalbon.com/python/data_wrangling/pandas_map_values_to_values/\">Map External Values To Dataframe Values in pandas</a>\\n                            </li>\\n                            \\n                            <li>\\n                                <a href=\"https://chrisalbon.com/python/data_wrangling/pandas_missing_data/\">Missing Data In pandas Dataframes</a>\\n                            </li>\\n                            \\n                            <li>\\n                                <a href=\"https://chrisalbon.com/python/data_wrangling/pandas_moving_average/\">Moving Averages In pandas</a>\\n                            </li>\\n                            \\n                            <li>\\n                                <a href=\"https://chrisalbon.com/python/data_wrangling/pandas_normalize_column/\">Normalize A Column In pandas</a>\\n                            </li>\\n                            \\n                            <li>\\n                                <a href=\"https://chrisalbon.com/python/data_wrangling/pandas_pivot_tables/\">Pivot Tables In pandas</a>\\n                            </li>\\n                            \\n                            <li>\\n                                <a href=\"https://chrisalbon.com/python/data_wrangling/pandas_change_column_of_strings/\">Quickly Change A Column Of Strings In Pandas</a>\\n                            </li>\\n                            \\n                            <li>\\n                                <a href=\"https://chrisalbon.com/python/data_wrangling/pandas_sampling_dataframe/\">Random Sampling Dataframe</a>\\n                            </li>\\n                            \\n                            <li>\\n                                <a href=\"https://chrisalbon.com/python/data_wrangling/pandas_dataframe_ranking_rows/\">Ranking Rows Of Pandas Dataframes</a>\\n                            </li>\\n                            \\n                            <li>\\n                                <a href=\"https://chrisalbon.com/python/data_wrangling/regular_expressions_basics/\">Regular Expression Basics</a>\\n                            </li>\\n                            \\n                            <li>\\n                                <a href=\"https://chrisalbon.com/python/data_wrangling/regex_by_example/\">Regular Expression By Example</a>\\n                            </li>\\n                            \\n                            <li>\\n                                <a href=\"https://chrisalbon.com/python/data_wrangling/pandas_dataframe_reindexing/\">Reindexing pandas Series And Dataframes</a>\\n                            </li>\\n                            \\n                            <li>\\n                                <a href=\"https://chrisalbon.com/python/data_wrangling/pandas_rename_column_headers/\">Rename Column Headers In pandas</a>\\n                            </li>\\n                            \\n                            <li>\\n                                <a href=\"https://chrisalbon.com/python/data_wrangling/pandas_rename_multiple_columns/\">Rename Multiple pandas Dataframe Column Names</a>\\n                            </li>\\n                            \\n                            <li>\\n                                <a href=\"https://chrisalbon.com/python/data_wrangling/pandas_replace_values/\">Replacing Values In pandas</a>\\n                            </li>\\n                            \\n                            <li>\\n                                <a href=\"https://chrisalbon.com/python/data_wrangling/pandas_saving_dataframe_as_csv/\">Saving A pandas Dataframe As A CSV</a>\\n                            </li>\\n                            \\n                            <li>\\n                                <a href=\"https://chrisalbon.com/python/data_wrangling/pandas_search_column_for_value/\">Search A pandas Column For A Value</a>\\n                            </li>\\n                            \\n                            <li>\\n                                <a href=\"https://chrisalbon.com/python/data_wrangling/pandas_select_rows_when_column_has_certain_values/\">Select Rows When Columns Contain Certain Values</a>\\n                            </li>\\n                            \\n                            <li>\\n                                <a href=\"https://chrisalbon.com/python/data_wrangling/pandas_select_rows_containing_values/\">Select Rows With A Certain Value</a>\\n                            </li>\\n                            \\n                            <li>\\n                                <a href=\"https://chrisalbon.com/python/data_wrangling/pandas_select_rows_multiple_filters/\">Select Rows With Multiple Filters</a>\\n                            </li>\\n                            \\n                            <li>\\n                                <a href=\"https://chrisalbon.com/python/data_wrangling/pandas_selecting_rows_on_conditions/\">Selecting pandas DataFrame Rows Based On Conditions</a>\\n                            </li>\\n                            \\n                            <li>\\n                                <a href=\"https://chrisalbon.com/python/data_wrangling/pandas_dataframe_examples/\">Simple Example Dataframes In pandas</a>\\n                            </li>\\n                            \\n                            <li>\\n                                <a href=\"https://chrisalbon.com/python/data_wrangling/pandas_sorting_rows_dataframe/\">Sorting Rows In pandas Dataframes</a>\\n                            </li>\\n                            \\n                            <li>\\n                                <a href=\"https://chrisalbon.com/python/data_wrangling/pandas_split_lat_and_long_into_variables/\">Split Lat/Long Coordinate Variables Into Separate Variables</a>\\n                            </li>\\n                            \\n                            <li>\\n                                <a href=\"https://chrisalbon.com/python/data_wrangling/streaming_data_pipeline/\">Streaming Data Pipeline</a>\\n                            </li>\\n                            \\n                            <li>\\n                                <a href=\"https://chrisalbon.com/python/data_wrangling/pandas_string_munging/\">String Munging In Dataframe</a>\\n                            </li>\\n                            \\n                            <li>\\n                                <a href=\"https://chrisalbon.com/python/data_wrangling/pandas_list_comprehension/\">Using List Comprehensions With pandas</a>\\n                            </li>\\n                            \\n                            <li>\\n                                <a href=\"https://chrisalbon.com/python/data_wrangling/pandas_with_seaborn/\">Using Seaborn To Visualize A pandas Dataframe</a>\\n                            </li>\\n                            \\n                            <li>\\n                                <a href=\"https://chrisalbon.com/python/data_wrangling/pandas_data_structures/\">pandas Data Structures</a>\\n                            </li>\\n                            \\n                            <li>\\n                                <a href=\"https://chrisalbon.com/python/data_wrangling/pandas_time_series_basics/\">pandas Time Series Basics</a>\\n                            </li>\\n                            \\n                        </ul>\\n                    </div>\\n                </div>\\n            </div>\\n        </div>\\n\\n        <div class=\"row\">\\n            <div class=\"col-sm-12\">\\n                <div class=\"card\">\\n                    <h4 class=\"card-header\">Data Visualization</h4>\\n                    <div class=\"card-body\">\\n                        <ul>\\n                            \\n                            <li>\\n                                <a href=\"https://chrisalbon.com/python/data_visualization/matplotlib_back_to_back_bar_plot/\">Back To Back Bar Plot In MatPlotLib</a>\\n                            </li>\\n                            \\n                            <li>\\n                                <a href=\"https://chrisalbon.com/python/data_visualization/matplotlib_bar_plot/\">Bar Plot In MatPlotLib</a>\\n                            </li>\\n                            \\n                            <li>\\n                                <a href=\"https://chrisalbon.com/python/data_visualization/seaborn_color_palettes/\">Color Palettes in Seaborn</a>\\n                            </li>\\n                            \\n                            <li>\\n                                <a href=\"https://chrisalbon.com/python/data_visualization/seaborn_pandas_timeseries_plot/\">Creating A Time Series Plot With Seaborn And pandas</a>\\n                            </li>\\n                            \\n                            <li>\\n                                <a href=\"https://chrisalbon.com/python/data_visualization/seaborn_scatterplot/\">Creating Scatterplots With Seaborn</a>\\n                            </li>\\n                            \\n                            <li>\\n                                <a href=\"https://chrisalbon.com/python/data_visualization/matplotlib_grouped_bar_plot/\">Group Bar Plot In MatPlotLib</a>\\n                            </li>\\n                            \\n                            <li>\\n                                <a href=\"https://chrisalbon.com/python/data_visualization/matplotlib_histogram/\">Histograms In MatPlotLib</a>\\n                            </li>\\n                            \\n                            <li>\\n                                <a href=\"https://chrisalbon.com/python/data_visualization/matplotlib_scatterplot_from_pandas/\">Making A Matplotlib Scatterplot From A Pandas Dataframe</a>\\n                            </li>\\n                            \\n                            <li>\\n                                <a href=\"https://chrisalbon.com/python/data_visualization/matplotlib_simple_example/\">Matplotlib, A Simple Example</a>\\n                            </li>\\n                            \\n                            <li>\\n                                <a href=\"https://chrisalbon.com/python/data_visualization/matplotlib_pie_chart/\">Pie Chart In MatPlotLib</a>\\n                            </li>\\n                            \\n                            <li>\\n                                <a href=\"https://chrisalbon.com/python/data_visualization/matplotlib_simple_scatterplot/\">Scatterplot In MatPlotLib</a>\\n                            </li>\\n                            \\n                            <li>\\n                                <a href=\"https://chrisalbon.com/python/data_visualization/matplotlib_percentage_stacked_bar_plot/\">Stacked Percentage Bar Plot In MatPlotLib</a>\\n                            </li>\\n                            \\n                        </ul>\\n                    </div>\\n                </div>\\n            </div>\\n        </div>\\n\\n        <div class=\"row\">\\n            <div class=\"col-sm-12\">\\n                <div class=\"card\">\\n                    <h4 class=\"card-header\">Web Scraping</h4>\\n                    <div class=\"card-body\">\\n                        <ul>\\n                            \\n                            <li>\\n                                <a href=\"https://chrisalbon.com/python/web_scraping/beautiful_soup_html_basics/\">Beautiful Soup Basic HTML Scraping</a>\\n                            </li>\\n                            \\n                            <li>\\n                                <a href=\"https://chrisalbon.com/python/web_scraping/beautiful_soup_drill_down/\">Drilling Down With Beautiful Soup</a>\\n                            </li>\\n                            \\n                            <li>\\n                                <a href=\"https://chrisalbon.com/python/web_scraping/monitor_a_website/\">Monitor A Website For Changes With Python</a>\\n                            </li>\\n                            \\n                        </ul>\\n                    </div>\\n                </div>\\n            </div>\\n        </div>\\n\\n        <div class=\"row\">\\n            <div class=\"col-sm-12\">\\n                <div class=\"card\">\\n                    <h4 class=\"card-header\">Testing</h4>\\n                    <div class=\"card-body\">\\n                        <ul>\\n                            \\n                            <li>\\n                                <a href=\"https://chrisalbon.com/python/testing/simple_unit_test/\">Simple Unit Test</a>\\n                            </li>\\n                            \\n                            <li>\\n                                <a href=\"https://chrisalbon.com/python/testing/test_code_speed/\">Test Code Speed</a>\\n                            </li>\\n                            \\n                            <li>\\n                                <a href=\"https://chrisalbon.com/python/testing/test_for_a_specific_exception/\">Test For A Specific Exception</a>\\n                            </li>\\n                            \\n                            <li>\\n                                <a href=\"https://chrisalbon.com/python/testing/test_if_an_output_is_close_to_a_value/\">Test If Output Is Close To A Value</a>\\n                            </li>\\n                            \\n                            <li>\\n                                <a href=\"https://chrisalbon.com/python/testing/testable_documentation/\">Testable Documentation</a>\\n                            </li>\\n                            \\n                        </ul>\\n                    </div>\\n                </div>\\n            </div>\\n        </div>\\n\\n        <div class=\"row\">\\n            <div class=\"col-sm-12\">\\n                <div class=\"card\">\\n                    <h4 class=\"card-header\">Logging</h4>\\n                    <div class=\"card-body\">\\n                        <ul>\\n                            \\n                            <li>\\n                                <a href=\"https://chrisalbon.com/python/logging/basic_logging/\">Basic Logging</a>\\n                            </li>\\n                            \\n                        </ul>\\n                    </div>\\n                </div>\\n            </div>\\n        </div>\\n\\n        <div class=\"row\">\\n            <div class=\"col-sm-12\">\\n                <div class=\"card\">\\n                    <h4 class=\"card-header\">Other</h4>\\n                    <div class=\"card-body\">\\n                        <ul>\\n                            \\n                            <li>\\n                                <a href=\"https://chrisalbon.com/python/other/generate_tweets_using_markov_chain/\">Generate Tweets Using Markov Chains</a>\\n                            </li>\\n                            \\n                            <li>\\n                                <a href=\"https://chrisalbon.com/python/other/mine_a_twitter_hashtags_and_words/\">Mine Twitter&#39;s Stream For Hashtags Or Words</a>\\n                            </li>\\n                            \\n                            <li>\\n                                <a href=\"https://chrisalbon.com/python/other/scipy_simple_clustering/\">Simple Clustering With SciPy</a>\\n                            </li>\\n                            \\n                            <li>\\n                                <a href=\"https://chrisalbon.com/python/other/aisle_seat_probabilities/\">What Is The Probability An Economy Class Seat Is An Aisle Seat?</a>\\n                            </li>\\n                            \\n                        </ul>\\n                    </div>\\n                </div>\\n            </div>\\n        </div>\\n\\n        <div class=\"row\" id=\"statistics\">\\n            <div class=\"col-sm-12\">\\n                <h3 class=\"category_header\">Statistics</h3>\\n            </div>\\n        </div>\\n\\n        <div class=\"row\">\\n            <div class=\"col-sm-12\">\\n                <div class=\"card\">\\n                    <h4 class=\"card-header\">Basics</h4>\\n                    <div class=\"card-body\">\\n                        <ul>\\n                            \\n                            <li>\\n                                <a href=\"https://chrisalbon.com/statistics/basics/trimmed_mean/\">Trimmed Mean</a>\\n                            </li>\\n                            \\n                        </ul>\\n                    </div>\\n                </div>\\n            </div>\\n        </div>\\n\\n        <div class=\"row\">\\n            <div class=\"col-sm-12\">\\n                <div class=\"card\">\\n                    <h4 class=\"card-header\">Frequentist</h4>\\n                    <div class=\"card-body\">\\n                        <ul>\\n                            \\n                            <li>\\n                                <a href=\"https://chrisalbon.com/statistics/frequentist/bessel_correction/\">Bessels Correction</a>\\n                            </li>\\n                            \\n                            <li>\\n                                <a href=\"https://chrisalbon.com/statistics/frequentist/demonstrate_the_central_limit_theorem/\">Demonstrate The Central Limit Theorem</a>\\n                            </li>\\n                            \\n                            <li>\\n                                <a href=\"https://chrisalbon.com/statistics/frequentist/pearsons_correlation_coefficient/\">Pearsons Correlation Coefficient</a>\\n                            </li>\\n                            \\n                            <li>\\n                                <a href=\"https://chrisalbon.com/statistics/frequentist/probability_mass_functions/\">Probability Mass Functions</a>\\n                            </li>\\n                            \\n                            <li>\\n                                <a href=\"https://chrisalbon.com/statistics/frequentist/spearmans_rank_correlation/\">Spearmans Rank Correlation</a>\\n                            </li>\\n                            \\n                            <li>\\n                                <a href=\"https://chrisalbon.com/statistics/frequentist/t-tests/\">T-Tests</a>\\n                            </li>\\n                            \\n                            <li>\\n                                <a href=\"https://chrisalbon.com/statistics/frequentist/variance_and_standard_deviation/\">Variance And Standard Deviation</a>\\n                            </li>\\n                            \\n                        </ul>\\n                    </div>\\n                </div>\\n            </div>\\n        </div>\\n\\n        <div class=\"row\" id=\"scala\">\\n            <div class=\"col-sm-12\">\\n                <h3 class=\"category_header\">Scala</h3>\\n            </div>\\n        </div>\\n\\n        <div class=\"row\">\\n            <div class=\"col-sm-12\">\\n                <div class=\"card\">\\n                    <div class=\"card-body\">\\n                        <ul>\\n                            \\n                            <li>\\n                                <a href=\"https://chrisalbon.com/scala/basics/break_a_sequence_into_groups/\">Break A Sequence Into Groups</a>\\n                            </li>\\n                            \\n                            <li>\\n                                <a href=\"https://chrisalbon.com/scala/basics/change_data_type/\">Change Data Type</a>\\n                            </li>\\n                            \\n                            <li>\\n                                <a href=\"https://chrisalbon.com/scala/basics/chuck_sequence_into_equal_sized_groups/\">Chunk Sequence In Equal Sized Groups</a>\\n                            </li>\\n                            \\n                            <li>\\n                                <a href=\"https://chrisalbon.com/scala/basics/compare_two_floats/\">Compare Two Floats</a>\\n                            </li>\\n                            \\n                            <li>\\n                                <a href=\"https://chrisalbon.com/scala/basics/create_a_range/\">Create A Range</a>\\n                            </li>\\n                            \\n                            <li>\\n                                <a href=\"https://chrisalbon.com/scala/basics/extract_substring_using_regex/\">Extract Substrings Using Regex</a>\\n                            </li>\\n                            \\n                            <li>\\n                                <a href=\"https://chrisalbon.com/scala/basics/filter_a_sequence/\">Filter A Sequence</a>\\n                            </li>\\n                            \\n                            <li>\\n                                <a href=\"https://chrisalbon.com/scala/basics/find_largest_key_or_value_in_a_map/\">Find Largest Key Or Value In A Map</a>\\n                            </li>\\n                            \\n                            <li>\\n                                <a href=\"https://chrisalbon.com/scala/basics/flatten_sequence_of_sequences/\">Flatten Sequence Of Sequences</a>\\n                            </li>\\n                            \\n                            <li>\\n                                <a href=\"https://chrisalbon.com/scala/basics/for_loop_a_map/\">For Loop A Map</a>\\n                            </li>\\n                            \\n                            <li>\\n                                <a href=\"https://chrisalbon.com/scala/basics/for_looping/\">For Looping</a>\\n                            </li>\\n                            \\n                            <li>\\n                                <a href=\"https://chrisalbon.com/scala/basics/format_numbers_as_currency/\">Format Numbers As Currency</a>\\n                            </li>\\n                            \\n                            <li>\\n                                <a href=\"https://chrisalbon.com/scala/basics/if_else/\">If Else</a>\\n                            </li>\\n                            \\n                            <li>\\n                                <a href=\"https://chrisalbon.com/scala/basics/increment_and_decrement_numbers/\">Increment And Decrement Numbers</a>\\n                            </li>\\n                            \\n                            <li>\\n                                <a href=\"https://chrisalbon.com/scala/basics/insert_variables_into_strings/\">Insert Variables Into Strings</a>\\n                            </li>\\n                            \\n                            <li>\\n                                <a href=\"https://chrisalbon.com/scala/basics/iterate_over_a_map/\">Iterate Over A Map</a>\\n                            </li>\\n                            \\n                            <li>\\n                                <a href=\"https://chrisalbon.com/scala/basics/loop_a_collection/\">Loop A Collection</a>\\n                            </li>\\n                            \\n                            <li>\\n                                <a href=\"https://chrisalbon.com/scala/basics/make_numbers_pretty/\">Make Numbers Pretty</a>\\n                            </li>\\n                            \\n                            <li>\\n                                <a href=\"https://chrisalbon.com/scala/basics/mapping_a_function_to_a_collection/\">Mapping A Function To A Collection</a>\\n                            </li>\\n                            \\n                            <li>\\n                                <a href=\"https://chrisalbon.com/scala/basics/matching_conditions/\">Matching Conditions</a>\\n                            </li>\\n                            \\n                            <li>\\n                                <a href=\"https://chrisalbon.com/scala/basics/mutable_maps/\">Mutable Maps</a>\\n                            </li>\\n                            \\n                            <li>\\n                                <a href=\"https://chrisalbon.com/scala/basics/n_dimension_arrays/\">N Dimension Arrays</a>\\n                            </li>\\n                            \\n                            <li>\\n                                <a href=\"https://chrisalbon.com/scala/basics/partial_functions/\">Partial Functions</a>\\n                            </li>\\n                            \\n                            <li>\\n                                <a href=\"https://chrisalbon.com/scala/basics/random_integer_between_two_values/\">Random Integer Between Two Values</a>\\n                            </li>\\n                            \\n                            <li>\\n                                <a href=\"https://chrisalbon.com/scala/basics/replacing_parts_of_strings/\">Replacing Parts Of Strings</a>\\n                            </li>\\n                            \\n                            <li>\\n                                <a href=\"https://chrisalbon.com/scala/basics/search_a_map/\">Search A Map</a>\\n                            </li>\\n                            \\n                            <li>\\n                                <a href=\"https://chrisalbon.com/scala/basics/search_strings/\">Search Strings</a>\\n                            </li>\\n                            \\n                            <li>\\n                                <a href=\"https://chrisalbon.com/scala/basics/search_strings_with_regex/\">Search Strings Using Regex</a>\\n                            </li>\\n                            \\n                            <li>\\n                                <a href=\"https://chrisalbon.com/scala/basics/set_operations_on_sequences/\">Set Operations On Sequences</a>\\n                            </li>\\n                            \\n                            <li>\\n                                <a href=\"https://chrisalbon.com/scala/basics/sorting_sequences/\">Sorting Sequences</a>\\n                            </li>\\n                            \\n                            <li>\\n                                <a href=\"https://chrisalbon.com/scala/basics/split_strings/\">Split Strings</a>\\n                            </li>\\n                            \\n                            <li>\\n                                <a href=\"https://chrisalbon.com/scala/basics/try_catch_finally/\">Try, Catch, Finally</a>\\n                            </li>\\n                            \\n                            <li>\\n                                <a href=\"https://chrisalbon.com/scala/basics/variables_and_values/\">Variables And Values</a>\\n                            </li>\\n                            \\n                            <li>\\n                                <a href=\"https://chrisalbon.com/scala/basics/zip_together_two_lists/\">Zip Together Two Lists</a>\\n                            </li>\\n                            \\n                        </ul>\\n                    </div>\\n                </div>\\n            </div>\\n        </div>\\n\\n        <div class=\"row\" id=\"regex\">\\n            <div class=\"col-sm-12\">\\n                <h3 class=\"category_header\">Regular Expressions</h3>\\n            </div>\\n        </div>\\n\\n        <div class=\"row\">\\n            <div class=\"col-sm-12\">\\n                <div class=\"card\">\\n                    <div class=\"card-body\">\\n                        <ul>\\n                            \\n                            <li>\\n                                <a href=\"https://chrisalbon.com/regex/patterns/match_a_symbol/\">Match A Symbol</a>\\n                            </li>\\n                            \\n                            <li>\\n                                <a href=\"https://chrisalbon.com/regex/patterns/match_a_unicode_character/\">Match A Unicode Character</a>\\n                            </li>\\n                            \\n                            <li>\\n                                <a href=\"https://chrisalbon.com/regex/patterns/match_a_word/\">Match A Word</a>\\n                            </li>\\n                            \\n                            <li>\\n                                <a href=\"https://chrisalbon.com/regex/patterns/match_any_character/\">Match Any Character</a>\\n                            </li>\\n                            \\n                            <li>\\n                                <a href=\"https://chrisalbon.com/regex/patterns/match_any_of_a_list_of_symbols/\">Match Any Of A List Of Characters</a>\\n                            </li>\\n                            \\n                            <li>\\n                                <a href=\"https://chrisalbon.com/regex/patterns/match_any_of_series_of_characters/\">Match Any Of A Series Of Options</a>\\n                            </li>\\n                            \\n                            <li>\\n                                <a href=\"https://chrisalbon.com/regex/patterns/match_any_of_series_of_words/\">Match Any Of A Series Of Words</a>\\n                            </li>\\n                            \\n                            <li>\\n                                <a href=\"https://chrisalbon.com/regex/patterns/match_dates/\">Match Dates</a>\\n                            </li>\\n                            \\n                            <li>\\n                                <a href=\"https://chrisalbon.com/regex/patterns/match_email_addresses/\">Match Email Addresses</a>\\n                            </li>\\n                            \\n                            <li>\\n                                <a href=\"https://chrisalbon.com/regex/patterns/match_exact_text/\">Match Exact Text</a>\\n                            </li>\\n                            \\n                            <li>\\n                                <a href=\"https://chrisalbon.com/regex/patterns/match_integers_of_any_length/\">Match Integers Of Any Length</a>\\n                            </li>\\n                            \\n                            <li>\\n                                <a href=\"https://chrisalbon.com/regex/patterns/match_text_between_html_tags/\">Match Text Between HTML Tags</a>\\n                            </li>\\n                            \\n                            <li>\\n                                <a href=\"https://chrisalbon.com/regex/patterns/match_times/\">Match Times</a>\\n                            </li>\\n                            \\n                            <li>\\n                                <a href=\"https://chrisalbon.com/regex/patterns/match_urls/\">Match URLs</a>\\n                            </li>\\n                            \\n                            <li>\\n                                <a href=\"https://chrisalbon.com/regex/patterns/match_us_phone_numbers/\">Match US Phone Numbers</a>\\n                            </li>\\n                            \\n                            <li>\\n                                <a href=\"https://chrisalbon.com/regex/patterns/match_us_uk_spellings/\">Match US and UK Spellings</a>\\n                            </li>\\n                            \\n                            <li>\\n                                <a href=\"https://chrisalbon.com/regex/patterns/match_words_with_certain_ending/\">Match Words With A Certain Ending</a>\\n                            </li>\\n                            \\n                            <li>\\n                                <a href=\"https://chrisalbon.com/regex/patterns/match_zip_codes/\">Match ZIP Codes</a>\\n                            </li>\\n                            \\n                        </ul>\\n                    </div>\\n                </div>\\n            </div>\\n        </div>\\n\\n        <div class=\"row\" id=\"snowflake\">\\n            <div class=\"col-sm-12\">\\n                <h3 class=\"category_header\">Snowflake</h3>\\n            </div>\\n        </div>\\n\\n        <div class=\"row\">\\n            <div class=\"col-sm-12\">\\n                <div class=\"card\">\\n                    <h4 class=\"card-header\">Basics</h4>\\n                    <div class=\"card-body\">\\n                        <ul>\\n                            \\n                            <li>\\n                                <a href=\"https://chrisalbon.com/snowflake/sql/basics/convert_columns_into_rows/\">Convert Columns Into Rows</a>\\n                            </li>\\n                            \\n                            <li>\\n                                <a href=\"https://chrisalbon.com/snowflake/sql/basics/convert_data_types/\">Convert Data Types</a>\\n                            </li>\\n                            \\n                            <li>\\n                                <a href=\"https://chrisalbon.com/snowflake/sql/basics/create_dummy_columns/\">Create Dummy Columns</a>\\n                            </li>\\n                            \\n                            <li>\\n                                <a href=\"https://chrisalbon.com/snowflake/sql/basics/get_absolute_values/\">Get Absolute Values</a>\\n                            </li>\\n                            \\n                            <li>\\n                                <a href=\"https://chrisalbon.com/snowflake/sql/basics/get_rows_meeting_multiple_conditions/\">Get Rows Meetings Multiple Conditions</a>\\n                            </li>\\n                            \\n                            <li>\\n                                <a href=\"https://chrisalbon.com/snowflake/sql/basics/give_column_alias/\">Give Column An Alias</a>\\n                            </li>\\n                            \\n                            <li>\\n                                <a href=\"https://chrisalbon.com/snowflake/sql/basics/give_table_alias/\">Give Table An Alias</a>\\n                            </li>\\n                            \\n                            <li>\\n                                <a href=\"https://chrisalbon.com/snowflake/sql/basics/left_join/\">Left Join</a>\\n                            </li>\\n                            \\n                            <li>\\n                                <a href=\"https://chrisalbon.com/snowflake/sql/basics/query_table/\">Query A Table</a>\\n                            </li>\\n                            \\n                            <li>\\n                                <a href=\"https://chrisalbon.com/snowflake/sql/basics/return_first_few_rows/\">Return First Few Rows</a>\\n                            </li>\\n                            \\n                            <li>\\n                                <a href=\"https://chrisalbon.com/snowflake/sql/basics/return_n_rows_after_skipping_k_rows/\">Return N Rows After Skipping First K Rows</a>\\n                            </li>\\n                            \\n                            <li>\\n                                <a href=\"https://chrisalbon.com/snowflake/sql/basics/sample_rows_from_table/\">Sample Random Rows From A Table</a>\\n                            </li>\\n                            \\n                            <li>\\n                                <a href=\"https://chrisalbon.com/snowflake/sql/basics/sort_rows/\">Sort Rows By A Column&#39;s Values</a>\\n                            </li>\\n                            \\n                        </ul>\\n                    </div>\\n                </div>\\n            </div>\\n        </div>\\n\\n        <div class=\"row\">\\n            <div class=\"col-sm-12\">\\n                <div class=\"card\">\\n                    <h4 class=\"card-header\">Tables</h4>\\n                    <div class=\"card-body\">\\n                        <ul>\\n                            \\n                            <li>\\n                                <a href=\"https://chrisalbon.com/snowflake/sql/tables/add_column/\">Add Column</a>\\n                            </li>\\n                            \\n                            <li>\\n                                <a href=\"https://chrisalbon.com/snowflake/sql/tables/add_comment_to_column/\">Add Comment To Column</a>\\n                            </li>\\n                            \\n                            <li>\\n                                <a href=\"https://chrisalbon.com/snowflake/sql/tables/create_or_replace_table/\">Create Or Replace Table</a>\\n                            </li>\\n                            \\n                            <li>\\n                                <a href=\"https://chrisalbon.com/snowflake/sql/tables/create_table/\">Create Table</a>\\n                            </li>\\n                            \\n                            <li>\\n                                <a href=\"https://chrisalbon.com/snowflake/sql/tables/create_table_from_query/\">Create Table From Query</a>\\n                            </li>\\n                            \\n                            <li>\\n                                <a href=\"https://chrisalbon.com/snowflake/sql/tables/create_table_if_does_not_already_exist/\">Create Table If It Doesn&#39;t Already Exist</a>\\n                            </li>\\n                            \\n                            <li>\\n                                <a href=\"https://chrisalbon.com/snowflake/sql/tables/create_table_with_column_and_table_comments/\">Create Table With Column And Table Comments</a>\\n                            </li>\\n                            \\n                            <li>\\n                                <a href=\"https://chrisalbon.com/snowflake/sql/tables/create_temporary_table/\">Create Temporary Table</a>\\n                            </li>\\n                            \\n                            <li>\\n                                <a href=\"https://chrisalbon.com/snowflake/sql/tables/delete_table/\">Delete A Table</a>\\n                            </li>\\n                            \\n                            <li>\\n                                <a href=\"https://chrisalbon.com/snowflake/sql/tables/describe_table/\">Describe A Table</a>\\n                            </li>\\n                            \\n                            <li>\\n                                <a href=\"https://chrisalbon.com/snowflake/sql/tables/drop_column/\">Drop Column</a>\\n                            </li>\\n                            \\n                            <li>\\n                                <a href=\"https://chrisalbon.com/snowflake/sql/tables/query_describe_statement/\">Query DESCRIBE TABLE like a table</a>\\n                            </li>\\n                            \\n                            <li>\\n                                <a href=\"https://chrisalbon.com/snowflake/sql/tables/rename_column/\">Rename Column</a>\\n                            </li>\\n                            \\n                            <li>\\n                                <a href=\"https://chrisalbon.com/snowflake/sql/tables/rename_table/\">Rename Table</a>\\n                            </li>\\n                            \\n                            <li>\\n                                <a href=\"https://chrisalbon.com/snowflake/sql/tables/swap_two_tables/\">Swap Two Tables</a>\\n                            </li>\\n                            \\n                            <li>\\n                                <a href=\"https://chrisalbon.com/snowflake/sql/tables/undelete_table/\">Undelete A Table</a>\\n                            </li>\\n                            \\n                            <li>\\n                                <a href=\"https://chrisalbon.com/snowflake/sql/tables/view_column_comments/\">View A Column&#39;s Comments</a>\\n                            </li>\\n                            \\n                            <li>\\n                                <a href=\"https://chrisalbon.com/snowflake/sql/tables/view_table_comments/\">View A Table&#39;s Comments</a>\\n                            </li>\\n                            \\n                        </ul>\\n                    </div>\\n                </div>\\n            </div>\\n        </div>\\n\\n        <div class=\"row\" id=\"postgresql\">\\n            <div class=\"col-sm-12\">\\n                <h3 class=\"category_header\">PostgreSQL</h3>\\n            </div>\\n        </div>\\n\\n        <div class=\"row\">\\n            <div class=\"col-sm-12\">\\n                <div class=\"card\">\\n                    <h4 class=\"card-header\">Basics</h4>\\n                    <div class=\"card-body\">\\n                        <ul>\\n                            \\n                            <li>\\n                                <a href=\"https://chrisalbon.com/postgresql/basics/apply_operation_to_column/\">Apply Operation To Column</a>\\n                            </li>\\n                            \\n                            <li>\\n                                <a href=\"https://chrisalbon.com/postgresql/basics/compare_values_to_subquery/\">Compare Values To Subquery</a>\\n                            </li>\\n                            \\n                            <li>\\n                                <a href=\"https://chrisalbon.com/postgresql/basics/copy_rows_from_one_table_to_another/\">Copy Rows From One Table To Another</a>\\n                            </li>\\n                            \\n                            <li>\\n                                <a href=\"https://chrisalbon.com/postgresql/basics/count_rows/\">Count Rows</a>\\n                            </li>\\n                            \\n                            <li>\\n                                <a href=\"https://chrisalbon.com/postgresql/basics/count_unique_values/\">Count Unique Values</a>\\n                            </li>\\n                            \\n                            <li>\\n                                <a href=\"https://chrisalbon.com/postgresql/basics/create_column_index/\">Create Column Index</a>\\n                            </li>\\n                            \\n                            <li>\\n                                <a href=\"https://chrisalbon.com/postgresql/basics/create_postgresql_database_with_python/\">Create PostgreSQL Database With Python</a>\\n                            </li>\\n                            \\n                            <li>\\n                                <a href=\"https://chrisalbon.com/postgresql/basics/create_subquery/\">Create Subquery</a>\\n                            </li>\\n                            \\n                            <li>\\n                                <a href=\"https://chrisalbon.com/postgresql/basics/create_view/\">Create View</a>\\n                            </li>\\n                            \\n                            <li>\\n                                <a href=\"https://chrisalbon.com/postgresql/basics/delete_view/\">Delete View</a>\\n                            </li>\\n                            \\n                            <li>\\n                                <a href=\"https://chrisalbon.com/postgresql/basics/examine_a_query/\">Examine A Query</a>\\n                            </li>\\n                            \\n                            <li>\\n                                <a href=\"https://chrisalbon.com/postgresql/basics/group_rows/\">Group Rows</a>\\n                            </li>\\n                            \\n                            <li>\\n                                <a href=\"https://chrisalbon.com/postgresql/basics/group_rows_with_conditions/\">Group Rows With Conditions</a>\\n                            </li>\\n                            \\n                            <li>\\n                                <a href=\"https://chrisalbon.com/postgresql/basics/if_else/\">If Else</a>\\n                            </li>\\n                            \\n                            <li>\\n                                <a href=\"https://chrisalbon.com/postgresql/basics/list_indexed_columns/\">List Index Columns</a>\\n                            </li>\\n                            \\n                            <li>\\n                                <a href=\"https://chrisalbon.com/postgresql/basics/list_tables_in_database/\">List Tables In Database</a>\\n                            </li>\\n                            \\n                            <li>\\n                                <a href=\"https://chrisalbon.com/postgresql/basics/rename_columns_in_views/\">Rename Columns In Views</a>\\n                            </li>\\n                            \\n                            <li>\\n                                <a href=\"https://chrisalbon.com/postgresql/basics/replace_missing_values/\">Replace Missing Values</a>\\n                            </li>\\n                            \\n                            <li>\\n                                <a href=\"https://chrisalbon.com/postgresql/basics/retrieve_only_a_few_rows/\">Retrieve Only A Few Rows</a>\\n                            </li>\\n                            \\n                            <li>\\n                                <a href=\"https://chrisalbon.com/postgresql/basics/retrieve_random_subset_of_rows/\">Retrieve Random Subset Of Rows</a>\\n                            </li>\\n                            \\n                            <li>\\n                                <a href=\"https://chrisalbon.com/postgresql/basics/retrieve_rows/\">Retrieve Row</a>\\n                            </li>\\n                            \\n                            <li>\\n                                <a href=\"https://chrisalbon.com/postgresql/basics/retrieve_rows_based_on_condition/\">Retrieve Rows Based On Condition</a>\\n                            </li>\\n                            \\n                            <li>\\n                                <a href=\"https://chrisalbon.com/postgresql/basics/retrieve_rows_based_on_multiple_conditions/\">Retrieve Rows Based On Multiple Condition</a>\\n                            </li>\\n                            \\n                            <li>\\n                                <a href=\"https://chrisalbon.com/postgresql/basics/retrieve_subset_columns/\">Retrieve Subset Of Columns</a>\\n                            </li>\\n                            \\n                            <li>\\n                                <a href=\"https://chrisalbon.com/postgresql/basics/retrieving_missing_values/\">Retrieving Missing Values</a>\\n                            </li>\\n                            \\n                            <li>\\n                                <a href=\"https://chrisalbon.com/postgresql/basics/save_queries_as_variables/\">Save Queries As Variables</a>\\n                            </li>\\n                            \\n                            <li>\\n                                <a href=\"https://chrisalbon.com/postgresql/basics/select_highest_value_in_each_group/\">Select Highest Value In Each Group</a>\\n                            </li>\\n                            \\n                            <li>\\n                                <a href=\"https://chrisalbon.com/postgresql/basics/select_values_between_two_values/\">Select Values Between Two Values</a>\\n                            </li>\\n                            \\n                            <li>\\n                                <a href=\"https://chrisalbon.com/postgresql/basics/sort_rows/\">Sort Rows</a>\\n                            </li>\\n                            \\n                            <li>\\n                                <a href=\"https://chrisalbon.com/postgresql/basics/sort_rows_in_groups/\">Sort Rows In Groups</a>\\n                            </li>\\n                            \\n                            <li>\\n                                <a href=\"https://chrisalbon.com/postgresql/basics/test_if_rows_exist_in_subquery/\">Test If Rows Exist In Subquery</a>\\n                            </li>\\n                            \\n                            <li>\\n                                <a href=\"https://chrisalbon.com/postgresql/basics/use_column_aliases_with_where_clause/\">Use Column Aliases With Where Clause</a>\\n                            </li>\\n                            \\n                            <li>\\n                                <a href=\"https://chrisalbon.com/postgresql/basics/retrieve_rows_where_value_matches_element_of_list/\">Value Matches Element Of A List</a>\\n                            </li>\\n                            \\n                            <li>\\n                                <a href=\"https://chrisalbon.com/postgresql/basics/view_unique_values/\">View Unique Values</a>\\n                            </li>\\n                            \\n                        </ul>\\n                    </div>\\n                </div>\\n            </div>\\n        </div>\\n\\n        <div class=\"row\">\\n            <div class=\"col-sm-12\">\\n                <div class=\"card\">\\n                    <h4 class=\"card-header\">Add, Delete, Change Rows</h4>\\n                    <div class=\"card-body\">\\n                        <ul>\\n                            \\n                            <li>\\n                                <a href=\"https://chrisalbon.com/postgresql/add_delete_change/add_column/\">Add Column</a>\\n                            </li>\\n                            \\n                            <li>\\n                                <a href=\"https://chrisalbon.com/postgresql/add_delete_change/change_values/\">Change Values</a>\\n                            </li>\\n                            \\n                            <li>\\n                                <a href=\"https://chrisalbon.com/postgresql/add_delete_change/create_column_aliases/\">Create Column Aliases</a>\\n                            </li>\\n                            \\n                            <li>\\n                                <a href=\"https://chrisalbon.com/postgresql/add_delete_change/create_column_condition_on_another_column/\">Create Column Conditional On Another Column</a>\\n                            </li>\\n                            \\n                            <li>\\n                                <a href=\"https://chrisalbon.com/postgresql/add_delete_change/create_column_of_values/\">Create Column Of Values</a>\\n                            </li>\\n                            \\n                            <li>\\n                                <a href=\"https://chrisalbon.com/postgresql/add_delete_change/create_primary_key/\">Create Primary Key</a>\\n                            </li>\\n                            \\n                            <li>\\n                                <a href=\"https://chrisalbon.com/postgresql/add_delete_change/delete_all_rows/\">Delete All Rows</a>\\n                            </li>\\n                            \\n                            <li>\\n                                <a href=\"https://chrisalbon.com/postgresql/add_delete_change/delete_duplicates/\">Delete Duplicates</a>\\n                            </li>\\n                            \\n                            <li>\\n                                <a href=\"https://chrisalbon.com/postgresql/add_delete_change/delete_primary_key/\">Delete Primary Key</a>\\n                            </li>\\n                            \\n                            <li>\\n                                <a href=\"https://chrisalbon.com/postgresql/add_delete_change/delete_rows/\">Delete Rows</a>\\n                            </li>\\n                            \\n                            <li>\\n                                <a href=\"https://chrisalbon.com/postgresql/add_delete_change/delete_rows_that_dont_exist_in_another_table/\">Delete Rows That Don&#39;t Exist In Another Table</a>\\n                            </li>\\n                            \\n                            <li>\\n                                <a href=\"https://chrisalbon.com/postgresql/add_delete_change/export_to_csv/\">Export To CSV</a>\\n                            </li>\\n                            \\n                            <li>\\n                                <a href=\"https://chrisalbon.com/postgresql/add_delete_change/import_csv/\">Import CSV</a>\\n                            </li>\\n                            \\n                            <li>\\n                                <a href=\"https://chrisalbon.com/postgresql/add_delete_change/insert_rows/\">Insert Rows</a>\\n                            </li>\\n                            \\n                            <li>\\n                                <a href=\"https://chrisalbon.com/postgresql/add_delete_change/update_rows_based_on_another_table/\">Update Rows Based On Another Table</a>\\n                            </li>\\n                            \\n                        </ul>\\n                    </div>\\n                </div>\\n            </div>\\n        </div>\\n\\n        <div class=\"row\">\\n            <div class=\"col-sm-12\">\\n                <div class=\"card\">\\n                    <h4 class=\"card-header\">Merging And Joining</h4>\\n                    <div class=\"card-body\">\\n                        <ul>\\n                            \\n                            <li>\\n                                <a href=\"https://chrisalbon.com/postgresql/merging_and_joining/all_unique_values_in_two_tables/\">All Unique Values In Two Tables</a>\\n                            </li>\\n                            \\n                            <li>\\n                                <a href=\"https://chrisalbon.com/postgresql/merging_and_joining/cartesian_product/\">Cartesian Product Of Tables</a>\\n                            </li>\\n                            \\n                            <li>\\n                                <a href=\"https://chrisalbon.com/postgresql/merging_and_joining/concatenate_multiple_tables/\">Concatenate Multiple Table</a>\\n                            </li>\\n                            \\n                            <li>\\n                                <a href=\"https://chrisalbon.com/postgresql/merging_and_joining/find_values_in_both_tables/\">Find Values In Both Tables</a>\\n                            </li>\\n                            \\n                            <li>\\n                                <a href=\"https://chrisalbon.com/postgresql/merging_and_joining/find_values_in_one_table_and_not_another/\">Find Values In One Table And Not Another</a>\\n                            </li>\\n                            \\n                            <li>\\n                                <a href=\"https://chrisalbon.com/postgresql/merging_and_joining/inner_join/\">Inner Join Tables</a>\\n                            </li>\\n                            \\n                            <li>\\n                                <a href=\"https://chrisalbon.com/postgresql/merging_and_joining/join_multiple_tables/\">Join Multiple Table</a>\\n                            </li>\\n                            \\n                            <li>\\n                                <a href=\"https://chrisalbon.com/postgresql/merging_and_joining/left_join/\">Left Join Tables</a>\\n                            </li>\\n                            \\n                            <li>\\n                                <a href=\"https://chrisalbon.com/postgresql/merging_and_joining/outer_join/\">Outer Join Tables</a>\\n                            </li>\\n                            \\n                            <li>\\n                                <a href=\"https://chrisalbon.com/postgresql/merging_and_joining/right_join/\">Right Join Tables</a>\\n                            </li>\\n                            \\n                            <li>\\n                                <a href=\"https://chrisalbon.com/postgresql/merging_and_joining/self_join/\">Self Join Table</a>\\n                            </li>\\n                            \\n                            <li>\\n                                <a href=\"https://chrisalbon.com/postgresql/merging_and_joining/stack_tables/\">Stack Tables</a>\\n                            </li>\\n                            \\n                        </ul>\\n                    </div>\\n                </div>\\n            </div>\\n        </div>\\n\\n        <div class=\"row\">\\n            <div class=\"col-sm-12\">\\n                <div class=\"card\">\\n                    <h4 class=\"card-header\">Tables</h4>\\n                    <div class=\"card-body\">\\n                        <ul>\\n                            \\n                            <li>\\n                                <a href=\"https://chrisalbon.com/postgresql/tables/copy_table_structure/\">Copy Table Structure</a>\\n                            </li>\\n                            \\n                            <li>\\n                                <a href=\"https://chrisalbon.com/postgresql/tables/create_table/\">Create Table</a>\\n                            </li>\\n                            \\n                            <li>\\n                                <a href=\"https://chrisalbon.com/postgresql/tables/create_table_with_default_values/\">Create Table With Default Values</a>\\n                            </li>\\n                            \\n                            <li>\\n                                <a href=\"https://chrisalbon.com/postgresql/tables/create_table_with_uuids/\">Create Table With UUIDs</a>\\n                            </li>\\n                            \\n                            <li>\\n                                <a href=\"https://chrisalbon.com/postgresql/tables/create_temporary_table/\">Create Temporary Table</a>\\n                            </li>\\n                            \\n                            <li>\\n                                <a href=\"https://chrisalbon.com/postgresql/tables/delete_table/\">Delete Table</a>\\n                            </li>\\n                            \\n                            <li>\\n                                <a href=\"https://chrisalbon.com/postgresql/tables/delete_table_with_views/\">Delete Table With Views</a>\\n                            </li>\\n                            \\n                            <li>\\n                                <a href=\"https://chrisalbon.com/postgresql/tables/duplicate_table/\">Duplicate Table</a>\\n                            </li>\\n                            \\n                            <li>\\n                                <a href=\"https://chrisalbon.com/postgresql/tables/list_columns_in_table/\">List Columns In Table</a>\\n                            </li>\\n                            \\n                            <li>\\n                                <a href=\"https://chrisalbon.com/postgresql/tables/show_column_information/\">Show Column Information</a>\\n                            </li>\\n                            \\n                            <li>\\n                                <a href=\"https://chrisalbon.com/postgresql/tables/view_size_of_table/\">View Size Of Table</a>\\n                            </li>\\n                            \\n                        </ul>\\n                    </div>\\n                </div>\\n            </div>\\n        </div>\\n\\n        <div class=\"row\">\\n            <div class=\"col-sm-12\">\\n                <div class=\"card\">\\n                    <h4 class=\"card-header\">Text</h4>\\n                    <div class=\"card-body\">\\n                        <ul>\\n                            \\n                            <li>\\n                                <a href=\"https://chrisalbon.com/postgresql/text/concatenate_values/\">Concatenate Values</a>\\n                            </li>\\n                            \\n                            <li>\\n                                <a href=\"https://chrisalbon.com/postgresql/text/extract_characters_from_strings/\">Extract Characters From Strings</a>\\n                            </li>\\n                            \\n                            <li>\\n                                <a href=\"https://chrisalbon.com/postgresql/text/lower_case_and_upper_case/\">Lower And Upper Case</a>\\n                            </li>\\n                            \\n                            <li>\\n                                <a href=\"https://chrisalbon.com/postgresql/text/partial_string_match/\">Partial String Match</a>\\n                            </li>\\n                            \\n                        </ul>\\n                    </div>\\n                </div>\\n            </div>\\n        </div>\\n\\n        <div class=\"row\">\\n            <div class=\"col-sm-12\">\\n                <div class=\"card\">\\n                    <h4 class=\"card-header\">Numeric</h4>\\n                    <div class=\"card-body\">\\n                        <ul>\\n                            \\n                            <li>\\n                                <a href=\"https://chrisalbon.com/postgresql/numeric/max_min_and_average_of_column/\">Calculate Max, Min, Or Average Of Column</a>\\n                            </li>\\n                            \\n                            <li>\\n                                <a href=\"https://chrisalbon.com/postgresql/numeric/calculate_running_total/\">Calculate Running Total</a>\\n                            </li>\\n                            \\n                            <li>\\n                                <a href=\"https://chrisalbon.com/postgresql/numeric/calculate_sum_of_column/\">Calculate Sum Of Column</a>\\n                            </li>\\n                            \\n                            <li>\\n                                <a href=\"https://chrisalbon.com/postgresql/numeric/convert_floats_to_integers/\">Convert Floats To Integers</a>\\n                            </li>\\n                            \\n                            <li>\\n                                <a href=\"https://chrisalbon.com/postgresql/numeric/mathematical_operations_on_column/\">Mathematical Operations On Columns</a>\\n                            </li>\\n                            \\n                        </ul>\\n                    </div>\\n                </div>\\n            </div>\\n        </div>\\n\\n        <div class=\"row\">\\n            <div class=\"col-sm-12\">\\n                <div class=\"card\">\\n                    <h4 class=\"card-header\">Dates</h4>\\n                    <div class=\"card-body\">\\n                        <ul>\\n                            \\n                            <li>\\n                                <a href=\"https://chrisalbon.com/postgresql/dates/adding_or_substracting_time/\">Adding Or Substracting Time</a>\\n                            </li>\\n                            \\n                            <li>\\n                                <a href=\"https://chrisalbon.com/postgresql/dates/calculate_time_duration/\">Calculate Time Duration</a>\\n                            </li>\\n                            \\n                        </ul>\\n                    </div>\\n                </div>\\n            </div>\\n        </div>\\n\\n        <div class=\"row\">\\n            <div class=\"col-sm-12\">\\n                <div class=\"card\">\\n                    <h4 class=\"card-header\">Interview Questions</h4>\\n                    <div class=\"card-body\">\\n                        <ul>\\n                            \\n                            <li>\\n                                <a href=\"https://chrisalbon.com/postgresql/interview_questions/calculate_requests_sent/\">Calculate Requests Sent</a>\\n                            </li>\\n                            \\n                            <li>\\n                                <a href=\"https://chrisalbon.com/postgresql/interview_questions/sort_column_natural_ordering/\">Sort By Natural Ordering</a>\\n                            </li>\\n                            \\n                            <li>\\n                                <a href=\"https://chrisalbon.com/postgresql/interview_questions/what_happens_when_you_add_null_and_integer/\">What Happens When You Add NULL And Integer</a>\\n                            </li>\\n                            \\n                        </ul>\\n                    </div>\\n                </div>\\n            </div>\\n        </div>\\n\\n        <div class=\"row\" id=\"mathematics\">\\n            <div class=\"col-sm-12\">\\n                <h3 class=\"category_header\">Mathematics</h3>\\n            </div>\\n        </div>\\n\\n        <div class=\"row\">\\n            <div class=\"col-sm-12\">\\n                <div class=\"card\">\\n                    <div class=\"card-body\">\\n                        <ul>\\n                            \\n                            <li>\\n                                <a href=\"https://chrisalbon.com/mathematics/basics/argmin_and_argmax/\">argmin and argmax</a>\\n                            </li>\\n                            \\n                        </ul>\\n                    </div>\\n                </div>\\n            </div>\\n        </div>\\n\\n        <div class=\"row\" id=\"aws\">\\n            <div class=\"col-sm-12\">\\n                <h3 class=\"category_header\">AWS</h3>\\n            </div>\\n        </div>\\n\\n        <div class=\"row\">\\n            <div class=\"col-sm-12\">\\n                <div class=\"card\">\\n                    <div class=\"card-body\">\\n                        <ul>\\n                            \\n                            <li>\\n                                <a href=\"https://chrisalbon.com/aws/basics/run_project_jupyter_on_amazon_ec2/\">Run Project Jupyter Notebooks On Amazon EC2</a>\\n                            </li>\\n                            \\n                            \\n                            <li>\\n                                <a href=\"https://chrisalbon.com/aws/s3/cli/create_bucket/\">Create Bucket</a>\\n                            </li>\\n                            \\n                            <li>\\n                                <a href=\"https://chrisalbon.com/aws/s3/cli/list_buckets/\">List Buckets</a>\\n                            </li>\\n                            \\n                            \\n                        </ul>\\n                    </div>\\n                </div>\\n            </div>\\n        </div>\\n\\n        <div class=\"row\" id=\"computer_science\">\\n            <div class=\"col-sm-12\">\\n                <h3 class=\"category_header\">Computer Science</h3>\\n            </div>\\n        </div>\\n\\n        <div class=\"row\">\\n            <div class=\"col-sm-12\">\\n                <div class=\"card\">\\n                    <h4 class=\"card-header\">Algorithms</h4>\\n                    <div class=\"card-body\">\\n                        <ul>\\n                            \\n                            <li>\\n                                <a href=\"https://chrisalbon.com/computer_science/algorithms/big-o_notation/\">Big-O Notation</a>\\n                            </li>\\n                            \\n                            <li>\\n                                <a href=\"https://chrisalbon.com/computer_science/algorithms/binary_search/\">Binary Search</a>\\n                            </li>\\n                            \\n                            <li>\\n                                <a href=\"https://chrisalbon.com/computer_science/algorithms/bubble_sort/\">Bubble Sort</a>\\n                            </li>\\n                            \\n                            <li>\\n                                <a href=\"https://chrisalbon.com/computer_science/algorithms/insertion_sort/\">Insertion Sort</a>\\n                            </li>\\n                            \\n                            <li>\\n                                <a href=\"https://chrisalbon.com/computer_science/algorithms/selection_sort/\">Selection Sort</a>\\n                            </li>\\n                            \\n                        </ul>\\n                    </div>\\n                </div>\\n            </div>\\n        </div>\\n\\n        <div class=\"row\" id=\"linux\">\\n            <div class=\"col-sm-12\">\\n                <h3 class=\"category_header\">Linux Command Line</h3>\\n            </div>\\n        </div>\\n\\n        <div class=\"row\">\\n            <div class=\"col-sm-12\">\\n                <div class=\"card\">\\n                    <h4 class=\"card-header\">Basics</h4>\\n                    <div class=\"card-body\">\\n                        <ul>\\n                            \\n                            <li>\\n                                <a href=\"https://chrisalbon.com/linux/basics/archive_and_unarchive_files/\">Archive And Unarchive Files</a>\\n                            </li>\\n                            \\n                            <li>\\n                                <a href=\"https://chrisalbon.com/linux/basics/change_permissions/\">Change Permissions</a>\\n                            </li>\\n                            \\n                            <li>\\n                                <a href=\"https://chrisalbon.com/linux/basics/changing_directories/\">Changing Directories</a>\\n                            </li>\\n                            \\n                            <li>\\n                                <a href=\"https://chrisalbon.com/linux/basics/check_current_date_and_time/\">Check Current Date And Time</a>\\n                            </li>\\n                            \\n                            <li>\\n                                <a href=\"https://chrisalbon.com/linux/basics/copy_files_and_directories/\">Copy Files And Directories</a>\\n                            </li>\\n                            \\n                            <li>\\n                                <a href=\"https://chrisalbon.com/linux/basics/create_command/\">Create Command</a>\\n                            </li>\\n                            \\n                            <li>\\n                                <a href=\"https://chrisalbon.com/linux/basics/create_directory/\">Create Directory</a>\\n                            </li>\\n                            \\n                            <li>\\n                                <a href=\"https://chrisalbon.com/linux/basics/create_file/\">Create File</a>\\n                            </li>\\n                            \\n                            <li>\\n                                <a href=\"https://chrisalbon.com/linux/basics/create_sequential_list_of_files_or_directories/\">Create Sequential List Of Files And Directories</a>\\n                            </li>\\n                            \\n                            <li>\\n                                <a href=\"https://chrisalbon.com/linux/basics/create_symbolic_links/\">Create Symbolic Links</a>\\n                            </li>\\n                            \\n                            <li>\\n                                <a href=\"https://chrisalbon.com/linux/basics/delete_files_and_directories/\">Delete Files And Directories</a>\\n                            </li>\\n                            \\n                            <li>\\n                                <a href=\"https://chrisalbon.com/linux/basics/delete_files_and_subdirectories_in_current_directory/\">Delete Files And Directories In Current Directory</a>\\n                            </li>\\n                            \\n                            <li>\\n                                <a href=\"https://chrisalbon.com/linux/basics/exit_terminal_session/\">Exit Terminal Session</a>\\n                            </li>\\n                            \\n                            <li>\\n                                <a href=\"https://chrisalbon.com/linux/basics/get_help_with_a_command/\">Get Help With A Command</a>\\n                            </li>\\n                            \\n                            <li>\\n                                <a href=\"https://chrisalbon.com/linux/basics/get_information_on_a_file/\">Get Information On A File</a>\\n                            </li>\\n                            \\n                            <li>\\n                                <a href=\"https://chrisalbon.com/linux/basics/list_avaliable_commands/\">List Avaliable Commands</a>\\n                            </li>\\n                            \\n                            <li>\\n                                <a href=\"https://chrisalbon.com/linux/basics/list_contents_of_a_directory/\">List The Contents Of A Directory</a>\\n                            </li>\\n                            \\n                            <li>\\n                                <a href=\"https://chrisalbon.com/linux/basics/move_files_and_directories/\">Move Files And Directories</a>\\n                            </li>\\n                            \\n                            <li>\\n                                <a href=\"https://chrisalbon.com/linux/basics/multiple_commands_on_one_line/\">Multiple Commands On One Line</a>\\n                            </li>\\n                            \\n                            <li>\\n                                <a href=\"https://chrisalbon.com/linux/basics/ping_website/\">Ping Website</a>\\n                            </li>\\n                            \\n                            <li>\\n                                <a href=\"https://chrisalbon.com/linux/basics/rename_file/\">Rename File</a>\\n                            </li>\\n                            \\n                            <li>\\n                                <a href=\"https://chrisalbon.com/linux/basics/see_disk_drive_space/\">See Disk Drive Space</a>\\n                            </li>\\n                            \\n                            <li>\\n                                <a href=\"https://chrisalbon.com/linux/basics/see_free_memory/\">See Free Memory</a>\\n                            </li>\\n                            \\n                            <li>\\n                                <a href=\"https://chrisalbon.com/linux/basics/see_who_is_logged_in/\">See Who Is Logged Into A System</a>\\n                            </li>\\n                            \\n                            <li>\\n                                <a href=\"https://chrisalbon.com/linux/basics/select_files_based_on_filename/\">Select Files Based On Filename</a>\\n                            </li>\\n                            \\n                            <li>\\n                                <a href=\"https://chrisalbon.com/linux/basics/synchronize_files_and_directories/\">Synchronize Files And Directories</a>\\n                            </li>\\n                            \\n                            <li>\\n                                <a href=\"https://chrisalbon.com/linux/basics/track_route_of_network_traffic/\">Track Route Of Network Traffic</a>\\n                            </li>\\n                            \\n                            <li>\\n                                <a href=\"https://chrisalbon.com/linux/basics/view_file_type/\">View A File&#39;s Type</a>\\n                            </li>\\n                            \\n                            <li>\\n                                <a href=\"https://chrisalbon.com/linux/basics/view_file_contents/\">View A Text File&#39;s Contents</a>\\n                            </li>\\n                            \\n                            <li>\\n                                <a href=\"https://chrisalbon.com/linux/basics/view_current_working_directory/\">View Current Working Directory</a>\\n                            </li>\\n                            \\n                            <li>\\n                                <a href=\"https://chrisalbon.com/linux/basics/view_first_and_last_parts_of_files/\">View First And Last Parts Of Files</a>\\n                            </li>\\n                            \\n                            <li>\\n                                <a href=\"https://chrisalbon.com/linux/basics/zip_and_unzip_directories/\">Zip And Unzip Directories</a>\\n                            </li>\\n                            \\n                            <li>\\n                                <a href=\"https://chrisalbon.com/linux/basics/zip_and_unzip_files/\">Zip And Unzip Files</a>\\n                            </li>\\n                            \\n                        </ul>\\n                    </div>\\n                </div>\\n            </div>\\n        </div>\\n\\n        <div class=\"row\">\\n            <div class=\"col-sm-12\">\\n                <div class=\"card\">\\n                    <h4 class=\"card-header\">Inputs And Outputs</h4>\\n                    <div class=\"card-body\">\\n                        <ul>\\n                            \\n                            <li>\\n                                <a href=\"https://chrisalbon.com/linux/inputs_and_outputs/append_error_to_file/\">Append Error To File</a>\\n                            </li>\\n                            \\n                            <li>\\n                                <a href=\"https://chrisalbon.com/linux/inputs_and_outputs/append_file_contents_to_another_file/\">Append File Contents To Another File</a>\\n                            </li>\\n                            \\n                            <li>\\n                                <a href=\"https://chrisalbon.com/linux/inputs_and_outputs/append_outputs_to_file/\">Append Output To File</a>\\n                            </li>\\n                            \\n                            <li>\\n                                <a href=\"https://chrisalbon.com/linux/inputs_and_outputs/append_output_and_errors_to_file/\">Append Outputs And Errors To File</a>\\n                            </li>\\n                            \\n                            <li>\\n                                <a href=\"https://chrisalbon.com/linux/inputs_and_outputs/chain_multiple_commands/\">Chain Multiple Commands</a>\\n                            </li>\\n                            \\n                            <li>\\n                                <a href=\"https://chrisalbon.com/linux/inputs_and_outputs/concatenate_multiple_files/\">Concatenate Multiple Files</a>\\n                            </li>\\n                            \\n                            <li>\\n                                <a href=\"https://chrisalbon.com/linux/inputs_and_outputs/save_output_to_file_in_middle_of_command_chain/\">Save Output To File In Middle Of Command Chain</a>\\n                            </li>\\n                            \\n                            <li>\\n                                <a href=\"https://chrisalbon.com/linux/inputs_and_outputs/silence_errors/\">Silence Errors</a>\\n                            </li>\\n                            \\n                            <li>\\n                                <a href=\"https://chrisalbon.com/linux/inputs_and_outputs/sort_rows/\">Sort Rows</a>\\n                            </li>\\n                            \\n                            <li>\\n                                <a href=\"https://chrisalbon.com/linux/inputs_and_outputs/write_errors_to_file/\">Write Errors To File</a>\\n                            </li>\\n                            \\n                            <li>\\n                                <a href=\"https://chrisalbon.com/linux/inputs_and_outputs/write_output_to_file/\">Write Output To File</a>\\n                            </li>\\n                            \\n                        </ul>\\n                    </div>\\n                </div>\\n            </div>\\n        </div>\\n\\n        <div class=\"row\">\\n            <div class=\"col-sm-12\">\\n                <div class=\"card\">\\n                    <h4 class=\"card-header\">Search</h4>\\n                    <div class=\"card-body\">\\n                        <ul>\\n                            \\n                            <li>\\n                                <a href=\"https://chrisalbon.com/linux/search/find_directories/\">Find Directories</a>\\n                            </li>\\n                            \\n                            <li>\\n                                <a href=\"https://chrisalbon.com/linux/search/find_files/\">Find Files</a>\\n                            </li>\\n                            \\n                            <li>\\n                                <a href=\"https://chrisalbon.com/linux/search/find_files_based_on_multiple_conditions/\">Find Files Based On Multiple Conditions</a>\\n                            </li>\\n                            \\n                            <li>\\n                                <a href=\"https://chrisalbon.com/linux/search/find_files_by_filename/\">Find Files By Filename</a>\\n                            </li>\\n                            \\n                            <li>\\n                                <a href=\"https://chrisalbon.com/linux/search/find_files_by_size/\">Find Files By Size</a>\\n                            </li>\\n                            \\n                            <li>\\n                                <a href=\"https://chrisalbon.com/linux/search/find_programs_location/\">Find Program&#39;s Location</a>\\n                            </li>\\n                            \\n                            <li>\\n                                <a href=\"https://chrisalbon.com/linux/search/find_symbolic_links/\">Find Symbolic Links</a>\\n                            </li>\\n                            \\n                            <li>\\n                                <a href=\"https://chrisalbon.com/linux/search/search_contents_of_all_files_of_certain_type/\">Search Contents Of All Files Of Certain Type</a>\\n                            </li>\\n                            \\n                            <li>\\n                                <a href=\"https://chrisalbon.com/linux/search/search_file_names/\">Search Filenames</a>\\n                            </li>\\n                            \\n                            <li>\\n                                <a href=\"https://chrisalbon.com/linux/search/search_contents_of_a_file/\">Search The Contents Of A File</a>\\n                            </li>\\n                            \\n                        </ul>\\n                    </div>\\n                </div>\\n            </div>\\n        </div>\\n\\n        <div class=\"row\">\\n            <div class=\"col-sm-12\">\\n                <div class=\"card\">\\n                    <h4 class=\"card-header\">Text</h4>\\n                    <div class=\"card-body\">\\n                        <ul>\\n                            \\n                            <li>\\n                                <a href=\"https://chrisalbon.com/linux/text/add_columns_to_text/\">Add Columns To Text</a>\\n                            </li>\\n                            \\n                            <li>\\n                                <a href=\"https://chrisalbon.com/linux/text/adding_line_numbers/\">Adding Line Numbers</a>\\n                            </li>\\n                            \\n                            <li>\\n                                <a href=\"https://chrisalbon.com/linux/text/comparing_text_files/\">Comparing Text Files</a>\\n                            </li>\\n                            \\n                            <li>\\n                                <a href=\"https://chrisalbon.com/linux/text/count_unique_rows/\">Count Unique Rows</a>\\n                            </li>\\n                            \\n                            <li>\\n                                <a href=\"https://chrisalbon.com/linux/text/extract_text/\">Extract Text</a>\\n                            </li>\\n                            \\n                            <li>\\n                                <a href=\"https://chrisalbon.com/linux/text/find_and_replace/\">Find And Replace</a>\\n                            </li>\\n                            \\n                            <li>\\n                                <a href=\"https://chrisalbon.com/linux/text/join_and_sort_text/\">Join And Sort Text</a>\\n                            </li>\\n                            \\n                            <li>\\n                                <a href=\"https://chrisalbon.com/linux/text/join_columns/\">Join Columns</a>\\n                            </li>\\n                            \\n                            <li>\\n                                <a href=\"https://chrisalbon.com/linux/text/quickly_view_file_contents/\">Quickly View File Contents</a>\\n                            </li>\\n                            \\n                        </ul>\\n                    </div>\\n                </div>\\n            </div>\\n        </div>\\n\\n        <div class=\"row\">\\n            <div class=\"col-sm-12\">\\n                <div class=\"card\">\\n                    <h4 class=\"card-header\">Flow Control</h4>\\n                    <div class=\"card-body\">\\n                        <ul>\\n                            \\n                            <li>\\n                                <a href=\"https://chrisalbon.com/linux/flow_control/for_loops/\">For Loops</a>\\n                            </li>\\n                            \\n                            <li>\\n                                <a href=\"https://chrisalbon.com/linux/flow_control/if_else_for_integers/\">If Else For Integers</a>\\n                            </li>\\n                            \\n                            <li>\\n                                <a href=\"https://chrisalbon.com/linux/flow_control/if_else_for_strings/\">If Else For Strings</a>\\n                            </li>\\n                            \\n                            <li>\\n                                <a href=\"https://chrisalbon.com/linux/flow_control/if_else_with_multiple_conditions/\">If Else With Multiple Conditions</a>\\n                            </li>\\n                            \\n                        </ul>\\n                    </div>\\n                </div>\\n            </div>\\n        </div>\\n\\n        <div class=\"row\">\\n            <div class=\"col-sm-12\">\\n                <div class=\"card\">\\n                    <h4 class=\"card-header\">Processes</h4>\\n                    <div class=\"card-body\">\\n                        <ul>\\n                            \\n                            <li>\\n                                <a href=\"https://chrisalbon.com/linux/processes/list_processes/\">List Processes</a>\\n                            </li>\\n                            \\n                            <li>\\n                                <a href=\"https://chrisalbon.com/linux/processes/monitor_processes/\">Monitor Processes</a>\\n                            </li>\\n                            \\n                        </ul>\\n                    </div>\\n                </div>\\n            </div>\\n        </div>\\n\\n        <div class=\"row\" id=\"git_and_github\">\\n            <div class=\"col-sm-12\">\\n                <h3 class=\"category_header\">Git And GitHub</h3>\\n            </div>\\n        </div>\\n\\n        <div class=\"row\">\\n            <div class=\"col-sm-12\">\\n                <div class=\"card\">\\n                    <div class=\"card-body\">\\n                        <ul>\\n                            \\n                            <li>\\n                                <a href=\"https://chrisalbon.com/git_and_github/basics/github_cheatsheet/\">GitHub Cheatsheet</a>\\n                            </li>\\n                            \\n                            <li>\\n                                <a href=\"https://chrisalbon.com/git_and_github/basics/stop_git_from_asking_for_password_every_command/\">Stop Git From Asking For Password Every Push And Pull From GitHub</a>\\n                            </li>\\n                            \\n                        </ul>\\n                    </div>\\n                </div>\\n            </div>\\n        </div>\\n\\n        <div class=\"row\" id=\"machine_learning_engineering\">\\n            <div class=\"col-sm-12\">\\n                <h3 class=\"category_header\">Machine Learning Engineering</h3>\\n            </div>\\n        </div>\\n\\n        <div class=\"row\">\\n            <div class=\"col-sm-12\">\\n                <div class=\"card\">\\n                    <h4 class=\"card-header\">YAML</h4>\\n                    <div class=\"card-body\">\\n                        <ul>\\n                            \\n                            <li>\\n                                <a href=\"https://chrisalbon.com/machine_learning_engineering/yaml/basic_yaml_file/\">Basic YAML File</a>\\n                            </li>\\n                            \\n                            <li>\\n                                <a href=\"https://chrisalbon.com/machine_learning_engineering/yaml/comments/\">Comments</a>\\n                            </li>\\n                            \\n                            <li>\\n                                <a href=\"https://chrisalbon.com/machine_learning_engineering/yaml/key_value_pairs/\">Key-Value Pairs</a>\\n                            </li>\\n                            \\n                            <li>\\n                                <a href=\"https://chrisalbon.com/machine_learning_engineering/yaml/lists/\">Lists</a>\\n                            </li>\\n                            \\n                            <li>\\n                                <a href=\"https://chrisalbon.com/machine_learning_engineering/yaml/multiline_strings/\">Multiline Strings</a>\\n                            </li>\\n                            \\n                            <li>\\n                                <a href=\"https://chrisalbon.com/machine_learning_engineering/yaml/strings/\">Strings</a>\\n                            </li>\\n                            \\n                        </ul>\\n                    </div>\\n                </div>\\n            </div>\\n        </div>\\n\\n        <div class=\"row\">\\n            <div class=\"col-sm-12\">\\n                <div class=\"card\">\\n                    <h4 class=\"card-header\">Kubeflow</h4>\\n                    <div class=\"card-body\">\\n                        <ul>\\n                            \\n                            <li>\\n                                <a href=\"https://chrisalbon.com/machine_learning_engineering/kubeflow/installing_kubeflow_on_ubuntu/\">Installing Kubeflow On Ubuntu</a>\\n                            </li>\\n                            \\n                        </ul>\\n                    </div>\\n                </div>\\n            </div>\\n        </div>\\n\\n        <div class=\"row\" id=\"articles\">\\n            <div class=\"col-sm-12\">\\n                <h3 class=\"category_header\">Articles\\n                </h3>\\n            </div>\\n        </div>\\n\\n        <div class=\"row\">\\n            <div class=\"col-sm-12\">\\n                <div class=\"card\">\\n                    <div class=\"article_list card-body\">\\n                        <ul>\\n                            \\n                            <li>\\n                                \\n                                <a href=\"https://chrisalbon.com/articles/what_i_learned_from_tracking_my_time_at_techstars/\">What I Learned Tracking My Time At Techstars</a>\\n                            </li>\\n                            \\n                            <li>\\n                                \\n                                <a href=\"https://chrisalbon.com/articles/health_system_destruction_renamo_mozambique/\">Health System Destruction During The Mozambican Civil War</a>\\n                            </li>\\n                            \\n                            <li>\\n                                \\n                                <a href=\"https://chrisalbon.com/articles/health_system_reconstruction_post_war_kosovo/\">Health System Reconstruction In Post-War Kosovo</a>\\n                            </li>\\n                            \\n                            <li>\\n                                \\n                                <a href=\"https://chrisalbon.com/articles/puzzle_of_rebel_mobilization/\">The Problem Of Rebel Mobilization</a>\\n                            </li>\\n                            \\n                            <li>\\n                                \\n                                <a href=\"https://chrisalbon.com/articles/health_systems/\">The Structure Of Health Systems</a>\\n                            </li>\\n                            \\n                        </ul>\\n                    </div>\\n                </div>\\n            </div>\\n        </div>\\n\\n    </div>\\n\\n</main>\\n\\n\\n            </div>\\n\\n        </div>\\n    </div>\\n\\n    \\n\\n    <footer class=\"footer text-center\">\\n        <div class=\"container\">\\n            <span class=\"text-muted\">Copyright &copy; Chris Albon, <time datetime=\"2020\">2020</time>. All 634 notes and articles are available on <a href=\"https://github.com/chrisalbon/notes\">GitHub</a>.</span>\\n        </div>\\n    </footer>\\n\\n    <script src=\"https://code.jquery.com/jquery-3.2.1.slim.min.js\" integrity=\"sha384-KJ3o2DKtIkvYIK3UENzmM7KCkRr/rE9/Qpg6aAZGJwFDMVNA/GpGFF93hXpG5KkN\"\\n        crossorigin=\"anonymous\"></script>\\n    <script src=\"https://cdnjs.cloudflare.com/ajax/libs/popper.js/1.12.3/umd/popper.min.js\" integrity=\"sha384-vFJXuSJphROIrBnz7yo7oB41mKfc8JzQZiCq4NCceLEaO4IHwicKwpJf9c9IpFgh\"\\n        crossorigin=\"anonymous\"></script>\\n    <script src=\"https://maxcdn.bootstrapcdn.com/bootstrap/4.0.0-beta.2/js/bootstrap.min.js\" integrity=\"sha384-alpBpkh1PFOepccYVYDB4do5UnbKysX5WZXm3XxPqe5iKTfUKjNkCk9SaVuEZflJ\"\\n        crossorigin=\"anonymous\"></script>\\n\\n</body>\\n\\n</html>'"
      ]
     },
     "execution_count": 22,
     "metadata": {},
     "output_type": "execute_result"
    }
   ],
   "source": [
    "url = 'https://chrisalbon.com/#machine_learning'\n",
    "request = requests.get(url)\n",
    "request.text"
   ]
  },
  {
   "cell_type": "code",
   "execution_count": 23,
   "metadata": {},
   "outputs": [
    {
     "data": {
      "text/plain": [
       "['Beijing', 'is', 'where', \"we'll\", 'go']"
      ]
     },
     "execution_count": 23,
     "metadata": {},
     "output_type": "execute_result"
    }
   ],
   "source": [
    "sentence = \"Beijing is where we'll go\"\n",
    "sentence.split()"
   ]
  },
  {
   "cell_type": "code",
   "execution_count": 24,
   "metadata": {},
   "outputs": [
    {
     "data": {
      "text/plain": [
       "[\"I'm\", 'going', 'to', 'travel', 'to', 'Beijing']"
      ]
     },
     "execution_count": 24,
     "metadata": {},
     "output_type": "execute_result"
    }
   ],
   "source": [
    "sentence = \"I'm going to travel to Beijing\"\n",
    "sentence.split()"
   ]
  },
  {
   "cell_type": "code",
   "execution_count": 25,
   "metadata": {},
   "outputs": [
    {
     "data": {
      "text/plain": [
       "['I', \"'m\", 'going', 'to', 'travel', 'to', 'Beijing']"
      ]
     },
     "execution_count": 25,
     "metadata": {},
     "output_type": "execute_result"
    }
   ],
   "source": [
    "from nltk.tokenize import word_tokenize\n",
    "\n",
    "token = word_tokenize(sentence)\n",
    "token"
   ]
  },
  {
   "cell_type": "code",
   "execution_count": 26,
   "metadata": {},
   "outputs": [
    {
     "data": {
      "text/plain": [
       "['A',\n",
       " 'Rolex',\n",
       " 'watch',\n",
       " 'costs',\n",
       " 'in',\n",
       " 'the',\n",
       " 'range',\n",
       " 'of',\n",
       " '$3000.0',\n",
       " '-',\n",
       " '$8000.0',\n",
       " 'in',\n",
       " 'USA',\n",
       " '.']"
      ]
     },
     "execution_count": 26,
     "metadata": {},
     "output_type": "execute_result"
    }
   ],
   "source": [
    "from nltk.tokenize import RegexpTokenizer\n",
    "\n",
    "s = \"A Rolex watch costs in the range of $3000.0 - $8000.0 in USA.\"\n",
    "tok = RegexpTokenizer('\\w+|\\$[\\d\\.]+|\\S+')\n",
    "tok.tokenize(s)"
   ]
  },
  {
   "cell_type": "code",
   "execution_count": 27,
   "metadata": {},
   "outputs": [
    {
     "data": {
      "text/plain": [
       "['I',\n",
       " \"'m\",\n",
       " 'going',\n",
       " 'to',\n",
       " 'buy',\n",
       " 'a',\n",
       " 'Rolex',\n",
       " 'watch',\n",
       " 'that',\n",
       " 'does',\n",
       " \"n't\",\n",
       " 'cost',\n",
       " 'more',\n",
       " 'than',\n",
       " '$',\n",
       " '3000.0']"
      ]
     },
     "execution_count": 27,
     "metadata": {},
     "output_type": "execute_result"
    }
   ],
   "source": [
    "from nltk.tokenize import TreebankWordTokenizer\n",
    "\n",
    "s = \"I'm going to buy a Rolex watch that doesn't cost more than $3000.0\"\n",
    "tokenizer = TreebankWordTokenizer()\n",
    "tokenizer.tokenize(s)"
   ]
  },
  {
   "cell_type": "code",
   "execution_count": 28,
   "metadata": {},
   "outputs": [
    {
     "data": {
      "text/plain": [
       "['@amankedia',\n",
       " \"I'm\",\n",
       " 'going',\n",
       " 'to',\n",
       " 'buy',\n",
       " 'a',\n",
       " 'Rolexxxxxxxx',\n",
       " 'watch',\n",
       " '!',\n",
       " '!',\n",
       " '!',\n",
       " ':-D',\n",
       " '#happiness',\n",
       " '#rolex',\n",
       " '<3']"
      ]
     },
     "execution_count": 28,
     "metadata": {},
     "output_type": "execute_result"
    }
   ],
   "source": [
    "from nltk.tokenize import TweetTokenizer\n",
    "\n",
    "s = \"@amankedia I'm going to buy a Rolexxxxxxxx watch!!! :-D #happiness #rolex <3\"\n",
    "tokenizer = TweetTokenizer()\n",
    "tokenizer.tokenize(s)"
   ]
  },
  {
   "cell_type": "markdown",
   "metadata": {},
   "source": [
    "**The TweetTokenizer provides two additional parameters in the form of reduce_len, which tries to reduce the excessive characters in a token. The word Rolexxxxxxxx is actually tokenized as Rolexxx in an attempt to reduce the number of x's present:**"
   ]
  },
  {
   "cell_type": "code",
   "execution_count": 29,
   "metadata": {},
   "outputs": [
    {
     "data": {
      "text/plain": [
       "[\"I'm\",\n",
       " 'going',\n",
       " 'to',\n",
       " 'buy',\n",
       " 'a',\n",
       " 'Rolexxx',\n",
       " 'watch',\n",
       " '!',\n",
       " '!',\n",
       " '!',\n",
       " ':-D',\n",
       " '#happiness',\n",
       " '#rolex',\n",
       " '<3']"
      ]
     },
     "execution_count": 29,
     "metadata": {},
     "output_type": "execute_result"
    }
   ],
   "source": [
    "from nltk.tokenize import TweetTokenizer\n",
    "\n",
    "s = \"@amankedia I'm going to buy a Rolexxxxxxxx watch!!! :-D #happiness #rolex <3\"\n",
    "tokenizer = TweetTokenizer(strip_handles=True, reduce_len=True)\n",
    "tokenizer.tokenize(s)"
   ]
  },
  {
   "cell_type": "markdown",
   "metadata": {},
   "source": [
    "**The parameter strip_handles, when set to True, removes the handles mentioned in a post/tweet. As can be seen in the preceding output, @amankedia is stripped, since it is a handle.\n",
    "One more parameter that is available with TweetTokenizer is preserve_case, which, when set to False, converts everything to lower case in order to normalize the vocabulary. The default value for this parameter is True.**"
   ]
  },
  {
   "cell_type": "markdown",
   "metadata": {},
   "source": [
    "# Stemming\n",
    "Imagine bringing all of the words computer, computerization, and computerize into one word, compute. What happens here is called stemming. As part of stemming, a crude attempt is made to remove the inflectional forms of a word and bring them to a base form\n",
    "called the **stem**."
   ]
  },
  {
   "cell_type": "markdown",
   "metadata": {},
   "source": [
    "The two most common algorithms/methods employed for stemming include the Porter\n",
    "stemmer and the Snowball stemmer. The Porter stemmer supports the English language,\n",
    "whereas the Snowball stemmer, which is an improvement on the Porter stemmer, supports\n",
    "multiple languages, which can be seen in the following code snippet and its output:"
   ]
  },
  {
   "cell_type": "code",
   "execution_count": 30,
   "metadata": {},
   "outputs": [
    {
     "name": "stdout",
     "output_type": "stream",
     "text": [
      "('arabic', 'danish', 'dutch', 'english', 'finnish', 'french', 'german', 'hungarian', 'italian', 'norwegian', 'porter', 'portuguese', 'romanian', 'russian', 'spanish', 'swedish')\n"
     ]
    }
   ],
   "source": [
    "from nltk.stem.snowball import SnowballStemmer\n",
    "print(SnowballStemmer.languages)"
   ]
  },
  {
   "cell_type": "markdown",
   "metadata": {},
   "source": [
    "One thing to note from the snippet is that the Porter stemmer is one of the offerings\n",
    "provided by the Snowball stemmer. Other stemmers include the Lancaster, Dawson,\n",
    "Krovetz, and Lovins stemmers, among others"
   ]
  },
  {
   "cell_type": "markdown",
   "metadata": {},
   "source": [
    "**The Porter stemmer works only with strings, whereas the Snowball stemmer works with\n",
    "both strings and Unicode data. The Snowball stemmer also allows the option to ignore\n",
    "stopwords as an inherent functionality.**"
   ]
  },
  {
   "cell_type": "code",
   "execution_count": 31,
   "metadata": {},
   "outputs": [
    {
     "data": {
      "text/plain": [
       "['caress',\n",
       " 'fli',\n",
       " 'die',\n",
       " 'mule',\n",
       " 'die',\n",
       " 'agre',\n",
       " 'own',\n",
       " 'humbl',\n",
       " 'size',\n",
       " 'meet',\n",
       " 'state',\n",
       " 'siez',\n",
       " 'item',\n",
       " 'tradit',\n",
       " 'refer',\n",
       " 'colon',\n",
       " 'plot',\n",
       " 'have',\n",
       " 'gener']"
      ]
     },
     "execution_count": 31,
     "metadata": {},
     "output_type": "execute_result"
    }
   ],
   "source": [
    "plurals = ['caresses', 'flies', 'dies', 'mules', 'died', 'agreed', 'owned',\\\n",
    "'humbled', 'sized', 'meeting', 'stating',\\\n",
    "'siezing', 'itemization', 'traditional', 'reference', 'colonizer',\\\n",
    "'plotted', 'having', 'generously']\n",
    "\n",
    "\n",
    "from nltk.stem.porter import PorterStemmer\n",
    "stemmer = PorterStemmer()\n",
    "singles = [stemmer.stem(plural) for plural in plurals]\n",
    "singles"
   ]
  },
  {
   "cell_type": "code",
   "execution_count": 32,
   "metadata": {},
   "outputs": [
    {
     "data": {
      "text/plain": [
       "'caress fli die mule die agre own humbl size meet state siez item tradit refer colon plot have gener'"
      ]
     },
     "execution_count": 32,
     "metadata": {},
     "output_type": "execute_result"
    }
   ],
   "source": [
    "' '.join(singles)"
   ]
  },
  {
   "cell_type": "code",
   "execution_count": 33,
   "metadata": {},
   "outputs": [
    {
     "data": {
      "text/plain": [
       "'caress, fli, die, mule, die, agre, own, humbl, size, meet, state, siez, item, tradit, refer, colon, plot, have, gener'"
      ]
     },
     "execution_count": 33,
     "metadata": {},
     "output_type": "execute_result"
    }
   ],
   "source": [
    "', '.join(singles)"
   ]
  },
  {
   "cell_type": "code",
   "execution_count": 34,
   "metadata": {},
   "outputs": [
    {
     "data": {
      "text/plain": [
       "'caress| fli| die| mule| die| agre| own| humbl| size| meet| state| siez| item| tradit| refer| colon| plot| have| gener'"
      ]
     },
     "execution_count": 34,
     "metadata": {},
     "output_type": "execute_result"
    }
   ],
   "source": [
    "'| '.join(singles)"
   ]
  },
  {
   "cell_type": "code",
   "execution_count": 35,
   "metadata": {},
   "outputs": [
    {
     "name": "stdout",
     "output_type": "stream",
     "text": [
      "caress fli die mule die agre own humbl size meet state siez item tradit refer colon plot have generous\n"
     ]
    }
   ],
   "source": [
    "stemmer2 = SnowballStemmer(language='english')\n",
    "singles = [stemmer2.stem(plural) for plural in plurals]\n",
    "print(' '.join(singles))"
   ]
  },
  {
   "cell_type": "markdown",
   "metadata": {},
   "source": [
    "---------------------------------------------------------------------------------------------\n",
    "As can be seen in the preceding code snippets, the Snowball stemmer requires the\n",
    "specification of a language parameter. In most of cases, its output is similar to that of the\n",
    "Porter stemmer, except for generously, where the Porter stemmer outputs gener and the\n",
    "Snowball stemmer outputs generous. The example shows how the Snowball stemmer\n",
    "makes minor changes to the Porter algorithm, achieving improvements in some cases.\n",
    "Over-stemming"
   ]
  },
  {
   "cell_type": "markdown",
   "metadata": {},
   "source": [
    "# Over-stemming and under-stemming\n",
    "\n",
    "Potential problems with stemming arise in the form of over-stemming and understemming.\n",
    "A situation may arise when words that are stemmed to the same root should\n",
    "have been stemmed to different roots. This problem is referred to as over-stemming. In\n",
    "contrast, another problem occurs when words that should have been stemmed to the same\n",
    "root aren't stemmed to it. This situation is referred to as under-stemming."
   ]
  },
  {
   "cell_type": "markdown",
   "metadata": {},
   "source": [
    "# Lemmatization\n",
    "Unlike stemming, wherein a few characters are removed from words using crude methods,\n",
    "lemmatization is a process wherein the context is used to convert a word to its meaningful\n",
    "base form. It helps in grouping together words that have a common base form and so can\n",
    "be identified as a single item. The base form is referred to as the lemma of the word and is\n",
    "also sometimes known as the dictionary form."
   ]
  },
  {
   "cell_type": "markdown",
   "metadata": {},
   "source": [
    "# WordNet lemmatizer\n",
    "WordNet is a lexical database of English that is freely and publicly available. As part of\n",
    "WordNet, nouns, verbs, adjectives, and adverbs are grouped into sets of cognitive\n",
    "synonyms (synsets), each expressing distinct concepts. These synsets are interlinked using\n",
    "lexical and conceptual semantic relationships."
   ]
  },
  {
   "cell_type": "code",
   "execution_count": 36,
   "metadata": {},
   "outputs": [
    {
     "name": "stdout",
     "output_type": "stream",
     "text": [
      "The tokens are:  ['We', 'are', 'putting', 'in', 'efforts', 'to', 'enhance', 'our', 'understanding', 'of', 'Lemmatization']\n",
      "The lemmatized output is:  We are putting in effort to enhance our understanding of Lemmatization\n"
     ]
    }
   ],
   "source": [
    "import nltk\n",
    "\n",
    "from nltk.stem import WordNetLemmatizer\n",
    "\n",
    "lemmatizer = WordNetLemmatizer()\n",
    "\n",
    "s = \"We are putting in efforts to enhance our understanding of Lemmatization\"\n",
    "token_list = s.split()\n",
    "print(\"The tokens are: \", token_list)\n",
    "\n",
    "lemmatized_output = ' '.join([lemmatizer.lemmatize(token) for token in token_list])\n",
    "print(\"The lemmatized output is: \", lemmatized_output)"
   ]
  },
  {
   "cell_type": "code",
   "execution_count": 37,
   "metadata": {},
   "outputs": [
    {
     "data": {
      "text/plain": [
       "[('We', 'PRP'),\n",
       " ('are', 'VBP'),\n",
       " ('putting', 'VBG'),\n",
       " ('in', 'IN'),\n",
       " ('efforts', 'NNS'),\n",
       " ('to', 'TO'),\n",
       " ('enhance', 'VB'),\n",
       " ('our', 'PRP$'),\n",
       " ('understanding', 'NN'),\n",
       " ('of', 'IN'),\n",
       " ('Lemmatization', 'NN')]"
      ]
     },
     "execution_count": 37,
     "metadata": {},
     "output_type": "execute_result"
    }
   ],
   "source": [
    "pos_tags = nltk.pos_tag(token_list)\n",
    "pos_tags"
   ]
  },
  {
   "cell_type": "markdown",
   "metadata": {},
   "source": [
    "--------------------------------------------------------------------------------------------\n",
    "\n",
    "A list of tuples of the form (the token and POS tag) is returned by the POS\n",
    "tagger. Now, the POS tags need to be converted to a form that can be understood by the\n",
    "WordNet lemmatizer and sent in as input along with the tokens."
   ]
  },
  {
   "cell_type": "code",
   "execution_count": 38,
   "metadata": {},
   "outputs": [
    {
     "data": {
      "text/plain": [
       "'v'"
      ]
     },
     "execution_count": 38,
     "metadata": {},
     "output_type": "execute_result"
    }
   ],
   "source": [
    "import nltk\n",
    "from nltk.corpus import wordnet\n",
    "\n",
    "##This is a common method which is widely used across the NLP community of practitioners and readers\n",
    "\n",
    "def get_part_of_speech_tags(token):\n",
    "    \n",
    "    \"\"\"Maps POS tags to first character lemmatize() accepts. \n",
    "    We are focusing on Verbs, Nouns, Adjectives and Adverbs here.\"\"\"\n",
    "\n",
    "    tag_dict = {\"J\": wordnet.ADJ,\n",
    "                \"N\": wordnet.NOUN,\n",
    "                \"V\": wordnet.VERB,\n",
    "                \"R\": wordnet.ADV}\n",
    "    tag = nltk.pos_tag([token])[0][1][0].upper()\n",
    "    return tag_dict.get(tag, wordnet.NOUN)\n",
    "\n",
    "token = \"There was an old man named Bill, and one of the things he most enjoyed was playing\"\n",
    "get_part_of_speech_tags(token)"
   ]
  },
  {
   "cell_type": "code",
   "execution_count": 39,
   "metadata": {},
   "outputs": [
    {
     "name": "stdout",
     "output_type": "stream",
     "text": [
      "We be put in effort to enhance our understand of Lemmatization\n"
     ]
    }
   ],
   "source": [
    "lemmatized_output_with_POS_information = [lemmatizer.lemmatize(token, get_part_of_speech_tags(token)) for token in token_list]\n",
    "print(' '.join(lemmatized_output_with_POS_information))"
   ]
  },
  {
   "cell_type": "code",
   "execution_count": 40,
   "metadata": {},
   "outputs": [
    {
     "name": "stdout",
     "output_type": "stream",
     "text": [
      "we are put in effort to enhanc our understand of lemmat\n"
     ]
    }
   ],
   "source": [
    "# Let’s compare this with the Snowball stemmer:\n",
    "\n",
    "stemmer2 = SnowballStemmer(language='english')\n",
    "stemmed_sentence = [stemmer2.stem(token) for token in token_list]\n",
    "print(' '.join(stemmed_sentence))"
   ]
  },
  {
   "cell_type": "markdown",
   "metadata": {},
   "source": [
    "----------------------------------------------------------------------------------------------\n",
    "As can be seen, the WordNet lemmatizer makes a sensible and context-aware conversion of\n",
    "the token into its base form, unlike the stemmer, which tries to chop the affixes from the\n",
    "token."
   ]
  },
  {
   "cell_type": "markdown",
   "metadata": {},
   "source": [
    "# Stopword removal\n",
    "\n",
    "**What are stopwords?**\n",
    "\n",
    "Stopwords are words such as a, an, the, in, at, and so on that occur frequently in text corpora\n",
    "and do not carry a lot of information in most contexts. These words, in general, are required\n",
    "for the completion of sentences and making them grammatically sound. They are often the\n",
    "most common words in a language and can be filtered out in most NLP tasks, and\n",
    "consequently help in reducing the vocabulary or search space. There is no single list of\n",
    "stopwords that is available universally, and they vary mostly based on use cases"
   ]
  },
  {
   "cell_type": "code",
   "execution_count": 41,
   "metadata": {},
   "outputs": [
    {
     "data": {
      "text/plain": [
       "\"again, is, been, hasn't, this, same, re, their, haven't, should've, was, now, ve, few, that'll, are, won, you've, once, don, shan, has, his, wasn't, the, between, she, o, just, more, until, an, wouldn't, being, nor, each, had, at, yourself, won't, you're, as, do, yours, into, have, most, a, hadn, yourselves, she's, with, through, shouldn, mustn, because, m, what, her, during, than, those, down, while, couldn, haven, in, or, then, shan't, up, be, am, ll, theirs, but, themselves, before, having, myself, further, above, aren't, for, over, to, against, no, don't, some, he, doesn, isn't, out, it, by, doesn't, hasn, we, both, ma, should, weren, from, who, him, your, ourselves, these, our, i, on, needn, if, didn, very, mightn't, it's, mightn, which, off, under, only, ours, so, them, of, own, below, t, himself, you'll, does, about, wouldn, can, when, were, after, hadn't, needn't, there, such, that, couldn't, why, itself, wasn, isn, hers, whom, will, all, s, not, you, you'd, ain, how, here, aren, and, mustn't, weren't, me, any, did, where, my, herself, didn't, too, they, d, doing, other, y, its, shouldn't\""
      ]
     },
     "execution_count": 41,
     "metadata": {},
     "output_type": "execute_result"
    }
   ],
   "source": [
    "from nltk.corpus import stopwords\n",
    "\n",
    "stop = set(stopwords.words('english'))\n",
    "\", \".join(stop)"
   ]
  },
  {
   "cell_type": "code",
   "execution_count": 42,
   "metadata": {},
   "outputs": [
    {
     "data": {
      "text/plain": [
       "'how putting efforts enhance understanding Lemmatization'"
      ]
     },
     "execution_count": 42,
     "metadata": {},
     "output_type": "execute_result"
    }
   ],
   "source": [
    "wh_words = ['who', 'what', 'when', 'why', 'how', 'which', 'where', 'whom']\n",
    "stop = set(stopwords.words('english'))\n",
    "\n",
    "sentence = \"how are we putting in efforts to enhance our understanding of Lemmatization\"\n",
    "for word in wh_words:\n",
    "    stop.remove(word)\n",
    "    sentence_after_stopword_removal = [token for token in sentence.split() if token not in stop]\n",
    "\n",
    "\" \".join(sentence_after_stopword_removal)"
   ]
  },
  {
   "cell_type": "markdown",
   "metadata": {},
   "source": [
    "# Case folding\n",
    "\n",
    "* Another strategy that helps with normalization is called case folding. As part of case\n",
    "folding, all the letters in the text corpus are converted to lowercase. The and the will be\n",
    "treated the same in a scenario of case folding, whereas they would be treated differently in\n",
    "a non-case folding scenario. This technique helps systems that deal with information\n",
    "retrieval, such as search engines.\n",
    "Lamborghini, which is a proper noun, will be treated as lamborghini; whether the user typed\n",
    "Lamborghini or lamborghini would not make a difference, and the same results would be\n",
    "returned\n",
    "\n",
    "* However, in situations where proper nouns are derived from common noun terms, case\n",
    "folding will become a bottleneck as case-based distinction becomes an important feature\n",
    "here. For instance, General Motors is composed of common noun terms but is itself a proper\n",
    "noun. Performing case folding here might cause issues. Another problem is when acronyms\n",
    "are converted to lowercase. There is a high chance that they will map to common nouns. An\n",
    "example widely used here is CAT which stands for Common Admission Test in India\n",
    "getting converted to cat."
   ]
  },
  {
   "cell_type": "markdown",
   "metadata": {},
   "source": [
    "# N-grams\n",
    "\n",
    "* Until now, we have focused on tokens of size 1, which means only one word. Sentences\n",
    "generally contain names of people and places and other open compound terms, such as\n",
    "living room and coffee mug. These phrases convey a specific meaning when two or more\n",
    "words are used together. \n",
    "\n",
    "* In general, these are grouped under the umbrella term of n-grams. When n is equal to 1,\n",
    "these are termed as unigrams. Bigrams, or 2-grams, refer to pairs of words, such as dinner\n",
    "table. Phrases such as the United Arab Emirates comprising three words are termed as\n",
    "trigrams or 3-grams. This naming system can be extended to larger n-grams, but most NLP\n",
    "tasks use only trigrams or lower."
   ]
  },
  {
   "cell_type": "code",
   "execution_count": 43,
   "metadata": {},
   "outputs": [
    {
     "name": "stdout",
     "output_type": "stream",
     "text": [
      "[('Natural', 'Language'), ('Language', 'Processing'), ('Processing', 'is'), ('is', 'the'), ('the', 'way'), ('way', 'to'), ('to', 'go')]\n"
     ]
    }
   ],
   "source": [
    "from nltk.util import ngrams\n",
    "\n",
    "s = \"Natural Language Processing is the way to go\"\n",
    "tokens = s.split()\n",
    "bigrams = list(ngrams(tokens, 2))\n",
    "print(bigrams)"
   ]
  },
  {
   "cell_type": "code",
   "execution_count": 44,
   "metadata": {},
   "outputs": [
    {
     "data": {
      "text/plain": [
       "['Natural Language Processing',\n",
       " 'Language Processing is',\n",
       " 'Processing is the',\n",
       " 'is the way',\n",
       " 'the way to',\n",
       " 'way to go']"
      ]
     },
     "execution_count": 44,
     "metadata": {},
     "output_type": "execute_result"
    }
   ],
   "source": [
    "# Let's try and capture trigrams from the same sentence using the following code:\n",
    "\n",
    "s = \"Natural Language Processing is the way to go\"\n",
    "tokens = s.split()\n",
    "trigrams = list(ngrams(tokens, 3))\n",
    "[\" \".join(token) for token in trigrams]"
   ]
  },
  {
   "cell_type": "markdown",
   "metadata": {},
   "source": [
    "# Taking care of HTML tags\n",
    "\n",
    "Often, data is scraped from online websites for information retrieval. Since these are mostly\n",
    "HTML pages, there needs to be some preprocessing to remove the HTML tags. HTML tags\n",
    "are mostly noise; however, sometimes they can also carry specific information. HTML can be highly useful; however, they are noise for most NLP data.\n",
    "\n",
    "BeautifulSoup is an amazing library that helps us with handling such data. The following\n",
    "code snippet shows an example of how this can be achieved:"
   ]
  },
  {
   "cell_type": "code",
   "execution_count": 45,
   "metadata": {},
   "outputs": [
    {
     "name": "stdout",
     "output_type": "stream",
     "text": [
      "My First HeadingMy first paragraph.\n"
     ]
    }
   ],
   "source": [
    "html = \"<!DOCTYPE html><html><body><h1>My First Heading</h1><p>My first paragraph.</p></body></html>\"\n",
    "\n",
    "from bs4 import BeautifulSoup\n",
    "soup = BeautifulSoup(html)\n",
    "text = soup.get_text()\n",
    "print(text)"
   ]
  },
  {
   "cell_type": "markdown",
   "metadata": {},
   "source": [
    "# Transforming Text into Data Structures\n",
    "\n",
    " * **Syntax** defines the grammatical structures or the set of rules defining a language. It can be thought of as a set of guiding principles that define how words can be put in each other's vicinity to form sentences or phrases. However, syntactically correct sentences may not be meaningful.\n",
    " \n",
    " * **Semantics** is the part that takes care of the meanings and defines how to put words together so that they actually make sense when organized based on the available syntactical rules."
   ]
  },
  {
   "cell_type": "markdown",
   "metadata": {},
   "source": [
    "# Vectors\n",
    "\n",
    "Vectors are a one-dimensional array of numbers in which each number could be identified\n",
    "by its respective indices. They are typically represented as a column enclosed in square\n",
    "brackets.\n",
    "\n",
    "\n",
    "# Matrices\n",
    "Matrices are an extension of arrays. They are a rectangular array of numbers wherein each\n",
    "number is identified by two indices. Like vectors, matrices are also represented using\n",
    "squared brackets, but matrices have both rows and columns.\n",
    "\n",
    "In the context of text analysis, matrices are used frequently to represent and\n",
    "analyze text data. Typically, each document vector is represented as a row of a matrix. \n",
    "the CountVectorizer module of the sklearn library to represent this data in a matrix\n",
    "format. The CountVectorizer module helps us vectorize each document and then\n",
    "combine each document vector to create the matrix."
   ]
  },
  {
   "cell_type": "code",
   "execution_count": 46,
   "metadata": {},
   "outputs": [
    {
     "name": "stdout",
     "output_type": "stream",
     "text": [
      "{'computers': 4, 'can': 3, 'analyze': 1, 'text': 12, 'they': 13, 'do': 6, 'it': 7, 'using': 14, 'vectors': 15, 'and': 2, 'matrices': 9, 'process': 11, 'massive': 8, 'amounts': 0, 'of': 10, 'data': 5}\n"
     ]
    }
   ],
   "source": [
    "from sklearn.feature_extraction.text import CountVectorizer\n",
    "\n",
    "vector = CountVectorizer()\n",
    "\n",
    "X = (\"Computers can analyze text\", \"They do it using vectors and matrices\", \"Computers can process massive amounts of text data\")\n",
    "vec = vector.fit_transform(X)\n",
    "print(vector.vocabulary_)"
   ]
  },
  {
   "cell_type": "code",
   "execution_count": 47,
   "metadata": {},
   "outputs": [
    {
     "name": "stdout",
     "output_type": "stream",
     "text": [
      "[[0 1 0 1 1 0 0 0 0 0 0 0 1 0 0 0]\n",
      " [0 0 1 0 0 0 1 1 0 1 0 0 0 1 1 1]\n",
      " [1 0 0 1 1 1 0 0 1 0 1 1 1 0 0 0]]\n"
     ]
    }
   ],
   "source": [
    "# to convert it into matrix form\n",
    "\n",
    "print(vec.todense())"
   ]
  },
  {
   "cell_type": "markdown",
   "metadata": {},
   "source": [
    "# Exploring the Bag-of-Words architecture\n",
    "\n",
    "  * The vocabulary-building step comes as a prerequisite to the BoW methodology. \n",
    "  * Once the vocabulary is available, each sentence can be represented as a vector. \n",
    "  * The length of this vector would be equal to the size of the vocabulary. \n",
    "  * Each entry in the vector would correspond to a term in the vocabulary\n",
    "  * The number in that particular entry would be the frequency of the term in the sentence under consideration. \n",
    "  * The lower limit for this number would be 0, indicating that the vocabulary term does not occur in the sentence concerned."
   ]
  },
  {
   "cell_type": "code",
   "execution_count": 54,
   "metadata": {},
   "outputs": [],
   "source": [
    "# importing the libraries\n",
    "\n",
    "import nltk\n",
    "import spacy\n",
    "from nltk.corpus import stopwords\n",
    "from bs4 import BeautifulSoup\n",
    "from nltk.tokenize.toktok import ToktokTokenizer\n",
    "from nltk.stem.porter import PorterStemmer\n",
    "from nltk.stem.snowball import SnowballStemmer\n",
    "import unicodedata\n",
    "import pandas as pd\n",
    "import numpy as np\n",
    "import re"
   ]
  },
  {
   "cell_type": "code",
   "execution_count": 49,
   "metadata": {},
   "outputs": [
    {
     "data": {
      "text/plain": [
       "0    Directed by Ranjit M Tewari, the movie is slat...\n",
       "1     The first poster of the movie was released by...\n",
       "2    The film, set in the 80s, is an original scree...\n",
       "3     Akshay is most likely to essay the story of a...\n",
       "4    Bell Bottom is produced by Vashu Bhagnani, Jac...\n",
       "dtype: object"
      ]
     },
     "execution_count": 49,
     "metadata": {},
     "output_type": "execute_result"
    }
   ],
   "source": [
    "# Take a list of sentences\n",
    "\n",
    "X = ['Directed by Ranjit M Tewari, the movie is slated for release on April 2, 2021.',\n",
    "            ' The first poster of the movie was released by Akshay Kumar in November, last year.',\n",
    "            'The film, set in the 80s, is an original screenplay inspired by true events.',\n",
    "            ' Akshay is most likely to essay the story of a spy in the movie.',\n",
    "            'Bell Bottom is produced by Vashu Bhagnani, Jackky Bhagnani, Deepshikha Deshmukh, Monisha Advani, Madhu Bhojwani']\n",
    "\n",
    "# creating a series of sentences\n",
    "\n",
    "sentences = pd.Series(X)\n",
    "sentences"
   ]
  },
  {
   "cell_type": "code",
   "execution_count": 52,
   "metadata": {},
   "outputs": [],
   "source": [
    "import spacy\n",
    "nlp = spacy.load('en_core_web_sm', parse = True, tag = True, entity = True)\n",
    "tokenizer = ToktokTokenizer()\n",
    "stopwords = nltk.corpus.stopwords.words('english')"
   ]
  },
  {
   "cell_type": "markdown",
   "metadata": {},
   "source": [
    "# Removing HTML tags"
   ]
  },
  {
   "cell_type": "code",
   "execution_count": 53,
   "metadata": {},
   "outputs": [],
   "source": [
    "\n",
    "\n",
    "def remove_html_tags(text):\n",
    "    \"\"\"Remove the HTML tags from the text\n",
    "    \"\"\"\n",
    "    \n",
    "    soup = BeautifulSoup(text, 'html.parser')\n",
    "    stripped_text = soup.get_text()\n",
    "    return stripped_text"
   ]
  },
  {
   "cell_type": "markdown",
   "metadata": {},
   "source": [
    "# Removing accented characters...  converting é to e."
   ]
  },
  {
   "cell_type": "code",
   "execution_count": 56,
   "metadata": {},
   "outputs": [
    {
     "data": {
      "text/plain": [
       "'Some Accented text'"
      ]
     },
     "execution_count": 56,
     "metadata": {},
     "output_type": "execute_result"
    }
   ],
   "source": [
    "\n",
    "\n",
    "def remove_accented_char(text):\n",
    "    text = unicodedata.normalize('NFKD', text).encode('ascii', 'ignore').decode('utf-8', 'ignore')\n",
    "    return text\n",
    "\n",
    "remove_accented_char('Sómě Áccěntěd těxt')"
   ]
  },
  {
   "cell_type": "markdown",
   "metadata": {},
   "source": [
    "# Expanding Contractions\n",
    "\n",
    " \n",
    "Contractions are shortened version of words or syllables. They often exist in either written or spoken forms in the English language. These shortened versions or contractions of words are created by removing specific letters and sounds. In case of English contractions, they are often created by removing one of the vowels from the word. Examples would be, do not to don’t and I would to I’d. Converting each contraction to its expanded, original form helps with text standardization."
   ]
  },
  {
   "cell_type": "markdown",
   "metadata": {
    "jupyter": {
     "outputs_hidden": true
    }
   },
   "source": [
    "# Stemming\n",
    "\n",
    "Consider the word JUMP. You can add affixes to it and form new words like JUMPS, JUMPED, and JUMPING. In this case, the base word JUMP is the word stem.\n",
    "The reverse process of obtaining the base form of a word from its inflected form is known as stemming. Stemming helps us in standardizing words to their base or root stem, irrespective of their inflections"
   ]
  },
  {
   "cell_type": "code",
   "execution_count": 58,
   "metadata": {},
   "outputs": [
    {
     "data": {
      "text/plain": [
       "'My system keep crash hi crash yesterday, our crash daili'"
      ]
     },
     "execution_count": 58,
     "metadata": {},
     "output_type": "execute_result"
    }
   ],
   "source": [
    "def simple_stemmer(text):\n",
    "    ps = PorterStemmer()\n",
    "    new_text = ' '.join([ps.stem(word) for word in text.split()])\n",
    "    return new_text\n",
    "\n",
    "simple_stemmer(\"My system keeps crashing his crashed yesterday, ours crashes daily\")"
   ]
  },
  {
   "cell_type": "markdown",
   "metadata": {
    "jupyter": {
     "outputs_hidden": true
    }
   },
   "source": [
    "# Removing Stopwords"
   ]
  },
  {
   "cell_type": "code",
   "execution_count": 62,
   "metadata": {},
   "outputs": [
    {
     "data": {
      "text/plain": [
       "', , stopwords , computer'"
      ]
     },
     "execution_count": 62,
     "metadata": {},
     "output_type": "execute_result"
    }
   ],
   "source": [
    "from nltk.tokenize import word_tokenize\n",
    "\n",
    "def remove_stopwords(text):\n",
    "    \n",
    "    words = nltk.corpus.stopwords.words('english')\n",
    "    token = word_tokenize(text.lower())\n",
    "    \n",
    "    new_text = []\n",
    "    for word in token:\n",
    "        if word not in words:\n",
    "            new_text.append(word)\n",
    "    return ' '.join(new_text)\n",
    "\n",
    "remove_stopwords(\"The, and, if are stopwords, computer is not\")"
   ]
  },
  {
   "cell_type": "code",
   "execution_count": null,
   "metadata": {},
   "outputs": [],
   "source": []
  },
  {
   "cell_type": "code",
   "execution_count": null,
   "metadata": {},
   "outputs": [],
   "source": []
  },
  {
   "cell_type": "code",
   "execution_count": null,
   "metadata": {},
   "outputs": [],
   "source": []
  },
  {
   "cell_type": "code",
   "execution_count": null,
   "metadata": {},
   "outputs": [],
   "source": []
  },
  {
   "cell_type": "code",
   "execution_count": null,
   "metadata": {},
   "outputs": [],
   "source": []
  },
  {
   "cell_type": "code",
   "execution_count": null,
   "metadata": {},
   "outputs": [],
   "source": []
  },
  {
   "cell_type": "code",
   "execution_count": null,
   "metadata": {},
   "outputs": [],
   "source": []
  },
  {
   "cell_type": "code",
   "execution_count": null,
   "metadata": {},
   "outputs": [],
   "source": []
  },
  {
   "cell_type": "code",
   "execution_count": null,
   "metadata": {},
   "outputs": [],
   "source": []
  },
  {
   "cell_type": "code",
   "execution_count": null,
   "metadata": {},
   "outputs": [],
   "source": []
  },
  {
   "cell_type": "code",
   "execution_count": null,
   "metadata": {},
   "outputs": [],
   "source": []
  },
  {
   "cell_type": "code",
   "execution_count": null,
   "metadata": {},
   "outputs": [],
   "source": []
  },
  {
   "cell_type": "code",
   "execution_count": null,
   "metadata": {},
   "outputs": [],
   "source": []
  },
  {
   "cell_type": "code",
   "execution_count": null,
   "metadata": {},
   "outputs": [],
   "source": []
  },
  {
   "cell_type": "code",
   "execution_count": null,
   "metadata": {},
   "outputs": [],
   "source": []
  },
  {
   "cell_type": "code",
   "execution_count": null,
   "metadata": {},
   "outputs": [],
   "source": []
  },
  {
   "cell_type": "code",
   "execution_count": null,
   "metadata": {},
   "outputs": [],
   "source": []
  },
  {
   "cell_type": "code",
   "execution_count": null,
   "metadata": {},
   "outputs": [],
   "source": []
  },
  {
   "cell_type": "code",
   "execution_count": null,
   "metadata": {},
   "outputs": [],
   "source": []
  },
  {
   "cell_type": "code",
   "execution_count": null,
   "metadata": {},
   "outputs": [],
   "source": []
  },
  {
   "cell_type": "code",
   "execution_count": null,
   "metadata": {},
   "outputs": [],
   "source": []
  },
  {
   "cell_type": "code",
   "execution_count": null,
   "metadata": {},
   "outputs": [],
   "source": []
  },
  {
   "cell_type": "code",
   "execution_count": null,
   "metadata": {},
   "outputs": [],
   "source": []
  },
  {
   "cell_type": "code",
   "execution_count": null,
   "metadata": {},
   "outputs": [],
   "source": []
  },
  {
   "cell_type": "code",
   "execution_count": null,
   "metadata": {},
   "outputs": [],
   "source": []
  },
  {
   "cell_type": "code",
   "execution_count": null,
   "metadata": {},
   "outputs": [],
   "source": []
  },
  {
   "cell_type": "code",
   "execution_count": null,
   "metadata": {},
   "outputs": [],
   "source": []
  },
  {
   "cell_type": "code",
   "execution_count": null,
   "metadata": {},
   "outputs": [],
   "source": []
  },
  {
   "cell_type": "code",
   "execution_count": null,
   "metadata": {},
   "outputs": [],
   "source": []
  },
  {
   "cell_type": "code",
   "execution_count": null,
   "metadata": {},
   "outputs": [],
   "source": []
  },
  {
   "cell_type": "code",
   "execution_count": null,
   "metadata": {},
   "outputs": [],
   "source": []
  },
  {
   "cell_type": "code",
   "execution_count": null,
   "metadata": {},
   "outputs": [],
   "source": []
  },
  {
   "cell_type": "code",
   "execution_count": null,
   "metadata": {},
   "outputs": [],
   "source": []
  },
  {
   "cell_type": "code",
   "execution_count": null,
   "metadata": {},
   "outputs": [],
   "source": []
  },
  {
   "cell_type": "code",
   "execution_count": null,
   "metadata": {},
   "outputs": [],
   "source": []
  },
  {
   "cell_type": "code",
   "execution_count": null,
   "metadata": {},
   "outputs": [],
   "source": []
  },
  {
   "cell_type": "code",
   "execution_count": null,
   "metadata": {},
   "outputs": [],
   "source": []
  },
  {
   "cell_type": "code",
   "execution_count": null,
   "metadata": {},
   "outputs": [],
   "source": []
  }
 ],
 "metadata": {
  "kernelspec": {
   "display_name": "Python 3",
   "language": "python",
   "name": "python3"
  },
  "language_info": {
   "codemirror_mode": {
    "name": "ipython",
    "version": 3
   },
   "file_extension": ".py",
   "mimetype": "text/x-python",
   "name": "python",
   "nbconvert_exporter": "python",
   "pygments_lexer": "ipython3",
   "version": "3.7.6"
  }
 },
 "nbformat": 4,
 "nbformat_minor": 4
}
