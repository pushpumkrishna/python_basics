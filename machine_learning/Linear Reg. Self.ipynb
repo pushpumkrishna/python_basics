{
 "cells": [
  {
   "cell_type": "code",
   "execution_count": 25,
   "metadata": {},
   "outputs": [
    {
     "data": {
      "text/html": [
       "<div>\n",
       "<style scoped>\n",
       "    .dataframe tbody tr th:only-of-type {\n",
       "        vertical-align: middle;\n",
       "    }\n",
       "\n",
       "    .dataframe tbody tr th {\n",
       "        vertical-align: top;\n",
       "    }\n",
       "\n",
       "    .dataframe thead th {\n",
       "        text-align: right;\n",
       "    }\n",
       "</style>\n",
       "<table border=\"1\" class=\"dataframe\">\n",
       "  <thead>\n",
       "    <tr style=\"text-align: right;\">\n",
       "      <th></th>\n",
       "      <th>fixed acidity</th>\n",
       "      <th>volatile acidity</th>\n",
       "      <th>citric acid</th>\n",
       "      <th>residual sugar</th>\n",
       "      <th>chlorides</th>\n",
       "      <th>free sulfur dioxide</th>\n",
       "      <th>total sulfur dioxide</th>\n",
       "      <th>density</th>\n",
       "      <th>pH</th>\n",
       "      <th>sulphates</th>\n",
       "      <th>alcohol</th>\n",
       "      <th>quality</th>\n",
       "    </tr>\n",
       "  </thead>\n",
       "  <tbody>\n",
       "    <tr>\n",
       "      <th>0</th>\n",
       "      <td>7.4</td>\n",
       "      <td>0.700</td>\n",
       "      <td>0.00</td>\n",
       "      <td>1.9</td>\n",
       "      <td>0.076</td>\n",
       "      <td>11.0</td>\n",
       "      <td>34.0</td>\n",
       "      <td>0.99780</td>\n",
       "      <td>3.51</td>\n",
       "      <td>0.56</td>\n",
       "      <td>9.4</td>\n",
       "      <td>5</td>\n",
       "    </tr>\n",
       "    <tr>\n",
       "      <th>1</th>\n",
       "      <td>7.8</td>\n",
       "      <td>0.880</td>\n",
       "      <td>0.00</td>\n",
       "      <td>2.6</td>\n",
       "      <td>0.098</td>\n",
       "      <td>25.0</td>\n",
       "      <td>67.0</td>\n",
       "      <td>0.99680</td>\n",
       "      <td>3.20</td>\n",
       "      <td>0.68</td>\n",
       "      <td>9.8</td>\n",
       "      <td>5</td>\n",
       "    </tr>\n",
       "    <tr>\n",
       "      <th>2</th>\n",
       "      <td>7.8</td>\n",
       "      <td>0.760</td>\n",
       "      <td>0.04</td>\n",
       "      <td>2.3</td>\n",
       "      <td>0.092</td>\n",
       "      <td>15.0</td>\n",
       "      <td>54.0</td>\n",
       "      <td>0.99700</td>\n",
       "      <td>3.26</td>\n",
       "      <td>0.65</td>\n",
       "      <td>9.8</td>\n",
       "      <td>5</td>\n",
       "    </tr>\n",
       "    <tr>\n",
       "      <th>3</th>\n",
       "      <td>11.2</td>\n",
       "      <td>0.280</td>\n",
       "      <td>0.56</td>\n",
       "      <td>1.9</td>\n",
       "      <td>0.075</td>\n",
       "      <td>17.0</td>\n",
       "      <td>60.0</td>\n",
       "      <td>0.99800</td>\n",
       "      <td>3.16</td>\n",
       "      <td>0.58</td>\n",
       "      <td>9.8</td>\n",
       "      <td>6</td>\n",
       "    </tr>\n",
       "    <tr>\n",
       "      <th>4</th>\n",
       "      <td>7.4</td>\n",
       "      <td>0.700</td>\n",
       "      <td>0.00</td>\n",
       "      <td>1.9</td>\n",
       "      <td>0.076</td>\n",
       "      <td>11.0</td>\n",
       "      <td>34.0</td>\n",
       "      <td>0.99780</td>\n",
       "      <td>3.51</td>\n",
       "      <td>0.56</td>\n",
       "      <td>9.4</td>\n",
       "      <td>5</td>\n",
       "    </tr>\n",
       "    <tr>\n",
       "      <th>...</th>\n",
       "      <td>...</td>\n",
       "      <td>...</td>\n",
       "      <td>...</td>\n",
       "      <td>...</td>\n",
       "      <td>...</td>\n",
       "      <td>...</td>\n",
       "      <td>...</td>\n",
       "      <td>...</td>\n",
       "      <td>...</td>\n",
       "      <td>...</td>\n",
       "      <td>...</td>\n",
       "      <td>...</td>\n",
       "    </tr>\n",
       "    <tr>\n",
       "      <th>1594</th>\n",
       "      <td>6.2</td>\n",
       "      <td>0.600</td>\n",
       "      <td>0.08</td>\n",
       "      <td>2.0</td>\n",
       "      <td>0.090</td>\n",
       "      <td>32.0</td>\n",
       "      <td>44.0</td>\n",
       "      <td>0.99490</td>\n",
       "      <td>3.45</td>\n",
       "      <td>0.58</td>\n",
       "      <td>10.5</td>\n",
       "      <td>5</td>\n",
       "    </tr>\n",
       "    <tr>\n",
       "      <th>1595</th>\n",
       "      <td>5.9</td>\n",
       "      <td>0.550</td>\n",
       "      <td>0.10</td>\n",
       "      <td>2.2</td>\n",
       "      <td>0.062</td>\n",
       "      <td>39.0</td>\n",
       "      <td>51.0</td>\n",
       "      <td>0.99512</td>\n",
       "      <td>3.52</td>\n",
       "      <td>0.76</td>\n",
       "      <td>11.2</td>\n",
       "      <td>6</td>\n",
       "    </tr>\n",
       "    <tr>\n",
       "      <th>1596</th>\n",
       "      <td>6.3</td>\n",
       "      <td>0.510</td>\n",
       "      <td>0.13</td>\n",
       "      <td>2.3</td>\n",
       "      <td>0.076</td>\n",
       "      <td>29.0</td>\n",
       "      <td>40.0</td>\n",
       "      <td>0.99574</td>\n",
       "      <td>3.42</td>\n",
       "      <td>0.75</td>\n",
       "      <td>11.0</td>\n",
       "      <td>6</td>\n",
       "    </tr>\n",
       "    <tr>\n",
       "      <th>1597</th>\n",
       "      <td>5.9</td>\n",
       "      <td>0.645</td>\n",
       "      <td>0.12</td>\n",
       "      <td>2.0</td>\n",
       "      <td>0.075</td>\n",
       "      <td>32.0</td>\n",
       "      <td>44.0</td>\n",
       "      <td>0.99547</td>\n",
       "      <td>3.57</td>\n",
       "      <td>0.71</td>\n",
       "      <td>10.2</td>\n",
       "      <td>5</td>\n",
       "    </tr>\n",
       "    <tr>\n",
       "      <th>1598</th>\n",
       "      <td>6.0</td>\n",
       "      <td>0.310</td>\n",
       "      <td>0.47</td>\n",
       "      <td>3.6</td>\n",
       "      <td>0.067</td>\n",
       "      <td>18.0</td>\n",
       "      <td>42.0</td>\n",
       "      <td>0.99549</td>\n",
       "      <td>3.39</td>\n",
       "      <td>0.66</td>\n",
       "      <td>11.0</td>\n",
       "      <td>6</td>\n",
       "    </tr>\n",
       "  </tbody>\n",
       "</table>\n",
       "<p>1599 rows × 12 columns</p>\n",
       "</div>"
      ],
      "text/plain": [
       "      fixed acidity  volatile acidity  citric acid  residual sugar  chlorides  \\\n",
       "0               7.4             0.700         0.00             1.9      0.076   \n",
       "1               7.8             0.880         0.00             2.6      0.098   \n",
       "2               7.8             0.760         0.04             2.3      0.092   \n",
       "3              11.2             0.280         0.56             1.9      0.075   \n",
       "4               7.4             0.700         0.00             1.9      0.076   \n",
       "...             ...               ...          ...             ...        ...   \n",
       "1594            6.2             0.600         0.08             2.0      0.090   \n",
       "1595            5.9             0.550         0.10             2.2      0.062   \n",
       "1596            6.3             0.510         0.13             2.3      0.076   \n",
       "1597            5.9             0.645         0.12             2.0      0.075   \n",
       "1598            6.0             0.310         0.47             3.6      0.067   \n",
       "\n",
       "      free sulfur dioxide  total sulfur dioxide  density    pH  sulphates  \\\n",
       "0                    11.0                  34.0  0.99780  3.51       0.56   \n",
       "1                    25.0                  67.0  0.99680  3.20       0.68   \n",
       "2                    15.0                  54.0  0.99700  3.26       0.65   \n",
       "3                    17.0                  60.0  0.99800  3.16       0.58   \n",
       "4                    11.0                  34.0  0.99780  3.51       0.56   \n",
       "...                   ...                   ...      ...   ...        ...   \n",
       "1594                 32.0                  44.0  0.99490  3.45       0.58   \n",
       "1595                 39.0                  51.0  0.99512  3.52       0.76   \n",
       "1596                 29.0                  40.0  0.99574  3.42       0.75   \n",
       "1597                 32.0                  44.0  0.99547  3.57       0.71   \n",
       "1598                 18.0                  42.0  0.99549  3.39       0.66   \n",
       "\n",
       "      alcohol  quality  \n",
       "0         9.4        5  \n",
       "1         9.8        5  \n",
       "2         9.8        5  \n",
       "3         9.8        6  \n",
       "4         9.4        5  \n",
       "...       ...      ...  \n",
       "1594     10.5        5  \n",
       "1595     11.2        6  \n",
       "1596     11.0        6  \n",
       "1597     10.2        5  \n",
       "1598     11.0        6  \n",
       "\n",
       "[1599 rows x 12 columns]"
      ]
     },
     "execution_count": 25,
     "metadata": {},
     "output_type": "execute_result"
    }
   ],
   "source": [
    "import pandas as pd\n",
    "\n",
    "dataset = pd.read_csv(\"E:/Data Science/CSV dataset/winequality-red.csv\")\n",
    "dataset"
   ]
  },
  {
   "cell_type": "code",
   "execution_count": 26,
   "metadata": {},
   "outputs": [
    {
     "data": {
      "text/html": [
       "<div>\n",
       "<style scoped>\n",
       "    .dataframe tbody tr th:only-of-type {\n",
       "        vertical-align: middle;\n",
       "    }\n",
       "\n",
       "    .dataframe tbody tr th {\n",
       "        vertical-align: top;\n",
       "    }\n",
       "\n",
       "    .dataframe thead th {\n",
       "        text-align: right;\n",
       "    }\n",
       "</style>\n",
       "<table border=\"1\" class=\"dataframe\">\n",
       "  <thead>\n",
       "    <tr style=\"text-align: right;\">\n",
       "      <th></th>\n",
       "      <th>fixed acidity</th>\n",
       "      <th>volatile acidity</th>\n",
       "      <th>citric acid</th>\n",
       "      <th>residual sugar</th>\n",
       "      <th>chlorides</th>\n",
       "      <th>free sulfur dioxide</th>\n",
       "      <th>total sulfur dioxide</th>\n",
       "      <th>density</th>\n",
       "      <th>pH</th>\n",
       "      <th>sulphates</th>\n",
       "      <th>alcohol</th>\n",
       "      <th>quality</th>\n",
       "    </tr>\n",
       "  </thead>\n",
       "  <tbody>\n",
       "    <tr>\n",
       "      <th>count</th>\n",
       "      <td>1599.000000</td>\n",
       "      <td>1599.000000</td>\n",
       "      <td>1599.000000</td>\n",
       "      <td>1599.000000</td>\n",
       "      <td>1599.000000</td>\n",
       "      <td>1599.000000</td>\n",
       "      <td>1599.000000</td>\n",
       "      <td>1599.000000</td>\n",
       "      <td>1599.000000</td>\n",
       "      <td>1599.000000</td>\n",
       "      <td>1599.000000</td>\n",
       "      <td>1599.000000</td>\n",
       "    </tr>\n",
       "    <tr>\n",
       "      <th>mean</th>\n",
       "      <td>8.319637</td>\n",
       "      <td>0.527821</td>\n",
       "      <td>0.270976</td>\n",
       "      <td>2.538806</td>\n",
       "      <td>0.087467</td>\n",
       "      <td>15.874922</td>\n",
       "      <td>46.467792</td>\n",
       "      <td>0.996747</td>\n",
       "      <td>3.311113</td>\n",
       "      <td>0.658149</td>\n",
       "      <td>10.422983</td>\n",
       "      <td>5.636023</td>\n",
       "    </tr>\n",
       "    <tr>\n",
       "      <th>std</th>\n",
       "      <td>1.741096</td>\n",
       "      <td>0.179060</td>\n",
       "      <td>0.194801</td>\n",
       "      <td>1.409928</td>\n",
       "      <td>0.047065</td>\n",
       "      <td>10.460157</td>\n",
       "      <td>32.895324</td>\n",
       "      <td>0.001887</td>\n",
       "      <td>0.154386</td>\n",
       "      <td>0.169507</td>\n",
       "      <td>1.065668</td>\n",
       "      <td>0.807569</td>\n",
       "    </tr>\n",
       "    <tr>\n",
       "      <th>min</th>\n",
       "      <td>4.600000</td>\n",
       "      <td>0.120000</td>\n",
       "      <td>0.000000</td>\n",
       "      <td>0.900000</td>\n",
       "      <td>0.012000</td>\n",
       "      <td>1.000000</td>\n",
       "      <td>6.000000</td>\n",
       "      <td>0.990070</td>\n",
       "      <td>2.740000</td>\n",
       "      <td>0.330000</td>\n",
       "      <td>8.400000</td>\n",
       "      <td>3.000000</td>\n",
       "    </tr>\n",
       "    <tr>\n",
       "      <th>25%</th>\n",
       "      <td>7.100000</td>\n",
       "      <td>0.390000</td>\n",
       "      <td>0.090000</td>\n",
       "      <td>1.900000</td>\n",
       "      <td>0.070000</td>\n",
       "      <td>7.000000</td>\n",
       "      <td>22.000000</td>\n",
       "      <td>0.995600</td>\n",
       "      <td>3.210000</td>\n",
       "      <td>0.550000</td>\n",
       "      <td>9.500000</td>\n",
       "      <td>5.000000</td>\n",
       "    </tr>\n",
       "    <tr>\n",
       "      <th>50%</th>\n",
       "      <td>7.900000</td>\n",
       "      <td>0.520000</td>\n",
       "      <td>0.260000</td>\n",
       "      <td>2.200000</td>\n",
       "      <td>0.079000</td>\n",
       "      <td>14.000000</td>\n",
       "      <td>38.000000</td>\n",
       "      <td>0.996750</td>\n",
       "      <td>3.310000</td>\n",
       "      <td>0.620000</td>\n",
       "      <td>10.200000</td>\n",
       "      <td>6.000000</td>\n",
       "    </tr>\n",
       "    <tr>\n",
       "      <th>75%</th>\n",
       "      <td>9.200000</td>\n",
       "      <td>0.640000</td>\n",
       "      <td>0.420000</td>\n",
       "      <td>2.600000</td>\n",
       "      <td>0.090000</td>\n",
       "      <td>21.000000</td>\n",
       "      <td>62.000000</td>\n",
       "      <td>0.997835</td>\n",
       "      <td>3.400000</td>\n",
       "      <td>0.730000</td>\n",
       "      <td>11.100000</td>\n",
       "      <td>6.000000</td>\n",
       "    </tr>\n",
       "    <tr>\n",
       "      <th>max</th>\n",
       "      <td>15.900000</td>\n",
       "      <td>1.580000</td>\n",
       "      <td>1.000000</td>\n",
       "      <td>15.500000</td>\n",
       "      <td>0.611000</td>\n",
       "      <td>72.000000</td>\n",
       "      <td>289.000000</td>\n",
       "      <td>1.003690</td>\n",
       "      <td>4.010000</td>\n",
       "      <td>2.000000</td>\n",
       "      <td>14.900000</td>\n",
       "      <td>8.000000</td>\n",
       "    </tr>\n",
       "  </tbody>\n",
       "</table>\n",
       "</div>"
      ],
      "text/plain": [
       "       fixed acidity  volatile acidity  citric acid  residual sugar  \\\n",
       "count    1599.000000       1599.000000  1599.000000     1599.000000   \n",
       "mean        8.319637          0.527821     0.270976        2.538806   \n",
       "std         1.741096          0.179060     0.194801        1.409928   \n",
       "min         4.600000          0.120000     0.000000        0.900000   \n",
       "25%         7.100000          0.390000     0.090000        1.900000   \n",
       "50%         7.900000          0.520000     0.260000        2.200000   \n",
       "75%         9.200000          0.640000     0.420000        2.600000   \n",
       "max        15.900000          1.580000     1.000000       15.500000   \n",
       "\n",
       "         chlorides  free sulfur dioxide  total sulfur dioxide      density  \\\n",
       "count  1599.000000          1599.000000           1599.000000  1599.000000   \n",
       "mean      0.087467            15.874922             46.467792     0.996747   \n",
       "std       0.047065            10.460157             32.895324     0.001887   \n",
       "min       0.012000             1.000000              6.000000     0.990070   \n",
       "25%       0.070000             7.000000             22.000000     0.995600   \n",
       "50%       0.079000            14.000000             38.000000     0.996750   \n",
       "75%       0.090000            21.000000             62.000000     0.997835   \n",
       "max       0.611000            72.000000            289.000000     1.003690   \n",
       "\n",
       "                pH    sulphates      alcohol      quality  \n",
       "count  1599.000000  1599.000000  1599.000000  1599.000000  \n",
       "mean      3.311113     0.658149    10.422983     5.636023  \n",
       "std       0.154386     0.169507     1.065668     0.807569  \n",
       "min       2.740000     0.330000     8.400000     3.000000  \n",
       "25%       3.210000     0.550000     9.500000     5.000000  \n",
       "50%       3.310000     0.620000    10.200000     6.000000  \n",
       "75%       3.400000     0.730000    11.100000     6.000000  \n",
       "max       4.010000     2.000000    14.900000     8.000000  "
      ]
     },
     "execution_count": 26,
     "metadata": {},
     "output_type": "execute_result"
    }
   ],
   "source": [
    "## Calculating stats of the dataset\n",
    "\n",
    "dataset.describe()"
   ]
  },
  {
   "cell_type": "code",
   "execution_count": 27,
   "metadata": {},
   "outputs": [
    {
     "name": "stdout",
     "output_type": "stream",
     "text": [
      "<class 'pandas.core.frame.DataFrame'>\n",
      "RangeIndex: 1599 entries, 0 to 1598\n",
      "Data columns (total 12 columns):\n",
      " #   Column                Non-Null Count  Dtype  \n",
      "---  ------                --------------  -----  \n",
      " 0   fixed acidity         1599 non-null   float64\n",
      " 1   volatile acidity      1599 non-null   float64\n",
      " 2   citric acid           1599 non-null   float64\n",
      " 3   residual sugar        1599 non-null   float64\n",
      " 4   chlorides             1599 non-null   float64\n",
      " 5   free sulfur dioxide   1599 non-null   float64\n",
      " 6   total sulfur dioxide  1599 non-null   float64\n",
      " 7   density               1599 non-null   float64\n",
      " 8   pH                    1599 non-null   float64\n",
      " 9   sulphates             1599 non-null   float64\n",
      " 10  alcohol               1599 non-null   float64\n",
      " 11  quality               1599 non-null   int64  \n",
      "dtypes: float64(11), int64(1)\n",
      "memory usage: 150.0 KB\n"
     ]
    }
   ],
   "source": [
    "dataset.info()"
   ]
  },
  {
   "cell_type": "code",
   "execution_count": 28,
   "metadata": {},
   "outputs": [
    {
     "data": {
      "image/png": "[encoded data removed]",
      "text/plain": [
       "<Figure size 432x288 with 1 Axes>"
      ]
     },
     "metadata": {
      "needs_background": "light"
     },
     "output_type": "display_data"
    }
   ],
   "source": [
    "## Plotting the graph\n",
    "\n",
    "import matplotlib.pyplot as plt\n",
    "\n",
    "\n",
    "dataset.plot(x ='free sulfur dioxide', y = 'total sulfur dioxide', style = '+')\n",
    "plt.xlabel('free sulfur dioxide')\n",
    "plt.ylabel('total sulfur dioxide')\n",
    "plt.title(' Content of Sulfur Dioxide')\n",
    "plt.show()\n"
   ]
  },
  {
   "cell_type": "code",
   "execution_count": 29,
   "metadata": {},
   "outputs": [
    {
     "data": {
      "text/plain": [
       "<matplotlib.axes._subplots.AxesSubplot at 0x28f48cb5bc8>"
      ]
     },
     "execution_count": 29,
     "metadata": {},
     "output_type": "execute_result"
    },
    {
     "data": {
      "image/png": "[encoded data removed]",
      "text/plain": [
       "<Figure size 720x720 with 1 Axes>"
      ]
     },
     "metadata": {
      "needs_background": "light"
     },
     "output_type": "display_data"
    }
   ],
   "source": [
    "## Plotting distplot now\n",
    "\n",
    "import seaborn as sns\n",
    "\n",
    "plt.figure(figsize = (10,10))\n",
    "sns.distplot(dataset['free sulfur dioxide'])"
   ]
  },
  {
   "cell_type": "code",
   "execution_count": 30,
   "metadata": {},
   "outputs": [
    {
     "data": {
      "text/plain": [
       "Text(0.5, 1.0, 'Total Sulfur dioxide')"
      ]
     },
     "execution_count": 30,
     "metadata": {},
     "output_type": "execute_result"
    },
    {
     "data": {
      "image/png": "[encoded data removed]",
      "text/plain": [
       "<Figure size 720x720 with 1 Axes>"
      ]
     },
     "metadata": {
      "needs_background": "light"
     },
     "output_type": "display_data"
    }
   ],
   "source": [
    "import matplotlib.pyplot as plt\n",
    "\n",
    "plt.figure(figsize = (10,10))\n",
    "sns.distplot(dataset['total sulfur dioxide'])\n",
    "plt.title(\"Total Sulfur dioxide\")"
   ]
  },
  {
   "cell_type": "code",
   "execution_count": 31,
   "metadata": {},
   "outputs": [
    {
     "name": "stdout",
     "output_type": "stream",
     "text": [
      "[[11.]\n",
      " [25.]\n",
      " [15.]\n",
      " ...\n",
      " [29.]\n",
      " [32.]\n",
      " [18.]]\n"
     ]
    }
   ],
   "source": [
    "## Reshaping values as per our need\n",
    "\n",
    "x = dataset['free sulfur dioxide'].values.reshape(-1,1)\n",
    "print(x)"
   ]
  },
  {
   "cell_type": "code",
   "execution_count": 32,
   "metadata": {},
   "outputs": [
    {
     "name": "stdout",
     "output_type": "stream",
     "text": [
      "[[34.]\n",
      " [67.]\n",
      " [54.]\n",
      " ...\n",
      " [40.]\n",
      " [44.]\n",
      " [42.]]\n"
     ]
    }
   ],
   "source": [
    "y = dataset['total sulfur dioxide'].values.reshape(-1,1)\n",
    "print(y)"
   ]
  },
  {
   "cell_type": "code",
   "execution_count": 33,
   "metadata": {},
   "outputs": [
    {
     "data": {
      "text/plain": [
       "(1599, 1)"
      ]
     },
     "execution_count": 33,
     "metadata": {},
     "output_type": "execute_result"
    }
   ],
   "source": [
    "# Shape of array\n",
    "\n",
    "x.shape"
   ]
  },
  {
   "cell_type": "code",
   "execution_count": 34,
   "metadata": {},
   "outputs": [
    {
     "data": {
      "text/plain": [
       "(1599, 1)"
      ]
     },
     "execution_count": 34,
     "metadata": {},
     "output_type": "execute_result"
    }
   ],
   "source": [
    "y.shape"
   ]
  },
  {
   "cell_type": "markdown",
   "metadata": {},
   "source": [
    "Using test split function to split the data into training data and random data"
   ]
  },
  {
   "cell_type": "code",
   "execution_count": 38,
   "metadata": {},
   "outputs": [
    {
     "name": "stdout",
     "output_type": "stream",
     "text": [
      "[[14.]\n",
      " [ 5.]\n",
      " [ 8.]\n",
      " ...\n",
      " [11.]\n",
      " [11.]\n",
      " [22.]]\n"
     ]
    }
   ],
   "source": [
    "import numpy as np\n",
    "from sklearn.model_selection import train_test_split\n",
    "from sklearn.linear_model import LinearRegression\n",
    "from sklearn import metrics\n",
    "\n",
    "## Defining test variables for Linear Regression\n",
    "\n",
    "x_train, x_test, y_train, y_test = train_test_split(x, y, test_size = 0.2)"
   ]
  },
  {
   "cell_type": "markdown",
   "metadata": {},
   "source": [
    "Training our algorithm to fit Linear Regression"
   ]
  },
  {
   "cell_type": "code",
   "execution_count": 41,
   "metadata": {},
   "outputs": [
    {
     "name": "stdout",
     "output_type": "stream",
     "text": [
      "y intercept ::  [13.40045438]\n",
      "x intercept:: [[2.07068405]]\n"
     ]
    }
   ],
   "source": [
    "regressor = LinearRegression()\n",
    "regressor.fit(x_train, y_train)\n",
    "print('y intercept :: ',regressor.intercept_)\n",
    "print('x intercept::', regressor.coef_)\n",
    "\n"
   ]
  },
  {
   "cell_type": "code",
   "execution_count": 42,
   "metadata": {
    "collapsed": true,
    "jupyter": {
     "outputs_hidden": true
    }
   },
   "outputs": [
    {
     "name": "stdout",
     "output_type": "stream",
     "text": [
      "[[ 36.17797887]\n",
      " [ 69.3089236 ]\n",
      " [ 77.59165978]\n",
      " [ 67.23823955]\n",
      " [ 29.96592674]\n",
      " [ 48.60208314]\n",
      " [ 42.39003101]\n",
      " [ 21.68319056]\n",
      " [ 32.03661078]\n",
      " [ 36.17797887]\n",
      " [ 50.67276719]\n",
      " [ 32.03661078]\n",
      " [ 44.46071505]\n",
      " [ 25.82455865]\n",
      " [119.00534068]\n",
      " [ 48.60208314]\n",
      " [ 46.5313991 ]\n",
      " [ 52.74345124]\n",
      " [ 69.3089236 ]\n",
      " [ 61.02618742]\n",
      " [ 69.3089236 ]\n",
      " [ 48.60208314]\n",
      " [ 19.61250651]\n",
      " [ 83.80371191]\n",
      " [ 36.17797887]\n",
      " [ 85.87439596]\n",
      " [ 87.94508   ]\n",
      " [ 25.82455865]\n",
      " [ 23.7538746 ]\n",
      " [ 54.81413528]\n",
      " [ 29.96592674]\n",
      " [ 34.10729483]\n",
      " [ 19.61250651]\n",
      " [ 79.66234382]\n",
      " [ 48.60208314]\n",
      " [ 94.15713214]\n",
      " [ 83.80371191]\n",
      " [ 40.31934696]\n",
      " [ 48.60208314]\n",
      " [ 25.82455865]\n",
      " [ 19.61250651]\n",
      " [ 46.5313991 ]\n",
      " [ 56.88481933]\n",
      " [ 44.46071505]\n",
      " [ 52.74345124]\n",
      " [ 52.74345124]\n",
      " [ 23.7538746 ]\n",
      " [ 36.17797887]\n",
      " [ 42.39003101]\n",
      " [ 25.82455865]\n",
      " [ 34.10729483]\n",
      " [ 34.10729483]\n",
      " [ 42.39003101]\n",
      " [ 34.10729483]\n",
      " [ 29.96592674]\n",
      " [ 83.80371191]\n",
      " [ 69.3089236 ]\n",
      " [ 40.31934696]\n",
      " [ 71.37960764]\n",
      " [ 32.03661078]\n",
      " [ 58.95550337]\n",
      " [ 38.24866292]\n",
      " [ 38.24866292]\n",
      " [ 42.39003101]\n",
      " [ 38.24866292]\n",
      " [ 38.24866292]\n",
      " [ 25.82455865]\n",
      " [ 23.7538746 ]\n",
      " [ 27.89524269]\n",
      " [ 54.81413528]\n",
      " [ 48.60208314]\n",
      " [ 52.74345124]\n",
      " [ 27.89524269]\n",
      " [ 69.3089236 ]\n",
      " [ 36.17797887]\n",
      " [ 38.24866292]\n",
      " [ 19.61250651]\n",
      " [ 69.3089236 ]\n",
      " [ 44.46071505]\n",
      " [ 23.7538746 ]\n",
      " [ 69.3089236 ]\n",
      " [ 77.59165978]\n",
      " [ 56.88481933]\n",
      " [ 67.23823955]\n",
      " [ 71.37960764]\n",
      " [ 63.09687146]\n",
      " [ 42.39003101]\n",
      " [ 54.81413528]\n",
      " [ 79.66234382]\n",
      " [ 23.7538746 ]\n",
      " [ 38.24866292]\n",
      " [ 52.74345124]\n",
      " [ 44.46071505]\n",
      " [ 27.89524269]\n",
      " [ 46.5313991 ]\n",
      " [ 77.59165978]\n",
      " [ 69.3089236 ]\n",
      " [ 23.7538746 ]\n",
      " [ 36.17797887]\n",
      " [ 91.05110607]\n",
      " [ 50.67276719]\n",
      " [ 58.95550337]\n",
      " [ 40.31934696]\n",
      " [ 32.03661078]\n",
      " [ 38.24866292]\n",
      " [ 48.60208314]\n",
      " [ 34.10729483]\n",
      " [ 23.7538746 ]\n",
      " [ 25.82455865]\n",
      " [ 23.7538746 ]\n",
      " [ 67.23823955]\n",
      " [ 40.31934696]\n",
      " [ 56.88481933]\n",
      " [ 69.3089236 ]\n",
      " [ 65.16755551]\n",
      " [ 34.10729483]\n",
      " [ 52.74345124]\n",
      " [ 38.24866292]\n",
      " [ 65.16755551]\n",
      " [ 34.10729483]\n",
      " [ 61.02618742]\n",
      " [ 25.82455865]\n",
      " [ 34.10729483]\n",
      " [ 21.68319056]\n",
      " [ 81.73302787]\n",
      " [ 58.95550337]\n",
      " [ 81.73302787]\n",
      " [ 42.39003101]\n",
      " [ 32.03661078]\n",
      " [ 36.17797887]\n",
      " [ 40.31934696]\n",
      " [ 34.10729483]\n",
      " [ 50.67276719]\n",
      " [ 34.10729483]\n",
      " [ 36.17797887]\n",
      " [ 29.96592674]\n",
      " [ 25.82455865]\n",
      " [ 32.03661078]\n",
      " [ 83.80371191]\n",
      " [ 23.7538746 ]\n",
      " [ 50.67276719]\n",
      " [ 40.31934696]\n",
      " [ 34.10729483]\n",
      " [ 48.60208314]\n",
      " [ 71.37960764]\n",
      " [ 65.16755551]\n",
      " [ 42.39003101]\n",
      " [ 32.03661078]\n",
      " [ 34.10729483]\n",
      " [ 36.17797887]\n",
      " [ 21.68319056]\n",
      " [ 63.09687146]\n",
      " [ 42.39003101]\n",
      " [ 38.24866292]\n",
      " [ 79.66234382]\n",
      " [150.06560136]\n",
      " [ 58.95550337]\n",
      " [ 32.03661078]\n",
      " [ 67.23823955]\n",
      " [ 25.82455865]\n",
      " [ 29.96592674]\n",
      " [ 42.39003101]\n",
      " [ 25.82455865]\n",
      " [ 25.82455865]\n",
      " [ 71.37960764]\n",
      " [ 46.5313991 ]\n",
      " [ 50.67276719]\n",
      " [ 56.88481933]\n",
      " [ 42.39003101]\n",
      " [ 25.82455865]\n",
      " [ 38.24866292]\n",
      " [ 67.23823955]\n",
      " [ 29.96592674]\n",
      " [ 61.02618742]\n",
      " [ 44.46071505]\n",
      " [ 38.24866292]\n",
      " [ 81.73302787]\n",
      " [ 63.09687146]\n",
      " [ 21.68319056]\n",
      " [ 54.81413528]\n",
      " [ 48.60208314]\n",
      " [ 23.7538746 ]\n",
      " [ 56.88481933]\n",
      " [ 25.82455865]\n",
      " [ 48.60208314]\n",
      " [ 21.68319056]\n",
      " [ 32.03661078]\n",
      " [ 23.7538746 ]\n",
      " [ 34.10729483]\n",
      " [ 29.96592674]\n",
      " [ 21.68319056]\n",
      " [ 46.5313991 ]\n",
      " [ 36.17797887]\n",
      " [ 50.67276719]\n",
      " [ 65.16755551]\n",
      " [ 19.61250651]\n",
      " [ 38.24866292]\n",
      " [ 40.31934696]\n",
      " [ 42.39003101]\n",
      " [ 27.89524269]\n",
      " [ 34.10729483]\n",
      " [ 38.24866292]\n",
      " [ 32.03661078]\n",
      " [ 32.03661078]\n",
      " [ 48.60208314]\n",
      " [ 44.46071505]\n",
      " [ 61.02618742]\n",
      " [ 25.82455865]\n",
      " [154.20696945]\n",
      " [ 77.59165978]\n",
      " [ 50.67276719]\n",
      " [ 61.02618742]\n",
      " [110.7226045 ]\n",
      " [ 69.3089236 ]\n",
      " [ 54.81413528]\n",
      " [121.07602473]\n",
      " [ 54.81413528]\n",
      " [ 50.67276719]\n",
      " [ 27.89524269]\n",
      " [ 94.15713214]\n",
      " [ 79.66234382]\n",
      " [ 46.5313991 ]\n",
      " [ 34.10729483]\n",
      " [ 36.17797887]\n",
      " [ 36.17797887]\n",
      " [ 44.46071505]\n",
      " [ 25.82455865]\n",
      " [ 23.7538746 ]\n",
      " [ 56.88481933]\n",
      " [ 23.7538746 ]\n",
      " [ 69.3089236 ]\n",
      " [ 27.89524269]\n",
      " [ 83.80371191]\n",
      " [ 44.46071505]\n",
      " [ 25.82455865]\n",
      " [ 27.89524269]\n",
      " [ 83.80371191]\n",
      " [ 75.52097573]\n",
      " [ 48.60208314]\n",
      " [ 25.82455865]\n",
      " [ 61.02618742]\n",
      " [ 56.88481933]\n",
      " [ 19.61250651]\n",
      " [ 38.24866292]\n",
      " [ 67.23823955]\n",
      " [ 52.74345124]\n",
      " [ 67.23823955]\n",
      " [ 36.17797887]\n",
      " [ 81.73302787]\n",
      " [ 69.3089236 ]\n",
      " [ 27.89524269]\n",
      " [ 42.39003101]\n",
      " [ 42.39003101]\n",
      " [ 42.39003101]\n",
      " [ 44.46071505]\n",
      " [ 32.03661078]\n",
      " [ 79.66234382]\n",
      " [ 63.09687146]\n",
      " [ 40.31934696]\n",
      " [ 27.89524269]\n",
      " [ 27.89524269]\n",
      " [ 19.61250651]\n",
      " [ 48.60208314]\n",
      " [ 23.7538746 ]\n",
      " [ 27.89524269]\n",
      " [ 48.60208314]\n",
      " [ 25.82455865]\n",
      " [ 75.52097573]\n",
      " [ 23.7538746 ]\n",
      " [ 34.10729483]\n",
      " [ 19.61250651]\n",
      " [ 25.82455865]\n",
      " [ 34.10729483]\n",
      " [ 25.82455865]\n",
      " [ 40.31934696]\n",
      " [ 21.68319056]\n",
      " [ 63.09687146]\n",
      " [ 34.10729483]\n",
      " [ 40.31934696]\n",
      " [ 67.23823955]\n",
      " [ 52.74345124]\n",
      " [ 63.09687146]\n",
      " [ 34.10729483]\n",
      " [ 44.46071505]\n",
      " [ 29.96592674]\n",
      " [ 52.74345124]\n",
      " [ 23.7538746 ]\n",
      " [ 54.81413528]\n",
      " [ 98.29850023]\n",
      " [ 46.5313991 ]\n",
      " [ 71.37960764]\n",
      " [ 42.39003101]\n",
      " [ 23.7538746 ]\n",
      " [ 40.31934696]\n",
      " [ 34.10729483]\n",
      " [ 96.22781619]\n",
      " [ 21.68319056]\n",
      " [ 61.02618742]\n",
      " [ 38.24866292]\n",
      " [ 38.24866292]\n",
      " [ 38.24866292]\n",
      " [ 67.23823955]\n",
      " [ 25.82455865]\n",
      " [ 56.88481933]\n",
      " [ 52.74345124]\n",
      " [ 85.87439596]\n",
      " [ 61.02618742]\n",
      " [ 23.7538746 ]\n",
      " [ 40.31934696]\n",
      " [ 44.46071505]\n",
      " [ 40.31934696]\n",
      " [ 21.68319056]\n",
      " [100.36918428]\n",
      " [ 46.5313991 ]\n",
      " [ 48.60208314]\n",
      " [ 61.02618742]\n",
      " [ 21.68319056]\n",
      " [ 48.60208314]\n",
      " [ 42.39003101]\n",
      " [ 38.24866292]]\n"
     ]
    }
   ],
   "source": [
    "### making prediction to test our algorithm\n",
    "\n",
    "y_predict = regressor.predict(x_test)\n",
    "print(y_predict)"
   ]
  },
  {
   "cell_type": "markdown",
   "metadata": {},
   "source": [
    "Comparing the actual output values of x_test with the predicted values "
   ]
  },
  {
   "cell_type": "code",
   "execution_count": 46,
   "metadata": {},
   "outputs": [
    {
     "name": "stdout",
     "output_type": "stream",
     "text": [
      "   Actual  Predicted \n",
      "0    18.0   36.177979\n",
      "1   119.0   69.308924\n",
      "2    67.0   77.591660\n",
      "3    52.0   67.238240\n",
      "4    38.0   29.965927\n"
     ]
    }
   ],
   "source": [
    "df = pd.DataFrame({'Actual': y_test.flatten() , 'Predicted ': y_predict.flatten()})\n",
    "\n",
    "print(df.head(5))  ## Printing to see the table of values."
   ]
  },
  {
   "cell_type": "code",
   "execution_count": 47,
   "metadata": {},
   "outputs": [
    {
     "name": "stdout",
     "output_type": "stream",
     "text": [
      "     Actual  Predicted \n",
      "0      18.0   36.177979\n",
      "1     119.0   69.308924\n",
      "2      67.0   77.591660\n",
      "3      52.0   67.238240\n",
      "4      38.0   29.965927\n",
      "..      ...         ...\n",
      "315    42.0   61.026187\n",
      "316     9.0   21.683191\n",
      "317    78.0   48.602083\n",
      "318    24.0   42.390031\n",
      "319    35.0   38.248663\n",
      "\n",
      "[320 rows x 2 columns]\n"
     ]
    }
   ],
   "source": [
    "print(df)"
   ]
  },
  {
   "cell_type": "code",
   "execution_count": 51,
   "metadata": {},
   "outputs": [
    {
     "data": {
      "text/plain": [
       "<matplotlib.axes._subplots.AxesSubplot at 0x28f49ae6f48>"
      ]
     },
     "execution_count": 51,
     "metadata": {},
     "output_type": "execute_result"
    },
    {
     "data": {
      "image/png": "[encoded data removed]",
      "text/plain": [
       "<Figure size 432x288 with 1 Axes>"
      ]
     },
     "metadata": {
      "needs_background": "light"
     },
     "output_type": "display_data"
    }
   ],
   "source": [
    "## Drawing barplot to plot the values of the table:\n",
    "\n",
    "sns.barplot(data = df)"
   ]
  },
  {
   "cell_type": "code",
   "execution_count": 58,
   "metadata": {},
   "outputs": [
    {
     "data": {
      "text/plain": [
       "<matplotlib.axes._subplots.AxesSubplot at 0x28f4e0f4b48>"
      ]
     },
     "execution_count": 58,
     "metadata": {},
     "output_type": "execute_result"
    },
    {
     "data": {
      "image/png": "[encoded data removed]",
      "text/plain": [
       "<Figure size 1440x720 with 1 Axes>"
      ]
     },
     "metadata": {
      "needs_background": "light"
     },
     "output_type": "display_data"
    }
   ],
   "source": [
    "df1 = df.head(50)  ## taking only 100 value to plot so that size of the graph is small\n",
    "df1.plot(kind = 'bar', figsize = (20,10))"
   ]
  },
  {
   "cell_type": "markdown",
   "metadata": {},
   "source": [
    "Drawing scatter plot to plot the values"
   ]
  },
  {
   "cell_type": "code",
   "execution_count": 59,
   "metadata": {},
   "outputs": [
    {
     "data": {
      "text/plain": [
       "<matplotlib.collections.PathCollection at 0x28f4e113108>"
      ]
     },
     "execution_count": 59,
     "metadata": {},
     "output_type": "execute_result"
    },
    {
     "data": {
      "image/png": "[encoded data removed]",
      "text/plain": [
       "<Figure size 432x288 with 1 Axes>"
      ]
     },
     "metadata": {
      "needs_background": "light"
     },
     "output_type": "display_data"
    }
   ],
   "source": [
    "plt.scatter(x = x_test, y = y_test, color = 'red')"
   ]
  },
  {
   "cell_type": "code",
   "execution_count": 62,
   "metadata": {},
   "outputs": [
    {
     "data": {
      "text/plain": [
       "[<matplotlib.lines.Line2D at 0x28f4e637548>]"
      ]
     },
     "execution_count": 62,
     "metadata": {},
     "output_type": "execute_result"
    },
    {
     "data": {
      "image/png": "[encoded data removed]",
      "text/plain": [
       "<Figure size 432x288 with 1 Axes>"
      ]
     },
     "metadata": {
      "needs_background": "light"
     },
     "output_type": "display_data"
    }
   ],
   "source": [
    "plt.plot(x_test, y_predict, color = 'green')"
   ]
  },
  {
   "cell_type": "code",
   "execution_count": 63,
   "metadata": {},
   "outputs": [
    {
     "data": {
      "text/plain": [
       "[<matplotlib.lines.Line2D at 0x28f4e67a7c8>]"
      ]
     },
     "execution_count": 63,
     "metadata": {},
     "output_type": "execute_result"
    },
    {
     "data": {
      "image/png": "[encoded data removed]",
      "text/plain": [
       "<Figure size 432x288 with 1 Axes>"
      ]
     },
     "metadata": {
      "needs_background": "light"
     },
     "output_type": "display_data"
    }
   ],
   "source": [
    "# combinig both plots\n",
    "\n",
    "plt.scatter(x = x_test, y = y_test, color = 'red')\n",
    "plt.plot(x_test, y_predict, color = 'green')"
   ]
  },
  {
   "cell_type": "code",
   "execution_count": null,
   "metadata": {},
   "outputs": [],
   "source": [
    "Straight line shows that our predictions are correct "
   ]
  },
  {
   "cell_type": "code",
   "execution_count": 64,
   "metadata": {},
   "outputs": [
    {
     "name": "stdout",
     "output_type": "stream",
     "text": [
      "18.12192001882326\n"
     ]
    }
   ],
   "source": [
    "# Calculating Mean absolute error\n",
    "\n",
    "MAE = metrics.mean_absolute_error(y_test, y_predict)\n",
    "print(MSE)"
   ]
  },
  {
   "cell_type": "code",
   "execution_count": 65,
   "metadata": {},
   "outputs": [
    {
     "name": "stdout",
     "output_type": "stream",
     "text": [
      "669.3111772795543\n"
     ]
    }
   ],
   "source": [
    "MSE = metrics.mean_squared_error(y_test, y_predict)\n",
    "print(MSE)"
   ]
  },
  {
   "cell_type": "code",
   "execution_count": 66,
   "metadata": {},
   "outputs": [
    {
     "name": "stdout",
     "output_type": "stream",
     "text": [
      "25.87104901776413\n"
     ]
    }
   ],
   "source": [
    "# Root mean squared error\n",
    "\n",
    "RMSE = np.sqrt(MSE)\n",
    "print(RMSE)"
   ]
  },
  {
   "cell_type": "markdown",
   "metadata": {},
   "source": [
    "Linear Regression Example 2"
   ]
  },
  {
   "cell_type": "code",
   "execution_count": 2,
   "metadata": {},
   "outputs": [
    {
     "data": {
      "text/html": [
       "<div>\n",
       "<style scoped>\n",
       "    .dataframe tbody tr th:only-of-type {\n",
       "        vertical-align: middle;\n",
       "    }\n",
       "\n",
       "    .dataframe tbody tr th {\n",
       "        vertical-align: top;\n",
       "    }\n",
       "\n",
       "    .dataframe thead th {\n",
       "        text-align: right;\n",
       "    }\n",
       "</style>\n",
       "<table border=\"1\" class=\"dataframe\">\n",
       "  <thead>\n",
       "    <tr style=\"text-align: right;\">\n",
       "      <th></th>\n",
       "      <th>Rank</th>\n",
       "      <th>Name</th>\n",
       "      <th>Platform</th>\n",
       "      <th>Year</th>\n",
       "      <th>Genre</th>\n",
       "      <th>Publisher</th>\n",
       "      <th>NA_Sales</th>\n",
       "      <th>EU_Sales</th>\n",
       "      <th>JP_Sales</th>\n",
       "      <th>Other_Sales</th>\n",
       "      <th>Global_Sales</th>\n",
       "    </tr>\n",
       "  </thead>\n",
       "  <tbody>\n",
       "    <tr>\n",
       "      <th>0</th>\n",
       "      <td>1</td>\n",
       "      <td>Wii Sports</td>\n",
       "      <td>Wii</td>\n",
       "      <td>2006.0</td>\n",
       "      <td>Sports</td>\n",
       "      <td>Nintendo</td>\n",
       "      <td>41.49</td>\n",
       "      <td>29.02</td>\n",
       "      <td>3.77</td>\n",
       "      <td>8.46</td>\n",
       "      <td>82.74</td>\n",
       "    </tr>\n",
       "    <tr>\n",
       "      <th>1</th>\n",
       "      <td>2</td>\n",
       "      <td>Super Mario Bros.</td>\n",
       "      <td>NES</td>\n",
       "      <td>1985.0</td>\n",
       "      <td>Platform</td>\n",
       "      <td>Nintendo</td>\n",
       "      <td>29.08</td>\n",
       "      <td>3.58</td>\n",
       "      <td>6.81</td>\n",
       "      <td>0.77</td>\n",
       "      <td>40.24</td>\n",
       "    </tr>\n",
       "    <tr>\n",
       "      <th>2</th>\n",
       "      <td>3</td>\n",
       "      <td>Mario Kart Wii</td>\n",
       "      <td>Wii</td>\n",
       "      <td>2008.0</td>\n",
       "      <td>Racing</td>\n",
       "      <td>Nintendo</td>\n",
       "      <td>15.85</td>\n",
       "      <td>12.88</td>\n",
       "      <td>3.79</td>\n",
       "      <td>3.31</td>\n",
       "      <td>35.82</td>\n",
       "    </tr>\n",
       "    <tr>\n",
       "      <th>3</th>\n",
       "      <td>4</td>\n",
       "      <td>Wii Sports Resort</td>\n",
       "      <td>Wii</td>\n",
       "      <td>2009.0</td>\n",
       "      <td>Sports</td>\n",
       "      <td>Nintendo</td>\n",
       "      <td>15.75</td>\n",
       "      <td>11.01</td>\n",
       "      <td>3.28</td>\n",
       "      <td>2.96</td>\n",
       "      <td>33.00</td>\n",
       "    </tr>\n",
       "    <tr>\n",
       "      <th>4</th>\n",
       "      <td>5</td>\n",
       "      <td>Pokemon Red/Pokemon Blue</td>\n",
       "      <td>GB</td>\n",
       "      <td>1996.0</td>\n",
       "      <td>Role-Playing</td>\n",
       "      <td>Nintendo</td>\n",
       "      <td>11.27</td>\n",
       "      <td>8.89</td>\n",
       "      <td>10.22</td>\n",
       "      <td>1.00</td>\n",
       "      <td>31.37</td>\n",
       "    </tr>\n",
       "    <tr>\n",
       "      <th>...</th>\n",
       "      <td>...</td>\n",
       "      <td>...</td>\n",
       "      <td>...</td>\n",
       "      <td>...</td>\n",
       "      <td>...</td>\n",
       "      <td>...</td>\n",
       "      <td>...</td>\n",
       "      <td>...</td>\n",
       "      <td>...</td>\n",
       "      <td>...</td>\n",
       "      <td>...</td>\n",
       "    </tr>\n",
       "    <tr>\n",
       "      <th>16593</th>\n",
       "      <td>16596</td>\n",
       "      <td>Woody Woodpecker in Crazy Castle 5</td>\n",
       "      <td>GBA</td>\n",
       "      <td>2002.0</td>\n",
       "      <td>Platform</td>\n",
       "      <td>Kemco</td>\n",
       "      <td>0.01</td>\n",
       "      <td>0.00</td>\n",
       "      <td>0.00</td>\n",
       "      <td>0.00</td>\n",
       "      <td>0.01</td>\n",
       "    </tr>\n",
       "    <tr>\n",
       "      <th>16594</th>\n",
       "      <td>16597</td>\n",
       "      <td>Men in Black II: Alien Escape</td>\n",
       "      <td>GC</td>\n",
       "      <td>2003.0</td>\n",
       "      <td>Shooter</td>\n",
       "      <td>Infogrames</td>\n",
       "      <td>0.01</td>\n",
       "      <td>0.00</td>\n",
       "      <td>0.00</td>\n",
       "      <td>0.00</td>\n",
       "      <td>0.01</td>\n",
       "    </tr>\n",
       "    <tr>\n",
       "      <th>16595</th>\n",
       "      <td>16598</td>\n",
       "      <td>SCORE International Baja 1000: The Official Game</td>\n",
       "      <td>PS2</td>\n",
       "      <td>2008.0</td>\n",
       "      <td>Racing</td>\n",
       "      <td>Activision</td>\n",
       "      <td>0.00</td>\n",
       "      <td>0.00</td>\n",
       "      <td>0.00</td>\n",
       "      <td>0.00</td>\n",
       "      <td>0.01</td>\n",
       "    </tr>\n",
       "    <tr>\n",
       "      <th>16596</th>\n",
       "      <td>16599</td>\n",
       "      <td>Know How 2</td>\n",
       "      <td>DS</td>\n",
       "      <td>2010.0</td>\n",
       "      <td>Puzzle</td>\n",
       "      <td>7G//AMES</td>\n",
       "      <td>0.00</td>\n",
       "      <td>0.01</td>\n",
       "      <td>0.00</td>\n",
       "      <td>0.00</td>\n",
       "      <td>0.01</td>\n",
       "    </tr>\n",
       "    <tr>\n",
       "      <th>16597</th>\n",
       "      <td>16600</td>\n",
       "      <td>Spirits &amp; Spells</td>\n",
       "      <td>GBA</td>\n",
       "      <td>2003.0</td>\n",
       "      <td>Platform</td>\n",
       "      <td>Wanadoo</td>\n",
       "      <td>0.01</td>\n",
       "      <td>0.00</td>\n",
       "      <td>0.00</td>\n",
       "      <td>0.00</td>\n",
       "      <td>0.01</td>\n",
       "    </tr>\n",
       "  </tbody>\n",
       "</table>\n",
       "<p>16598 rows × 11 columns</p>\n",
       "</div>"
      ],
      "text/plain": [
       "        Rank                                              Name Platform  \\\n",
       "0          1                                        Wii Sports      Wii   \n",
       "1          2                                 Super Mario Bros.      NES   \n",
       "2          3                                    Mario Kart Wii      Wii   \n",
       "3          4                                 Wii Sports Resort      Wii   \n",
       "4          5                          Pokemon Red/Pokemon Blue       GB   \n",
       "...      ...                                               ...      ...   \n",
       "16593  16596                Woody Woodpecker in Crazy Castle 5      GBA   \n",
       "16594  16597                     Men in Black II: Alien Escape       GC   \n",
       "16595  16598  SCORE International Baja 1000: The Official Game      PS2   \n",
       "16596  16599                                        Know How 2       DS   \n",
       "16597  16600                                  Spirits & Spells      GBA   \n",
       "\n",
       "         Year         Genre   Publisher  NA_Sales  EU_Sales  JP_Sales  \\\n",
       "0      2006.0        Sports    Nintendo     41.49     29.02      3.77   \n",
       "1      1985.0      Platform    Nintendo     29.08      3.58      6.81   \n",
       "2      2008.0        Racing    Nintendo     15.85     12.88      3.79   \n",
       "3      2009.0        Sports    Nintendo     15.75     11.01      3.28   \n",
       "4      1996.0  Role-Playing    Nintendo     11.27      8.89     10.22   \n",
       "...       ...           ...         ...       ...       ...       ...   \n",
       "16593  2002.0      Platform       Kemco      0.01      0.00      0.00   \n",
       "16594  2003.0       Shooter  Infogrames      0.01      0.00      0.00   \n",
       "16595  2008.0        Racing  Activision      0.00      0.00      0.00   \n",
       "16596  2010.0        Puzzle    7G//AMES      0.00      0.01      0.00   \n",
       "16597  2003.0      Platform     Wanadoo      0.01      0.00      0.00   \n",
       "\n",
       "       Other_Sales  Global_Sales  \n",
       "0             8.46         82.74  \n",
       "1             0.77         40.24  \n",
       "2             3.31         35.82  \n",
       "3             2.96         33.00  \n",
       "4             1.00         31.37  \n",
       "...            ...           ...  \n",
       "16593         0.00          0.01  \n",
       "16594         0.00          0.01  \n",
       "16595         0.00          0.01  \n",
       "16596         0.00          0.01  \n",
       "16597         0.00          0.01  \n",
       "\n",
       "[16598 rows x 11 columns]"
      ]
     },
     "execution_count": 2,
     "metadata": {},
     "output_type": "execute_result"
    }
   ],
   "source": [
    "## Importing dataset\n",
    "\n",
    "import pandas as pd\n",
    "\n",
    "data = pd.read_csv(\"E:/Data Science/CSV dataset/New folder/vgsales.csv\")\n",
    "data"
   ]
  },
  {
   "cell_type": "code",
   "execution_count": 3,
   "metadata": {},
   "outputs": [
    {
     "name": "stdout",
     "output_type": "stream",
     "text": [
      "<class 'pandas.core.frame.DataFrame'>\n",
      "RangeIndex: 16598 entries, 0 to 16597\n",
      "Data columns (total 11 columns):\n",
      " #   Column        Non-Null Count  Dtype  \n",
      "---  ------        --------------  -----  \n",
      " 0   Rank          16598 non-null  int64  \n",
      " 1   Name          16598 non-null  object \n",
      " 2   Platform      16598 non-null  object \n",
      " 3   Year          16327 non-null  float64\n",
      " 4   Genre         16598 non-null  object \n",
      " 5   Publisher     16540 non-null  object \n",
      " 6   NA_Sales      16598 non-null  float64\n",
      " 7   EU_Sales      16598 non-null  float64\n",
      " 8   JP_Sales      16598 non-null  float64\n",
      " 9   Other_Sales   16598 non-null  float64\n",
      " 10  Global_Sales  16598 non-null  float64\n",
      "dtypes: float64(6), int64(1), object(4)\n",
      "memory usage: 1.4+ MB\n"
     ]
    }
   ],
   "source": [
    "data.info()"
   ]
  },
  {
   "cell_type": "code",
   "execution_count": 6,
   "metadata": {},
   "outputs": [
    {
     "data": {
      "text/plain": [
       "0        False\n",
       "1        False\n",
       "2        False\n",
       "3        False\n",
       "4        False\n",
       "         ...  \n",
       "16593    False\n",
       "16594    False\n",
       "16595    False\n",
       "16596    False\n",
       "16597    False\n",
       "Name: NA_Sales, Length: 16598, dtype: bool"
      ]
     },
     "execution_count": 6,
     "metadata": {},
     "output_type": "execute_result"
    }
   ],
   "source": [
    "## Checking for NAN values\n",
    "data['NA_Sales'].isnull()"
   ]
  },
  {
   "cell_type": "code",
   "execution_count": 8,
   "metadata": {},
   "outputs": [
    {
     "data": {
      "text/plain": [
       "0        41.49\n",
       "1        29.08\n",
       "2        15.85\n",
       "3        15.75\n",
       "4        11.27\n",
       "         ...  \n",
       "16593     0.01\n",
       "16594     0.01\n",
       "16595     0.00\n",
       "16596     0.00\n",
       "16597     0.01\n",
       "Name: NA_Sales, Length: 16598, dtype: float64"
      ]
     },
     "execution_count": 8,
     "metadata": {},
     "output_type": "execute_result"
    }
   ],
   "source": [
    "## Filling the NAN values\n",
    "data['NA_Sales'].fillna(0)"
   ]
  },
  {
   "cell_type": "code",
   "execution_count": 9,
   "metadata": {},
   "outputs": [
    {
     "data": {
      "text/plain": [
       "0        29.02\n",
       "1         3.58\n",
       "2        12.88\n",
       "3        11.01\n",
       "4         8.89\n",
       "         ...  \n",
       "16593     0.00\n",
       "16594     0.00\n",
       "16595     0.00\n",
       "16596     0.01\n",
       "16597     0.00\n",
       "Name: EU_Sales, Length: 16598, dtype: float64"
      ]
     },
     "execution_count": 9,
     "metadata": {},
     "output_type": "execute_result"
    }
   ],
   "source": [
    "## Dropping values of second column to use\n",
    "\n",
    "data['EU_Sales'].fillna(0)\n"
   ]
  },
  {
   "cell_type": "code",
   "execution_count": 19,
   "metadata": {},
   "outputs": [
    {
     "data": {
      "text/plain": [
       "<matplotlib.axes._subplots.AxesSubplot at 0x1ee505ebfc8>"
      ]
     },
     "execution_count": 19,
     "metadata": {},
     "output_type": "execute_result"
    },
    {
     "data": {
      "image/png": "[encoded data removed]",
      "text/plain": [
       "<Figure size 432x288 with 1 Axes>"
      ]
     },
     "metadata": {
      "needs_background": "light"
     },
     "output_type": "display_data"
    }
   ],
   "source": [
    "## Plotting the distplot to visualize the values\n",
    "\n",
    "import seaborn as sn\n",
    "\n",
    "sn.distplot(data['NA_Sales'])\n"
   ]
  },
  {
   "cell_type": "code",
   "execution_count": 20,
   "metadata": {},
   "outputs": [
    {
     "data": {
      "text/plain": [
       "<matplotlib.axes._subplots.AxesSubplot at 0x1ee506ba688>"
      ]
     },
     "execution_count": 20,
     "metadata": {},
     "output_type": "execute_result"
    },
    {
     "data": {
      "image/png": "[encoded data removed]",
      "text/plain": [
       "<Figure size 432x288 with 1 Axes>"
      ]
     },
     "metadata": {
      "needs_background": "light"
     },
     "output_type": "display_data"
    }
   ],
   "source": [
    "sn.distplot(data['EU_Sales'])"
   ]
  },
  {
   "cell_type": "code",
   "execution_count": 23,
   "metadata": {},
   "outputs": [
    {
     "data": {
      "text/plain": [
       "<matplotlib.axes._subplots.AxesSubplot at 0x1ee509ef3c8>"
      ]
     },
     "execution_count": 23,
     "metadata": {},
     "output_type": "execute_result"
    },
    {
     "data": {
      "image/png": "[encoded data removed]",
      "text/plain": [
       "<Figure size 432x288 with 1 Axes>"
      ]
     },
     "metadata": {
      "needs_background": "light"
     },
     "output_type": "display_data"
    }
   ],
   "source": [
    "import matplotlib.pyplot as plt\n",
    "\n",
    "data.plot(x = 'EU_Sales', y = 'NA_Sales', style = '+' )"
   ]
  },
  {
   "cell_type": "code",
   "execution_count": 30,
   "metadata": {},
   "outputs": [
    {
     "name": "stdout",
     "output_type": "stream",
     "text": [
      "[[2.902e+01]\n",
      " [3.580e+00]\n",
      " [1.288e+01]\n",
      " ...\n",
      " [0.000e+00]\n",
      " [1.000e-02]\n",
      " [0.000e+00]]\n",
      "\n",
      "[[4.149e+01]\n",
      " [2.908e+01]\n",
      " [1.585e+01]\n",
      " ...\n",
      " [0.000e+00]\n",
      " [0.000e+00]\n",
      " [1.000e-02]]\n"
     ]
    }
   ],
   "source": [
    "## Reshaping the columns as per our use\n",
    "\n",
    "x = data['EU_Sales'].values.reshape(-1,1)\n",
    "y = data['NA_Sales'].values.reshape(-1,1)\n",
    "\n",
    "print(x)\n",
    "print(f'\\n{y}')"
   ]
  },
  {
   "cell_type": "code",
   "execution_count": 32,
   "metadata": {},
   "outputs": [
    {
     "data": {
      "text/plain": [
       "((13278, 1), (3320, 1), (13278, 1), (3320, 1))"
      ]
     },
     "execution_count": 32,
     "metadata": {},
     "output_type": "execute_result"
    }
   ],
   "source": [
    "## Creating and trainig our model\n",
    "\n",
    "from sklearn.model_selection import train_test_split\n",
    "from sklearn.linear_model import LinearRegression\n",
    "from sklearn import metrics\n",
    "\n",
    "x_train, x_test, y_train, y_test = train_test_split(x, y, test_size = 0.2)\n",
    "\n",
    "x_train.shape, x_test.shape, y_train.shape, y_test.shape"
   ]
  },
  {
   "cell_type": "code",
   "execution_count": 33,
   "metadata": {},
   "outputs": [
    {
     "name": "stdout",
     "output_type": "stream",
     "text": [
      "X Intercept of the equation: [0.08315291]\n",
      "Y Intercept of the equation: [[1.25586849]]\n"
     ]
    }
   ],
   "source": [
    "## Defining our model\n",
    "\n",
    "regressor = LinearRegression()\n",
    "regressor.fit(x_train, y_train)\n",
    "\n",
    "print(\"X Intercept of the equation:\", regressor.intercept_)\n",
    "print(\"Y Intercept of the equation:\", regressor.coef_)"
   ]
  },
  {
   "cell_type": "code",
   "execution_count": 34,
   "metadata": {},
   "outputs": [
    {
     "name": "stdout",
     "output_type": "stream",
     "text": [
      "[[0.99993691]\n",
      " [0.08315291]\n",
      " [0.33432661]\n",
      " ...\n",
      " [0.14594634]\n",
      " [0.72364584]\n",
      " [0.12082897]]\n"
     ]
    }
   ],
   "source": [
    "## Making predictions to test out algorithm\n",
    "\n",
    "y_predict = regressor.predict(x_test)\n",
    "print(y_predict)"
   ]
  },
  {
   "cell_type": "code",
   "execution_count": 36,
   "metadata": {},
   "outputs": [
    {
     "name": "stdout",
     "output_type": "stream",
     "text": [
      "      Actaul  Prediced\n",
      "0       0.39  0.999937\n",
      "1       0.04  0.083153\n",
      "2       0.38  0.334327\n",
      "3       0.60  0.108270\n",
      "4       0.60  0.874350\n",
      "...      ...       ...\n",
      "3315    0.07  0.133388\n",
      "3316    0.00  0.083153\n",
      "3317    0.02  0.145946\n",
      "3318    0.63  0.723646\n",
      "3319    0.00  0.120829\n",
      "\n",
      "[3320 rows x 2 columns]\n"
     ]
    }
   ],
   "source": [
    "## comparing the actual output values with the predicted values\n",
    "\n",
    "df = pd.DataFrame({'Actaul': y_test.flatten() , 'Prediced': y_predict.flatten()})\n",
    "print(df)"
   ]
  },
  {
   "cell_type": "code",
   "execution_count": 38,
   "metadata": {},
   "outputs": [
    {
     "data": {
      "text/plain": [
       "<matplotlib.axes._subplots.AxesSubplot at 0x1ee51d40ec8>"
      ]
     },
     "execution_count": 38,
     "metadata": {},
     "output_type": "execute_result"
    },
    {
     "data": {
      "image/png": "[encoded data removed]",
      "text/plain": [
       "<Figure size 432x288 with 1 Axes>"
      ]
     },
     "metadata": {
      "needs_background": "light"
     },
     "output_type": "display_data"
    }
   ],
   "source": [
    "## Plotting the barplot\n",
    "\n",
    "sn.barplot(data = df)"
   ]
  },
  {
   "cell_type": "code",
   "execution_count": 39,
   "metadata": {},
   "outputs": [
    {
     "data": {
      "text/plain": [
       "<matplotlib.axes._subplots.AxesSubplot at 0x1ee51d95a88>"
      ]
     },
     "execution_count": 39,
     "metadata": {},
     "output_type": "execute_result"
    },
    {
     "data": {
      "image/png": "[encoded data removed]",
      "text/plain": [
       "<Figure size 1080x720 with 1 Axes>"
      ]
     },
     "metadata": {
      "needs_background": "light"
     },
     "output_type": "display_data"
    }
   ],
   "source": [
    "## Plotting top 30 values to actual vs predicted dataframe \n",
    "\n",
    "df1 = df.head(30)\n",
    "df1.plot(kind = 'bar', figsize = (15,10))"
   ]
  },
  {
   "cell_type": "code",
   "execution_count": 41,
   "metadata": {},
   "outputs": [
    {
     "data": {
      "text/plain": [
       "<matplotlib.collections.PathCollection at 0x1ee4f40f1c8>"
      ]
     },
     "execution_count": 41,
     "metadata": {},
     "output_type": "execute_result"
    },
    {
     "data": {
      "image/png": "[encoded data removed]",
      "text/plain": [
       "<Figure size 432x288 with 1 Axes>"
      ]
     },
     "metadata": {
      "needs_background": "light"
     },
     "output_type": "display_data"
    }
   ],
   "source": [
    "## Plotting scatter plot to plot x_test and y_test values\n",
    "\n",
    "plt.scatter(x = x_test, y = y_test, color = 'green')"
   ]
  },
  {
   "cell_type": "code",
   "execution_count": 42,
   "metadata": {},
   "outputs": [
    {
     "data": {
      "text/plain": [
       "[<matplotlib.lines.Line2D at 0x1ee51f69548>]"
      ]
     },
     "execution_count": 42,
     "metadata": {},
     "output_type": "execute_result"
    },
    {
     "data": {
      "image/png": "[encoded data removed]",
      "text/plain": [
       "<Figure size 432x288 with 1 Axes>"
      ]
     },
     "metadata": {
      "needs_background": "light"
     },
     "output_type": "display_data"
    }
   ],
   "source": [
    "## Plotting linear plot between x_test and y_predict\n",
    "\n",
    "plt.plot(x_test, y_predict, color = 'black')"
   ]
  },
  {
   "cell_type": "code",
   "execution_count": 43,
   "metadata": {},
   "outputs": [
    {
     "data": {
      "text/plain": [
       "[<matplotlib.lines.Line2D at 0x1ee51fb1ec8>]"
      ]
     },
     "execution_count": 43,
     "metadata": {},
     "output_type": "execute_result"
    },
    {
     "data": {
      "image/png": "[encoded data removed]",
      "text/plain": [
       "<Figure size 432x288 with 1 Axes>"
      ]
     },
     "metadata": {
      "needs_background": "light"
     },
     "output_type": "display_data"
    }
   ],
   "source": [
    "## Combining both plots\n",
    "\n",
    "plt.scatter(x = x_test, y = y_test, color = 'green')\n",
    "plt.plot(x_test, y_predict, color = 'black')"
   ]
  },
  {
   "cell_type": "markdown",
   "metadata": {},
   "source": [
    "Linear relation shows that our model with predicted and actual values is correct"
   ]
  },
  {
   "cell_type": "markdown",
   "metadata": {},
   "source": [
    "Linear Regession Example 3"
   ]
  },
  {
   "cell_type": "code",
   "execution_count": 2,
   "metadata": {},
   "outputs": [
    {
     "data": {
      "text/html": [
       "<div>\n",
       "<style scoped>\n",
       "    .dataframe tbody tr th:only-of-type {\n",
       "        vertical-align: middle;\n",
       "    }\n",
       "\n",
       "    .dataframe tbody tr th {\n",
       "        vertical-align: top;\n",
       "    }\n",
       "\n",
       "    .dataframe thead th {\n",
       "        text-align: right;\n",
       "    }\n",
       "</style>\n",
       "<table border=\"1\" class=\"dataframe\">\n",
       "  <thead>\n",
       "    <tr style=\"text-align: right;\">\n",
       "      <th></th>\n",
       "      <th>count</th>\n",
       "      <th>km</th>\n",
       "      <th>year</th>\n",
       "      <th>powerPS</th>\n",
       "      <th>minPrice</th>\n",
       "      <th>maxPrice</th>\n",
       "      <th>avgPrice</th>\n",
       "      <th>sdPrice</th>\n",
       "    </tr>\n",
       "  </thead>\n",
       "  <tbody>\n",
       "    <tr>\n",
       "      <th>0</th>\n",
       "      <td>19</td>\n",
       "      <td>125000</td>\n",
       "      <td>1991</td>\n",
       "      <td>40</td>\n",
       "      <td>300</td>\n",
       "      <td>1499</td>\n",
       "      <td>648.3158</td>\n",
       "      <td>352.035293</td>\n",
       "    </tr>\n",
       "    <tr>\n",
       "      <th>1</th>\n",
       "      <td>69</td>\n",
       "      <td>150000</td>\n",
       "      <td>1991</td>\n",
       "      <td>40</td>\n",
       "      <td>110</td>\n",
       "      <td>1600</td>\n",
       "      <td>516.4348</td>\n",
       "      <td>346.767661</td>\n",
       "    </tr>\n",
       "    <tr>\n",
       "      <th>2</th>\n",
       "      <td>11</td>\n",
       "      <td>90000</td>\n",
       "      <td>1991</td>\n",
       "      <td>60</td>\n",
       "      <td>330</td>\n",
       "      <td>10000</td>\n",
       "      <td>2342.4545</td>\n",
       "      <td>3017.432333</td>\n",
       "    </tr>\n",
       "    <tr>\n",
       "      <th>3</th>\n",
       "      <td>26</td>\n",
       "      <td>100000</td>\n",
       "      <td>1991</td>\n",
       "      <td>60</td>\n",
       "      <td>200</td>\n",
       "      <td>8750</td>\n",
       "      <td>1392.3846</td>\n",
       "      <td>1598.662833</td>\n",
       "    </tr>\n",
       "    <tr>\n",
       "      <th>4</th>\n",
       "      <td>42</td>\n",
       "      <td>125000</td>\n",
       "      <td>1991</td>\n",
       "      <td>60</td>\n",
       "      <td>150</td>\n",
       "      <td>4600</td>\n",
       "      <td>1140.6429</td>\n",
       "      <td>1010.314138</td>\n",
       "    </tr>\n",
       "    <tr>\n",
       "      <th>...</th>\n",
       "      <td>...</td>\n",
       "      <td>...</td>\n",
       "      <td>...</td>\n",
       "      <td>...</td>\n",
       "      <td>...</td>\n",
       "      <td>...</td>\n",
       "      <td>...</td>\n",
       "      <td>...</td>\n",
       "    </tr>\n",
       "    <tr>\n",
       "      <th>1765</th>\n",
       "      <td>24</td>\n",
       "      <td>20000</td>\n",
       "      <td>2015</td>\n",
       "      <td>260</td>\n",
       "      <td>25490</td>\n",
       "      <td>73000</td>\n",
       "      <td>49492.3750</td>\n",
       "      <td>17182.173184</td>\n",
       "    </tr>\n",
       "    <tr>\n",
       "      <th>1766</th>\n",
       "      <td>16</td>\n",
       "      <td>10000</td>\n",
       "      <td>2015</td>\n",
       "      <td>300</td>\n",
       "      <td>699</td>\n",
       "      <td>60000</td>\n",
       "      <td>38542.6875</td>\n",
       "      <td>12924.901241</td>\n",
       "    </tr>\n",
       "    <tr>\n",
       "      <th>1767</th>\n",
       "      <td>25</td>\n",
       "      <td>20000</td>\n",
       "      <td>2015</td>\n",
       "      <td>300</td>\n",
       "      <td>487</td>\n",
       "      <td>82700</td>\n",
       "      <td>39683.3200</td>\n",
       "      <td>13065.072294</td>\n",
       "    </tr>\n",
       "    <tr>\n",
       "      <th>1768</th>\n",
       "      <td>22</td>\n",
       "      <td>10000</td>\n",
       "      <td>2015</td>\n",
       "      <td>320</td>\n",
       "      <td>33000</td>\n",
       "      <td>68450</td>\n",
       "      <td>50372.6364</td>\n",
       "      <td>10736.265072</td>\n",
       "    </tr>\n",
       "    <tr>\n",
       "      <th>1769</th>\n",
       "      <td>16</td>\n",
       "      <td>20000</td>\n",
       "      <td>2015</td>\n",
       "      <td>320</td>\n",
       "      <td>33950</td>\n",
       "      <td>85800</td>\n",
       "      <td>58096.2500</td>\n",
       "      <td>14002.933565</td>\n",
       "    </tr>\n",
       "  </tbody>\n",
       "</table>\n",
       "<p>1770 rows × 8 columns</p>\n",
       "</div>"
      ],
      "text/plain": [
       "      count      km  year  powerPS  minPrice  maxPrice    avgPrice  \\\n",
       "0        19  125000  1991       40       300      1499    648.3158   \n",
       "1        69  150000  1991       40       110      1600    516.4348   \n",
       "2        11   90000  1991       60       330     10000   2342.4545   \n",
       "3        26  100000  1991       60       200      8750   1392.3846   \n",
       "4        42  125000  1991       60       150      4600   1140.6429   \n",
       "...     ...     ...   ...      ...       ...       ...         ...   \n",
       "1765     24   20000  2015      260     25490     73000  49492.3750   \n",
       "1766     16   10000  2015      300       699     60000  38542.6875   \n",
       "1767     25   20000  2015      300       487     82700  39683.3200   \n",
       "1768     22   10000  2015      320     33000     68450  50372.6364   \n",
       "1769     16   20000  2015      320     33950     85800  58096.2500   \n",
       "\n",
       "           sdPrice  \n",
       "0       352.035293  \n",
       "1       346.767661  \n",
       "2      3017.432333  \n",
       "3      1598.662833  \n",
       "4      1010.314138  \n",
       "...            ...  \n",
       "1765  17182.173184  \n",
       "1766  12924.901241  \n",
       "1767  13065.072294  \n",
       "1768  10736.265072  \n",
       "1769  14002.933565  \n",
       "\n",
       "[1770 rows x 8 columns]"
      ]
     },
     "execution_count": 2,
     "metadata": {},
     "output_type": "execute_result"
    }
   ],
   "source": [
    "import pandas as pd\n",
    "\n",
    "dataset = pd.read_csv(\"E:/Data Science/CSV dataset/cnt_km_year_powerPS_minPrice_maxPrice_avgPrice_sdPrice.csv\")\n",
    "dataset"
   ]
  },
  {
   "cell_type": "code",
   "execution_count": 3,
   "metadata": {},
   "outputs": [],
   "source": [
    "## Defining Mean function to calculate mean\n",
    "\n",
    "def mean(value):\n",
    "    \"\"\"Function to calculate mean of any variable\n",
    "    \"\"\"\n",
    "    mean_value = sum(value) / float(len(value))\n",
    "    return mean_value\n"
   ]
  },
  {
   "cell_type": "markdown",
   "metadata": {},
   "source": [
    "The variance is the sum squared difference for each value from the mean value.\n",
    "\n",
    "Variance for a list of numbers can be calculated as:"
   ]
  },
  {
   "cell_type": "markdown",
   "metadata": {},
   "source": [
    "Below is a function named variance() that calculates the variance of a list of numbers. It requires the mean of the list to be provided as an argument, just so we don’t have to calculate it more than once."
   ]
  },
  {
   "cell_type": "code",
   "execution_count": 4,
   "metadata": {},
   "outputs": [],
   "source": [
    "def variance(x, mean):\n",
    "    \"\"\"Function to calculate the variance of any list passed as a argument\n",
    "    \"\"\"\n",
    "    \n",
    "    var = sum((x - mean) ** 2)\n",
    "    return var\n",
    "    "
   ]
  },
  {
   "cell_type": "code",
   "execution_count": 5,
   "metadata": {},
   "outputs": [
    {
     "name": "stdout",
     "output_type": "stream",
     "text": [
      "Mean of x independent variable is:  4161.53220338983\n",
      "Mean of y dependent variable is:  21440.29943502825\n"
     ]
    }
   ],
   "source": [
    "## calculating mean using mean()  function\n",
    "\n",
    "a = dataset['minPrice']\n",
    "b = dataset['maxPrice']\n",
    "\n",
    "mean_x, mean_y = mean(a), mean(b)\n",
    "print(\"Mean of x independent variable is: \",mean_x)\n",
    "print(\"Mean of y dependent variable is: \",mean_y)"
   ]
  },
  {
   "cell_type": "code",
   "execution_count": 6,
   "metadata": {},
   "outputs": [
    {
     "name": "stdout",
     "output_type": "stream",
     "text": [
      "Variance of x independent variable is:  53359898558.66439\n",
      "Variance of y dependent variable is:  473266352223.30054\n"
     ]
    }
   ],
   "source": [
    "## calculating variance using variance() function\n",
    "\n",
    "var_x, var_y = variance(a, mean_x), variance(b, mean_y)\n",
    "\n",
    "print(\"Variance of x independent variable is: \",var_x)\n",
    "print(\"Variance of y dependent variable is: \",var_y)"
   ]
  },
  {
   "cell_type": "code",
   "execution_count": 8,
   "metadata": {},
   "outputs": [
    {
     "data": {
      "text/plain": [
       "<matplotlib.axes._subplots.AxesSubplot at 0x23388220248>"
      ]
     },
     "execution_count": 8,
     "metadata": {},
     "output_type": "execute_result"
    },
    {
     "data": {
      "image/png": "[encoded data removed]",
      "text/plain": [
       "<Figure size 432x288 with 1 Axes>"
      ]
     },
     "metadata": {
      "needs_background": "light"
     },
     "output_type": "display_data"
    }
   ],
   "source": [
    "# Using scatter plot to plot data\n",
    "\n",
    "import seaborn as sns\n",
    "import matplotlib.pyplot as plt\n",
    "\n",
    "x = dataset['minPrice']\n",
    "y = dataset['maxPrice']\n",
    "sns.regplot(x,y, fit_reg = True)\n"
   ]
  },
  {
   "cell_type": "code",
   "execution_count": 10,
   "metadata": {},
   "outputs": [
    {
     "data": {
      "text/plain": [
       "<matplotlib.collections.PathCollection at 0x2338a558748>"
      ]
     },
     "execution_count": 10,
     "metadata": {},
     "output_type": "execute_result"
    },
    {
     "data": {
      "image/png": "[encoded data removed]",
      "text/plain": [
       "<Figure size 432x288 with 1 Axes>"
      ]
     },
     "metadata": {
      "needs_background": "light"
     },
     "output_type": "display_data"
    }
   ],
   "source": [
    "# scatter plot\n",
    "\n",
    "import numpy as np\n",
    "plt.scatter(np.mean(x), np.mean(y), color = 'black')"
   ]
  },
  {
   "cell_type": "markdown",
   "metadata": {},
   "source": [
    "Linear Regression Example 4"
   ]
  },
  {
   "cell_type": "markdown",
   "metadata": {},
   "source": [
    "Estimate the model parameters :: The goal it so estimate 𝛽, 𝛽0 and 𝜎2.\n",
    "Minimizes the mean squared error (MSE) or the Sum squared error (SSE). The so-called Ordinary Least Squares (OLS) finds 𝛽, 𝛽0 that minimizes the 𝑆𝑆𝐸 = Σ︀ 𝑖𝜖"
   ]
  },
  {
   "cell_type": "code",
   "execution_count": 2,
   "metadata": {},
   "outputs": [
    {
     "data": {
      "text/html": [
       "<div>\n",
       "<style scoped>\n",
       "    .dataframe tbody tr th:only-of-type {\n",
       "        vertical-align: middle;\n",
       "    }\n",
       "\n",
       "    .dataframe tbody tr th {\n",
       "        vertical-align: top;\n",
       "    }\n",
       "\n",
       "    .dataframe thead th {\n",
       "        text-align: right;\n",
       "    }\n",
       "</style>\n",
       "<table border=\"1\" class=\"dataframe\">\n",
       "  <thead>\n",
       "    <tr style=\"text-align: right;\">\n",
       "      <th></th>\n",
       "      <th>count</th>\n",
       "      <th>km</th>\n",
       "      <th>year</th>\n",
       "      <th>powerPS</th>\n",
       "      <th>minPrice</th>\n",
       "      <th>maxPrice</th>\n",
       "      <th>avgPrice</th>\n",
       "      <th>sdPrice</th>\n",
       "    </tr>\n",
       "  </thead>\n",
       "  <tbody>\n",
       "    <tr>\n",
       "      <th>0</th>\n",
       "      <td>19</td>\n",
       "      <td>125000</td>\n",
       "      <td>1991</td>\n",
       "      <td>40</td>\n",
       "      <td>300</td>\n",
       "      <td>1499</td>\n",
       "      <td>648.3158</td>\n",
       "      <td>352.035293</td>\n",
       "    </tr>\n",
       "    <tr>\n",
       "      <th>1</th>\n",
       "      <td>69</td>\n",
       "      <td>150000</td>\n",
       "      <td>1991</td>\n",
       "      <td>40</td>\n",
       "      <td>110</td>\n",
       "      <td>1600</td>\n",
       "      <td>516.4348</td>\n",
       "      <td>346.767661</td>\n",
       "    </tr>\n",
       "    <tr>\n",
       "      <th>2</th>\n",
       "      <td>11</td>\n",
       "      <td>90000</td>\n",
       "      <td>1991</td>\n",
       "      <td>60</td>\n",
       "      <td>330</td>\n",
       "      <td>10000</td>\n",
       "      <td>2342.4545</td>\n",
       "      <td>3017.432333</td>\n",
       "    </tr>\n",
       "    <tr>\n",
       "      <th>3</th>\n",
       "      <td>26</td>\n",
       "      <td>100000</td>\n",
       "      <td>1991</td>\n",
       "      <td>60</td>\n",
       "      <td>200</td>\n",
       "      <td>8750</td>\n",
       "      <td>1392.3846</td>\n",
       "      <td>1598.662833</td>\n",
       "    </tr>\n",
       "    <tr>\n",
       "      <th>4</th>\n",
       "      <td>42</td>\n",
       "      <td>125000</td>\n",
       "      <td>1991</td>\n",
       "      <td>60</td>\n",
       "      <td>150</td>\n",
       "      <td>4600</td>\n",
       "      <td>1140.6429</td>\n",
       "      <td>1010.314138</td>\n",
       "    </tr>\n",
       "    <tr>\n",
       "      <th>...</th>\n",
       "      <td>...</td>\n",
       "      <td>...</td>\n",
       "      <td>...</td>\n",
       "      <td>...</td>\n",
       "      <td>...</td>\n",
       "      <td>...</td>\n",
       "      <td>...</td>\n",
       "      <td>...</td>\n",
       "    </tr>\n",
       "    <tr>\n",
       "      <th>1765</th>\n",
       "      <td>24</td>\n",
       "      <td>20000</td>\n",
       "      <td>2015</td>\n",
       "      <td>260</td>\n",
       "      <td>25490</td>\n",
       "      <td>73000</td>\n",
       "      <td>49492.3750</td>\n",
       "      <td>17182.173184</td>\n",
       "    </tr>\n",
       "    <tr>\n",
       "      <th>1766</th>\n",
       "      <td>16</td>\n",
       "      <td>10000</td>\n",
       "      <td>2015</td>\n",
       "      <td>300</td>\n",
       "      <td>699</td>\n",
       "      <td>60000</td>\n",
       "      <td>38542.6875</td>\n",
       "      <td>12924.901241</td>\n",
       "    </tr>\n",
       "    <tr>\n",
       "      <th>1767</th>\n",
       "      <td>25</td>\n",
       "      <td>20000</td>\n",
       "      <td>2015</td>\n",
       "      <td>300</td>\n",
       "      <td>487</td>\n",
       "      <td>82700</td>\n",
       "      <td>39683.3200</td>\n",
       "      <td>13065.072294</td>\n",
       "    </tr>\n",
       "    <tr>\n",
       "      <th>1768</th>\n",
       "      <td>22</td>\n",
       "      <td>10000</td>\n",
       "      <td>2015</td>\n",
       "      <td>320</td>\n",
       "      <td>33000</td>\n",
       "      <td>68450</td>\n",
       "      <td>50372.6364</td>\n",
       "      <td>10736.265072</td>\n",
       "    </tr>\n",
       "    <tr>\n",
       "      <th>1769</th>\n",
       "      <td>16</td>\n",
       "      <td>20000</td>\n",
       "      <td>2015</td>\n",
       "      <td>320</td>\n",
       "      <td>33950</td>\n",
       "      <td>85800</td>\n",
       "      <td>58096.2500</td>\n",
       "      <td>14002.933565</td>\n",
       "    </tr>\n",
       "  </tbody>\n",
       "</table>\n",
       "<p>1770 rows × 8 columns</p>\n",
       "</div>"
      ],
      "text/plain": [
       "      count      km  year  powerPS  minPrice  maxPrice    avgPrice  \\\n",
       "0        19  125000  1991       40       300      1499    648.3158   \n",
       "1        69  150000  1991       40       110      1600    516.4348   \n",
       "2        11   90000  1991       60       330     10000   2342.4545   \n",
       "3        26  100000  1991       60       200      8750   1392.3846   \n",
       "4        42  125000  1991       60       150      4600   1140.6429   \n",
       "...     ...     ...   ...      ...       ...       ...         ...   \n",
       "1765     24   20000  2015      260     25490     73000  49492.3750   \n",
       "1766     16   10000  2015      300       699     60000  38542.6875   \n",
       "1767     25   20000  2015      300       487     82700  39683.3200   \n",
       "1768     22   10000  2015      320     33000     68450  50372.6364   \n",
       "1769     16   20000  2015      320     33950     85800  58096.2500   \n",
       "\n",
       "           sdPrice  \n",
       "0       352.035293  \n",
       "1       346.767661  \n",
       "2      3017.432333  \n",
       "3      1598.662833  \n",
       "4      1010.314138  \n",
       "...            ...  \n",
       "1765  17182.173184  \n",
       "1766  12924.901241  \n",
       "1767  13065.072294  \n",
       "1768  10736.265072  \n",
       "1769  14002.933565  \n",
       "\n",
       "[1770 rows x 8 columns]"
      ]
     },
     "execution_count": 2,
     "metadata": {},
     "output_type": "execute_result"
    }
   ],
   "source": [
    "import pandas as pd\n",
    "\n",
    "dataset = pd.read_csv(\"E:/Data Science/CSV dataset/cnt_km_year_powerPS_minPrice_maxPrice_avgPrice_sdPrice.csv\")\n",
    "dataset"
   ]
  },
  {
   "cell_type": "code",
   "execution_count": 3,
   "metadata": {},
   "outputs": [],
   "source": [
    "## Defining Mean function to calculate mean\n",
    "\n",
    "def mean(value):\n",
    "    \"\"\"Function to calculate mean of any variable\n",
    "    \"\"\"\n",
    "    mean_value = sum(value) / float(len(value))\n",
    "    return mean_value\n"
   ]
  },
  {
   "cell_type": "markdown",
   "metadata": {},
   "source": [
    "The variance is the sum squared difference for each value from the mean value.\n",
    "\n",
    "Variance for a list of numbers can be calculated as:"
   ]
  },
  {
   "cell_type": "markdown",
   "metadata": {},
   "source": [
    "Below is a function named variance() that calculates the variance of a list of numbers. It requires the mean of the list to be provided as an argument, just so we don’t have to calculate it more than once."
   ]
  },
  {
   "cell_type": "code",
   "execution_count": 4,
   "metadata": {},
   "outputs": [],
   "source": [
    "def variance(x, mean):\n",
    "    \"\"\"Function to calculate the variance of any list passed as a argument\n",
    "    \"\"\"\n",
    "    \n",
    "    var = sum((x - mean) ** 2)\n",
    "    return var\n",
    "    "
   ]
  },
  {
   "cell_type": "code",
   "execution_count": 5,
   "metadata": {},
   "outputs": [
    {
     "name": "stdout",
     "output_type": "stream",
     "text": [
      "Mean of x independent variable is:  4161.53220338983\n",
      "Mean of y dependent variable is:  21440.29943502825\n"
     ]
    }
   ],
   "source": [
    "## calculating mean using mean()  function\n",
    "\n",
    "a = dataset['minPrice']\n",
    "b = dataset['maxPrice']\n",
    "\n",
    "mean_x, mean_y = mean(a), mean(b)\n",
    "print(\"Mean of x independent variable is: \",mean_x)\n",
    "print(\"Mean of y dependent variable is: \",mean_y)"
   ]
  },
  {
   "cell_type": "code",
   "execution_count": 6,
   "metadata": {},
   "outputs": [
    {
     "name": "stdout",
     "output_type": "stream",
     "text": [
      "Variance of x independent variable is:  53359898558.66439\n",
      "Variance of y dependent variable is:  473266352223.30054\n"
     ]
    }
   ],
   "source": [
    "## calculating variance using variance() function\n",
    "\n",
    "var_x, var_y = variance(a, mean_x), variance(b, mean_y)\n",
    "\n",
    "print(\"Variance of x independent variable is: \",var_x)\n",
    "print(\"Variance of y dependent variable is: \",var_y)"
   ]
  },
  {
   "cell_type": "code",
   "execution_count": 8,
   "metadata": {},
   "outputs": [
    {
     "data": {
      "text/plain": [
       "<matplotlib.axes._subplots.AxesSubplot at 0x23388220248>"
      ]
     },
     "execution_count": 8,
     "metadata": {},
     "output_type": "execute_result"
    },
    {
     "data": {
      "image/png": "[encoded data removed]",
      "text/plain": [
       "<Figure size 432x288 with 1 Axes>"
      ]
     },
     "metadata": {
      "needs_background": "light"
     },
     "output_type": "display_data"
    }
   ],
   "source": [
    "# Using scatter plot to plot data\n",
    "\n",
    "import seaborn as sns\n",
    "import matplotlib.pyplot as plt\n",
    "\n",
    "x = dataset['minPrice']\n",
    "y = dataset['maxPrice']\n",
    "sns.regplot(x,y, fit_reg = True)\n"
   ]
  },
  {
   "cell_type": "code",
   "execution_count": 10,
   "metadata": {},
   "outputs": [
    {
     "data": {
      "text/plain": [
       "<matplotlib.collections.PathCollection at 0x2338a558748>"
      ]
     },
     "execution_count": 10,
     "metadata": {},
     "output_type": "execute_result"
    },
    {
     "data": {
      "image/png": "[encoded data removed]",
      "text/plain": [
       "<Figure size 432x288 with 1 Axes>"
      ]
     },
     "metadata": {
      "needs_background": "light"
     },
     "output_type": "display_data"
    }
   ],
   "source": [
    "# scatter plot\n",
    "\n",
    "import numpy as np\n",
    "plt.scatter(np.mean(x), np.mean(y), color = 'black')"
   ]
  }
 ],
 "metadata": {
  "kernelspec": {
   "display_name": "Python 3",
   "language": "python",
   "name": "python3"
  },
  "language_info": {
   "codemirror_mode": {
    "name": "ipython",
    "version": 3
   },
   "file_extension": ".py",
   "mimetype": "text/x-python",
   "name": "python",
   "nbconvert_exporter": "python",
   "pygments_lexer": "ipython3",
   "version": "3.7.6"
  }
 },
 "nbformat": 4,
 "nbformat_minor": 4
}
