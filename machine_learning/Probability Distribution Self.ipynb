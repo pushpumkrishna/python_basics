{
 "cells": [
  {
   "cell_type": "markdown",
   "metadata": {},
   "source": [
    "Normal Distribution\n",
    "\n",
    "The normal distribution is also called the Gaussian distribution (named for Carl Friedrich Gauss) or the bell curve distribution.\n",
    "\n",
    "The distribution covers the probability of real-valued events from many different problem domains, making it a common and well-known distribution, hence the name “normal.” A continuous random variable that has a normal distribution is said to be “normal” or “normally distributed.”\n",
    "\n",
    "Some examples of domains that have normally distributed events include:\n",
    "\n",
    "    The heights of people.\n",
    "    The weights of babies.\n",
    "    The scores on a test.\n",
    "\n",
    "The distribution can be defined using two parameters:\n",
    "\n",
    "    Mean (mu): The expected value.\n",
    "    Variance (sigma^2): The spread from the mean.\n",
    "\n",
    "Often, the standard deviation is used instead of the variance, which is calculated as the square root of the variance, e.g. normalized.\n",
    "\n",
    "    Standard Deviation (sigma): The average spread from the mean.\n",
    "\n",
    "A distribution with a mean of zero and a standard deviation of 1 is called a standard normal distribution, and often data is reduced or “standardized” to this for analysis for ease of interpretation and comparison.\n",
    "\n",
    "We can define a distribution with a mean of 50 and a standard deviation of 5 and sample random numbers from this distribution. We can achieve this using the normal() NumPy function.\n",
    "\n",
    "The example below samples and prints 10 numbers from this distribution."
   ]
  },
  {
   "cell_type": "code",
   "execution_count": 1,
   "metadata": {},
   "outputs": [
    {
     "name": "stdout",
     "output_type": "stream",
     "text": [
      "[55.61788903 47.02218331 44.00069184 43.79903249 53.39099277 50.17059539\n",
      " 51.30375274 51.59546856 46.55662965 52.43045398]\n"
     ]
    }
   ],
   "source": [
    "# Sample a normal distribution\n",
    "\n",
    "from numpy.random import normal\n",
    "\n",
    "# Define the distribution\n",
    "\n",
    "mu = 50\n",
    "sigma = 5\n",
    "n = 10\n",
    "\n",
    "# Generate the sample\n",
    "\n",
    "sample = normal(mu,sigma,n)\n",
    "print(sample)"
   ]
  },
  {
   "cell_type": "markdown",
   "metadata": {},
   "source": [
    "Generating a uniform continuous variable between the specified interval.\n",
    "\n",
    "The uniform function generates a uniform continuous variable between the specified interval via its loc and scale arguments. This distribution is constant between loc and loc + scale. The size arguments describe the number of random variates. If you want to maintain reproducibility, include a random_state argument assigned to a number."
   ]
  },
  {
   "cell_type": "code",
   "execution_count": 3,
   "metadata": {},
   "outputs": [
    {
     "data": {
      "text/plain": [
       "array([55.32402142, 39.81123506, 53.08300377, 56.0642691 , 45.29892927,\n",
       "       46.16874346, 45.75159831, 44.05921095, 61.26913125, 50.75777027])"
      ]
     },
     "execution_count": 3,
     "metadata": {},
     "output_type": "execute_result"
    }
   ],
   "source": [
    "## Creating normal distribution sample using scipy.stats\n",
    "\n",
    "from scipy import stats\n",
    "from scipy.stats import norm\n",
    "\n",
    "mu = 50\n",
    "sigma = 5\n",
    "n = 10\n",
    "\n",
    "sample1 = stats.norm.rvs(mu,sigma,n)\n",
    "sample1"
   ]
  },
  {
   "cell_type": "code",
   "execution_count": 14,
   "metadata": {},
   "outputs": [
    {
     "name": "stdout",
     "output_type": "stream",
     "text": [
      "Normal distribution of 10 samples is :: [47.49787556 49.24791785 47.70433363 49.58320462 51.37381764 50.95291827\n",
      " 48.35293696 51.30034889 50.79758959 49.67698396]\n",
      "\n",
      "Probability distribution funtion of above samples is :: 0.0000003\n"
     ]
    }
   ],
   "source": [
    "# Creating normal distribution using the formula\n",
    "\n",
    "import numpy as np\n",
    "from scipy import stats\n",
    "from scipy.stats import norm\n",
    "\n",
    "mu = 50\n",
    "var = 2\n",
    "sigma = np.sqrt(var)                    ## Standard deviation\n",
    "n = 10\n",
    "\n",
    "sample2 = stats.norm.rvs(mu, sigma, n)\n",
    "sample3 = stats.norm.pdf(mu, sigma, n)\n",
    "print(f'Normal distribution of 10 samples is :: {sample2}')\n",
    "print('\\nProbability distribution funtion of above samples is :: %.7f' %sample3)\n"
   ]
  },
  {
   "cell_type": "code",
   "execution_count": 32,
   "metadata": {},
   "outputs": [
    {
     "data": {
      "text/plain": [
       "array([56.00935202, 16.48875385, 12.66959401, ..., 22.20675987,\n",
       "       52.06571854, 48.50861002])"
      ]
     },
     "execution_count": 32,
     "metadata": {},
     "output_type": "execute_result"
    }
   ],
   "source": [
    "## Random numbers from uniform distribution\n",
    "\n",
    "from scipy.stats import uniform\n",
    "\n",
    "n =10000\n",
    "start = 10\n",
    "width = 50\n",
    "uniform_sample = uniform.rvs(size = n, loc = start, scale = width)   # Uniform.rvs for unifrom distribution\n",
    "uniform_sample"
   ]
  },
  {
   "cell_type": "markdown",
   "metadata": {},
   "source": [
    "You can use Seaborn’s distplot to plot the histogram of the distribution you just created. Seaborn’s distplot takes in multiple arguments to customize the plot. You first create a plot object ax. Here, you can specify the number of bins in the histogram, specify the color of the histogram and specify density plot option with kde and linewidth option with hist_kws. You can also set labels for x and y axis using the xlabel and ylabel arguments."
   ]
  },
  {
   "cell_type": "code",
   "execution_count": 9,
   "metadata": {},
   "outputs": [
    {
     "data": {
      "text/plain": [
       "[Text(0, 0.5, 'Frequency'), Text(0.5, 0, 'Uniform Distribution')]"
      ]
     },
     "execution_count": 9,
     "metadata": {},
     "output_type": "execute_result"
    },
    {
     "data": {
      "image/png": "[encoded data removed]",
      "text/plain": [
       "<Figure size 432x288 with 1 Axes>"
      ]
     },
     "metadata": {
      "needs_background": "light"
     },
     "output_type": "display_data"
    }
   ],
   "source": [
    "## Preparing the distplot\n",
    "\n",
    "import seaborn as sns\n",
    "import matplotlib.pyplot as plt\n",
    "\n",
    "ax = sns.distplot(uniform_data,\n",
    "             bins = 100,\n",
    "             kde = True,\n",
    "             hist_kws = {'linewidth': 15, 'alpha': 0.5 })\n",
    "ax.set(xlabel = 'Uniform Distribution' , ylabel = 'Frequency')"
   ]
  },
  {
   "cell_type": "code",
   "execution_count": 12,
   "metadata": {},
   "outputs": [
    {
     "data": {
      "text/plain": [
       "[Text(0, 0.5, 'Frequency'), Text(0.5, 0, 'Normal Distribution')]"
      ]
     },
     "execution_count": 12,
     "metadata": {},
     "output_type": "execute_result"
    },
    {
     "data": {
      "image/png": "[encoded data removed]",
      "text/plain": [
       "<Figure size 432x288 with 1 Axes>"
      ]
     },
     "metadata": {
      "needs_background": "light"
     },
     "output_type": "display_data"
    }
   ],
   "source": [
    "# Plotting the dsiplot for sample variable \n",
    "\n",
    "ay = sns.distplot(sample, \n",
    "            bins = 100,\n",
    "            hist_kws = {'linewidth': 1, 'alpha': 0.5})\n",
    "ay.set(xlabel = 'Normal Distribution', ylabel = 'Frequency')"
   ]
  },
  {
   "cell_type": "markdown",
   "metadata": {},
   "source": [
    "GAMMA DISTRIBUTION::\n",
    "\n",
    "You can generate a gamma distributed random variable using scipy.stats module's gamma.rvs() method which takes shape parameter a as its argument. When a is an integer, gamma reduces to the Erlang distribution, and when a=1 to the exponential distribution. To shift distribution use the loc argument, to scale use scale argument, size decides the number of random variates in the distribution. If you want to maintain reproducibility, include a random_state argument assigned to a number."
   ]
  },
  {
   "cell_type": "code",
   "execution_count": 21,
   "metadata": {},
   "outputs": [
    {
     "data": {
      "text/plain": [
       "array([ 4.20874038,  9.23261243,  9.48131352, ...,  5.22586005,\n",
       "       16.61537223, 12.09052603])"
      ]
     },
     "execution_count": 21,
     "metadata": {},
     "output_type": "execute_result"
    }
   ],
   "source": [
    "## Generating a Gamma distribution\n",
    "\n",
    "from scipy.stats import gamma\n",
    "\n",
    "shape = 10\n",
    "gamma_sample = gamma.rvs(a = shape, size = 10000)\n",
    "gamma_sample"
   ]
  },
  {
   "cell_type": "code",
   "execution_count": 22,
   "metadata": {},
   "outputs": [
    {
     "data": {
      "text/plain": [
       "[Text(17.200000000000003, 0.5, 'Frequency'),\n",
       " Text(0.5, 17.200000000000003, 'Gamma Distribution')]"
      ]
     },
     "execution_count": 22,
     "metadata": {},
     "output_type": "execute_result"
    },
    {
     "data": {
      "image/png": "[encoded data removed]",
      "text/plain": [
       "<Figure size 432x288 with 1 Axes>"
      ]
     },
     "metadata": {
      "needs_background": "light"
     },
     "output_type": "display_data"
    }
   ],
   "source": [
    "## Plotting the gamma sample\n",
    "\n",
    "az = sns.distplot(gamma_sample,\n",
    "            bins = 100,\n",
    "            hist_kws = {'linewidth': 2, 'alpha' : 0.8})\n",
    "ay.set(xlabel = 'Gamma Distribution', ylabel = 'Frequency')\n"
   ]
  },
  {
   "cell_type": "markdown",
   "metadata": {},
   "source": [
    "EXPONENTIAL DISTRIBUTION::\n",
    "\n",
    "You can generate an exponentially distributed random variable using scipy.stats module's expon.rvs() method which takes shape parameter scale as its argument which is nothing but 1/lambda in the equation. To shift distribution use the loc argument, size decides the number of random variates in the distribution. If you want to maintain reproducibility, include a random_state argument assigned to a number."
   ]
  },
  {
   "cell_type": "code",
   "execution_count": 26,
   "metadata": {},
   "outputs": [
    {
     "data": {
      "text/plain": [
       "array([ 7.01961245,  6.37246503, 14.05460643, ...,  5.78410318,\n",
       "        9.08379825,  8.25302405])"
      ]
     },
     "execution_count": 26,
     "metadata": {},
     "output_type": "execute_result"
    }
   ],
   "source": [
    "## generating a exponential distribution\n",
    "\n",
    "from scipy.stats import expon\n",
    "\n",
    "start = 5\n",
    "width =10\n",
    "\n",
    "expon_sample = expon.rvs(size = 10000, loc = start, scale = width)\n",
    "expon_sample"
   ]
  },
  {
   "cell_type": "code",
   "execution_count": 27,
   "metadata": {},
   "outputs": [
    {
     "data": {
      "text/plain": [
       "[Text(0, 0.5, 'Frequency'), Text(0.5, 0, 'Exponential Distribution')]"
      ]
     },
     "execution_count": 27,
     "metadata": {},
     "output_type": "execute_result"
    },
    {
     "data": {
      "image/png": "[encoded data removed]",
      "text/plain": [
       "<Figure size 432x288 with 1 Axes>"
      ]
     },
     "metadata": {
      "needs_background": "light"
     },
     "output_type": "display_data"
    }
   ],
   "source": [
    "# Plotting the gamma distribution\n",
    "\n",
    "ay = sns.distplot(expon_sample,\n",
    "                 bins = 100,\n",
    "                 hist_kws = {'linewidth': 1.0, 'alpha': 0.5})\n",
    "ay.set(xlabel = 'Exponential Distribution', ylabel = 'Frequency')"
   ]
  },
  {
   "cell_type": "code",
   "execution_count": 41,
   "metadata": {},
   "outputs": [
    {
     "data": {
      "text/plain": [
       "array([1., 1., 1., 1., 1., 1., 1., 1., 1., 1.])"
      ]
     },
     "execution_count": 41,
     "metadata": {},
     "output_type": "execute_result"
    }
   ],
   "source": [
    "import scipy.stats\n",
    "from scipy.stats import norm\n",
    "\n",
    "norm.cdf(sample)"
   ]
  },
  {
   "cell_type": "code",
   "execution_count": 38,
   "metadata": {},
   "outputs": [
    {
     "data": {
      "text/plain": [
       "array([1., 1., 1., ..., 1., 1., 1.])"
      ]
     },
     "execution_count": 38,
     "metadata": {},
     "output_type": "execute_result"
    }
   ],
   "source": [
    "norm.cdf(uniform_sample)"
   ]
  },
  {
   "cell_type": "code",
   "execution_count": 40,
   "metadata": {},
   "outputs": [
    {
     "data": {
      "text/plain": [
       "array([0.99998716, 1.        , 1.        , ..., 0.99999991, 1.        ,\n",
       "       1.        ])"
      ]
     },
     "execution_count": 40,
     "metadata": {},
     "output_type": "execute_result"
    }
   ],
   "source": [
    "norm.cdf(gamma_sample)"
   ]
  },
  {
   "cell_type": "code",
   "execution_count": 39,
   "metadata": {},
   "outputs": [
    {
     "data": {
      "text/plain": [
       "array([1., 1., 1., ..., 1., 1., 1.])"
      ]
     },
     "execution_count": 39,
     "metadata": {},
     "output_type": "execute_result"
    }
   ],
   "source": [
    "norm.cdf(expon_sample)"
   ]
  },
  {
   "cell_type": "code",
   "execution_count": 43,
   "metadata": {},
   "outputs": [
    {
     "name": "stdout",
     "output_type": "stream",
     "text": [
      "Mean of the sameple is::  [55.61788903 47.02218331 44.00069184 43.79903249 53.39099277 50.17059539\n",
      " 51.30375274 51.59546856 46.55662965 52.43045398]\n",
      "Standard Deviation of the sameple is::  [1. 1. 1. 1. 1. 1. 1. 1. 1. 1.]\n",
      "Variance of the sameple is::  [1. 1. 1. 1. 1. 1. 1. 1. 1. 1.]\n"
     ]
    }
   ],
   "source": [
    "# Calclulating Mean, Std\n",
    "\n",
    "x,y,z = norm.mean(sample), norm.std(sample), norm.var(sample)\n",
    "print('Mean of the sameple is:: ', x)\n",
    "print('Standard Deviation of the sameple is:: ', y)\n",
    "print('Variance of the sameple is:: ', z)"
   ]
  },
  {
   "cell_type": "code",
   "execution_count": 44,
   "metadata": {},
   "outputs": [
    {
     "name": "stdout",
     "output_type": "stream",
     "text": [
      "Mean of the sameple is::  [ 4.20874038  9.23261243  9.48131352 ...  5.22586005 16.61537223\n",
      " 12.09052603]\n",
      "Standard Deviation of the sameple is::  [1. 1. 1. ... 1. 1. 1.]\n",
      "Variance of the sameple is::  [1. 1. 1. ... 1. 1. 1.]\n"
     ]
    }
   ],
   "source": [
    "x,y,z = norm.mean(gamma_sample), norm.std(gamma_sample), norm.var(gamma_sample)\n",
    "print('Mean of the sameple is:: ', x)\n",
    "print('Standard Deviation of the sameple is:: ', y)\n",
    "print('Variance of the sameple is:: ', z)"
   ]
  },
  {
   "cell_type": "code",
   "execution_count": 47,
   "metadata": {},
   "outputs": [
    {
     "name": "stdout",
     "output_type": "stream",
     "text": [
      "[nan nan nan nan nan nan nan nan nan nan]\n",
      "[nan nan nan ... nan nan nan]\n",
      "[nan nan nan ... nan nan nan]\n"
     ]
    }
   ],
   "source": [
    "## Calculating the percent point function of variables\n",
    "\n",
    "a,b,c = norm.ppf(sample), norm.ppf(gamma_sample), norm.ppf(expon_sample)\n",
    "print(a)\n",
    "print(b)\n",
    "print(c)"
   ]
  },
  {
   "cell_type": "code",
   "execution_count": 48,
   "metadata": {},
   "outputs": [
    {
     "data": {
      "image/png": "[encoded data removed]",
      "text/plain": [
       "<Figure size 432x288 with 1 Axes>"
      ]
     },
     "metadata": {
      "needs_background": "light"
     },
     "output_type": "display_data"
    },
    {
     "data": {
      "image/png": "[encoded data removed]",
      "text/plain": [
       "<Figure size 432x288 with 1 Axes>"
      ]
     },
     "metadata": {
      "needs_background": "light"
     },
     "output_type": "display_data"
    }
   ],
   "source": [
    "# pdf and cdf for a normal distribution\n",
    "\n",
    "from scipy.stats import norm\n",
    "from matplotlib import pyplot\n",
    "\n",
    "# define distribution parameters\n",
    "mu = 50\n",
    "sigma = 5\n",
    "\n",
    "# create distribution\n",
    "dist = norm(mu, sigma)\n",
    "\n",
    "# plot pdf\n",
    "values = [value for value in range(30, 70)]\n",
    "probabilities = [dist.pdf(value) for value in values]\n",
    "pyplot.plot(values, probabilities)\n",
    "pyplot.show()\n",
    "\n",
    "\n",
    "# plot cdf\n",
    "cprobs = [dist.cdf(value) for value in values]\n",
    "pyplot.plot(values, cprobs)\n",
    "pyplot.show()"
   ]
  },
  {
   "cell_type": "code",
   "execution_count": 54,
   "metadata": {},
   "outputs": [
    {
     "data": {
      "text/plain": [
       "[5.629282311376514e-23,\n",
       " 6.840807685935497e-19,\n",
       " 3.095358771958668e-15,\n",
       " 5.230957544144583e-12,\n",
       " 3.3157459783261613e-09,\n",
       " 7.93328151975595e-07,\n",
       " 7.234804392511998e-05,\n",
       " 0.002555130330427932,\n",
       " 0.03593031911292579,\n",
       " 0.2118553985833967]"
      ]
     },
     "execution_count": 54,
     "metadata": {},
     "output_type": "execute_result"
    }
   ],
   "source": [
    "values = [value for value in range(1,50,5)]\n",
    "probabilities = [dist.cdf(value) for value in values]\n",
    "probabilities"
   ]
  },
  {
   "cell_type": "code",
   "execution_count": 61,
   "metadata": {
    "collapsed": true,
    "jupyter": {
     "outputs_hidden": true
    }
   },
   "outputs": [
    {
     "name": "stdout",
     "output_type": "stream",
     "text": [
      "[143.02870077 157.69514345 127.62271468 113.12153773 137.00899604\n",
      " 133.98238921 131.99762028 148.77196137 126.52852647 131.69769697\n",
      " 136.83584967 112.02066005 114.09970435 148.83020489 185.17688297\n",
      " 183.19527103 170.4887156  142.12307258 110.98914728 134.67844266\n",
      " 148.67845771 139.85640095 173.23859859 117.82606699 121.74596267\n",
      " 166.63634802 158.47902988 160.13067421 174.94483155 155.25970958\n",
      " 127.25185522 206.10366376 178.27742238 113.96122508 153.23889683\n",
      " 131.56358839 123.11442045 157.79651084 123.2794635  132.28164778\n",
      " 127.35403541 147.08854764 141.95323752 155.33178856 148.79993713\n",
      " 140.51325409 156.83935887 127.23708725 145.84249631 200.69502023\n",
      " 190.07752518 167.27412158 166.65151084 164.48475028 152.53446308\n",
      " 141.95795126 139.26662043 171.29572024 161.03383407 144.44825706\n",
      " 139.20371638 127.19248494 159.66830531 129.57836691 156.20544667\n",
      " 180.71052062 164.09935405 142.32373497 145.75846798 159.9449948\n",
      " 138.33028814 147.33294186 172.66359751 146.4314938  120.59414823\n",
      " 121.0506136  159.86048202 125.12392711 157.73863685 186.80006157\n",
      " 141.0778392  161.50962699 173.98815998 145.08210267 197.29400873\n",
      " 133.66155729 115.2279564  123.28218927 143.64111524 138.05215926\n",
      " 198.32100637 129.13317842 184.84274908 157.35509974 130.12965821\n",
      " 146.41563117 102.49142846 167.41329428 125.27967314 123.04068193\n",
      " 141.55009185 157.3160133  161.97537573 193.66379732 163.81519625\n",
      " 121.98268379 162.13020007 147.77195774 163.5817131  121.37356291\n",
      " 126.37128695 147.4001803  147.13926129 188.16970448 126.36827217\n",
      " 179.47533311 152.54807105 155.05368204 170.28394246 157.94626841\n",
      " 159.48274806 159.19681189 171.1931405  160.23251228 164.61073904\n",
      " 153.68360538 118.63908977 171.76374631 139.49346996 152.00670696\n",
      " 159.28028714 124.22738068 134.49563483 168.03869577 122.45249795\n",
      " 154.31536634 173.62684782 155.67848445 139.85161267 160.10718926\n",
      " 151.85725985 149.72586273 146.35323933 202.4267739  137.90068585\n",
      " 143.32805361 170.49633065 144.37937179 157.52720344 130.47657949\n",
      " 158.73759322 181.26690901 155.85209249 165.61633276 144.35597769\n",
      " 130.17550148 125.79947554 141.09734907 123.07504112 170.77305997\n",
      " 159.33419011 166.86144676 136.86519167 134.91350804 162.81227826\n",
      " 176.79682388 143.56086452 151.98208069 154.75371081 157.24288429\n",
      " 189.82329839 178.03387713 169.8359643  177.77948188 182.77300218\n",
      " 148.90974185 144.18253047 144.46942244 144.1981084  143.94368905\n",
      " 173.98383022 165.10731573 120.7411446  207.23166718 158.32090979\n",
      " 166.62444712 172.48804403 218.53578282 135.27031342 175.34713909\n",
      " 131.30967284 185.03512849 171.61862253 153.592646   140.01083001\n",
      " 145.47541794 146.96059807 109.93044723 161.27913156 169.52435377\n",
      " 169.37621517 104.22966716 157.7461035  136.94836124 167.52920988\n",
      " 178.70249735 108.47038688 134.42346618 120.05266599 137.5807053\n",
      " 143.35325274 150.29088253 167.57014001 168.56244306 186.27586984\n",
      " 137.69009019 161.00011607 129.09755848 138.18095056 164.89711165\n",
      " 147.07443852 130.83768847 169.68740825 113.28434095 142.81150154\n",
      " 142.83383808 143.06413411 183.19435151 189.81706603 159.37567692\n",
      " 143.70440536 106.04365053  70.31621125 127.26733292 138.91895301\n",
      " 145.81145026 188.910842   165.07990034 132.2272903  171.53478979\n",
      " 106.53916295 139.61113966 140.51267732 143.41976408 124.72484433\n",
      " 140.44979812 180.91565282 147.26629092 151.02019363 128.20702112\n",
      " 125.83427608 151.85902368 133.97713402 152.5436931  142.78120175\n",
      "  93.30072019 168.72165973 158.62131419 155.54086706 159.31995422\n",
      " 183.79524468 164.23484113  99.82510145 158.01684094 123.95603565\n",
      " 151.36605264 164.14850127 138.83328896 168.81315818 156.73226216\n",
      " 126.60172374 142.08956725 149.18649708 115.62622775 176.46309794\n",
      " 132.21022663 192.78961593 175.31438291 160.34022923 140.86630635\n",
      " 187.32281581 126.70029081 149.00009376 160.90883209 181.39637669\n",
      " 171.94829586 147.68343336  86.99124876 170.87012083 143.09942412\n",
      " 131.71912138 181.7183572  152.20915616 140.94167025 136.1280682\n",
      " 123.83065519 126.98671505 144.7511387  170.42246964 151.25996488\n",
      " 121.96932676 131.46227771 169.10955655 148.8796566  165.26540202\n",
      " 165.69952766 117.72207928 147.59670466 154.95300436 136.78105075\n",
      " 171.9750883  178.72866225 160.98060524 184.30307294 161.08827203\n",
      " 152.43170029 149.52972478 183.98296861 136.42201557 129.31045471\n",
      " 125.64038051 184.80044737 130.28098019 171.30425149 107.10463804\n",
      "  91.63910189 150.26118838 136.05022571 149.52747033 154.44904654\n",
      " 141.10776921 189.22895408 173.08303728 203.12204501 135.22294025\n",
      " 160.62303648 164.66551797 122.76736905 168.33499261 176.50164514\n",
      " 120.53483728 144.88134924 174.23244199 140.19164554 140.24405509\n",
      " 148.79391827 141.83209615 143.63931183 177.74208104 139.49628149\n",
      " 133.82199512 150.96186107 141.65429825 179.49335432 150.7240499\n",
      " 130.05199127 149.68873594 140.0287812  174.98306095 153.10338233\n",
      " 150.39909385 135.17164447 133.09676491 140.1566951  114.68024752\n",
      " 113.76875319 176.11719541 120.76833744 167.17450562 149.16344823\n",
      " 147.01506916 151.58071781 135.46575229 163.75736698 170.21418202\n",
      " 169.71962873 150.60459703 169.31423239 138.93718847 126.20021664\n",
      " 132.6276184  152.79206852 187.87767969 109.26101428 141.23783655\n",
      " 148.93174148 165.59859277 177.26101934 194.89808413 118.23063988\n",
      " 166.38687962 149.73032667 150.49412679 183.01354385 178.69738302\n",
      " 137.50437763 142.4950251  162.92584173 172.33286911 132.598785\n",
      " 137.60129658 122.58456481 159.5604747  122.18494478 116.4262395\n",
      " 138.09648271 156.29573798  98.67581279 157.21767515 148.08875473\n",
      " 145.07382569 156.43275789 155.56240114 161.10954226 156.60015484\n",
      " 143.27657224 124.53254784 120.50078052 150.644906   186.831993\n",
      " 150.48037876 115.12787309 160.60878018 165.86525895 138.54344726\n",
      " 164.33136664 165.12533251 180.28486595 109.20651012 195.55556165\n",
      " 135.74018664 155.36643893 132.67563712 136.15521045 142.1782169\n",
      " 137.43377738 158.7252022  167.75189469 153.12227469 177.74877899\n",
      " 134.88043602 139.49184214 129.93503726 143.87373313 184.25073433\n",
      " 121.97023108 142.19231116 159.05810359 158.10082364 173.58044729\n",
      " 167.53848302 143.96936297 149.49860597 137.65360336 136.11940512\n",
      " 187.81291179 140.80140006 183.61942903 120.9787558  149.99448354\n",
      "  99.69559515 129.1819352   97.81029733 179.74997388 105.00183158\n",
      " 148.89072253 153.95309283 160.41679843 146.42834882 165.26843785\n",
      " 161.66182892 164.69708555 116.53559255 166.12341531 155.88395936\n",
      " 178.56699699 126.08066341 187.84465427 170.36466856 124.03706009\n",
      " 139.70228886 174.55143104 197.7638952  156.37304035 189.95941939\n",
      " 159.63248001 152.45071996 199.64384413 132.52536286 151.27675308\n",
      " 121.64167016 120.51995304 134.0156942  150.02179913 148.09121166\n",
      " 168.78567806 142.7311148  155.4890238  167.56311518 185.46264885\n",
      " 148.85417986 187.64828688 123.69185875 137.27889438 131.61271785\n",
      " 153.58876011 174.165289   128.09558737 138.25768094 159.13959067\n",
      " 147.03548755 164.12444661 141.03218387 159.79773311 121.25657387\n",
      " 120.45460052 156.19175278 157.96817583 142.35267336 157.50183057\n",
      " 156.57350167 125.28738852 144.20638422 162.42137118 126.33516323\n",
      " 177.56066797 125.26803539 165.87888326 168.25596029 147.94882765\n",
      " 173.53482871 168.67583271 138.43192647 165.78947048 148.57023689\n",
      " 138.61406274 146.83199474 119.43826331 155.40505761 156.32664436\n",
      " 165.84673367 169.4334674  151.93216263 159.88864758 140.48654638\n",
      " 145.01749232 127.65683023 114.78048831 158.84306564 160.94975601\n",
      " 148.90992629 173.9726954  161.51486203 212.12348849 133.78974664\n",
      " 186.48829753 150.02990174 146.31517993 168.09322502 169.93376491\n",
      " 137.4054824  134.99926371 173.18809633 168.07774403 169.44922121\n",
      " 186.17993765 111.40933613 148.7168619  171.92136352 160.81481468\n",
      " 113.14549754 106.58172994 135.03956264 107.62096719 164.66274191\n",
      " 137.81874107 158.49216106 149.98753548 151.01275834 173.20642907\n",
      " 189.38888141  93.7074386  176.98751574 110.93269502 138.74040788\n",
      " 122.12975129 171.7591331  187.21524705 137.8322843  155.93172374\n",
      " 142.72675044 139.32488225 140.43151179 144.84651936 170.71285637\n",
      " 174.60244169 159.52173389 182.4524757  133.75287281 131.02634741\n",
      " 106.24296207 131.21930281 177.23323954 174.30126522 146.04350956\n",
      " 125.11316992 194.60534141 151.54393961 133.11487401 148.48109774\n",
      " 141.74396468 161.09499415 121.45751483 168.95947022 188.93268838\n",
      " 163.82614891 170.11861343 126.01188199 188.0018768  182.01342803\n",
      " 171.5966345  138.84009834 136.69802738 136.35193841 140.15461535\n",
      " 189.6072508  128.71038461 147.76162302 176.59035761 135.23627068\n",
      " 167.6936059  148.81248637 151.11721745 127.10955844 141.7985022\n",
      " 166.03398807 160.02571948  96.61067352 169.72072282 159.4774025\n",
      " 122.20420252 142.9140032  165.67569487 146.90420144 148.21120298\n",
      " 161.77484987 128.28922537 160.65856016 105.89714318 180.33840506\n",
      " 158.024797   171.13343747 145.48076182 164.32278545 113.57669017\n",
      " 161.27252402 190.64135801 123.17765779 182.54345717 163.81384327\n",
      " 135.55860192 190.93499941 156.04278457 158.86092927 135.58369174\n",
      " 138.74478187 107.30622069 140.43800931 200.41688835 151.40783574\n",
      " 176.43040391 125.14901589 158.33274646 162.05063984 162.69611732\n",
      " 118.61505347 147.31282759 149.38108311 134.06539944 154.92496569\n",
      " 150.41810206 154.01193567 171.05708058 130.78713107 123.71652104\n",
      " 122.38531581 165.61961974 115.69457741 174.95624755 133.21406588\n",
      "  94.84639073 125.63466597 141.08202012 153.50325111 152.15820425\n",
      " 143.8545154  110.70389225 141.87488052 111.24231902 129.28589542\n",
      " 119.0432636  135.23349689 156.48014401 140.86836849 106.10044766\n",
      " 133.72911972 151.60365076 133.45054034 140.86790448 139.36838848\n",
      " 175.35023181 115.58176479 164.63032227 155.95741112 177.45590785\n",
      " 196.962571   130.19577548 147.60491533 129.55054605 168.01509301\n",
      " 152.53151505 142.28372712 168.24729991 111.61807297 145.47468783\n",
      " 182.72265209 159.15091313 185.66606767 108.32094405 168.55319179\n",
      " 167.10715825 163.31286537 131.72426832 149.99333401 148.74213168\n",
      " 134.55486734 174.07639731 121.07826584 142.18661911 134.91350431\n",
      " 156.26144019 154.06393117 151.69876386 141.13275579 172.15625527\n",
      " 160.54244984 132.25906592 176.34320919 125.3293204  164.60461588\n",
      " 166.76873791 126.47483816 128.91139611 162.53304344 158.67925086\n",
      " 173.43037836 120.40210751 156.10152644 145.73495863 154.49617082\n",
      " 122.61359085 110.5502444  139.39164014 126.36856087 157.37821342\n",
      " 158.82518642 145.60215725 173.4109677  142.26632415 156.59046336\n",
      " 139.6356688  115.44674323 135.36616414 125.48492571 180.81395777\n",
      " 143.45204936 137.89953507 162.5059083   90.88641397 201.87595465\n",
      " 142.08951356 168.70816874 127.92256055 143.3787589  128.72955862\n",
      " 176.49306575 157.42879486 180.54465051 161.68278658 130.53213119\n",
      " 192.52225051 144.53786827 122.30475416 176.64899914 151.08112826\n",
      " 162.91260521 133.60358145 136.9577744  191.44485542 125.01487738\n",
      " 166.71013059 173.69753475 121.04436859 100.79949579 154.45198845\n",
      " 146.4128708  139.16495424 137.45138033 167.31914655 144.79958056\n",
      " 131.15853182 146.0930338  111.95000785 131.19091624 183.05201864\n",
      " 136.24944867 118.66371537 143.79435155 117.2662684  140.88019606\n",
      " 117.69630681 118.70993001 137.99585631 141.72911722 162.5219299\n",
      " 146.85794418 119.49744435 142.1137357  147.75677631 144.99168228\n",
      " 140.30406707 130.62461859 135.40241897 132.15921047 181.86873931\n",
      " 162.00130014 175.69442855 125.06772889 169.37474732 185.92848045\n",
      " 167.90682377 120.122544   153.57353416 132.64448958 170.56027879\n",
      " 126.08986376 168.47156007 127.72942528 129.01823086 160.30441921\n",
      " 150.93534639 116.51208089 137.99188589 130.84922368 174.17118496\n",
      " 176.67315454 113.35919151 142.16591041 158.99719765 161.39126722\n",
      " 146.65118181 155.57978157 141.9343055  144.03994139 142.81287316\n",
      " 152.77919241 165.1072611  137.75056764 149.04226184 157.39076403\n",
      " 123.53116945 151.76735755 113.74242511 133.61524236 127.97392356\n",
      " 188.5650731  151.40354594 141.83412125 170.23129205 151.13375586\n",
      " 162.02282959 161.76357924 128.93626228 105.58708918 149.6718429\n",
      " 148.82907237 145.65719738 114.16888869 128.48472115 179.29369658\n",
      " 156.21786238 173.39238775 162.00659045 168.21305176 157.67889033\n",
      " 160.30400297 163.24487648 131.87057904 143.80497865 140.14699522\n",
      " 155.78520724 113.03331957 149.01187334 156.51030685 118.33752185\n",
      " 141.26244644 135.50596202 140.18748955 173.46810384 118.89887503\n",
      " 148.07841657 153.11484169 161.20699891 127.76927318 137.94964718\n",
      " 189.2310843   99.61143465 128.30847007 137.4320669  184.71861335\n",
      " 182.64972309 184.09122994 184.98086006 183.19016588 135.90741406\n",
      " 179.35394518 168.83411906 137.32296645 154.3121803  147.47350338\n",
      " 181.23728793 191.01720023 159.061374   112.31203321 144.31533991\n",
      " 157.58002041 148.71920998 167.59190066 167.41137121 106.30946842\n",
      " 134.89286928 138.05530424 139.92920315 179.25600538 153.09509805\n",
      " 122.65777525 192.80359991 107.56337349 171.71841068 136.39221645\n",
      " 144.44693866 162.02282674 151.20429345 160.92874651 125.40873649\n",
      " 146.59230663 147.67066839 176.33926696 108.02656743 168.33886306\n",
      " 175.73623849 164.19413468 172.74502957 177.50786282 140.79571075\n",
      " 159.45109175 158.39348648 147.91223905 141.7604948  144.99853532\n",
      " 155.13882531 152.79518333 158.67325571 156.4942523  171.74680525\n",
      " 134.01718394 159.3293668  141.87397068 155.31807327 139.21707245\n",
      " 187.00328715 145.57411269 152.26703548 216.74426745 139.14045622\n",
      " 143.08547841 152.30536026 188.22194605 131.71610133 167.00961707\n",
      " 150.69027816 117.08580006 157.25974904 126.80354075 188.88220001\n",
      "  96.1321495  129.87241677 101.71195159 144.55390284 136.27323229]\n"
     ]
    }
   ],
   "source": [
    "import numpy\n",
    "from numpy import random\n",
    "\n",
    "data = 20 * random.randn(1000) + 100\n",
    "data2 = data + (10 * random.randn(1000) + 50)\n",
    "\n",
    "print(data2)"
   ]
  },
  {
   "cell_type": "code",
   "execution_count": 63,
   "metadata": {},
   "outputs": [
    {
     "data": {
      "text/plain": [
       "<matplotlib.collections.PathCollection at 0x213ac5d1348>"
      ]
     },
     "execution_count": 63,
     "metadata": {},
     "output_type": "execute_result"
    },
    {
     "data": {
      "image/png": "[encoded data removed]",
      "text/plain": [
       "<Figure size 432x288 with 1 Axes>"
      ]
     },
     "metadata": {
      "needs_background": "light"
     },
     "output_type": "display_data"
    }
   ],
   "source": [
    "## Plotting the scatter plot\n",
    "\n",
    "import seaborn as sns\n",
    "import matplotlib.pyplot as plt\n",
    "\n",
    "plt.scatter(data, data2)"
   ]
  },
  {
   "cell_type": "code",
   "execution_count": 67,
   "metadata": {},
   "outputs": [
    {
     "data": {
      "text/plain": [
       "array([[397.10422568, 397.15975635],\n",
       "       [397.15975635, 492.02942889]])"
      ]
     },
     "execution_count": 67,
     "metadata": {},
     "output_type": "execute_result"
    }
   ],
   "source": [
    "from numpy import cov\n",
    "\n",
    "covariance = cov(data, data2)\n",
    "covariance"
   ]
  },
  {
   "cell_type": "markdown",
   "metadata": {},
   "source": [
    "The Fisher’s F-distribution::\n",
    "\n",
    "The 𝐹-distribution, 𝐹𝑛,𝑝, with 𝑛 and 𝑝 degrees of freedom is the ratio of two independent 𝜒2 variables. \n",
    "Let 𝑋 ∼ 𝜒2 𝑛 and 𝑌 ∼ 𝜒2 𝑝 then:\n",
    "\n",
    "𝐹𝑛,𝑝 = (𝑋/𝑛) / (𝑌/𝑝)\n",
    "\n",
    "The 𝐹-distribution plays a central role in hypothesis testing answering the question: Are two variances equals?, is the ratio or two errors significantly large ?."
   ]
  },
  {
   "cell_type": "code",
   "execution_count": 15,
   "metadata": {},
   "outputs": [
    {
     "data": {
      "text/plain": [
       "array([0.1       , 0.14949495, 0.1989899 , 0.24848485, 0.2979798 ,\n",
       "       0.34747475, 0.3969697 , 0.44646465, 0.4959596 , 0.54545455,\n",
       "       0.59494949, 0.64444444, 0.69393939, 0.74343434, 0.79292929,\n",
       "       0.84242424, 0.89191919, 0.94141414, 0.99090909, 1.04040404,\n",
       "       1.08989899, 1.13939394, 1.18888889, 1.23838384, 1.28787879,\n",
       "       1.33737374, 1.38686869, 1.43636364, 1.48585859, 1.53535354,\n",
       "       1.58484848, 1.63434343, 1.68383838, 1.73333333, 1.78282828,\n",
       "       1.83232323, 1.88181818, 1.93131313, 1.98080808, 2.03030303,\n",
       "       2.07979798, 2.12929293, 2.17878788, 2.22828283, 2.27777778,\n",
       "       2.32727273, 2.37676768, 2.42626263, 2.47575758, 2.52525253,\n",
       "       2.57474747, 2.62424242, 2.67373737, 2.72323232, 2.77272727,\n",
       "       2.82222222, 2.87171717, 2.92121212, 2.97070707, 3.02020202,\n",
       "       3.06969697, 3.11919192, 3.16868687, 3.21818182, 3.26767677,\n",
       "       3.31717172, 3.36666667, 3.41616162, 3.46565657, 3.51515152,\n",
       "       3.56464646, 3.61414141, 3.66363636, 3.71313131, 3.76262626,\n",
       "       3.81212121, 3.86161616, 3.91111111, 3.96060606, 4.01010101,\n",
       "       4.05959596, 4.10909091, 4.15858586, 4.20808081, 4.25757576,\n",
       "       4.30707071, 4.35656566, 4.40606061, 4.45555556, 4.50505051,\n",
       "       4.55454545, 4.6040404 , 4.65353535, 4.7030303 , 4.75252525,\n",
       "       4.8020202 , 4.85151515, 4.9010101 , 4.95050505, 5.        ])"
      ]
     },
     "execution_count": 15,
     "metadata": {},
     "output_type": "execute_result"
    }
   ],
   "source": [
    "import numpy as np\n",
    "\n",
    "fvalues = np.linspace(.1, 5, 100)  ## Generating 100 random values from .1 to 5\n",
    "\n",
    "# calculating the PDF with different  "
   ]
  },
  {
   "cell_type": "code",
   "execution_count": null,
   "metadata": {},
   "outputs": [],
   "source": []
  },
  {
   "cell_type": "code",
   "execution_count": null,
   "metadata": {},
   "outputs": [],
   "source": []
  },
  {
   "cell_type": "code",
   "execution_count": null,
   "metadata": {},
   "outputs": [],
   "source": []
  },
  {
   "cell_type": "code",
   "execution_count": null,
   "metadata": {},
   "outputs": [],
   "source": []
  },
  {
   "cell_type": "code",
   "execution_count": null,
   "metadata": {},
   "outputs": [],
   "source": []
  },
  {
   "cell_type": "code",
   "execution_count": null,
   "metadata": {},
   "outputs": [],
   "source": []
  },
  {
   "cell_type": "code",
   "execution_count": null,
   "metadata": {},
   "outputs": [],
   "source": []
  },
  {
   "cell_type": "code",
   "execution_count": null,
   "metadata": {},
   "outputs": [],
   "source": []
  },
  {
   "cell_type": "code",
   "execution_count": null,
   "metadata": {},
   "outputs": [],
   "source": []
  },
  {
   "cell_type": "code",
   "execution_count": null,
   "metadata": {},
   "outputs": [],
   "source": []
  },
  {
   "cell_type": "code",
   "execution_count": null,
   "metadata": {},
   "outputs": [],
   "source": []
  },
  {
   "cell_type": "code",
   "execution_count": null,
   "metadata": {},
   "outputs": [],
   "source": []
  },
  {
   "cell_type": "code",
   "execution_count": null,
   "metadata": {},
   "outputs": [],
   "source": []
  },
  {
   "cell_type": "code",
   "execution_count": null,
   "metadata": {},
   "outputs": [],
   "source": []
  },
  {
   "cell_type": "code",
   "execution_count": null,
   "metadata": {},
   "outputs": [],
   "source": []
  }
 ],
 "metadata": {
  "kernelspec": {
   "display_name": "Python 3",
   "language": "python",
   "name": "python3"
  },
  "language_info": {
   "codemirror_mode": {
    "name": "ipython",
    "version": 3
   },
   "file_extension": ".py",
   "mimetype": "text/x-python",
   "name": "python",
   "nbconvert_exporter": "python",
   "pygments_lexer": "ipython3",
   "version": "3.7.6"
  }
 },
 "nbformat": 4,
 "nbformat_minor": 4
}
