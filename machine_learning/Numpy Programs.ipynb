{
 "cells": [
  {
   "cell_type": "markdown",
   "metadata": {},
   "source": [
    "NumPy program to test whether none of the elements of a given array is zero."
   ]
  },
  {
   "cell_type": "code",
   "execution_count": 5,
   "metadata": {},
   "outputs": [
    {
     "name": "stdout",
     "output_type": "stream",
     "text": [
      "Array is::  [1 2 3 4 5]\n",
      "\n",
      "Check whether any element is zero.\n",
      "True\n",
      "\n",
      "Array is::  [0 1 0 2 4]\n",
      "\n",
      " Check whether any elemnt is zero.\n",
      "False\n"
     ]
    }
   ],
   "source": [
    "import numpy as np\n",
    "a = np.array([1,2,3,4,5])\n",
    "print(\"Array is:: \", a)\n",
    "print(\"\\nCheck whether any element is zero.\")\n",
    "print(np.all(a))\n",
    "\n",
    "b = np.array([0,1,0,2,4])\n",
    "print(\"\\nArray is:: \", b)\n",
    "print(\"\\n Check whether any elemnt is zero.\")\n",
    "print(np.all(b))\n"
   ]
  },
  {
   "cell_type": "code",
   "execution_count": null,
   "metadata": {},
   "outputs": [],
   "source": []
  },
  {
   "cell_type": "markdown",
   "metadata": {},
   "source": [
    "NumPy program to test whether any of the elements of a given array is non-zero.\n"
   ]
  },
  {
   "cell_type": "code",
   "execution_count": 7,
   "metadata": {},
   "outputs": [
    {
     "name": "stdout",
     "output_type": "stream",
     "text": [
      "\n",
      "Array is::  [1 2 3 4 5]\n",
      "Test if given array has any non-zero element.\n",
      "True\n",
      "\n",
      "Array is::  [6 7 8 9 0]\n",
      "Test if given array has any non-zero element.\n",
      "True\n",
      "\n",
      "Array is:: [0 0 0 0 0]\n",
      "Test if given array has any non-zero element.\n",
      "False\n"
     ]
    }
   ],
   "source": [
    "a = np.array([1,2,3,4,5])\n",
    "print('\\nArray is:: ', a)\n",
    "print(\"Test if given array has any non-zero element.\")\n",
    "print(np.any(a))\n",
    "\n",
    "b = np.array([6,7,8,9,0])\n",
    "print('\\nArray is:: ', b)\n",
    "print(\"Test if given array has any non-zero element.\")\n",
    "print(np.any(b))\n",
    "\n",
    "c = np.array([0,0,0,0,0])\n",
    "print('\\nArray is::', c)\n",
    "print(\"Test if given array has any non-zero element.\")\n",
    "print(np.any(c))\n"
   ]
  },
  {
   "cell_type": "markdown",
   "metadata": {},
   "source": []
  },
  {
   "cell_type": "code",
   "execution_count": null,
   "metadata": {},
   "outputs": [],
   "source": [
    "NumPy program to test a given array element-wise for finiteness (not infinity or not a Number)."
   ]
  },
  {
   "cell_type": "code",
   "execution_count": 9,
   "metadata": {},
   "outputs": [
    {
     "name": "stdout",
     "output_type": "stream",
     "text": [
      "\n",
      "Array is::  [ 1.  2. nan inf]\n",
      "\n",
      "Test for given array for finiteness. (not infinity or not a Number)\n",
      "[ True  True False False]\n"
     ]
    }
   ],
   "source": [
    "a = np.array([1,2, np.nan, np.inf])         ## nan : Not a number  & inf = Infinity\n",
    "print('\\nArray is:: ', a)\n",
    "print(\"\\nTest for given array for finiteness. (not infinity or not a Number)\")\n",
    "print(np.isfinite(a))"
   ]
  },
  {
   "cell_type": "markdown",
   "metadata": {},
   "source": []
  },
  {
   "cell_type": "markdown",
   "metadata": {},
   "source": [
    " NumPy program to test element-wise for positive or negative infinity."
   ]
  },
  {
   "cell_type": "code",
   "execution_count": 10,
   "metadata": {},
   "outputs": [
    {
     "name": "stdout",
     "output_type": "stream",
     "text": [
      "\n",
      "Array is::  [ 1.  2. nan inf]\n",
      "\n",
      "Test for given array for postive or negative elements.\n",
      "[False False False  True]\n"
     ]
    }
   ],
   "source": [
    "a = np.array([1,2, np.nan, np.inf])         ## nan : Not a number  & inf = Infinity\n",
    "print('\\nArray is:: ', a)\n",
    "print(\"\\nTest for given array for postive or negative infinity elements.\")\n",
    "print(np.isinf(a))"
   ]
  },
  {
   "cell_type": "code",
   "execution_count": null,
   "metadata": {},
   "outputs": [],
   "source": []
  },
  {
   "cell_type": "markdown",
   "metadata": {},
   "source": [
    "NumPy program to test element-wise for complex number, real number of a given array. Also test whether a given number is a scalar type or not."
   ]
  },
  {
   "cell_type": "code",
   "execution_count": 12,
   "metadata": {},
   "outputs": [
    {
     "name": "stdout",
     "output_type": "stream",
     "text": [
      "\n",
      " Original array is:: \t\n",
      "[1. +0.j 2. +0.j 3. +2.j 4. +5.j 4.5+0.j 2.1+0.j]\n",
      "\n",
      "Element wise Test to Check for real number: \n",
      "[ True  True False False  True  True]\n",
      "\n",
      "Element wise test to check for complex number.\n",
      "[False False  True  True False False]\n",
      "\n",
      "Element wise test to check for Scalar type.\n",
      "False\n"
     ]
    }
   ],
   "source": [
    "a = np.array([1, 2, 3 + 2j, 4 + 5j, 4.5, 2.1])\n",
    "print('\\n Original array is:: ')\n",
    "print(a)\n",
    "print(\"\\nElement wise Test to Check for real number: \")\n",
    "print(np.isreal(a))\n",
    "print(\"\\nElement wise test to check for complex number.\")\n",
    "print(np.iscomplex(a))\n",
    "print(\"\\nElement wise test to check for Scalar type.\")\n",
    "print(np.isscalar(a))\n"
   ]
  },
  {
   "cell_type": "code",
   "execution_count": null,
   "metadata": {},
   "outputs": [],
   "source": []
  },
  {
   "cell_type": "markdown",
   "metadata": {},
   "source": [
    "NumPy program to create an element-wise comparison (greater, greater_equal, less and less_equal) of two given arrays."
   ]
  },
  {
   "cell_type": "code",
   "execution_count": 18,
   "metadata": {},
   "outputs": [
    {
     "name": "stdout",
     "output_type": "stream",
     "text": [
      "\n",
      "First Array is::  [1 2 3]\n",
      "\n",
      "Second Array is::  [3 4 5]\n",
      "\n",
      "Test for Comparison - Greater.\n",
      "[False False False]\n",
      "\n",
      "Test of comparison - Greater or equal\n",
      "[False False False]\n",
      "\n",
      "Test for comparison - Less\n",
      "[ True  True  True]\n",
      "\n",
      "Test for comparison - Less equal\n",
      "[ True  True  True]\n",
      "\n",
      "Test for comparison - Equal\n",
      "[False False False]\n",
      "\n",
      "Comparison - Equal within tolerance\n",
      "False\n"
     ]
    }
   ],
   "source": [
    "import numpy as np\n",
    "\n",
    "x = np.array([1,2,3])   ## both Arrays should be of equal size\n",
    "y = np.array([3,4,5])\n",
    "\n",
    "print('\\nFirst Array is:: ',x)\n",
    "print(\"\\nSecond Array is:: \",y)\n",
    "\n",
    "print(\"\\nTest for Comparison - Greater.\")\n",
    "print(np.greater(x, y))                             ##Greater check\n",
    "print(\"\\nTest of comparison - Greater or equal\")\n",
    "print(np.greater_equal(x,y))                         ## Greater or equal check\n",
    "print(\"\\nTest for comparison - Less\")\n",
    "print(np.less(x,y))                                  ## Less check\n",
    "print(\"\\nTest for comparison - Less equal\")\n",
    "print(np.less_equal(x,y))                            ## Less equal\n",
    "print(\"\\nTest for comparison - Equal\")\n",
    "print(np.equal(x,y))                                 ## Equal check\n",
    "print(\"\\nComparison - Equal within tolerance\")\n",
    "print(np.allclose(x,y))                              \n"
   ]
  },
  {
   "cell_type": "code",
   "execution_count": null,
   "metadata": {},
   "outputs": [],
   "source": []
  },
  {
   "cell_type": "markdown",
   "metadata": {},
   "source": [
    "NumPy program to create an array of 10 zeros, 10 ones, 10 fives."
   ]
  },
  {
   "cell_type": "code",
   "execution_count": 7,
   "metadata": {},
   "outputs": [
    {
     "name": "stdout",
     "output_type": "stream",
     "text": [
      "\n",
      "Original Array:  [0 1 2 3 4 5 6 7 8 9]\n",
      "\n",
      "Array of all ones:: \n",
      "[1. 1. 1. 1. 1. 1. 1. 1. 1. 1.]\n",
      "\n",
      "Array of all zeros: \n",
      "[0. 0. 0. 0. 0. 0. 0. 0. 0. 0.]\n",
      "\n",
      "Array of all 5's\n",
      "[5. 5. 5. 5. 5. 5. 5. 5. 5. 5.]\n",
      "\n",
      "\n",
      "Size of all arrays:\n",
      "Array: '[0 1 2 3 4 5 6 7 8 9]' : (10,)\n",
      "Array: '[1. 1. 1. 1. 1. 1. 1. 1. 1. 1.]' : (10,)\n",
      "Array: '[0. 0. 0. 0. 0. 0. 0. 0. 0. 0.]' : (10,)\n",
      "Array: '[5. 5. 5. 5. 5. 5. 5. 5. 5. 5.]' : (10,)\n",
      "\n"
     ]
    }
   ],
   "source": [
    "import numpy as np\n",
    "\n",
    "a = np.arange(10)\n",
    "\n",
    "print(\"\\nOriginal Array: \", a)\n",
    "print(\"\\nArray of all ones:: \")\n",
    "\n",
    "b = np.ones(10)\n",
    "print(b)\n",
    "\n",
    "print(\"\\nArray of all zeros: \")\n",
    "c = np.zeros(10)\n",
    "print(c)\n",
    "\n",
    "print(\"\\nArray of all 5's\")\n",
    "d = b * 5\n",
    "print(d)\n",
    "\n",
    "print(f\"\"\"\\n\n",
    "Size of all arrays:\n",
    "Array: '{a}' : {np.shape(a)}\n",
    "Array: '{b}' : {np.shape(b)}\n",
    "Array: '{c}' : {np.shape(c)}\n",
    "Array: '{d}' : {np.shape(d)}\n",
    "\"\"\")"
   ]
  },
  {
   "cell_type": "code",
   "execution_count": null,
   "metadata": {},
   "outputs": [],
   "source": []
  },
  {
   "cell_type": "markdown",
   "metadata": {},
   "source": [
    "NumPy program to create an array of 10 zeros, 10 ones, 10 fives."
   ]
  },
  {
   "cell_type": "code",
   "execution_count": 10,
   "metadata": {},
   "outputs": [
    {
     "name": "stdout",
     "output_type": "stream",
     "text": [
      "\n",
      "3x3 Identity matrix:: \n",
      "[[1. 0. 0.]\n",
      " [0. 1. 0.]\n",
      " [0. 0. 1.]]\n"
     ]
    }
   ],
   "source": [
    "import numpy as np\n",
    "\n",
    "a = np.identity(3)\n",
    "print(\"\\n3x3 Identity matrix:: \")\n",
    "print(a)"
   ]
  },
  {
   "cell_type": "code",
   "execution_count": null,
   "metadata": {},
   "outputs": [],
   "source": []
  },
  {
   "cell_type": "markdown",
   "metadata": {},
   "source": [
    "NumPy program to create an array of all the even integers from 30 to 70."
   ]
  },
  {
   "cell_type": "code",
   "execution_count": 11,
   "metadata": {},
   "outputs": [
    {
     "name": "stdout",
     "output_type": "stream",
     "text": [
      "\n",
      "MAtrix is::\n",
      "[30 32 34 36 38 40 42 44 46 48 50 52 54 56 58 60 62 64 66 68 70]\n"
     ]
    }
   ],
   "source": [
    "a = np.arange(30,71,2)\n",
    "print('\\nMAtrix is::')\n",
    "print(a)"
   ]
  },
  {
   "cell_type": "code",
   "execution_count": null,
   "metadata": {},
   "outputs": [],
   "source": []
  },
  {
   "cell_type": "markdown",
   "metadata": {},
   "source": [
    "NumPy program to generate a random number between 0 and 1"
   ]
  },
  {
   "cell_type": "code",
   "execution_count": 13,
   "metadata": {},
   "outputs": [
    {
     "name": "stdout",
     "output_type": "stream",
     "text": [
      "\n",
      "Random Number between 0 and 1::\n",
      "[0.05894579]\n"
     ]
    }
   ],
   "source": [
    "a = np.random.normal(0,1,1)   ##(Start, end, items reqd)\n",
    "print(\"\\nRandom Number between 0 and 1::\")\n",
    "print(a)\n"
   ]
  },
  {
   "cell_type": "code",
   "execution_count": null,
   "metadata": {},
   "outputs": [],
   "source": []
  },
  {
   "cell_type": "markdown",
   "metadata": {},
   "source": [
    "NumPy program to generate 15 random number between 0 and 10"
   ]
  },
  {
   "cell_type": "code",
   "execution_count": 14,
   "metadata": {},
   "outputs": [
    {
     "name": "stdout",
     "output_type": "stream",
     "text": [
      "\n",
      "15 Random numbers between 0 and 1 in a matrix:\n",
      "[ 0.59301004 -0.51319765  1.93312504  0.42240028  1.7565433  -0.95013766\n",
      " -0.61098213 -1.01157776 -1.03267567  0.82791808  0.98472622  1.00753332\n",
      " -0.49140046  0.16645557  1.1936436 ]\n"
     ]
    }
   ],
   "source": [
    "a = np.random.normal(0,1,15)\n",
    "print(\"\\n15 Random numbers between 0 and 1 in a matrix:\")\n",
    "print(a)"
   ]
  },
  {
   "cell_type": "code",
   "execution_count": null,
   "metadata": {},
   "outputs": [],
   "source": []
  },
  {
   "cell_type": "markdown",
   "metadata": {},
   "source": [
    "NumPy program to create a vector with values ​​ranging from 15 to 55 and print all values ​​except the first and last."
   ]
  },
  {
   "cell_type": "code",
   "execution_count": 15,
   "metadata": {},
   "outputs": [
    {
     "name": "stdout",
     "output_type": "stream",
     "text": [
      "\n",
      "Original Matrix:: [15 16 17 18 19 20 21 22 23 24 25 26 27 28 29 30 31 32 33 34 35 36 37 38\n",
      " 39 40 41 42 43 44 45 46 47 48 49 50 51 52 53 54]\n",
      "\n",
      "matrix after removing first and last element:  [16 17 18 19 20 21 22 23 24 25 26 27 28 29 30 31 32 33 34 35 36 37 38 39\n",
      " 40 41 42 43 44 45 46 47 48 49 50 51 52 53]\n"
     ]
    }
   ],
   "source": [
    "a = np.arange(15,55)\n",
    "print(\"\\nOriginal Matrix::\", a)\n",
    "print(\"\\nmatrix after removing first and last element: \", a[1:-1])\n"
   ]
  },
  {
   "cell_type": "code",
   "execution_count": null,
   "metadata": {},
   "outputs": [],
   "source": []
  },
  {
   "cell_type": "markdown",
   "metadata": {},
   "source": [
    "NumPy program to create a 3X4 array using and iterate over it."
   ]
  },
  {
   "cell_type": "code",
   "execution_count": 20,
   "metadata": {},
   "outputs": [
    {
     "name": "stdout",
     "output_type": "stream",
     "text": [
      "\n",
      "Final matrix :: \n",
      " [[12 13 14 15]\n",
      " [16 17 18 19]\n",
      " [20 21 22 23]]\n",
      "\n",
      "Individual element of the matrix\n",
      "12 13 14 15 16 17 18 19 20 21 22 23 "
     ]
    }
   ],
   "source": [
    "a = np.arange(12,24).reshape(3,4)\n",
    "print(\"\\nFinal matrix :: \\n\", a)   \n",
    "\n",
    "## Iterate over the matrix\n",
    "\n",
    "print(\"\\nIndividual element of the matrix\")\n",
    "for i in np.nditer(a):\n",
    "    print(i, end = \" \")"
   ]
  },
  {
   "cell_type": "code",
   "execution_count": null,
   "metadata": {},
   "outputs": [],
   "source": []
  },
  {
   "cell_type": "markdown",
   "metadata": {},
   "source": [
    "NumPy program to create a vector of length 10 with values ​​evenly distributed between 5 and 50."
   ]
  },
  {
   "cell_type": "code",
   "execution_count": 2,
   "metadata": {},
   "outputs": [
    {
     "name": "stdout",
     "output_type": "stream",
     "text": [
      "\n",
      " Vector of length 10:: \n",
      "[ 5 10 15 20 25 30 35 40 45 50]\n"
     ]
    }
   ],
   "source": [
    "import numpy as np\n",
    "\n",
    "a = np.arange(5,51,5)\n",
    "print(\"\\n Vector of length 10:: \")\n",
    "print(a)"
   ]
  },
  {
   "cell_type": "code",
   "execution_count": null,
   "metadata": {},
   "outputs": [],
   "source": []
  },
  {
   "cell_type": "markdown",
   "metadata": {},
   "source": [
    "NumPy program to create a 10x10 matrix, in which the elements on the borders will be equal to 1, and inside 0."
   ]
  },
  {
   "cell_type": "code",
   "execution_count": 8,
   "metadata": {},
   "outputs": [
    {
     "name": "stdout",
     "output_type": "stream",
     "text": [
      "\n",
      "Original Array;; \n",
      " [[1. 1. 1. 1. 1. 1. 1. 1. 1. 1.]\n",
      " [1. 1. 1. 1. 1. 1. 1. 1. 1. 1.]\n",
      " [1. 1. 1. 1. 1. 1. 1. 1. 1. 1.]\n",
      " [1. 1. 1. 1. 1. 1. 1. 1. 1. 1.]\n",
      " [1. 1. 1. 1. 1. 1. 1. 1. 1. 1.]\n",
      " [1. 1. 1. 1. 1. 1. 1. 1. 1. 1.]\n",
      " [1. 1. 1. 1. 1. 1. 1. 1. 1. 1.]\n",
      " [1. 1. 1. 1. 1. 1. 1. 1. 1. 1.]\n",
      " [1. 1. 1. 1. 1. 1. 1. 1. 1. 1.]\n",
      " [1. 1. 1. 1. 1. 1. 1. 1. 1. 1.]]\n",
      "\n",
      " Modified array:: \n",
      " [[1. 1. 1. 1. 1. 1. 1. 1. 1. 1.]\n",
      " [1. 0. 0. 0. 0. 0. 0. 0. 0. 1.]\n",
      " [1. 0. 0. 0. 0. 0. 0. 0. 0. 1.]\n",
      " [1. 0. 0. 0. 0. 0. 0. 0. 0. 1.]\n",
      " [1. 0. 0. 0. 0. 0. 0. 0. 0. 1.]\n",
      " [1. 0. 0. 0. 0. 0. 0. 0. 0. 1.]\n",
      " [1. 0. 0. 0. 0. 0. 0. 0. 0. 1.]\n",
      " [1. 0. 0. 0. 0. 0. 0. 0. 0. 1.]\n",
      " [1. 0. 0. 0. 0. 0. 0. 0. 0. 1.]\n",
      " [1. 1. 1. 1. 1. 1. 1. 1. 1. 1.]]\n"
     ]
    }
   ],
   "source": [
    "a = np.ones(100).reshape(10,10)\n",
    "print(\"\\nOriginal Array;; \\n\", a)\n",
    "\n",
    "a[1:-1, 1:-1] = 0\n",
    "\n",
    "print(\"\\n Modified array:: \\n\", a) "
   ]
  },
  {
   "cell_type": "code",
   "execution_count": null,
   "metadata": {},
   "outputs": [],
   "source": []
  },
  {
   "cell_type": "markdown",
   "metadata": {},
   "source": [
    "NumPy program to create a 3x4 matrix filled with values ​​from 10 to 21."
   ]
  },
  {
   "cell_type": "code",
   "execution_count": 10,
   "metadata": {},
   "outputs": [
    {
     "name": "stdout",
     "output_type": "stream",
     "text": [
      "[[10 11 12 13]\n",
      " [14 15 16 17]\n",
      " [18 19 20 21]]\n"
     ]
    }
   ],
   "source": [
    "a= np.arange(10,22).reshape(3,4)\n",
    "\n",
    "print(a)"
   ]
  },
  {
   "cell_type": "code",
   "execution_count": null,
   "metadata": {},
   "outputs": [],
   "source": []
  },
  {
   "cell_type": "markdown",
   "metadata": {},
   "source": [
    "NumPy program to multiply the values ​​of two given vectors"
   ]
  },
  {
   "cell_type": "code",
   "execution_count": 12,
   "metadata": {},
   "outputs": [
    {
     "name": "stdout",
     "output_type": "stream",
     "text": [
      "\n",
      "Original first array:: \n",
      " [[1 2]\n",
      " [3 4]]\n",
      "\n",
      "Original second array:: \n",
      " [[5 6]\n",
      " [7 8]]\n",
      "\n",
      "Final array after multiplication :: \n",
      " [[ 5 12]\n",
      " [21 32]]\n"
     ]
    }
   ],
   "source": [
    "import numpy as np\n",
    "\n",
    "a = np.array([[1,2],[3,4]])\n",
    "b = np.array([[5,6],[7,8]])\n",
    "\n",
    "print(\"\\nOriginal first array:: \\n\", a)\n",
    "print(\"\\nOriginal second array:: \\n\", b)\n",
    "\n",
    "c = a * b\n",
    "\n",
    "print(\"\\nFinal array after multiplication :: \\n\", c)"
   ]
  },
  {
   "cell_type": "code",
   "execution_count": null,
   "metadata": {},
   "outputs": [],
   "source": []
  },
  {
   "cell_type": "raw",
   "metadata": {},
   "source": [
    "NumPy program to create a vector of length 5 filled with arbitrary integers from 0 to 10."
   ]
  },
  {
   "cell_type": "code",
   "execution_count": 15,
   "metadata": {},
   "outputs": [
    {
     "name": "stdout",
     "output_type": "stream",
     "text": [
      "Vector of length 5 filled with random number between 0 & 10\n",
      "\n",
      "Final Matrix :: \n",
      " [5 1 6 3 9]\n"
     ]
    }
   ],
   "source": [
    "a = np.random.randint(0,10,5)\n",
    "print(\"Vector of length 5 filled with random number between 0 & 10\")\n",
    "print(\"\\nFinal Matrix :: \\n\", a)"
   ]
  },
  {
   "cell_type": "code",
   "execution_count": null,
   "metadata": {},
   "outputs": [],
   "source": []
  },
  {
   "cell_type": "markdown",
   "metadata": {},
   "source": [
    "NumPy program to create a vector with values ​​from 0 to 20 and change the sign of the numbers in the range from 9 to 15."
   ]
  },
  {
   "cell_type": "code",
   "execution_count": 21,
   "metadata": {},
   "outputs": [
    {
     "name": "stdout",
     "output_type": "stream",
     "text": [
      "\n",
      "Original Matrix :: \n",
      " [ 0  1  2  3  4  5  6  7  8  9 10 11 12 13 14 15 16 17 18 19 20]\n",
      "\n",
      "Final matrix ::  [  0   1   2   3   4   5   6   7   8  -9 -10 -11 -12 -13 -14 -15  16  17\n",
      "  18  19  20]\n"
     ]
    }
   ],
   "source": [
    "x = np.arange(21)\n",
    "print(\"\\nOriginal Matrix :: \\n\", x)\n",
    "\n",
    "## Multiplying each element from 9-15 with -1\n",
    "\n",
    "x[(x >= 9) & (x <= 15)] *= -1\n",
    "\n",
    "print(\"\\nFinal matrix :: \", x)\n",
    "\n"
   ]
  },
  {
   "cell_type": "code",
   "execution_count": null,
   "metadata": {},
   "outputs": [],
   "source": []
  },
  {
   "cell_type": "markdown",
   "metadata": {},
   "source": [
    "NumPy program to add a vector to each row of a given matrix."
   ]
  },
  {
   "cell_type": "code",
   "execution_count": 35,
   "metadata": {},
   "outputs": [
    {
     "name": "stdout",
     "output_type": "stream",
     "text": [
      "\n",
      "Original Matrix :: \n",
      " [[ 1  2  3]\n",
      " [ 4  5  6]\n",
      " [ 7  8  9]\n",
      " [10 11 12]]\n",
      "\n",
      "Second matrix to be added:: \n",
      " [1 2 3]\n",
      "\n",
      "Final Matrix after addition ::  \n",
      " [[ 2  4  6]\n",
      " [ 4  5  6]\n",
      " [ 7  8  9]\n",
      " [10 11 12]]\n",
      "\n",
      "Final Matrix after addition ::  \n",
      " [[ 2  4  6]\n",
      " [ 5  7  9]\n",
      " [ 7  8  9]\n",
      " [10 11 12]]\n",
      "\n",
      "Final Matrix after addition ::  \n",
      " [[ 2  4  6]\n",
      " [ 5  7  9]\n",
      " [ 8 10 12]\n",
      " [10 11 12]]\n",
      "\n",
      "Final Matrix after addition ::  \n",
      " [[ 2  4  6]\n",
      " [ 5  7  9]\n",
      " [ 8 10 12]\n",
      " [11 13 15]]\n"
     ]
    }
   ],
   "source": [
    "import numpy as np\n",
    "\n",
    "a = np.array([[1,2,3], [4,5,6], [7,8,9], [10,11,12]])\n",
    "print(\"\\nOriginal Matrix :: \\n\", a)\n",
    "\n",
    "b = np.array([1,2,3])\n",
    "print(\"\\nSecond matrix to be added:: \\n\", b)\n",
    "\n",
    "c = np.empty_like(a)\n",
    "\n",
    "for i in range(4):\n",
    "    c[i, :] = a[i, :] + b\n",
    "    print(\"\\nFinal Matrix after addition ::  \\n\", c)"
   ]
  },
  {
   "cell_type": "code",
   "execution_count": null,
   "metadata": {},
   "outputs": [],
   "source": []
  },
  {
   "cell_type": "code",
   "execution_count": 1,
   "metadata": {},
   "outputs": [
    {
     "name": "stdout",
     "output_type": "stream",
     "text": [
      "Enter four value to enter: \n"
     ]
    },
    {
     "name": "stdin",
     "output_type": "stream",
     "text": [
      " 4 5 6 7\n"
     ]
    },
    {
     "name": "stdout",
     "output_type": "stream",
     "text": [
      "22\n"
     ]
    }
   ],
   "source": []
  },
  {
   "cell_type": "code",
   "execution_count": null,
   "metadata": {},
   "outputs": [],
   "source": []
  },
  {
   "cell_type": "code",
   "execution_count": null,
   "metadata": {},
   "outputs": [],
   "source": []
  },
  {
   "cell_type": "code",
   "execution_count": null,
   "metadata": {},
   "outputs": [],
   "source": []
  }
 ],
 "metadata": {
  "kernelspec": {
   "display_name": "Python 3",
   "language": "python",
   "name": "python3"
  },
  "language_info": {
   "codemirror_mode": {
    "name": "ipython",
    "version": 3
   },
   "file_extension": ".py",
   "mimetype": "text/x-python",
   "name": "python",
   "nbconvert_exporter": "python",
   "pygments_lexer": "ipython3",
   "version": "3.7.6"
  }
 },
 "nbformat": 4,
 "nbformat_minor": 4
}
