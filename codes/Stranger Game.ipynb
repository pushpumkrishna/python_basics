{
 "cells": [
  {
   "cell_type": "code",
   "execution_count": 1,
   "metadata": {},
   "outputs": [
    {
     "name": "stdout",
     "output_type": "stream",
     "text": [
      "\"\n",
      "Welcome to the game: Surviving the Stranger !!!\n",
      "You have met a stranger in the jungle. Choose your options to stay alive.\n",
      "Do you want to \n",
      "1). Talk to him\n",
      "2). Do not talk and leave\n",
      "3). Stare at him\n",
      "\n"
     ]
    },
    {
     "name": "stdin",
     "output_type": "stream",
     "text": [
      ">  2\n"
     ]
    },
    {
     "name": "stdout",
     "output_type": "stream",
     "text": [
      "Stranger got angry and kills you. You lost !\n"
     ]
    },
    {
     "name": "stdin",
     "output_type": "stream",
     "text": [
      ">  1\n"
     ]
    },
    {
     "name": "stdout",
     "output_type": "stream",
     "text": [
      "Stranger greets you and ask your name. Congrats ! you won.\n",
      "1. Smile back.\n",
      "2. Ask his name and What is he doing here\n",
      "3. Just ignore back. \n"
     ]
    },
    {
     "name": "stdin",
     "output_type": "stream",
     "text": [
      ">  1\n"
     ]
    },
    {
     "name": "stdout",
     "output_type": "stream",
     "text": [
      "The strnager is fuming and kills you for being rude.\n",
      "You lost !\n"
     ]
    }
   ],
   "source": [
    "print(\"\"\"\"\n",
    "Welcome to the game: Surviving the Stranger !!!\n",
    "You have met a stranger in the jungle. Choose your options to stay alive.\n",
    "Do you want to \n",
    "1). Talk to him\n",
    "2). Do not talk and leave\n",
    "3). Stare at him\n",
    "\"\"\")\n",
    "\n",
    "option = input(\"> \")\n",
    "\n",
    "if (option == '1'):\n",
    "  print(\"\"\"He's staring at you right now. Either he's angry or not interested. \n",
    "  What do you want to do now?\n",
    "\n",
    "  1). Talk to him\n",
    "  2). Look back angrily.\n",
    "  3). Attack him.\n",
    "  \"\"\")\n",
    "elif (option == '2'):\n",
    "    print(\"Stranger got angry and kills you. You lost !\")\n",
    "else:\n",
    "    print(\"Stranger got angry and kills you. You lost !\")\n",
    "    \n",
    "option_2 = input(\"> \")\n",
    "\n",
    "if (option_2 == '1'):\n",
    "  print('Stranger greets you and ask your name. Congrats ! you won.')\n",
    "elif (option_2 == '2'):\n",
    "  print('Stranger takes a knife out and kills you.   !')\n",
    "elif (option_2 == '3'):\n",
    "  print(\"Stranger got afraid and attacks you back and kills you\")\n",
    "else:\n",
    "  print(\"Invalid choice. Stranger kills you for a stupid choice.\")\n",
    "\n",
    "if (option_2 == '1'):\n",
    "  print(\"1. Smile back.\")\n",
    "  print(\"2. Ask his name and What is he doing here\")\n",
    "  print(\"3. Just ignore back. \")\n",
    "\n",
    "option_3 = input(\"> \")\n",
    "\n",
    "if (option_3 == 1 or option_3 ==2):\n",
    "  print(\"You survives and got a hug from stranger.\")\n",
    "  print(\"Good Job.\")\n",
    "else:\n",
    "  print(\"The strnager is fuming and kills you for being rude.\")\n",
    "  print(\"You lost !\")"
   ]
  },
  {
   "cell_type": "code",
   "execution_count": null,
   "metadata": {},
   "outputs": [],
   "source": []
  }
 ],
 "metadata": {
  "kernelspec": {
   "display_name": "Python 3",
   "language": "python",
   "name": "python3"
  },
  "language_info": {
   "codemirror_mode": {
    "name": "ipython",
    "version": 3
   },
   "file_extension": ".py",
   "mimetype": "text/x-python",
   "name": "python",
   "nbconvert_exporter": "python",
   "pygments_lexer": "ipython3",
   "version": "3.7.6"
  }
 },
 "nbformat": 4,
 "nbformat_minor": 4
}
