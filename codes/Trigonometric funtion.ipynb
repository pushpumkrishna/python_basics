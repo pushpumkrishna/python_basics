{
 "cells": [
  {
   "cell_type": "raw",
   "metadata": {},
   "source": [
    "Program to convert various trigonometric functions"
   ]
  },
  {
   "cell_type": "code",
   "execution_count": 6,
   "metadata": {},
   "outputs": [
    {
     "name": "stdin",
     "output_type": "stream",
     "text": [
      "Enter your value ::  62\n"
     ]
    },
    {
     "name": "stdout",
     "output_type": "stream",
     "text": [
      "\n",
      "Please choose your option to convert your value into any of the below functions:::\n",
      "1). Sine Function\n",
      "2). Cosine Function\n",
      "3). Tan Function\n",
      "4). Cot Function\n",
      "5). Sec Function\n",
      "6). Cosec Function\n",
      "\n",
      "\n"
     ]
    },
    {
     "name": "stdin",
     "output_type": "stream",
     "text": [
      ">>>   6\n"
     ]
    },
    {
     "name": "stdout",
     "output_type": "stream",
     "text": [
      "\n",
      "        Function to convert any trigonometric functions into  Cosec function\n",
      "        \n",
      " Your converted value in Cosec is :: -1.352849180901363\n"
     ]
    }
   ],
   "source": [
    "\n",
    "import math \n",
    "def convert_sine(x):\n",
    "        \"\"\"\n",
    "        Function to convert any trigonometric functions into  Sine function\n",
    "        \"\"\"\n",
    "        \n",
    "        print(convert_sine.__doc__)\n",
    "        sine = math.sin(x)\n",
    "        print(f\" Your converted value in Sine is :: {sine}\")\n",
    "        return(sine)\n",
    "\n",
    "def convert_cosine(x):\n",
    "        \"\"\"\n",
    "        Function to convert any trigonometric functions into  Cosine function\n",
    "        \"\"\"\n",
    "        print(convert_cosine.__doc__)\n",
    "        cosine = math.cos(x)\n",
    "        print(f\" Your converted value in Cosine is :: {cosine}\")\n",
    "        return(cosine)\n",
    "\n",
    "def convert_tan(x):\n",
    "        \"\"\"\n",
    "        Function to convert any trigonometric functions into  tan function\n",
    "        \"\"\"\n",
    "        \n",
    "        print(convert_tan.__doc__)\n",
    "        tan = math.tan(x)\n",
    "        print(f\" Your converted value in Tan is :: {tan}\")\n",
    "        return(tan)\n",
    "\n",
    "def convert_cot(x):\n",
    "        \"\"\"\n",
    "        Function to convert any trigonometric functions into  Cot function\n",
    "        \"\"\"\n",
    "        print(convert_cot.__doc__)\n",
    "        cot = 1 / math.tan(x)\n",
    "        print(f\" Your converted value in Cot is :: {cot}\")\n",
    "        return(cot)\n",
    "    \n",
    "def convert_sec(x):\n",
    "        \"\"\"\n",
    "        Function to convert any trigonometric functions into Sec function\n",
    "        \"\"\"\n",
    "        \n",
    "        print(convert_sec.__doc__)\n",
    "        sec = 1 / math.cos(x)\n",
    "        print(f\" Your converted value in Sec is :: {sec}\")\n",
    "        return(sec)\n",
    "\n",
    "def convert_cosec(x):\n",
    "        \"\"\"\n",
    "        Function to convert any trigonometric functions into  Cosec function\n",
    "        \"\"\"\n",
    "        print(convert_cosec.__doc__)\n",
    "        cosec = 1 / math.sin(x)\n",
    "        print(f\" Your converted value in Cosec is :: {cosec}\")\n",
    "        return(cosec)\n",
    "\n",
    "value = float(input(\"Enter your value :: \"))\n",
    "print(\"\"\"\n",
    "Please choose your option to convert your value into any of the below functions:::\n",
    "1). Sine Function\n",
    "2). Cosine Function\n",
    "3). Tan Function\n",
    "4). Cot Function\n",
    "5). Sec Function\n",
    "6). Cosec Function\n",
    "\n",
    "\"\"\")\n",
    "option = input(\">>>  \")\n",
    "\n",
    "if option == '1':\n",
    "    convert_sine(value)\n",
    "elif option == '2':\n",
    "    convert_cosine(value)\n",
    "elif option == '3':\n",
    "    convert_tan(value)\n",
    "elif option == '4':\n",
    "    convert_cot(value)\n",
    "elif option == '5':\n",
    "    convert_sec(value)\n",
    "else:\n",
    "    convert_cosec(value)\n"
   ]
  },
  {
   "cell_type": "code",
   "execution_count": null,
   "metadata": {},
   "outputs": [],
   "source": []
  }
 ],
 "metadata": {
  "kernelspec": {
   "display_name": "Python 3",
   "language": "python",
   "name": "python3"
  },
  "language_info": {
   "codemirror_mode": {
    "name": "ipython",
    "version": 3
   },
   "file_extension": ".py",
   "mimetype": "text/x-python",
   "name": "python",
   "nbconvert_exporter": "python",
   "pygments_lexer": "ipython3",
   "version": "3.7.6"
  }
 },
 "nbformat": 4,
 "nbformat_minor": 4
}
