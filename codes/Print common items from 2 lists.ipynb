{
 "cells": [
  {
   "cell_type": "code",
   "execution_count": 5,
   "metadata": {},
   "outputs": [
    {
     "name": "stdout",
     "output_type": "stream",
     "text": [
      "Final list containing elements that are common to both lists: [2, 4, 6, 8, 10]\n"
     ]
    }
   ],
   "source": [
    "def list_edit(x,y):\n",
    "    \"\"\"\n",
    "    Function to merge two list after removing the duplicates\n",
    "    \"\"\"\n",
    "    list = []\n",
    "    for i in list_11:\n",
    "        for j in list_12:\n",
    "            if i == j:\n",
    "                list.append(j)\n",
    "    return(list)     \n",
    "    \n",
    "list_11 = [1, 2, 3, 4, 5, 6, 7, 8, 9, 10]\n",
    "list_12 = [2, 4, 6, 8, 10]\n",
    "print(f\"Final list containing elements that are common to both lists: {list_edit(list_11, list_12)}\")"
   ]
  },
  {
   "cell_type": "code",
   "execution_count": null,
   "metadata": {},
   "outputs": [],
   "source": []
  }
 ],
 "metadata": {
  "kernelspec": {
   "display_name": "Python 3",
   "language": "python",
   "name": "python3"
  },
  "language_info": {
   "codemirror_mode": {
    "name": "ipython",
    "version": 3
   },
   "file_extension": ".py",
   "mimetype": "text/x-python",
   "name": "python",
   "nbconvert_exporter": "python",
   "pygments_lexer": "ipython3",
   "version": "3.7.6"
  }
 },
 "nbformat": 4,
 "nbformat_minor": 4
}
