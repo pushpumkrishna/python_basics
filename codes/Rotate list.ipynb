{
 "cells": [
  {
   "cell_type": "code",
   "execution_count": 13,
   "metadata": {},
   "outputs": [
    {
     "name": "stdout",
     "output_type": "stream",
     "text": [
      "Original list : [1, 4, 6, 7, 2]\n",
      "List after left rotate by 3 : [7, 2, 1, 4, 6]\n",
      "List after right rotate by 3(back to original) : [1, 4, 6, 7, 2]\n"
     ]
    }
   ],
   "source": [
    "\n",
    "# initializing list \n",
    "test_list = [1, 4, 6, 7, 2] \n",
    "  \n",
    "# printing original list  \n",
    "print (\"Original list : \" + str(test_list)) \n",
    "  \n",
    "# using slicing to left rotate by 3 \n",
    "test_list = test_list[3:] + test_list[:3] \n",
    "  \n",
    "# Printing list after left rotate \n",
    "print (\"List after left rotate by 3 : \" + str(test_list)) \n",
    "  \n",
    "# using slicing to right rotate by 3 \n",
    "# back to Original \n",
    "test_list = test_list[-3:] + test_list[:-3] \n",
    "  \n",
    "# Printing after right rotate \n",
    "print (\"List after right rotate by 3(back to original) : \"\n",
    "                                         + str(test_list)) "
   ]
  },
  {
   "cell_type": "code",
   "execution_count": null,
   "metadata": {},
   "outputs": [],
   "source": []
  }
 ],
 "metadata": {
  "kernelspec": {
   "display_name": "Python 3",
   "language": "python",
   "name": "python3"
  },
  "language_info": {
   "codemirror_mode": {
    "name": "ipython",
    "version": 3
   },
   "file_extension": ".py",
   "mimetype": "text/x-python",
   "name": "python",
   "nbconvert_exporter": "python",
   "pygments_lexer": "ipython3",
   "version": "3.7.6"
  }
 },
 "nbformat": 4,
 "nbformat_minor": 4
}
