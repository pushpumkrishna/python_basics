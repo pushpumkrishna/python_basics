{
 "cells": [
  {
   "cell_type": "code",
   "execution_count": 1,
   "metadata": {},
   "outputs": [
    {
     "name": "stdin",
     "output_type": "stream",
     "text": [
      "Enter first number::  5\n",
      "Enter second number::  6\n",
      "\n",
      "\n",
      "        What do you want to do. Please select your option from below :\n",
      "\n",
      "        1). Addition \n",
      "        2). Subtraction\n",
      "        3). Multiplication\n",
      "        4). Division\n",
      "        5). Modulus\n",
      "         3\n"
     ]
    },
    {
     "name": "stdout",
     "output_type": "stream",
     "text": [
      "Final result is : 30\n"
     ]
    }
   ],
   "source": [
    "def calculator(op1, op2, operator):\n",
    "        \"\"\"\n",
    "        Function to do basic maths calculation as per user's request    \n",
    "        \"\"\"\n",
    "        \n",
    "        \n",
    "        if operator == '1':\n",
    "            value = op1 + op2\n",
    "            print(f\"Final result is : {value}\")\n",
    "        elif operator == '2':\n",
    "            value = op1 - op2\n",
    "            print(f\"Final result is : {value}\")\n",
    "        elif operator == '3':\n",
    "            value = op1 * op2\n",
    "            print(f\"Final result is : {value}\")\n",
    "        elif operator == '4':\n",
    "            value = op1 / op2\n",
    "            print(f\"Final result is : {value}\")\n",
    "        else:\n",
    "            value = op1 % op2\n",
    "            print(f\"Final result is : {value}\")\n",
    "\n",
    "            \n",
    "x = int(input(\"Enter first number:: \"))\n",
    "y = int(input(\"Enter second number:: \"))\n",
    "z = input(\"\"\"\n",
    "\n",
    "        What do you want to do. Please select your option from below :\n",
    "\n",
    "        1). Addition \n",
    "        2). Subtraction\n",
    "        3). Multiplication\n",
    "        4). Division\n",
    "        5). Modulus\n",
    "        \"\"\")\n",
    "calculator(x,y,z)\n"
   ]
  },
  {
   "cell_type": "code",
   "execution_count": null,
   "metadata": {},
   "outputs": [],
   "source": []
  }
 ],
 "metadata": {
  "kernelspec": {
   "display_name": "Python 3",
   "language": "python",
   "name": "python3"
  },
  "language_info": {
   "codemirror_mode": {
    "name": "ipython",
    "version": 3
   },
   "file_extension": ".py",
   "mimetype": "text/x-python",
   "name": "python",
   "nbconvert_exporter": "python",
   "pygments_lexer": "ipython3",
   "version": "3.7.6"
  }
 },
 "nbformat": 4,
 "nbformat_minor": 4
}
