{
 "cells": [
  {
   "cell_type": "code",
   "execution_count": 7,
   "metadata": {},
   "outputs": [
    {
     "name": "stdout",
     "output_type": "stream",
     "text": [
      "This is global variable and is defined outside the function\n",
      "This is local variable and is defined inside the function\n",
      "This is global variable and is defined outside the function\n",
      "This is local variable and is defined inside the function\n"
     ]
    }
   ],
   "source": [
    "global_variable = \"This is global variable and is defined outside the function\"\n",
    "\n",
    "def check_variable():\n",
    "    \"\"\"\n",
    "    Function to check variable type\n",
    "    \"\"\"\n",
    "    global local_variable\n",
    "    local_variable = \"This is local variable and is defined inside the function\"\n",
    "    print(global_variable)\n",
    "    print(local_variable)\n",
    "    \n",
    "\n",
    "check_variable()\n",
    "print(global_variable)\n",
    "print(local_variable)"
   ]
  },
  {
   "cell_type": "code",
   "execution_count": null,
   "metadata": {},
   "outputs": [],
   "source": []
  }
 ],
 "metadata": {
  "kernelspec": {
   "display_name": "Python 3",
   "language": "python",
   "name": "python3"
  },
  "language_info": {
   "codemirror_mode": {
    "name": "ipython",
    "version": 3
   },
   "file_extension": ".py",
   "mimetype": "text/x-python",
   "name": "python",
   "nbconvert_exporter": "python",
   "pygments_lexer": "ipython3",
   "version": "3.7.6"
  }
 },
 "nbformat": 4,
 "nbformat_minor": 4
}
