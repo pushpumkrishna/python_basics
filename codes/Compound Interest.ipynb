{
 "cells": [
  {
   "cell_type": "code",
   "execution_count": 3,
   "metadata": {},
   "outputs": [
    {
     "name": "stdin",
     "output_type": "stream",
     "text": [
      "Enter the Principal:  50000\n",
      "Enter the rate of interest : 10\n",
      "Enter the number of times interest applied per time period:  2\n",
      "Enter the time period in years :  2\n"
     ]
    },
    {
     "name": "stdout",
     "output_type": "stream",
     "text": [
      "Interest of given amount and period is : 64800000.0\n"
     ]
    },
    {
     "data": {
      "text/plain": [
       "64800000.0"
      ]
     },
     "execution_count": 3,
     "metadata": {},
     "output_type": "execute_result"
    }
   ],
   "source": [
    "import math\n",
    "def compound_interest(p, r, n, t):\n",
    "    \"\"\"\"\n",
    "    Function to calculate compound interest and print the result\n",
    "    \"\"\"\n",
    "\n",
    "    interest = p * (1 + (r / n)) ** (n * t)\n",
    "    print(f\"Interest of given amount and period is : {interest}\")\n",
    "    return(interest)\n",
    "\n",
    "p = int(input(\"Enter the Principal: \"))\n",
    "r = int(input(\"Enter the rate of interest :\"))\n",
    "n = int(input(\"Enter the number of times interest applied per time period: \"))\n",
    "t = int(input(\"Enter the time period in years : \"))\n",
    "compound_interest(p,r,n,t)"
   ]
  },
  {
   "cell_type": "code",
   "execution_count": null,
   "metadata": {},
   "outputs": [],
   "source": []
  }
 ],
 "metadata": {
  "kernelspec": {
   "display_name": "Python 3",
   "language": "python",
   "name": "python3"
  },
  "language_info": {
   "codemirror_mode": {
    "name": "ipython",
    "version": 3
   },
   "file_extension": ".py",
   "mimetype": "text/x-python",
   "name": "python",
   "nbconvert_exporter": "python",
   "pygments_lexer": "ipython3",
   "version": "3.7.6"
  }
 },
 "nbformat": 4,
 "nbformat_minor": 4
}
