{
 "cells": [
  {
   "cell_type": "code",
   "execution_count": null,
   "metadata": {},
   "outputs": [],
   "source": [
    "import math\n",
    "\n",
    "def check_fermet(a,b,c,n):\n",
    "        \"\"\"\n",
    "        Function to check if Fermet Theorem hold good or not\n",
    "        \"\"\"\n",
    "        \n",
    "        \n",
    "        if n > 2:\n",
    "            if (math.pow(a,n) + math.pow(b,n) = math.pow(c,n)) = TRUE:\n",
    "                print(\"\"Oh No! Fermat was wrong!\"\")\n",
    "            else:\n",
    "                print(\"No that doesn't work\")\n",
    "        else:\n",
    "            print(\"It Works for the given value of n.\")\n",
    "            \n",
    "a = int(input(\"Enter first number: \"))\n",
    "b = int(input(\"Enter second number: \"))\n",
    "c = int(input(\"Enter third number: \"))\n",
    "n = int(input(\"Enter the power you want to check: \"))\n",
    "check_fermet(a,b,c,n)\n",
    "        \n",
    "        \n",
    "\n",
    "    "
   ]
  }
 ],
 "metadata": {
  "kernelspec": {
   "display_name": "Python 3",
   "language": "python",
   "name": "python3"
  },
  "language_info": {
   "codemirror_mode": {
    "name": "ipython",
    "version": 3
   },
   "file_extension": ".py",
   "mimetype": "text/x-python",
   "name": "python",
   "nbconvert_exporter": "python",
   "pygments_lexer": "ipython3",
   "version": "3.7.6"
  }
 },
 "nbformat": 4,
 "nbformat_minor": 4
}
