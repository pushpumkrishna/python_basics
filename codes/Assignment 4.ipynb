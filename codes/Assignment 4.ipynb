{
 "cells": [
  {
   "cell_type": "raw",
   "metadata": {},
   "source": [
    "Part 1 ::  Program to calculate months required to collect the desired down payment."
   ]
  },
  {
   "cell_type": "code",
   "execution_count": 1,
   "metadata": {},
   "outputs": [
    {
     "name": "stdin",
     "output_type": "stream",
     "text": [
      "Enter the annual salary::  120000\n",
      "Enter the percent of your salary to save, as a decimal::  .10\n",
      "Enter the value of your dream home::  1000000\n"
     ]
    },
    {
     "name": "stdout",
     "output_type": "stream",
     "text": [
      "Number of months:: 183\n"
     ]
    }
   ],
   "source": [
    "annual_salary = int(input(\"Enter the annual salary:: \"))\n",
    "portion_saved = float(input(\"Enter the percent of your salary to save, as a decimal:: \"))\n",
    "total_cost = int(input(\"Enter the value of your dream home:: \"))\n",
    "portion_down_payment = 0.25 * total_cost\n",
    "\n",
    "current_savings = 0\n",
    "count = 0\n",
    "r = 0.04\n",
    "monthly_salary = annual_salary / 12 \n",
    "\n",
    "while current_savings < portion_down_payment:\n",
    "    \n",
    "    monthly_savings = portion_saved * monthly_salary   \n",
    "    current_savings = current_savings + monthly_savings + ((r * current_savings) / 12)\n",
    "    count = count + 1\n",
    "        \n",
    "print(f\"Number of months:: {count}\")"
   ]
  },
  {
   "cell_type": "raw",
   "metadata": {},
   "source": [
    "Part 2 :: Program to calculate months required to save down payment amount after a salary increase in every 6 months"
   ]
  },
  {
   "cell_type": "code",
   "execution_count": 2,
   "metadata": {},
   "outputs": [
    {
     "name": "stdin",
     "output_type": "stream",
     "text": [
      "Enter the annual salary::  120000\n",
      "Enter the percent of your salary to save, as a decimal::  .05\n",
      "Enter the value of your dream home::  500000\n",
      "Enter the semi annual raise, as a decimal::  .03\n"
     ]
    },
    {
     "name": "stdout",
     "output_type": "stream",
     "text": [
      "Number of months:: 143\n"
     ]
    }
   ],
   "source": [
    "annual_salary = int(input(\"Enter the annual salary:: \"))\n",
    "portion_saved = float(input(\"Enter the percent of your salary to save, as a decimal:: \"))\n",
    "total_cost = int(input(\"Enter the value of your dream home:: \"))\n",
    "\n",
    "semi_annual_raise = float(input(\"Enter the semi annual raise, as a decimal:: \"))\n",
    "\n",
    "portion_down_payment = 0.25 * total_cost\n",
    "\n",
    "current_savings = 0\n",
    "count = 1\n",
    "r = 0.04\n",
    "monthly_salary = annual_salary / 12 \n",
    "\n",
    "while current_savings < portion_down_payment:\n",
    "    if count % 6 != 0:\n",
    "        monthly_savings = portion_saved * (annual_salary / 12)  \n",
    "        current_savings = current_savings + monthly_savings + ((r * current_savings) / 12)\n",
    "        count = count + 1\n",
    "        \n",
    "    elif count % 6 == 0:\n",
    "        annual_salary = annual_salary + annual_salary * semi_annual_raise\n",
    "        monthly_savings = portion_saved * (annual_salary / 12)  \n",
    "        current_savings = current_savings + monthly_savings + ((r * current_savings) / 12)\n",
    "        count = count + 1\n",
    "\n",
    "print(f\"Number of months:: {count}\")"
   ]
  },
  {
   "cell_type": "code",
   "execution_count": null,
   "metadata": {},
   "outputs": [],
   "source": []
  }
 ],
 "metadata": {
  "kernelspec": {
   "display_name": "Python 3",
   "language": "python",
   "name": "python3"
  },
  "language_info": {
   "codemirror_mode": {
    "name": "ipython",
    "version": 3
   },
   "file_extension": ".py",
   "mimetype": "text/x-python",
   "name": "python",
   "nbconvert_exporter": "python",
   "pygments_lexer": "ipython3",
   "version": "3.7.6"
  }
 },
 "nbformat": 4,
 "nbformat_minor": 4
}
