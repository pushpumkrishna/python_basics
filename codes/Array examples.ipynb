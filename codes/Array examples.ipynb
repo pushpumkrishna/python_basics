{
 "cells": [
  {
   "cell_type": "code",
   "execution_count": 7,
   "metadata": {},
   "outputs": [
    {
     "name": "stdout",
     "output_type": "stream",
     "text": [
      "[0 1 2 3 4 5 6 7 8 9]\n",
      "[ 1  3  5  7  9 11 13 15 17 19]\n",
      "[1 2 3 4 5 6 7 8 9]\n",
      "[1 2 3 4 5]\n"
     ]
    }
   ],
   "source": [
    "import numpy as np\n",
    "\n",
    "array = np.array([1,2,3,4,5])\n",
    "x = (np.arange(10))\n",
    "y = (np.arange(1,20,2))\n",
    "z = (np.arange(1,10,1))\n",
    "print(x)\n",
    "print(y)\n",
    "print(z)\n",
    "print(array)"
   ]
  },
  {
   "cell_type": "code",
   "execution_count": 9,
   "metadata": {},
   "outputs": [
    {
     "name": "stdout",
     "output_type": "stream",
     "text": [
      "[1 2 3 4 5 6]\n",
      "[[1 2 3]\n",
      " [4 5 6]]\n",
      "[[[1 2 3]\n",
      "  [4 5 6]]]\n",
      "6\n",
      "2\n",
      "1\n"
     ]
    }
   ],
   "source": [
    "a = np.array([1,2,3,4,5,6])\n",
    "b = np.array([[1,2,3], [4,5,6]])\n",
    "c = np.array([[[1,2,3], [4,5,6]]])\n",
    "print(a)\n",
    "print(b)\n",
    "print(c)\n",
    "print(len(a))\n",
    "print(len(b))\n",
    "print(len(c))"
   ]
  },
  {
   "cell_type": "code",
   "execution_count": 10,
   "metadata": {},
   "outputs": [
    {
     "name": "stdout",
     "output_type": "stream",
     "text": [
      "[[[1 2]\n",
      "  [3 4]]\n",
      "\n",
      " [[5 6]\n",
      "  [7 8]]]\n",
      "2\n"
     ]
    }
   ],
   "source": [
    "c = np.array([[[1,2], [3,4]], [[5,6], [7,8]]])\n",
    "print(c)\n",
    "print(len(c))"
   ]
  },
  {
   "cell_type": "code",
   "execution_count": 19,
   "metadata": {},
   "outputs": [
    {
     "name": "stdout",
     "output_type": "stream",
     "text": [
      "c\n",
      " [[[0. 0. 0.]\n",
      "  [0. 0. 0.]\n",
      "  [0. 0. 0.]]\n",
      "\n",
      " [[0. 0. 0.]\n",
      "  [0. 0. 0.]\n",
      "  [0. 0. 0.]]\n",
      "\n",
      " [[0. 0. 0.]\n",
      "  [0. 0. 0.]\n",
      "  [0. 0. 0.]]]\n"
     ]
    }
   ],
   "source": [
    "a = np.zeros(3)\n",
    "b = np.zeros((3,3))\n",
    "c = np.zeros(((3,3,3)))\n",
    "\n",
    "print('c\\n',c)\n"
   ]
  },
  {
   "cell_type": "code",
   "execution_count": 20,
   "metadata": {},
   "outputs": [
    {
     "name": "stdout",
     "output_type": "stream",
     "text": [
      "[[1. 0. 0.]\n",
      " [0. 1. 0.]]\n"
     ]
    }
   ],
   "source": [
    "a = np.eye(2, 3)\n",
    "print(a)"
   ]
  },
  {
   "cell_type": "code",
   "execution_count": 21,
   "metadata": {},
   "outputs": [
    {
     "name": "stdout",
     "output_type": "stream",
     "text": [
      "[[1 0 0 0 0 0]\n",
      " [0 2 0 0 0 0]\n",
      " [0 0 3 0 0 0]\n",
      " [0 0 0 4 0 0]\n",
      " [0 0 0 0 5 0]\n",
      " [0 0 0 0 0 6]]\n"
     ]
    }
   ],
   "source": [
    "a = np.diag([1,2,3,4,5,6])\n",
    "print(a)"
   ]
  },
  {
   "cell_type": "code",
   "execution_count": 26,
   "metadata": {},
   "outputs": [
    {
     "name": "stdout",
     "output_type": "stream",
     "text": [
      "[[-0.04165088 -0.0574939  -0.22901959  0.84516211 -1.556687    1.02108952\n",
      "   0.92623017  1.36786643 -1.31477099  0.35452984]]\n",
      "[[[ 1.33504408  0.10122562 -0.05582797 -0.66955817 -0.25863022]\n",
      "  [ 0.29635116  1.34646802 -1.68710016 -0.73045519  1.67009338]\n",
      "  [ 0.40277826 -0.12053522  0.60552092  1.51311277 -1.26194437]\n",
      "  [ 0.75922263 -1.23182085 -0.9318887  -0.91671408 -0.4244257 ]\n",
      "  [ 1.00280053 -1.72421667  0.66446664 -0.00637328 -0.91491925]\n",
      "  [-0.42973315  0.55233661  0.41418669  1.21560559 -0.3095134 ]\n",
      "  [ 1.92771605 -0.15944679 -0.26359642  0.39411456  1.01096469]\n",
      "  [ 1.53131084  0.29295675 -0.22915436 -0.7636061  -0.22632033]\n",
      "  [ 1.32130534 -0.55226334 -0.72947792 -0.12352697 -0.18282944]\n",
      "  [ 0.54319254  0.99215267  0.02693658  0.01385025  0.64659715]]]\n"
     ]
    }
   ],
   "source": [
    "a = np.random.randn(1,10)\n",
    "b = np.random.randn(1,10,5)\n",
    "c = np.random.randint(0,10)\n",
    "d = np.random.randint(1,10,3)\n",
    "print(a)\n",
    "print(b)\n"
   ]
  },
  {
   "cell_type": "code",
   "execution_count": 28,
   "metadata": {},
   "outputs": [
    {
     "name": "stdout",
     "output_type": "stream",
     "text": [
      "[[ 0.98744576  0.04882627  0.36916423  0.5337304 ]\n",
      " [-0.45417532 -0.97250359 -0.67524586  0.95649933]\n",
      " [-1.0948138   0.64257053  1.46967154  0.74325759]]\n"
     ]
    }
   ],
   "source": [
    "a = np.random.randn(3,4)\n",
    "print(a)"
   ]
  },
  {
   "cell_type": "code",
   "execution_count": 30,
   "metadata": {},
   "outputs": [
    {
     "name": "stdout",
     "output_type": "stream",
     "text": [
      "a is [0 1 2 3 4 5 6 7 8 9]\n",
      "int32\n"
     ]
    }
   ],
   "source": [
    "a = np.arange(10)\n",
    "print('a is', a)\n",
    "print(a.dtype)"
   ]
  },
  {
   "cell_type": "code",
   "execution_count": 31,
   "metadata": {},
   "outputs": [
    {
     "name": "stdout",
     "output_type": "stream",
     "text": [
      "Array a is  [ True False  True]\n",
      "bool\n"
     ]
    }
   ],
   "source": [
    "a = np.array([True, False, True])\n",
    "print('Array a is ', a)\n",
    "print(a.dtype)"
   ]
  },
  {
   "cell_type": "code",
   "execution_count": null,
   "metadata": {},
   "outputs": [],
   "source": []
  }
 ],
 "metadata": {
  "kernelspec": {
   "display_name": "Python 3",
   "language": "python",
   "name": "python3"
  },
  "language_info": {
   "codemirror_mode": {
    "name": "ipython",
    "version": 3
   },
   "file_extension": ".py",
   "mimetype": "text/x-python",
   "name": "python",
   "nbconvert_exporter": "python",
   "pygments_lexer": "ipython3",
   "version": "3.7.6"
  }
 },
 "nbformat": 4,
 "nbformat_minor": 4
}
