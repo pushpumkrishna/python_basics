{
 "cells": [
  {
   "cell_type": "code",
   "execution_count": null,
   "metadata": {},
   "outputs": [],
   "source": [
    "Program to add all the numbers in the list using function"
   ]
  },
  {
   "cell_type": "code",
   "execution_count": 8,
   "metadata": {},
   "outputs": [
    {
     "name": "stdout",
     "output_type": "stream",
     "text": [
      "Sum of list given is:: 110\n"
     ]
    }
   ],
   "source": [
    "def sum_list(add):\n",
    "    \"\"\"\n",
    "    Function to print all the numbers in the list\n",
    "    \"\"\"\n",
    "    value = 0\n",
    "    for i in add:\n",
    "        value = value + i\n",
    "    return(value)\n",
    "    \n",
    "add = [24, 23, 21, 20, 22]\n",
    "print(f'Sum of list given is::', sum_list(add))"
   ]
  },
  {
   "cell_type": "code",
   "execution_count": null,
   "metadata": {},
   "outputs": [],
   "source": []
  },
  {
   "cell_type": "code",
   "execution_count": null,
   "metadata": {},
   "outputs": [],
   "source": []
  }
 ],
 "metadata": {
  "kernelspec": {
   "display_name": "Python 3",
   "language": "python",
   "name": "python3"
  },
  "language_info": {
   "codemirror_mode": {
    "name": "ipython",
    "version": 3
   },
   "file_extension": ".py",
   "mimetype": "text/x-python",
   "name": "python",
   "nbconvert_exporter": "python",
   "pygments_lexer": "ipython3",
   "version": "3.7.6"
  }
 },
 "nbformat": 4,
 "nbformat_minor": 4
}
