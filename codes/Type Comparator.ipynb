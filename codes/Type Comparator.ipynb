{
 "cells": [
  {
   "cell_type": "code",
   "execution_count": null,
   "metadata": {},
   "outputs": [],
   "source": [
    "def type_comparator(a,b):\n",
    "    \n",
    "    z = True\n",
    "    if type(a) == type(b):\n",
    "        return(z)\n",
    "    else:\n",
    "        return False\n",
    "            \n",
    "\n",
    "x = input(\"Enter the first any Python object: \")\n",
    "y = input(\"Enter the second  any Python object: \")\n",
    "type_comparator(x,y)\n",
    "\n",
    " def hey(m_0,tau,t):\n",
    "        \"\"\"\n",
    "        Function to to compute mass of a radioactive isotope at time t \n",
    "        that decays with average lifetime τ.\n",
    "        \"\"\""
   ]
  },
  {
   "cell_type": "code",
   "execution_count": null,
   "metadata": {},
   "outputs": [],
   "source": []
  }
 ],
 "metadata": {
  "kernelspec": {
   "display_name": "Python 3",
   "language": "python",
   "name": "python3"
  },
  "language_info": {
   "codemirror_mode": {
    "name": "ipython",
    "version": 3
   },
   "file_extension": ".py",
   "mimetype": "text/x-python",
   "name": "python",
   "nbconvert_exporter": "python",
   "pygments_lexer": "ipython3",
   "version": "3.7.6"
  }
 },
 "nbformat": 4,
 "nbformat_minor": 4
}
