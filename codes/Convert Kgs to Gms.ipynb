{
 "cells": [
  {
   "cell_type": "code",
   "execution_count": null,
   "metadata": {},
   "outputs": [],
   "source": [
    "Program to convert kgs to grams and vice versa using function"
   ]
  },
  {
   "cell_type": "code",
   "execution_count": 1,
   "metadata": {},
   "outputs": [
    {
     "name": "stdin",
     "output_type": "stream",
     "text": [
      "Enter your value::  50000\n",
      "\n",
      "What do you want to do ::\n",
      "a) Convert to Kilograms\n",
      "b) Convert to Grams\n",
      "\n",
      " a\n"
     ]
    },
    {
     "name": "stdout",
     "output_type": "stream",
     "text": [
      "Converted value is :: 50000000\n"
     ]
    }
   ],
   "source": [
    "def convert(x,name):\n",
    "\n",
    "            \"\"\"\n",
    "            Function to convert kgs to grams and vice versa\n",
    "            \"\"\"\n",
    "\n",
    "            if name.upper() == 'A':\n",
    "                x = x * 1000\n",
    "            elif name.upper() == 'B':\n",
    "                 x= x / 1000\n",
    "            else:\n",
    "                print(\"Invalid Value entered.\")\n",
    "            return(x)\n",
    "\n",
    "x = int(input(\"Enter your value:: \"))\n",
    "name = input(\"\"\"\n",
    "What do you want to do ::\n",
    "a) Convert to Kilograms\n",
    "b) Convert to Grams\n",
    "\n",
    "\"\"\")\n",
    "print(\"Converted value is :: {}\".format(convert(x, name)))\n"
   ]
  },
  {
   "cell_type": "code",
   "execution_count": null,
   "metadata": {},
   "outputs": [],
   "source": []
  },
  {
   "cell_type": "code",
   "execution_count": null,
   "metadata": {},
   "outputs": [],
   "source": []
  }
 ],
 "metadata": {
  "kernelspec": {
   "display_name": "Python 3",
   "language": "python",
   "name": "python3"
  },
  "language_info": {
   "codemirror_mode": {
    "name": "ipython",
    "version": 3
   },
   "file_extension": ".py",
   "mimetype": "text/x-python",
   "name": "python",
   "nbconvert_exporter": "python",
   "pygments_lexer": "ipython3",
   "version": "3.7.6"
  }
 },
 "nbformat": 4,
 "nbformat_minor": 4
}
