{
 "cells": [
  {
   "cell_type": "code",
   "execution_count": 2,
   "metadata": {},
   "outputs": [
    {
     "name": "stdin",
     "output_type": "stream",
     "text": [
      "Enter the value of first side::  5\n",
      "Enter the value of second side::  6\n",
      "Enter the value of third side::  7\n"
     ]
    },
    {
     "name": "stdout",
     "output_type": "stream",
     "text": [
      "Given three sides 7, 6 and 7 are correct values and a triangle can be formed by these sides.\n"
     ]
    }
   ],
   "source": [
    "\n",
    "\n",
    "def is_triangle(x,y,z):\n",
    "        \n",
    "        \"\"\"\n",
    "        Function to check whether the given three sides form a triangle or not\n",
    "        \"\"\"\n",
    "        \n",
    "        if (x + y) > z:\n",
    "            print(f\"Given three sides {x}, {y} and {z} are correct values and a triangle can be formed by these sides.\")\n",
    "        elif (x + z) > y:\n",
    "            print(f\"Given three sides {x}, {y} and {z} are correct values and a triangle can be formed by these sides.\")\n",
    "        elif (y + z) > x:\n",
    "            print(f\"Given three sides {x}, {y} and {z} are correct values and a triangle can be formed by these sides.\")\n",
    "        else:\n",
    "            print(f\"Given three sides {x}, {y} and {z} are correct values and a triangle can be formed by these sides.\")\n",
    "        \n",
    "x = int(input(\"Enter the value of first side:: \"))\n",
    "y = int(input(\"Enter the value of second side:: \"))\n",
    "z = int(input(\"Enter the value of third side:: \"))\n",
    "is_triangle(z,y,z)\n",
    "        "
   ]
  },
  {
   "cell_type": "code",
   "execution_count": null,
   "metadata": {},
   "outputs": [],
   "source": []
  },
  {
   "cell_type": "code",
   "execution_count": null,
   "metadata": {},
   "outputs": [],
   "source": []
  }
 ],
 "metadata": {
  "kernelspec": {
   "display_name": "Python 3",
   "language": "python",
   "name": "python3"
  },
  "language_info": {
   "codemirror_mode": {
    "name": "ipython",
    "version": 3
   },
   "file_extension": ".py",
   "mimetype": "text/x-python",
   "name": "python",
   "nbconvert_exporter": "python",
   "pygments_lexer": "ipython3",
   "version": "3.7.6"
  }
 },
 "nbformat": 4,
 "nbformat_minor": 4
}
