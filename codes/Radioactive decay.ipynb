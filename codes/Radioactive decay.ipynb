{
 "cells": [
  {
   "cell_type": "code",
   "execution_count": 7,
   "metadata": {},
   "outputs": [
    {
     "name": "stdin",
     "output_type": "stream",
     "text": [
      "Please enter the initial mass of the radioactive material in 'g'>>  10\n",
      "Please enter the average lifetime in seconds>>   10\n",
      "Enter the time period>>  10\n"
     ]
    },
    {
     "name": "stdout",
     "output_type": "stream",
     "text": [
      "Final weight of the radioactive isotope after decay is :: 3.6787944117144233\n"
     ]
    }
   ],
   "source": [
    "import math\n",
    "\n",
    "def m_t_rad_decay(m_0, tau, t):\n",
    "    \"\"\"\n",
    "    Function to to compute mass at time t of a radioactive isotope that decays with average lifetime τ\n",
    "    \"\"\"\n",
    "    lam = 1 / tau\n",
    "    y = (-lam) * t\n",
    "    m_t = (m_0) * (math.exp(y))\n",
    "    print(f\"Final weight of the radioactive isotope after decay is :: {m_t}\")  \n",
    "\n",
    "x = float(input(\"Please enter the initial mass of the radioactive material in 'g'>> \"))\n",
    "y = float(input(\"Please enter the average lifetime in seconds>>  \"))\n",
    "z = int(input(\"Enter the time period>> \"))\n",
    "m_t_rad_decay(x,y,z)\n"
   ]
  },
  {
   "cell_type": "code",
   "execution_count": null,
   "metadata": {},
   "outputs": [],
   "source": []
  }
 ],
 "metadata": {
  "kernelspec": {
   "display_name": "Python 3",
   "language": "python",
   "name": "python3"
  },
  "language_info": {
   "codemirror_mode": {
    "name": "ipython",
    "version": 3
   },
   "file_extension": ".py",
   "mimetype": "text/x-python",
   "name": "python",
   "nbconvert_exporter": "python",
   "pygments_lexer": "ipython3",
   "version": "3.7.6"
  }
 },
 "nbformat": 4,
 "nbformat_minor": 4
}
