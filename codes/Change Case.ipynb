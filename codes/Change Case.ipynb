{
 "cells": [
  {
   "cell_type": "code",
   "execution_count": 7,
   "metadata": {},
   "outputs": [
    {
     "name": "stdin",
     "output_type": "stream",
     "text": [
      "Enter the string::  Hello\n",
      "\n",
      "Do you want it to change to:\n",
      "\n",
      "1). Uppercase\n",
      "2). Lowercase\n",
      "3). Copy it to new string\n",
      " 3\n"
     ]
    },
    {
     "name": "stdout",
     "output_type": "stream",
     "text": [
      "Output string after modification is : Hello\n",
      "Output string after modification is : Hello\n"
     ]
    },
    {
     "data": {
      "text/plain": [
       "'Hello'"
      ]
     },
     "execution_count": 7,
     "metadata": {},
     "output_type": "execute_result"
    }
   ],
   "source": [
    "\n",
    "def change_case(x):\n",
    "    \"\"\"\n",
    "    Function to change the string to upper and lower case\n",
    "    \"\"\"\n",
    "    if option == '1':\n",
    "        output = string.upper()\n",
    "        print(f\"Output string after modification is : {output}\")\n",
    "    elif option == '2': \n",
    "        output = string.lower()\n",
    "        print(f\"Output string after modification is : {output}\")\n",
    "    else:\n",
    "        output = string\n",
    "        output_2 = output\n",
    "        print(f\"Output string after modification is : {output}\")\n",
    "        print(f\"Output string after modification is : {output_2}\")\n",
    "    return(output)\n",
    "        \n",
    "\n",
    "string = input(\"Enter the string:: \")\n",
    "option = input(\"\"\"\n",
    "Do you want it to change to:\n",
    "\n",
    "1). Uppercase\n",
    "2). Lowercase\n",
    "3). Copy it to new string\n",
    "\"\"\")\n",
    "\n",
    "change_case(option)\n",
    "\n",
    "\n"
   ]
  },
  {
   "cell_type": "code",
   "execution_count": null,
   "metadata": {},
   "outputs": [],
   "source": []
  }
 ],
 "metadata": {
  "kernelspec": {
   "display_name": "Python 3",
   "language": "python",
   "name": "python3"
  },
  "language_info": {
   "codemirror_mode": {
    "name": "ipython",
    "version": 3
   },
   "file_extension": ".py",
   "mimetype": "text/x-python",
   "name": "python",
   "nbconvert_exporter": "python",
   "pygments_lexer": "ipython3",
   "version": "3.7.6"
  }
 },
 "nbformat": 4,
 "nbformat_minor": 4
}
