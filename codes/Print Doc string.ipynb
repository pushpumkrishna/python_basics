{
 "cells": [
  {
   "cell_type": "code",
   "execution_count": 2,
   "metadata": {},
   "outputs": [
    {
     "name": "stdout",
     "output_type": "stream",
     "text": [
      "\n",
      "    Function to print greeting message to the user.\n",
      "    \n",
      "    \n",
      "Hello\n"
     ]
    }
   ],
   "source": [
    "def greeting(name):\n",
    "    \"\"\"\n",
    "    Function to print greeting message to the user.\n",
    "    \n",
    "    \"\"\"\n",
    "    print(greeting.__doc__)\n",
    "    print(name)\n",
    "\n",
    "name = 'Hello'\n",
    "greeting(name)\n",
    "    "
   ]
  },
  {
   "cell_type": "code",
   "execution_count": null,
   "metadata": {},
   "outputs": [],
   "source": []
  }
 ],
 "metadata": {
  "kernelspec": {
   "display_name": "Python 3",
   "language": "python",
   "name": "python3"
  },
  "language_info": {
   "codemirror_mode": {
    "name": "ipython",
    "version": 3
   },
   "file_extension": ".py",
   "mimetype": "text/x-python",
   "name": "python",
   "nbconvert_exporter": "python",
   "pygments_lexer": "ipython3",
   "version": "3.7.6"
  }
 },
 "nbformat": 4,
 "nbformat_minor": 4
}
